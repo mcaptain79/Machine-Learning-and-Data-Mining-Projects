{
  "cells": [
    {
      "cell_type": "markdown",
      "metadata": {
        "id": "ei9AEqT4v75K"
      },
      "source": [
        "# Group Programming Project Report for\n",
        "\n",
        "*   **Mohammad Meymani 3785776**\n",
        "*   **Michael Odartei Mills 3789215**\n",
        "\n",
        "\n"
      ]
    },
    {
      "cell_type": "markdown",
      "metadata": {
        "id": "iiApo9M3yHi0"
      },
      "source": [
        "\n",
        "\n",
        "> # PART 1\n",
        "\n",
        "We implemented *Adaboost with ID3*, *ANN with backpropagation* and *Naïve Bayes* three algorithms using Python and applied each of **our implementations** to the given data sets.\n"
      ]
    },
    {
      "cell_type": "markdown",
      "metadata": {
        "id": "6m8bKYU514YM"
      },
      "source": [
        "## Implementation 1: Adaboost with ID3 as the base learner on data set Letter Recognition:\n",
        "*   Data set: https://archive.ics.uci.edu/dataset/59/letter+recognition"
      ]
    },
    {
      "cell_type": "markdown",
      "metadata": {
        "id": "ePZ94rOB4Qsw"
      },
      "source": [
        "###Step 1: Import Required Libraries"
      ]
    },
    {
      "cell_type": "code",
      "source": [
        "!pip install ucimlrepo"
      ],
      "metadata": {
        "colab": {
          "base_uri": "https://localhost:8080/"
        },
        "id": "yjux8fkMbLfr",
        "outputId": "db74b892-eed2-4485-d751-aa7efc307d5b"
      },
      "execution_count": null,
      "outputs": [
        {
          "output_type": "stream",
          "name": "stdout",
          "text": [
            "Collecting ucimlrepo\n",
            "  Downloading ucimlrepo-0.0.7-py3-none-any.whl.metadata (5.5 kB)\n",
            "Requirement already satisfied: pandas>=1.0.0 in /usr/local/lib/python3.10/dist-packages (from ucimlrepo) (2.2.2)\n",
            "Requirement already satisfied: certifi>=2020.12.5 in /usr/local/lib/python3.10/dist-packages (from ucimlrepo) (2024.8.30)\n",
            "Requirement already satisfied: numpy>=1.22.4 in /usr/local/lib/python3.10/dist-packages (from pandas>=1.0.0->ucimlrepo) (1.26.4)\n",
            "Requirement already satisfied: python-dateutil>=2.8.2 in /usr/local/lib/python3.10/dist-packages (from pandas>=1.0.0->ucimlrepo) (2.8.2)\n",
            "Requirement already satisfied: pytz>=2020.1 in /usr/local/lib/python3.10/dist-packages (from pandas>=1.0.0->ucimlrepo) (2024.2)\n",
            "Requirement already satisfied: tzdata>=2022.7 in /usr/local/lib/python3.10/dist-packages (from pandas>=1.0.0->ucimlrepo) (2024.2)\n",
            "Requirement already satisfied: six>=1.5 in /usr/local/lib/python3.10/dist-packages (from python-dateutil>=2.8.2->pandas>=1.0.0->ucimlrepo) (1.16.0)\n",
            "Downloading ucimlrepo-0.0.7-py3-none-any.whl (8.0 kB)\n",
            "Installing collected packages: ucimlrepo\n",
            "Successfully installed ucimlrepo-0.0.7\n"
          ]
        }
      ]
    },
    {
      "cell_type": "code",
      "execution_count": null,
      "metadata": {
        "id": "BhvkOl8d-rLz"
      },
      "outputs": [],
      "source": [
        "import numpy as np\n",
        "import pandas as pd\n",
        "from sklearn.model_selection import train_test_split\n",
        "import math\n",
        "from collections import Counter"
      ]
    },
    {
      "cell_type": "code",
      "source": [
        "from ucimlrepo import fetch_ucirepo"
      ],
      "metadata": {
        "id": "avnty98LbNkG"
      },
      "execution_count": null,
      "outputs": []
    },
    {
      "cell_type": "markdown",
      "metadata": {
        "id": "tsZdEbJD5aw2"
      },
      "source": [
        "###Step 2: Load and Clean the Data\n",
        "We use the Letter Recognition dataset from the UCI Machine Learning Repository and load it into a Pandas DataFrame."
      ]
    },
    {
      "cell_type": "code",
      "execution_count": null,
      "metadata": {
        "colab": {
          "base_uri": "https://localhost:8080/",
          "height": 363
        },
        "id": "hKvspk9Y5hHp",
        "outputId": "91a436a9-3832-4408-b8ac-edc777592095"
      },
      "outputs": [
        {
          "output_type": "execute_result",
          "data": {
            "text/plain": [
              "    x-box  y-box  width  high  onpix  x-bar  y-bar  x2bar  y2bar  xybar  \\\n",
              "10      3      9      5     7      4      8      7      3      8      5   \n",
              "11      6     13      4     7      4      6      7      6      3     10   \n",
              "12      4      9      6     7      6      7      8      6      2      6   \n",
              "13      6      9      8     6      9      7      8      6      5      7   \n",
              "14      5      9      5     7      6      6     11      7      3      7   \n",
              "15      6      9      5     4      3     10      6      3      5     10   \n",
              "16      3      4      4     3      2      8      7      7      5      7   \n",
              "17      7     10      5     5      2      6      8      6      8     11   \n",
              "18      6     11      6     8      5      6     11      5      6     11   \n",
              "19      2      2      3     3      1     10      6      3      6     12   \n",
              "\n",
              "    x2ybr  xy2br  x-ege  xegvy  y-ege  yegvx target  \n",
              "10      6      8      2      8      6      7      X  \n",
              "11      7      9      5      9      5      8      O  \n",
              "12      5     11      4      8      7      8      G  \n",
              "13      5      8      8      9      8      6      M  \n",
              "14      3      9      2      7      5     11      R  \n",
              "15      5      7      3      9      6      9      F  \n",
              "16      6      8      2      8      3      8      O  \n",
              "17      7     11      2      8      5      9      C  \n",
              "18      9      4      3     12      2      4      T  \n",
              "19      4      9      0      7      1      7      J  "
            ],
            "text/html": [
              "\n",
              "  <div id=\"df-4eda1c24-299b-4f1b-b444-d978dc5d95a6\" class=\"colab-df-container\">\n",
              "    <div>\n",
              "<style scoped>\n",
              "    .dataframe tbody tr th:only-of-type {\n",
              "        vertical-align: middle;\n",
              "    }\n",
              "\n",
              "    .dataframe tbody tr th {\n",
              "        vertical-align: top;\n",
              "    }\n",
              "\n",
              "    .dataframe thead th {\n",
              "        text-align: right;\n",
              "    }\n",
              "</style>\n",
              "<table border=\"1\" class=\"dataframe\">\n",
              "  <thead>\n",
              "    <tr style=\"text-align: right;\">\n",
              "      <th></th>\n",
              "      <th>x-box</th>\n",
              "      <th>y-box</th>\n",
              "      <th>width</th>\n",
              "      <th>high</th>\n",
              "      <th>onpix</th>\n",
              "      <th>x-bar</th>\n",
              "      <th>y-bar</th>\n",
              "      <th>x2bar</th>\n",
              "      <th>y2bar</th>\n",
              "      <th>xybar</th>\n",
              "      <th>x2ybr</th>\n",
              "      <th>xy2br</th>\n",
              "      <th>x-ege</th>\n",
              "      <th>xegvy</th>\n",
              "      <th>y-ege</th>\n",
              "      <th>yegvx</th>\n",
              "      <th>target</th>\n",
              "    </tr>\n",
              "  </thead>\n",
              "  <tbody>\n",
              "    <tr>\n",
              "      <th>10</th>\n",
              "      <td>3</td>\n",
              "      <td>9</td>\n",
              "      <td>5</td>\n",
              "      <td>7</td>\n",
              "      <td>4</td>\n",
              "      <td>8</td>\n",
              "      <td>7</td>\n",
              "      <td>3</td>\n",
              "      <td>8</td>\n",
              "      <td>5</td>\n",
              "      <td>6</td>\n",
              "      <td>8</td>\n",
              "      <td>2</td>\n",
              "      <td>8</td>\n",
              "      <td>6</td>\n",
              "      <td>7</td>\n",
              "      <td>X</td>\n",
              "    </tr>\n",
              "    <tr>\n",
              "      <th>11</th>\n",
              "      <td>6</td>\n",
              "      <td>13</td>\n",
              "      <td>4</td>\n",
              "      <td>7</td>\n",
              "      <td>4</td>\n",
              "      <td>6</td>\n",
              "      <td>7</td>\n",
              "      <td>6</td>\n",
              "      <td>3</td>\n",
              "      <td>10</td>\n",
              "      <td>7</td>\n",
              "      <td>9</td>\n",
              "      <td>5</td>\n",
              "      <td>9</td>\n",
              "      <td>5</td>\n",
              "      <td>8</td>\n",
              "      <td>O</td>\n",
              "    </tr>\n",
              "    <tr>\n",
              "      <th>12</th>\n",
              "      <td>4</td>\n",
              "      <td>9</td>\n",
              "      <td>6</td>\n",
              "      <td>7</td>\n",
              "      <td>6</td>\n",
              "      <td>7</td>\n",
              "      <td>8</td>\n",
              "      <td>6</td>\n",
              "      <td>2</td>\n",
              "      <td>6</td>\n",
              "      <td>5</td>\n",
              "      <td>11</td>\n",
              "      <td>4</td>\n",
              "      <td>8</td>\n",
              "      <td>7</td>\n",
              "      <td>8</td>\n",
              "      <td>G</td>\n",
              "    </tr>\n",
              "    <tr>\n",
              "      <th>13</th>\n",
              "      <td>6</td>\n",
              "      <td>9</td>\n",
              "      <td>8</td>\n",
              "      <td>6</td>\n",
              "      <td>9</td>\n",
              "      <td>7</td>\n",
              "      <td>8</td>\n",
              "      <td>6</td>\n",
              "      <td>5</td>\n",
              "      <td>7</td>\n",
              "      <td>5</td>\n",
              "      <td>8</td>\n",
              "      <td>8</td>\n",
              "      <td>9</td>\n",
              "      <td>8</td>\n",
              "      <td>6</td>\n",
              "      <td>M</td>\n",
              "    </tr>\n",
              "    <tr>\n",
              "      <th>14</th>\n",
              "      <td>5</td>\n",
              "      <td>9</td>\n",
              "      <td>5</td>\n",
              "      <td>7</td>\n",
              "      <td>6</td>\n",
              "      <td>6</td>\n",
              "      <td>11</td>\n",
              "      <td>7</td>\n",
              "      <td>3</td>\n",
              "      <td>7</td>\n",
              "      <td>3</td>\n",
              "      <td>9</td>\n",
              "      <td>2</td>\n",
              "      <td>7</td>\n",
              "      <td>5</td>\n",
              "      <td>11</td>\n",
              "      <td>R</td>\n",
              "    </tr>\n",
              "    <tr>\n",
              "      <th>15</th>\n",
              "      <td>6</td>\n",
              "      <td>9</td>\n",
              "      <td>5</td>\n",
              "      <td>4</td>\n",
              "      <td>3</td>\n",
              "      <td>10</td>\n",
              "      <td>6</td>\n",
              "      <td>3</td>\n",
              "      <td>5</td>\n",
              "      <td>10</td>\n",
              "      <td>5</td>\n",
              "      <td>7</td>\n",
              "      <td>3</td>\n",
              "      <td>9</td>\n",
              "      <td>6</td>\n",
              "      <td>9</td>\n",
              "      <td>F</td>\n",
              "    </tr>\n",
              "    <tr>\n",
              "      <th>16</th>\n",
              "      <td>3</td>\n",
              "      <td>4</td>\n",
              "      <td>4</td>\n",
              "      <td>3</td>\n",
              "      <td>2</td>\n",
              "      <td>8</td>\n",
              "      <td>7</td>\n",
              "      <td>7</td>\n",
              "      <td>5</td>\n",
              "      <td>7</td>\n",
              "      <td>6</td>\n",
              "      <td>8</td>\n",
              "      <td>2</td>\n",
              "      <td>8</td>\n",
              "      <td>3</td>\n",
              "      <td>8</td>\n",
              "      <td>O</td>\n",
              "    </tr>\n",
              "    <tr>\n",
              "      <th>17</th>\n",
              "      <td>7</td>\n",
              "      <td>10</td>\n",
              "      <td>5</td>\n",
              "      <td>5</td>\n",
              "      <td>2</td>\n",
              "      <td>6</td>\n",
              "      <td>8</td>\n",
              "      <td>6</td>\n",
              "      <td>8</td>\n",
              "      <td>11</td>\n",
              "      <td>7</td>\n",
              "      <td>11</td>\n",
              "      <td>2</td>\n",
              "      <td>8</td>\n",
              "      <td>5</td>\n",
              "      <td>9</td>\n",
              "      <td>C</td>\n",
              "    </tr>\n",
              "    <tr>\n",
              "      <th>18</th>\n",
              "      <td>6</td>\n",
              "      <td>11</td>\n",
              "      <td>6</td>\n",
              "      <td>8</td>\n",
              "      <td>5</td>\n",
              "      <td>6</td>\n",
              "      <td>11</td>\n",
              "      <td>5</td>\n",
              "      <td>6</td>\n",
              "      <td>11</td>\n",
              "      <td>9</td>\n",
              "      <td>4</td>\n",
              "      <td>3</td>\n",
              "      <td>12</td>\n",
              "      <td>2</td>\n",
              "      <td>4</td>\n",
              "      <td>T</td>\n",
              "    </tr>\n",
              "    <tr>\n",
              "      <th>19</th>\n",
              "      <td>2</td>\n",
              "      <td>2</td>\n",
              "      <td>3</td>\n",
              "      <td>3</td>\n",
              "      <td>1</td>\n",
              "      <td>10</td>\n",
              "      <td>6</td>\n",
              "      <td>3</td>\n",
              "      <td>6</td>\n",
              "      <td>12</td>\n",
              "      <td>4</td>\n",
              "      <td>9</td>\n",
              "      <td>0</td>\n",
              "      <td>7</td>\n",
              "      <td>1</td>\n",
              "      <td>7</td>\n",
              "      <td>J</td>\n",
              "    </tr>\n",
              "  </tbody>\n",
              "</table>\n",
              "</div>\n",
              "    <div class=\"colab-df-buttons\">\n",
              "\n",
              "  <div class=\"colab-df-container\">\n",
              "    <button class=\"colab-df-convert\" onclick=\"convertToInteractive('df-4eda1c24-299b-4f1b-b444-d978dc5d95a6')\"\n",
              "            title=\"Convert this dataframe to an interactive table.\"\n",
              "            style=\"display:none;\">\n",
              "\n",
              "  <svg xmlns=\"http://www.w3.org/2000/svg\" height=\"24px\" viewBox=\"0 -960 960 960\">\n",
              "    <path d=\"M120-120v-720h720v720H120Zm60-500h600v-160H180v160Zm220 220h160v-160H400v160Zm0 220h160v-160H400v160ZM180-400h160v-160H180v160Zm440 0h160v-160H620v160ZM180-180h160v-160H180v160Zm440 0h160v-160H620v160Z\"/>\n",
              "  </svg>\n",
              "    </button>\n",
              "\n",
              "  <style>\n",
              "    .colab-df-container {\n",
              "      display:flex;\n",
              "      gap: 12px;\n",
              "    }\n",
              "\n",
              "    .colab-df-convert {\n",
              "      background-color: #E8F0FE;\n",
              "      border: none;\n",
              "      border-radius: 50%;\n",
              "      cursor: pointer;\n",
              "      display: none;\n",
              "      fill: #1967D2;\n",
              "      height: 32px;\n",
              "      padding: 0 0 0 0;\n",
              "      width: 32px;\n",
              "    }\n",
              "\n",
              "    .colab-df-convert:hover {\n",
              "      background-color: #E2EBFA;\n",
              "      box-shadow: 0px 1px 2px rgba(60, 64, 67, 0.3), 0px 1px 3px 1px rgba(60, 64, 67, 0.15);\n",
              "      fill: #174EA6;\n",
              "    }\n",
              "\n",
              "    .colab-df-buttons div {\n",
              "      margin-bottom: 4px;\n",
              "    }\n",
              "\n",
              "    [theme=dark] .colab-df-convert {\n",
              "      background-color: #3B4455;\n",
              "      fill: #D2E3FC;\n",
              "    }\n",
              "\n",
              "    [theme=dark] .colab-df-convert:hover {\n",
              "      background-color: #434B5C;\n",
              "      box-shadow: 0px 1px 3px 1px rgba(0, 0, 0, 0.15);\n",
              "      filter: drop-shadow(0px 1px 2px rgba(0, 0, 0, 0.3));\n",
              "      fill: #FFFFFF;\n",
              "    }\n",
              "  </style>\n",
              "\n",
              "    <script>\n",
              "      const buttonEl =\n",
              "        document.querySelector('#df-4eda1c24-299b-4f1b-b444-d978dc5d95a6 button.colab-df-convert');\n",
              "      buttonEl.style.display =\n",
              "        google.colab.kernel.accessAllowed ? 'block' : 'none';\n",
              "\n",
              "      async function convertToInteractive(key) {\n",
              "        const element = document.querySelector('#df-4eda1c24-299b-4f1b-b444-d978dc5d95a6');\n",
              "        const dataTable =\n",
              "          await google.colab.kernel.invokeFunction('convertToInteractive',\n",
              "                                                    [key], {});\n",
              "        if (!dataTable) return;\n",
              "\n",
              "        const docLinkHtml = 'Like what you see? Visit the ' +\n",
              "          '<a target=\"_blank\" href=https://colab.research.google.com/notebooks/data_table.ipynb>data table notebook</a>'\n",
              "          + ' to learn more about interactive tables.';\n",
              "        element.innerHTML = '';\n",
              "        dataTable['output_type'] = 'display_data';\n",
              "        await google.colab.output.renderOutput(dataTable, element);\n",
              "        const docLink = document.createElement('div');\n",
              "        docLink.innerHTML = docLinkHtml;\n",
              "        element.appendChild(docLink);\n",
              "      }\n",
              "    </script>\n",
              "  </div>\n",
              "\n",
              "\n",
              "<div id=\"df-8dee84d0-e7ba-4fc5-9596-6dfafac590fc\">\n",
              "  <button class=\"colab-df-quickchart\" onclick=\"quickchart('df-8dee84d0-e7ba-4fc5-9596-6dfafac590fc')\"\n",
              "            title=\"Suggest charts\"\n",
              "            style=\"display:none;\">\n",
              "\n",
              "<svg xmlns=\"http://www.w3.org/2000/svg\" height=\"24px\"viewBox=\"0 0 24 24\"\n",
              "     width=\"24px\">\n",
              "    <g>\n",
              "        <path d=\"M19 3H5c-1.1 0-2 .9-2 2v14c0 1.1.9 2 2 2h14c1.1 0 2-.9 2-2V5c0-1.1-.9-2-2-2zM9 17H7v-7h2v7zm4 0h-2V7h2v10zm4 0h-2v-4h2v4z\"/>\n",
              "    </g>\n",
              "</svg>\n",
              "  </button>\n",
              "\n",
              "<style>\n",
              "  .colab-df-quickchart {\n",
              "      --bg-color: #E8F0FE;\n",
              "      --fill-color: #1967D2;\n",
              "      --hover-bg-color: #E2EBFA;\n",
              "      --hover-fill-color: #174EA6;\n",
              "      --disabled-fill-color: #AAA;\n",
              "      --disabled-bg-color: #DDD;\n",
              "  }\n",
              "\n",
              "  [theme=dark] .colab-df-quickchart {\n",
              "      --bg-color: #3B4455;\n",
              "      --fill-color: #D2E3FC;\n",
              "      --hover-bg-color: #434B5C;\n",
              "      --hover-fill-color: #FFFFFF;\n",
              "      --disabled-bg-color: #3B4455;\n",
              "      --disabled-fill-color: #666;\n",
              "  }\n",
              "\n",
              "  .colab-df-quickchart {\n",
              "    background-color: var(--bg-color);\n",
              "    border: none;\n",
              "    border-radius: 50%;\n",
              "    cursor: pointer;\n",
              "    display: none;\n",
              "    fill: var(--fill-color);\n",
              "    height: 32px;\n",
              "    padding: 0;\n",
              "    width: 32px;\n",
              "  }\n",
              "\n",
              "  .colab-df-quickchart:hover {\n",
              "    background-color: var(--hover-bg-color);\n",
              "    box-shadow: 0 1px 2px rgba(60, 64, 67, 0.3), 0 1px 3px 1px rgba(60, 64, 67, 0.15);\n",
              "    fill: var(--button-hover-fill-color);\n",
              "  }\n",
              "\n",
              "  .colab-df-quickchart-complete:disabled,\n",
              "  .colab-df-quickchart-complete:disabled:hover {\n",
              "    background-color: var(--disabled-bg-color);\n",
              "    fill: var(--disabled-fill-color);\n",
              "    box-shadow: none;\n",
              "  }\n",
              "\n",
              "  .colab-df-spinner {\n",
              "    border: 2px solid var(--fill-color);\n",
              "    border-color: transparent;\n",
              "    border-bottom-color: var(--fill-color);\n",
              "    animation:\n",
              "      spin 1s steps(1) infinite;\n",
              "  }\n",
              "\n",
              "  @keyframes spin {\n",
              "    0% {\n",
              "      border-color: transparent;\n",
              "      border-bottom-color: var(--fill-color);\n",
              "      border-left-color: var(--fill-color);\n",
              "    }\n",
              "    20% {\n",
              "      border-color: transparent;\n",
              "      border-left-color: var(--fill-color);\n",
              "      border-top-color: var(--fill-color);\n",
              "    }\n",
              "    30% {\n",
              "      border-color: transparent;\n",
              "      border-left-color: var(--fill-color);\n",
              "      border-top-color: var(--fill-color);\n",
              "      border-right-color: var(--fill-color);\n",
              "    }\n",
              "    40% {\n",
              "      border-color: transparent;\n",
              "      border-right-color: var(--fill-color);\n",
              "      border-top-color: var(--fill-color);\n",
              "    }\n",
              "    60% {\n",
              "      border-color: transparent;\n",
              "      border-right-color: var(--fill-color);\n",
              "    }\n",
              "    80% {\n",
              "      border-color: transparent;\n",
              "      border-right-color: var(--fill-color);\n",
              "      border-bottom-color: var(--fill-color);\n",
              "    }\n",
              "    90% {\n",
              "      border-color: transparent;\n",
              "      border-bottom-color: var(--fill-color);\n",
              "    }\n",
              "  }\n",
              "</style>\n",
              "\n",
              "  <script>\n",
              "    async function quickchart(key) {\n",
              "      const quickchartButtonEl =\n",
              "        document.querySelector('#' + key + ' button');\n",
              "      quickchartButtonEl.disabled = true;  // To prevent multiple clicks.\n",
              "      quickchartButtonEl.classList.add('colab-df-spinner');\n",
              "      try {\n",
              "        const charts = await google.colab.kernel.invokeFunction(\n",
              "            'suggestCharts', [key], {});\n",
              "      } catch (error) {\n",
              "        console.error('Error during call to suggestCharts:', error);\n",
              "      }\n",
              "      quickchartButtonEl.classList.remove('colab-df-spinner');\n",
              "      quickchartButtonEl.classList.add('colab-df-quickchart-complete');\n",
              "    }\n",
              "    (() => {\n",
              "      let quickchartButtonEl =\n",
              "        document.querySelector('#df-8dee84d0-e7ba-4fc5-9596-6dfafac590fc button');\n",
              "      quickchartButtonEl.style.display =\n",
              "        google.colab.kernel.accessAllowed ? 'block' : 'none';\n",
              "    })();\n",
              "  </script>\n",
              "</div>\n",
              "\n",
              "    </div>\n",
              "  </div>\n"
            ],
            "application/vnd.google.colaboratory.intrinsic+json": {
              "type": "dataframe",
              "summary": "{\n  \"name\": \"dataFrame[10:20]\",\n  \"rows\": 10,\n  \"fields\": [\n    {\n      \"column\": \"x-box\",\n      \"properties\": {\n        \"dtype\": \"number\",\n        \"std\": 1,\n        \"min\": 2,\n        \"max\": 7,\n        \"num_unique_values\": 6,\n        \"samples\": [\n          3,\n          6,\n          2\n        ],\n        \"semantic_type\": \"\",\n        \"description\": \"\"\n      }\n    },\n    {\n      \"column\": \"y-box\",\n      \"properties\": {\n        \"dtype\": \"number\",\n        \"std\": 3,\n        \"min\": 2,\n        \"max\": 13,\n        \"num_unique_values\": 6,\n        \"samples\": [\n          9,\n          13,\n          2\n        ],\n        \"semantic_type\": \"\",\n        \"description\": \"\"\n      }\n    },\n    {\n      \"column\": \"width\",\n      \"properties\": {\n        \"dtype\": \"number\",\n        \"std\": 1,\n        \"min\": 3,\n        \"max\": 8,\n        \"num_unique_values\": 5,\n        \"samples\": [\n          4,\n          3,\n          6\n        ],\n        \"semantic_type\": \"\",\n        \"description\": \"\"\n      }\n    },\n    {\n      \"column\": \"high\",\n      \"properties\": {\n        \"dtype\": \"number\",\n        \"std\": 1,\n        \"min\": 3,\n        \"max\": 8,\n        \"num_unique_values\": 6,\n        \"samples\": [\n          7,\n          6,\n          8\n        ],\n        \"semantic_type\": \"\",\n        \"description\": \"\"\n      }\n    },\n    {\n      \"column\": \"onpix\",\n      \"properties\": {\n        \"dtype\": \"number\",\n        \"std\": 2,\n        \"min\": 1,\n        \"max\": 9,\n        \"num_unique_values\": 7,\n        \"samples\": [\n          4,\n          6,\n          5\n        ],\n        \"semantic_type\": \"\",\n        \"description\": \"\"\n      }\n    },\n    {\n      \"column\": \"x-bar\",\n      \"properties\": {\n        \"dtype\": \"number\",\n        \"std\": 1,\n        \"min\": 6,\n        \"max\": 10,\n        \"num_unique_values\": 4,\n        \"samples\": [\n          6,\n          10,\n          8\n        ],\n        \"semantic_type\": \"\",\n        \"description\": \"\"\n      }\n    },\n    {\n      \"column\": \"y-bar\",\n      \"properties\": {\n        \"dtype\": \"number\",\n        \"std\": 1,\n        \"min\": 6,\n        \"max\": 11,\n        \"num_unique_values\": 4,\n        \"samples\": [\n          8,\n          6,\n          7\n        ],\n        \"semantic_type\": \"\",\n        \"description\": \"\"\n      }\n    },\n    {\n      \"column\": \"x2bar\",\n      \"properties\": {\n        \"dtype\": \"number\",\n        \"std\": 1,\n        \"min\": 3,\n        \"max\": 7,\n        \"num_unique_values\": 4,\n        \"samples\": [\n          6,\n          5,\n          3\n        ],\n        \"semantic_type\": \"\",\n        \"description\": \"\"\n      }\n    },\n    {\n      \"column\": \"y2bar\",\n      \"properties\": {\n        \"dtype\": \"number\",\n        \"std\": 2,\n        \"min\": 2,\n        \"max\": 8,\n        \"num_unique_values\": 5,\n        \"samples\": [\n          3,\n          6,\n          2\n        ],\n        \"semantic_type\": \"\",\n        \"description\": \"\"\n      }\n    },\n    {\n      \"column\": \"xybar\",\n      \"properties\": {\n        \"dtype\": \"number\",\n        \"std\": 2,\n        \"min\": 5,\n        \"max\": 12,\n        \"num_unique_values\": 6,\n        \"samples\": [\n          5,\n          10,\n          12\n        ],\n        \"semantic_type\": \"\",\n        \"description\": \"\"\n      }\n    },\n    {\n      \"column\": \"x2ybr\",\n      \"properties\": {\n        \"dtype\": \"number\",\n        \"std\": 1,\n        \"min\": 3,\n        \"max\": 9,\n        \"num_unique_values\": 6,\n        \"samples\": [\n          6,\n          7,\n          4\n        ],\n        \"semantic_type\": \"\",\n        \"description\": \"\"\n      }\n    },\n    {\n      \"column\": \"xy2br\",\n      \"properties\": {\n        \"dtype\": \"number\",\n        \"std\": 2,\n        \"min\": 4,\n        \"max\": 11,\n        \"num_unique_values\": 5,\n        \"samples\": [\n          9,\n          4,\n          11\n        ],\n        \"semantic_type\": \"\",\n        \"description\": \"\"\n      }\n    },\n    {\n      \"column\": \"x-ege\",\n      \"properties\": {\n        \"dtype\": \"number\",\n        \"std\": 2,\n        \"min\": 0,\n        \"max\": 8,\n        \"num_unique_values\": 6,\n        \"samples\": [\n          2,\n          5,\n          0\n        ],\n        \"semantic_type\": \"\",\n        \"description\": \"\"\n      }\n    },\n    {\n      \"column\": \"xegvy\",\n      \"properties\": {\n        \"dtype\": \"number\",\n        \"std\": 1,\n        \"min\": 7,\n        \"max\": 12,\n        \"num_unique_values\": 4,\n        \"samples\": [\n          9,\n          12,\n          8\n        ],\n        \"semantic_type\": \"\",\n        \"description\": \"\"\n      }\n    },\n    {\n      \"column\": \"y-ege\",\n      \"properties\": {\n        \"dtype\": \"number\",\n        \"std\": 2,\n        \"min\": 1,\n        \"max\": 8,\n        \"num_unique_values\": 7,\n        \"samples\": [\n          6,\n          5,\n          2\n        ],\n        \"semantic_type\": \"\",\n        \"description\": \"\"\n      }\n    },\n    {\n      \"column\": \"yegvx\",\n      \"properties\": {\n        \"dtype\": \"number\",\n        \"std\": 1,\n        \"min\": 4,\n        \"max\": 11,\n        \"num_unique_values\": 6,\n        \"samples\": [\n          7,\n          8,\n          4\n        ],\n        \"semantic_type\": \"\",\n        \"description\": \"\"\n      }\n    },\n    {\n      \"column\": \"target\",\n      \"properties\": {\n        \"dtype\": \"string\",\n        \"num_unique_values\": 9,\n        \"samples\": [\n          \"T\",\n          \"O\",\n          \"F\"\n        ],\n        \"semantic_type\": \"\",\n        \"description\": \"\"\n      }\n    }\n  ]\n}"
            }
          },
          "metadata": {},
          "execution_count": 4
        }
      ],
      "source": [
        "letter_recognition = fetch_ucirepo(id=59)\n",
        "dataFrame = pd.DataFrame(data=letter_recognition.data.features, columns=letter_recognition.data.features.columns)\n",
        "dataFrame['target'] = letter_recognition.data.targets\n",
        "dataFrame[10:20]"
      ]
    },
    {
      "cell_type": "markdown",
      "metadata": {
        "id": "3WdHX0C46NmD"
      },
      "source": [
        "###Step 3: Perform Data Analysis\n",
        "Some simple analysis to understand the dataset."
      ]
    },
    {
      "cell_type": "code",
      "execution_count": null,
      "metadata": {
        "colab": {
          "base_uri": "https://localhost:8080/",
          "height": 1000
        },
        "id": "eWQEpfxo6PNO",
        "outputId": "a18bc1b4-800c-4dd1-a1ea-338e8c39fd7e"
      },
      "outputs": [
        {
          "output_type": "stream",
          "name": "stdout",
          "text": [
            "x-box     0\n",
            "y-box     0\n",
            "width     0\n",
            "high      0\n",
            "onpix     0\n",
            "x-bar     0\n",
            "y-bar     0\n",
            "x2bar     0\n",
            "y2bar     0\n",
            "xybar     0\n",
            "x2ybr     0\n",
            "xy2br     0\n",
            "x-ege     0\n",
            "xegvy     0\n",
            "y-ege     0\n",
            "yegvx     0\n",
            "target    0\n",
            "dtype: int64\n",
            "              x-box         y-box         width         high         onpix  \\\n",
            "count  20000.000000  20000.000000  20000.000000  20000.00000  20000.000000   \n",
            "mean       4.023550      7.035500      5.121850      5.37245      3.505850   \n",
            "std        1.913212      3.304555      2.014573      2.26139      2.190458   \n",
            "min        0.000000      0.000000      0.000000      0.00000      0.000000   \n",
            "25%        3.000000      5.000000      4.000000      4.00000      2.000000   \n",
            "50%        4.000000      7.000000      5.000000      6.00000      3.000000   \n",
            "75%        5.000000      9.000000      6.000000      7.00000      5.000000   \n",
            "max       15.000000     15.000000     15.000000     15.00000     15.000000   \n",
            "\n",
            "              x-bar         y-bar         x2bar         y2bar         xybar  \\\n",
            "count  20000.000000  20000.000000  20000.000000  20000.000000  20000.000000   \n",
            "mean       6.897600      7.500450      4.628600      5.178650      8.282050   \n",
            "std        2.026035      2.325354      2.699968      2.380823      2.488475   \n",
            "min        0.000000      0.000000      0.000000      0.000000      0.000000   \n",
            "25%        6.000000      6.000000      3.000000      4.000000      7.000000   \n",
            "50%        7.000000      7.000000      4.000000      5.000000      8.000000   \n",
            "75%        8.000000      9.000000      6.000000      7.000000     10.000000   \n",
            "max       15.000000     15.000000     15.000000     15.000000     15.000000   \n",
            "\n",
            "             x2ybr         xy2br         x-ege         xegvy         y-ege  \\\n",
            "count  20000.00000  20000.000000  20000.000000  20000.000000  20000.000000   \n",
            "mean       6.45400      7.929000      3.046100      8.338850      3.691750   \n",
            "std        2.63107      2.080619      2.332541      1.546722      2.567073   \n",
            "min        0.00000      0.000000      0.000000      0.000000      0.000000   \n",
            "25%        5.00000      7.000000      1.000000      8.000000      2.000000   \n",
            "50%        6.00000      8.000000      3.000000      8.000000      3.000000   \n",
            "75%        8.00000      9.000000      4.000000      9.000000      5.000000   \n",
            "max       15.00000     15.000000     15.000000     15.000000     15.000000   \n",
            "\n",
            "             yegvx  \n",
            "count  20000.00000  \n",
            "mean       7.80120  \n",
            "std        1.61747  \n",
            "min        0.00000  \n",
            "25%        7.00000  \n",
            "50%        8.00000  \n",
            "75%        9.00000  \n",
            "max       15.00000  \n"
          ]
        },
        {
          "output_type": "execute_result",
          "data": {
            "text/plain": [
              "target\n",
              "U    813\n",
              "D    805\n",
              "P    803\n",
              "T    796\n",
              "M    792\n",
              "A    789\n",
              "X    787\n",
              "Y    786\n",
              "N    783\n",
              "Q    783\n",
              "F    775\n",
              "G    773\n",
              "E    768\n",
              "B    766\n",
              "V    764\n",
              "L    761\n",
              "R    758\n",
              "I    755\n",
              "O    753\n",
              "W    752\n",
              "S    748\n",
              "J    747\n",
              "K    739\n",
              "C    736\n",
              "H    734\n",
              "Z    734\n",
              "Name: count, dtype: int64"
            ],
            "text/html": [
              "<div>\n",
              "<style scoped>\n",
              "    .dataframe tbody tr th:only-of-type {\n",
              "        vertical-align: middle;\n",
              "    }\n",
              "\n",
              "    .dataframe tbody tr th {\n",
              "        vertical-align: top;\n",
              "    }\n",
              "\n",
              "    .dataframe thead th {\n",
              "        text-align: right;\n",
              "    }\n",
              "</style>\n",
              "<table border=\"1\" class=\"dataframe\">\n",
              "  <thead>\n",
              "    <tr style=\"text-align: right;\">\n",
              "      <th></th>\n",
              "      <th>count</th>\n",
              "    </tr>\n",
              "    <tr>\n",
              "      <th>target</th>\n",
              "      <th></th>\n",
              "    </tr>\n",
              "  </thead>\n",
              "  <tbody>\n",
              "    <tr>\n",
              "      <th>U</th>\n",
              "      <td>813</td>\n",
              "    </tr>\n",
              "    <tr>\n",
              "      <th>D</th>\n",
              "      <td>805</td>\n",
              "    </tr>\n",
              "    <tr>\n",
              "      <th>P</th>\n",
              "      <td>803</td>\n",
              "    </tr>\n",
              "    <tr>\n",
              "      <th>T</th>\n",
              "      <td>796</td>\n",
              "    </tr>\n",
              "    <tr>\n",
              "      <th>M</th>\n",
              "      <td>792</td>\n",
              "    </tr>\n",
              "    <tr>\n",
              "      <th>A</th>\n",
              "      <td>789</td>\n",
              "    </tr>\n",
              "    <tr>\n",
              "      <th>X</th>\n",
              "      <td>787</td>\n",
              "    </tr>\n",
              "    <tr>\n",
              "      <th>Y</th>\n",
              "      <td>786</td>\n",
              "    </tr>\n",
              "    <tr>\n",
              "      <th>N</th>\n",
              "      <td>783</td>\n",
              "    </tr>\n",
              "    <tr>\n",
              "      <th>Q</th>\n",
              "      <td>783</td>\n",
              "    </tr>\n",
              "    <tr>\n",
              "      <th>F</th>\n",
              "      <td>775</td>\n",
              "    </tr>\n",
              "    <tr>\n",
              "      <th>G</th>\n",
              "      <td>773</td>\n",
              "    </tr>\n",
              "    <tr>\n",
              "      <th>E</th>\n",
              "      <td>768</td>\n",
              "    </tr>\n",
              "    <tr>\n",
              "      <th>B</th>\n",
              "      <td>766</td>\n",
              "    </tr>\n",
              "    <tr>\n",
              "      <th>V</th>\n",
              "      <td>764</td>\n",
              "    </tr>\n",
              "    <tr>\n",
              "      <th>L</th>\n",
              "      <td>761</td>\n",
              "    </tr>\n",
              "    <tr>\n",
              "      <th>R</th>\n",
              "      <td>758</td>\n",
              "    </tr>\n",
              "    <tr>\n",
              "      <th>I</th>\n",
              "      <td>755</td>\n",
              "    </tr>\n",
              "    <tr>\n",
              "      <th>O</th>\n",
              "      <td>753</td>\n",
              "    </tr>\n",
              "    <tr>\n",
              "      <th>W</th>\n",
              "      <td>752</td>\n",
              "    </tr>\n",
              "    <tr>\n",
              "      <th>S</th>\n",
              "      <td>748</td>\n",
              "    </tr>\n",
              "    <tr>\n",
              "      <th>J</th>\n",
              "      <td>747</td>\n",
              "    </tr>\n",
              "    <tr>\n",
              "      <th>K</th>\n",
              "      <td>739</td>\n",
              "    </tr>\n",
              "    <tr>\n",
              "      <th>C</th>\n",
              "      <td>736</td>\n",
              "    </tr>\n",
              "    <tr>\n",
              "      <th>H</th>\n",
              "      <td>734</td>\n",
              "    </tr>\n",
              "    <tr>\n",
              "      <th>Z</th>\n",
              "      <td>734</td>\n",
              "    </tr>\n",
              "  </tbody>\n",
              "</table>\n",
              "</div><br><label><b>dtype:</b> int64</label>"
            ]
          },
          "metadata": {},
          "execution_count": 5
        }
      ],
      "source": [
        "print(dataFrame.isnull().sum())\n",
        "print(dataFrame.describe())\n",
        "dataFrame['target'].value_counts()"
      ]
    },
    {
      "cell_type": "markdown",
      "metadata": {
        "id": "y3rK_tD96X9H"
      },
      "source": [
        "###Step 4: Split the Data into Training and Testing Sets\n",
        "We split the dataset into training and testing sets, with 80% of the data used for training and 20% for testing."
      ]
    },
    {
      "cell_type": "code",
      "execution_count": null,
      "metadata": {
        "colab": {
          "base_uri": "https://localhost:8080/"
        },
        "id": "bklrhC5h6ZCN",
        "outputId": "48ce3533-b87e-4d86-8d4b-3c0a166f5095"
      },
      "outputs": [
        {
          "output_type": "stream",
          "name": "stdout",
          "text": [
            "(16000, 16)\n",
            "(4000, 16)\n",
            "(16000,)\n",
            "(4000,)\n"
          ]
        }
      ],
      "source": [
        "x = dataFrame.drop('target', axis=1)\n",
        "y = dataFrame['target']\n",
        "xtrain, xtest, ytrain, ytest = train_test_split(x, y, train_size=0.8)\n",
        "print(xtrain.shape)\n",
        "print(xtest.shape)\n",
        "print(ytrain.shape)\n",
        "print(ytest.shape)"
      ]
    },
    {
      "cell_type": "code",
      "source": [
        "Counter(dataFrame['width'].values)"
      ],
      "metadata": {
        "colab": {
          "base_uri": "https://localhost:8080/"
        },
        "id": "hBxEGYe9YZ5W",
        "outputId": "c19b6a72-3fcd-4d34-e6fb-a2c4aa786062"
      },
      "execution_count": null,
      "outputs": [
        {
          "output_type": "execute_result",
          "data": {
            "text/plain": [
              "Counter({3: 1994,\n",
              "         6: 3641,\n",
              "         5: 4262,\n",
              "         4: 3816,\n",
              "         13: 6,\n",
              "         8: 1418,\n",
              "         2: 1285,\n",
              "         7: 1946,\n",
              "         11: 91,\n",
              "         12: 39,\n",
              "         9: 679,\n",
              "         1: 385,\n",
              "         10: 237,\n",
              "         0: 195,\n",
              "         15: 2,\n",
              "         14: 4})"
            ]
          },
          "metadata": {},
          "execution_count": 7
        }
      ]
    },
    {
      "cell_type": "markdown",
      "metadata": {
        "id": "Gg0PdF1l6ct9"
      },
      "source": [
        "###Step 5: Implement AdaBoost with ID3 as base learner\n",
        "Now, we implement the classifier"
      ]
    },
    {
      "cell_type": "code",
      "execution_count": null,
      "metadata": {
        "id": "uAkwDonSlbjl"
      },
      "outputs": [],
      "source": [
        "#function below calculates entropy for a single attribute on a single node\n",
        "def entropy(data,attribute):\n",
        "    res = 0\n",
        "    frequencyDictionary = Counter(data[attribute].values)\n",
        "    for key in frequencyDictionary:\n",
        "        probability = frequencyDictionary[key]/len(data)\n",
        "        res -= probability * math.log2(probability)\n",
        "    return res\n",
        "\n",
        "#function below calculates the information game using the parent and a single child for a single node\n",
        "def information_gain(data,feature,target_attribute):\n",
        "    parent_entropy = entropy(data, target_attribute)\n",
        "    frequencyDictionary = Counter(data[feature].values)\n",
        "    weighted_entropy = 0\n",
        "    for key, value in frequencyDictionary.items():\n",
        "        subset = data[data[feature] == key]\n",
        "        weighted_entropy += (value/len(data))*entropy(subset, target_attribute)\n",
        "    return parent_entropy - weighted_entropy\n",
        "\n",
        "#ID3 algorithm to build the tree\n",
        "def id3(data, features, target_attribute, height=3):\n",
        "    target_values = data[target_attribute].values\n",
        "    #If all target values are the same, return the label\n",
        "    if len(set(target_values)) == 1:\n",
        "        return target_values[0]\n",
        "    #At the laef we choose the most repeated value\n",
        "    if len(features) == 0 or height == 0:\n",
        "        return Counter(target_values).most_common(1)[0][0]\n",
        "    #Choosing a feature with the highest information gain\n",
        "    best_feature = max(features, key=lambda feature: information_gain(data, feature, target_attribute))\n",
        "    #Our tree is at first has the best feature as the parent and there are no children\n",
        "    tree = {best_feature: {}}\n",
        "    #Split the dataset on the best feature and build the subtree\n",
        "    unique_values = set(data[best_feature])\n",
        "    remaining_features = [feature for feature in features if feature != best_feature]\n",
        "    for value in unique_values:\n",
        "        subset = data[data[best_feature] == value]\n",
        "        tree[best_feature][value] = id3(subset, remaining_features, target_attribute, height-1)\n",
        "    return tree\n",
        "\n",
        "#ID3 classifier to choose instance label\n",
        "def classify(tree, instance):\n",
        "    if type(tree) is not dict:\n",
        "        return tree\n",
        "    feature = next(iter(tree))\n",
        "    value = instance[feature]\n",
        "    if value not in tree[feature]:\n",
        "        return None\n",
        "    return classify(tree[feature][value], instance)\n",
        "\n",
        "#Adaboost algorithm\n",
        "def adaboost(data, features, target_attribute, iterations):\n",
        "    #at first, every sample has the same weights and the value is 1/n\n",
        "    weights = [1 / len(data)] * len(data)\n",
        "    classifiers = []\n",
        "    alphas = []\n",
        "    for i in range(iterations):\n",
        "        # Build a weighted dataset by sampling rows based on their weights\n",
        "        weighted_data = data.sample(n=len(data), weights=weights, replace=True)\n",
        "        #creating tree instance\n",
        "        tree = id3(weighted_data, features, target_attribute, height=5)\n",
        "        print(tree)\n",
        "        #error calculation\n",
        "        error = 0\n",
        "        for j, row in data.iterrows():\n",
        "            prediction = classify(tree, row)\n",
        "            if prediction != row[target_attribute]:\n",
        "                error += weights[j]\n",
        "        # Calculate the alpha (influence of this classifier)\n",
        "        if error == 0:\n",
        "            error = 1e-10  # Avoid division by zero\n",
        "        alpha = 0.5 * math.log((1 - error) / error)\n",
        "        #updating the weights\n",
        "        for j, row in data.iterrows():\n",
        "            prediction = classify(tree, row)\n",
        "            if prediction == row[target_attribute]:\n",
        "                weights[j] *= math.exp(-alpha)\n",
        "            else:\n",
        "                weights[j] *= math.exp(alpha)\n",
        "        #normalizing the weights\n",
        "        weights_sum = sum(weights)\n",
        "        for j in range(len(weights)):\n",
        "          weights[j] = weights[j]/weights_sum\n",
        "        classifiers.append(tree)\n",
        "        alphas.append(alpha)\n",
        "    return classifiers, alphas\n",
        "\n",
        "#Adaboost Classification\n",
        "def adaboost_classify(classifiers, alphas, instances):\n",
        "    predictions = []\n",
        "    for index in instances.index:\n",
        "        instance = instances.loc[index].to_dict()\n",
        "        result = {}\n",
        "        for alpha, classifier in zip(alphas, classifiers):\n",
        "          instance_prediction = classify(classifier,instance)\n",
        "          if instance_prediction not in result:\n",
        "            result[instance_prediction] = 0\n",
        "          result[instance_prediction] += alpha\n",
        "        prediction = max(result,key=result.get)\n",
        "        predictions.append(prediction)\n",
        "    return predictions"
      ]
    },
    {
      "cell_type": "markdown",
      "metadata": {
        "id": "3AGITWvBlcHw"
      },
      "source": [
        "###Step 6: Train the AbaBoost with ID3 Tree Classifier\n",
        "Now, we train the AbaBoost with ID3 Tree Classifier using the training data."
      ]
    },
    {
      "cell_type": "code",
      "execution_count": null,
      "metadata": {
        "id": "P15mtnwA6h-x",
        "colab": {
          "base_uri": "https://localhost:8080/"
        },
        "outputId": "9e30f434-ea54-4e13-be45-372fc09c9cd0"
      },
      "outputs": [
        {
          "output_type": "stream",
          "name": "stdout",
          "text": [
            "{'x-ege': {0: {'xybar': {0: 'L', 1: 'L', 2: 'L', 3: {'x-bar': {10: 'Y', 3: 'L', 4: 'L', 5: 'L'}}, 4: {'y-bar': {5: 'S', 6: 'S', 7: 'S', 8: 'S', 11: 'Y', 14: 'T', 15: 'T'}}, 5: {'y-bar': {5: 'S', 6: {'width': {3: 'E', 4: 'S', 5: 'S', 6: 'S'}}, 7: 'S', 8: 'S', 9: 'S', 10: 'S', 11: 'Y', 14: 'T', 15: 'T'}}, 6: {'y-bar': {3: 'L', 4: 'L', 5: {'x-box': {3: 'L', 4: 'I', 6: 'I', 7: 'I'}}, 6: 'E', 7: 'S', 8: 'S', 10: 'T', 11: 'Y', 12: 'T', 13: 'T', 14: 'T', 15: 'T'}}, 7: {'y-ege': {0: {'y-bar': {7: 'I', 12: 'Y', 13: 'T', 14: 'T', 15: 'T'}}, 1: 'I', 2: {'y-bar': {3: 'L', 4: 'L', 5: 'L', 7: 'I'}}, 3: {'xy2br': {7: 'I', 8: 'I', 9: 'I', 10: 'L', 11: 'L', 13: 'C', 14: 'C'}}, 4: {'x-box': {1: 'C', 2: 'C', 3: 'I', 4: 'I', 5: 'I', 6: 'I', 7: 'I'}}, 5: 'E', 6: 'E', 7: 'E', 8: {'x-bar': {8: 'Z', 3: 'E', 4: 'E', 7: 'Z'}}, 9: 'Z', 11: 'Z', 12: 'Z'}}, 8: {'y-bar': {3: 'L', 4: 'L', 5: 'L', 7: 'Z', 8: {'y-box': {8: 'Z', 9: 'Z', 6: 'E', 7: 'Z'}}, 11: 'Y', 13: 'T', 14: 'T', 15: 'T'}}, 9: {'y-bar': {3: 'L', 4: 'L', 5: 'L', 7: 'Z', 8: 'Z', 10: 'P', 11: {'x-box': {1: 'P', 4: 'T'}}, 13: 'T', 14: 'T', 15: 'T'}}, 10: {'x2ybr': {2: 'L', 3: {'y-box': {6: 'L', 7: 'J'}}, 4: 'J', 5: 'J', 6: 'Z', 7: 'P', 8: 'P', 9: {'x-box': {5: 'T', 6: 'Y'}}, 10: 'Y'}}, 11: {'xegvy': {6: 'J', 7: 'J', 8: 'F', 9: {'high': {1: 'T', 2: 'P', 4: 'P', 5: 'P', 6: 'P'}}, 10: {'yegvx': {4: {'x-bar': {3: 'Y', 4: 'Y', 5: 'T', 6: 'T'}}, 5: 'T', 6: 'P', 7: 'P', 8: 'P'}}}}, 12: {'x-bar': {0: 'F', 1: 'F', 2: {'x-box': {8: 'Y', 3: 'F'}}, 3: {'x-box': {2: 'P', 3: 'P', 4: 'P', 5: 'Y', 7: 'Y'}}, 4: {'y-box': {8: 'P', 9: 'P', 10: 'T', 7: 'T'}}, 5: {'y-box': {8: 'P', 9: 'T', 5: 'T', 7: 'T'}}, 6: 'P', 7: {'y-box': {8: 'I', 3: 'P'}}, 8: 'J', 9: 'J', 10: 'J', 11: 'J', 12: 'J', 13: 'J', 14: 'J', 15: 'J'}}, 13: {'y-bar': {2: 'J', 3: 'J', 4: 'J', 5: 'I', 6: {'x2bar': {0: 'I', 1: 'J'}}, 7: 'I', 8: 'I', 9: {'y-box': {10: 'I', 3: 'P', 5: 'I', 7: 'I'}}, 10: 'P', 11: {'x-box': {3: 'P', 5: 'Y'}}, 12: {'x-box': {8: 'T', 3: 'P'}}, 13: {'x-box': {2: 'F', 4: 'P'}}, 14: {'x-box': {4: 'F', 7: 'P'}}, 15: 'F'}}, 14: {'xegvy': {6: 'J', 7: 'J', 8: {'x-bar': {5: 'I', 6: 'I', 7: 'I', 9: 'J', 10: 'J'}}, 9: {'x-box': {3: 'I', 4: 'P', 5: 'P'}}, 10: {'y-box': {10: 'I', 11: 'P', 7: 'P'}}}}, 15: 'J'}}, 1: {'xegvy': {5: {'x-box': {2: 'A', 4: 'L'}}, 6: {'xybar': {1: 'L', 2: 'L', 3: 'L', 5: {'y-bar': {2: 'A', 3: 'A', 4: 'L', 7: 'C', 8: 'S', 9: 'C'}}, 6: {'y-box': {1: 'A', 3: 'A', 6: 'L', 7: 'L', 9: 'L', 11: 'L'}}, 7: {'y2bar': {8: 'L', 1: 'A', 0: 'A', 7: 'L'}}, 8: {'x-bar': {8: 'L', 9: 'A', 10: 'A', 7: 'L'}}, 9: {'y2bar': {1: 'A', 2: 'A', 5: 'L', 6: 'L', 7: 'L', 8: 'L'}}, 10: 'A', 11: {'y-box': {4: 'A', 5: 'J', 7: 'J', 8: 'J', 9: 'J', 10: 'J', 11: 'J'}}, 12: 'J', 13: {'x-box': {1: 'J', 2: 'J', 3: 'J', 4: 'I'}}, 14: 'J', 15: 'J'}}, 7: {'y-ege': {0: {'y-box': {1: 'L', 2: 'L', 3: 'J', 4: 'J'}}, 1: {'y-bar': {3: 'L', 4: 'L', 6: 'J', 7: 'J', 9: 'J'}}, 3: {'x-bar': {2: 'C', 3: 'C', 4: 'L', 5: 'L', 6: 'L', 8: 'I'}}, 4: {'y2bar': {1: 'R', 5: 'G', 6: 'I', 8: 'C', 9: 'C', 10: 'C', 11: 'C'}}, 5: {'y-box': {0: 'G', 1: 'G', 6: 'Z', 8: 'I', 11: 'J'}}, 6: {'x2bar': {2: 'Z', 3: 'Z', 6: 'G', 7: 'G'}}, 7: {'x-box': {4: 'Z', 6: 'E'}}, 8: 'Z', 11: 'Z', 12: 'Z'}}, 8: {'xy2br': {4: {'y-box': {9: 'F', 12: 'I'}}, 5: {'x-box': {3: 'I', 4: 'Z', 5: 'Z'}}, 6: {'x-box': {2: 'B', 3: 'Z', 4: 'Z', 6: 'Z', 7: 'Z'}}, 7: {'y2bar': {4: 'B', 5: 'B', 6: {'x-box': {1: 'S', 2: 'S', 5: 'J'}}, 7: 'S', 8: {'y-box': {10: 'Z', 5: 'S', 6: 'S'}}, 9: 'Z', 10: 'Z', 12: 'Z'}}, 8: {'y2bar': {6: 'S', 7: {'xybar': {5: 'S', 6: 'Z', 7: 'Z', 10: 'S', 11: 'S', 12: 'C'}}, 8: {'width': {2: 'Z', 3: 'E', 4: 'E'}}, 9: {'x-box': {1: 'Z', 2: 'Z', 3: 'Z', 4: 'Z', 5: 'S', 6: 'Z', 7: 'Z'}}, 10: 'Z', 11: 'Z'}}, 9: {'y-box': {0: 'G', 1: 'Z', 2: 'Z', 3: {'y-ege': {3: 'E', 4: 'E', 5: 'Z', 7: 'Z'}}, 4: 'Z', 5: {'x-box': {3: 'Z', 5: 'G'}}, 6: 'Z', 7: {'x2bar': {2: 'Z', 5: 'Z', 7: 'G'}}, 8: {'onpix': {2: 'G', 3: 'Z', 4: 'Z'}}, 9: 'Z', 10: 'E'}}, 10: {'x2bar': {2: 'Z', 3: 'Z', 5: {'x-box': {8: 'E', 2: 'G'}}, 6: 'G', 7: 'G', 8: 'G'}}, 11: {'x-bar': {8: 'G', 2: 'C', 3: 'C', 7: 'G'}}, 12: 'C', 13: 'C', 14: 'C', 15: 'C'}}, 9: {'xy2br': {2: 'P', 3: {'y-bar': {10: 'P', 11: 'P', 12: 'F'}}, 4: {'xybar': {9: 'P', 10: 'P', 11: {'width': {2: 'F', 3: 'P', 4: 'P'}}, 12: {'x-bar': {8: 'P', 6: 'F', 7: 'P'}}, 13: {'x-box': {1: 'F', 2: 'F', 3: 'F', 4: 'I', 5: 'I'}}, 14: 'F'}}, 5: {'y2bar': {1: 'P', 2: 'P', 3: 'P', 4: {'y-bar': {9: 'P', 10: 'F', 11: 'F'}}, 5: 'F', 6: {'x-box': {2: 'F', 3: 'F', 5: 'P'}}, 8: 'Y', 10: 'T'}}, 6: {'high': {1: 'F', 2: 'F', 3: 'S', 4: {'x-box': {3: 'F', 4: 'Z'}}, 5: 'Y', 6: 'Z', 7: 'Z', 8: {'x-box': {4: 'I', 5: 'J'}}}}, 7: {'y-box': {3: 'S', 4: 'S', 5: 'S', 8: 'Z', 9: 'Z', 10: 'Z'}}, 8: {'width': {3: 'S', 4: {'y2bar': {9: 'Z', 6: 'S', 7: 'S'}}, 5: {'x-box': {2: 'Z', 4: 'Z', 7: 'E'}}, 6: 'Z', 7: 'Z', 9: 'Z'}}, 9: {'y-box': {1: 'Z', 2: 'Z', 3: {'width': {2: 'C', 4: 'E'}}, 4: 'Z', 5: {'x-box': {3: 'S', 5: 'G'}}, 6: 'Z', 7: 'Z', 8: 'Z', 9: 'Z', 10: {'x-box': {4: 'Z', 5: 'E', 6: 'Z'}}, 11: 'Z'}}, 10: {'y2bar': {1: 'Q', 5: 'G', 6: 'C', 7: 'E', 8: 'Z', 9: {'x-box': {3: 'Z', 6: 'C'}}, 10: {'y-bar': {8: 'Z', 5: 'G', 6: 'Z', 7: 'Z'}}, 11: 'Z'}}, 11: {'x-bar': {3: 'C', 4: 'C', 5: 'C', 7: 'E', 8: 'G'}}, 12: {'x-bar': {4: 'C', 5: 'C', 6: 'C', 7: 'G'}}, 13: {'x2bar': {4: 'C', 5: 'C', 6: 'C', 7: 'C', 8: 'G'}}, 14: 'C', 15: 'C'}}, 10: {'xy2br': {1: 'P', 2: {'y2bar': {2: 'P', 3: 'P', 4: 'P', 5: 'F', 6: 'F'}}, 3: {'yegvx': {4: 'F', 5: {'y-box': {3: 'T', 4: 'T', 5: 'F'}}, 6: {'x2bar': {3: 'F', 4: 'P', 5: 'P', 6: 'P'}}, 7: 'P', 8: {'x2bar': {2: 'F', 3: 'P', 4: 'P', 5: 'P', 7: 'P', 8: 'P', 9: 'P'}}, 9: 'P'}}, 4: {'xybar': {6: 'I', 8: 'P', 9: 'P', 10: {'yegvx': {8: 'P', 6: 'F', 7: 'P'}}, 11: {'x2bar': {2: 'T', 3: 'T', 4: 'P', 5: 'P', 7: 'P'}}, 12: {'x2ybr': {4: 'P', 5: 'P', 9: 'T', 10: 'T', 11: 'Y'}}, 13: {'y-bar': {8: 'P', 9: 'F', 10: 'F', 11: 'F', 12: 'F', 13: 'F'}}, 14: {'x-box': {3: 'F', 4: 'P', 5: 'F', 7: 'F'}}}}, 5: {'yegvx': {3: 'Y', 4: {'x-box': {3: 'Y', 5: 'T'}}, 5: {'high': {1: 'T', 2: 'T', 3: 'T', 4: 'T', 5: 'F', 6: 'T', 7: 'F', 8: 'F'}}, 6: 'F', 7: {'y-ege': {1: 'F', 2: 'F', 3: 'F', 4: 'P'}}, 8: {'x-bar': {4: 'P', 5: 'P', 6: 'F', 7: 'F'}}, 9: {'width': {4: 'F', 5: 'P', 6: 'F'}}}}, 6: {'yegvx': {4: {'y-box': {8: 'Y', 10: 'T', 6: 'Y', 7: 'Y'}}, 5: {'x-box': {4: 'F', 5: 'T'}}, 6: 'F', 7: 'F'}}, 7: {'y-box': {4: 'Y', 7: 'I', 8: 'Y', 9: 'F', 10: 'F'}}, 8: {'y2bar': {1: 'Y', 2: 'Y', 3: 'Y', 6: {'x-box': {2: 'T', 6: 'I'}}, 7: {'y-box': {1: 'T', 10: 'Y', 6: 'Y'}}, 8: 'T', 9: 'T'}}, 9: {'x-bar': {4: 'Y', 5: 'T', 6: 'Z', 7: 'I'}}, 10: {'y-box': {3: 'C', 4: 'C', 7: 'C', 8: 'S', 9: 'S', 10: 'S'}}, 11: {'x-box': {2: 'C', 3: 'C', 4: 'C', 5: 'S'}}, 12: 'C', 13: 'C', 14: 'C'}}, 11: {'y-bar': {7: 'S', 9: 'Y', 10: {'xy2br': {4: {'x-box': {2: 'Y', 3: 'Y', 5: 'T', 6: 'T'}}, 5: {'x-box': {2: 'Y', 4: 'Y', 5: 'T', 6: 'Y', 7: 'Y'}}, 6: 'Y', 7: 'Y', 8: 'Y', 9: 'Y'}}, 11: {'x-bar': {2: 'Y', 3: 'Y', 4: 'Y', 5: {'width': {2: 'V', 3: 'T', 4: 'T', 5: 'T', 6: 'Y', 7: 'T'}}, 6: {'y-box': {3: 'T', 5: 'T', 6: 'Y', 7: 'T', 8: 'T', 9: 'T', 11: 'T'}}, 7: {'yegvx': {8: 'Y', 7: 'T'}}, 8: 'Y', 9: {'onpix': {1: 'Y', 2: 'Y', 4: 'T', 5: 'T'}}, 10: {'x-box': {3: 'Y', 4: 'T', 5: 'Y'}}}}, 12: {'x-bar': {2: 'Y', 3: 'Y', 4: {'x-box': {2: 'Y', 4: 'Y', 5: 'T', 6: 'T'}}, 5: 'T', 6: 'T', 7: 'T', 8: 'T', 9: 'T'}}, 13: {'x-box': {3: 'T', 5: 'T', 6: 'T', 7: 'P'}}, 14: {'width': {8: 'P', 5: 'T', 6: 'T'}}}}, 12: 'T'}}, 2: {'x2ybr': {0: 'A', 1: {'y2bar': {0: 'A', 1: 'A', 2: 'A', 3: 'A', 5: 'S', 7: 'X', 8: 'X'}}, 2: {'y2bar': {0: 'A', 1: 'A', 2: 'A', 3: {'y-box': {3: 'R', 6: 'A', 7: 'A', 8: 'A', 9: 'A', 10: 'A'}}, 4: {'x-box': {3: 'A', 4: 'Z', 5: 'Z', 6: 'S'}}, 5: {'high': {8: 'Z', 10: 'Z', 4: 'S', 6: 'A'}}, 7: {'y-box': {10: 'Q', 11: 'L', 6: 'Z'}}, 8: {'y-box': {8: 'S', 9: 'L', 10: 'S', 11: 'L'}}, 10: 'S'}}, 3: {'y-box': {3: {'y2bar': {8: 'X', 4: 'D', 5: 'R', 6: 'D'}}, 4: {'y2bar': {8: 'X', 4: 'Z', 5: {'x-box': {1: 'D', 3: 'Z'}}, 7: 'D'}}, 5: {'x2bar': {1: 'X', 2: 'R', 3: {'x-box': {3: 'D', 4: 'Z'}}, 4: 'Z', 5: 'Z', 7: 'Q'}}, 6: 'B', 7: {'y-bar': {4: 'A', 6: {'width': {6: 'E', 7: 'X'}}, 7: 'S', 8: 'S', 10: 'R'}}, 8: {'x-box': {3: 'R', 4: 'B', 5: 'S', 6: 'S'}}, 9: {'y-bar': {2: 'A', 5: 'A', 6: 'B', 7: 'J', 11: 'R'}}, 10: {'x2bar': {2: 'L', 3: 'B', 4: {'high': {8: 'S', 5: 'F', 6: 'I'}}, 5: 'S', 9: 'D'}}, 11: {'width': {6: 'S', 7: 'S', 8: 'L', 9: 'B', 10: 'P'}}, 12: {'width': {3: 'I', 4: 'I', 6: 'A'}}, 14: 'I'}}, 4: {'xy2br': {2: 'P', 3: 'P', 4: 'P', 5: {'y-box': {3: 'D', 4: 'D', 5: 'D', 6: 'P', 7: {'x-box': {3: 'F', 4: 'P'}}, 8: 'B', 9: 'J', 10: {'x-box': {4: 'S', 5: 'I'}}, 11: {'high': {8: 'J', 6: 'I'}}, 12: 'I', 14: {'x-box': {9: 'J', 6: 'I', 7: 'I'}}}}, 6: {'y-box': {3: {'x-bar': {8: 'R', 9: 'D'}}, 4: {'xegvy': {8: 'D', 6: 'R', 7: 'R'}}, 5: 'D', 6: 'B', 7: {'width': {3: 'S', 4: 'D', 6: 'B'}}, 8: 'P', 9: {'width': {8: 'B', 6: 'S'}}, 10: 'B', 11: {'width': {4: 'I', 5: 'S', 6: 'S', 7: 'B', 8: 'J'}}, 12: 'F', 13: 'F', 14: 'T', 15: 'I'}}, 7: {'y2bar': {3: 'J', 4: 'R', 5: {'y-box': {3: 'R', 4: 'R', 6: 'B'}}, 6: {'x-box': {2: 'B', 4: 'Q', 5: 'B', 6: 'S'}}, 7: {'width': {10: 'B', 5: 'S', 6: 'B', 7: 'B'}}, 8: {'y-box': {8: 'S', 9: 'S', 3: 'X', 4: 'X'}}, 9: 'S'}}, 8: {'x2bar': {1: 'X', 2: {'x-box': {8: 'J', 5: 'E'}}, 3: 'S', 4: 'S', 5: 'E', 6: 'I', 7: {'x-box': {1: 'R', 2: 'O', 3: 'R'}}, 8: 'R', 9: 'R'}}, 9: {'y-bar': {4: 'Z', 5: 'Z', 6: 'E', 7: 'E', 10: 'R', 11: 'R'}}, 10: {'x-bar': {8: 'Z', 10: 'Z', 6: 'E', 7: 'G'}}, 11: 'L', 12: {'x-box': {3: 'G', 5: 'G', 6: 'L', 7: 'L'}}, 13: 'L'}}, 5: {'xy2br': {2: 'P', 3: {'x-box': {4: 'F', 5: 'P', 6: 'P', 7: 'P'}}, 4: {'y-bar': {9: 'P', 10: 'F', 11: 'J'}}, 5: {'xybar': {6: {'y-box': {1: 'D', 2: 'B', 8: 'D', 9: 'D', 11: 'D'}}, 7: {'x-box': {2: 'I', 3: 'B'}}, 8: 'P', 9: 'D', 10: 'B', 12: {'y-box': {10: 'J', 13: 'F'}}, 13: {'high': {3: 'F', 4: 'I', 6: 'P', 7: 'J', 8: 'F', 9: 'J', 10: 'J'}}, 14: 'F'}}, 6: {'y-ege': {2: {'x-box': {1: 'D', 2: 'D', 3: 'F'}}, 3: {'y2bar': {4: 'R', 5: 'D', 6: 'D', 7: 'D', 8: 'D'}}, 4: {'xybar': {6: 'R', 7: 'R', 8: 'J', 10: 'B', 11: 'B'}}, 5: {'xegvy': {6: 'S', 7: 'J', 8: 'B', 9: 'T', 10: 'I'}}, 6: {'y-box': {7: 'B', 8: 'B', 9: 'B', 11: 'F', 12: 'T', 13: 'T', 14: 'T'}}, 7: {'xegvy': {5: 'X', 6: 'X', 7: 'B', 8: 'B', 9: 'J'}}, 8: {'onpix': {3: 'S', 4: 'S', 5: 'Z', 6: 'B'}}, 9: {'y-box': {9: 'S', 10: 'B', 3: 'B', 5: 'B'}}, 10: {'x-box': {3: 'S', 5: 'B'}}}}, 7: {'yegvx': {3: 'S', 6: {'x-box': {3: 'B', 6: 'T', 7: 'T'}}, 7: {'x-box': {1: 'O', 2: 'S', 3: 'O', 4: 'S'}}, 8: {'x2bar': {0: 'X', 3: 'S', 4: 'R', 5: 'R', 6: 'S', 7: 'S', 8: 'S'}}, 9: {'width': {2: 'R', 3: 'B', 4: 'B', 5: 'B', 6: 'B', 8: 'S'}}, 10: {'y2bar': {3: 'R', 4: 'R', 5: 'B', 6: 'B', 7: 'B', 8: 'B'}}, 11: {'x-bar': {10: 'J', 12: 'J', 6: 'R'}}, 12: 'J'}}, 8: {'x2bar': {1: {'y-ege': {2: 'X', 3: 'X', 4: 'E'}}, 2: {'x-box': {2: 'J', 3: 'E', 4: 'E'}}, 3: 'S', 4: {'x-box': {2: 'R', 5: 'S', 6: 'S'}}, 5: {'y-box': {1: 'E', 2: 'E', 3: 'E', 4: 'E', 5: 'E', 6: 'Z'}}, 6: {'y-ege': {8: 'S', 2: 'O', 3: 'R', 6: 'H'}}, 7: {'y2bar': {2: 'R', 3: 'R', 4: 'O', 5: 'O', 6: 'O', 7: 'C', 8: 'G'}}, 8: {'xegvy': {8: 'O', 9: 'Q', 7: 'R'}}, 9: 'R', 10: 'H'}}, 9: {'y-box': {0: 'G', 1: 'E', 2: {'x-box': {2: 'Q', 3: 'E'}}, 4: 'E', 5: 'E', 7: {'y-bar': {5: 'G', 6: 'G', 7: 'E'}}, 8: {'high': {6: 'Z', 7: 'Q'}}, 10: {'x-box': {5: 'G', 6: 'S'}}, 11: {'high': {8: 'G', 9: 'Z', 6: 'I'}}, 13: 'C', 15: 'S'}}, 10: {'x2bar': {2: 'Z', 5: 'G', 6: 'G', 7: 'G', 8: 'G'}}, 11: {'x-box': {2: 'Q', 3: 'G', 4: 'G'}}, 12: 'G', 13: {'x-box': {9: 'L', 5: 'G'}}}}, 6: {'xy2br': {3: {'x-box': {3: 'D', 5: 'P'}}, 4: {'y-ege': {2: 'F', 3: 'D', 4: 'P', 6: 'J'}}, 5: {'y-ege': {2: {'width': {2: 'D', 3: 'D', 4: 'F', 5: 'F', 6: 'F', 7: 'F'}}, 3: {'y-box': {1: 'D', 2: 'D', 3: 'D', 4: 'D', 5: 'D', 6: 'P', 7: 'P', 8: 'P', 11: 'P'}}, 4: {'width': {8: 'J', 4: 'P', 5: 'P', 6: 'J'}}, 5: {'x-box': {1: 'B', 2: 'B', 5: 'F'}}, 6: 'B', 7: 'B', 8: {'x-box': {3: 'B', 5: 'J', 7: 'J'}}}}, 6: {'yegvx': {1: 'S', 4: 'T', 5: {'x-box': {8: 'T', 10: 'T', 5: 'T', 7: 'F'}}, 6: {'y-box': {6: 'B', 7: 'J', 9: 'J', 10: 'T', 11: 'F'}}, 7: {'x-box': {2: 'D', 4: 'X'}}, 8: {'y-box': {0: 'D', 1: 'D', 3: 'X', 4: 'X', 5: 'B', 6: 'B', 9: 'O'}}, 9: 'B', 10: 'B', 11: {'x-box': {4: 'B', 7: 'I'}}}}, 7: {'yegvx': {3: 'S', 5: 'T', 6: {'x-box': {3: 'J', 5: 'S'}}, 7: {'y-box': {1: 'O', 2: 'X', 3: 'O', 6: 'S', 9: 'S', 12: 'S'}}, 8: {'y-ege': {3: 'O', 4: 'X', 5: 'S', 6: 'C', 7: 'Z', 8: 'S', 9: 'S'}}, 9: {'x2bar': {2: 'X', 3: 'B', 4: 'R', 5: 'R', 7: 'B', 8: 'B', 9: 'B', 10: 'B'}}, 10: 'B', 11: 'G', 12: 'J'}}, 8: {'x2bar': {0: 'X', 1: {'y-ege': {2: 'X', 3: 'X', 4: 'E'}}, 2: {'y2bar': {4: 'J', 5: 'X', 6: 'J', 7: 'E', 8: 'E', 9: 'Z'}}, 3: {'xegvy': {8: 'X', 9: 'S', 10: 'Z', 7: 'Z'}}, 4: {'x-box': {1: 'X', 2: 'X', 3: 'X', 4: 'X', 5: 'S', 6: 'S', 8: 'T', 9: 'T'}}, 5: {'y2bar': {2: 'Q', 4: 'F', 6: 'E', 7: 'E', 8: 'E', 9: 'Z', 10: 'Z'}}, 6: {'y-box': {0: 'O', 1: 'Q', 2: 'S', 3: 'O', 4: 'O', 6: 'P', 7: 'A', 10: 'F', 12: 'C'}}, 7: {'y-ege': {2: 'O', 3: 'O', 4: 'L', 5: 'G', 6: 'G', 8: 'S', 9: 'S'}}, 8: {'y-ege': {9: 'S', 3: 'O', 5: 'R', 6: 'G'}}, 10: {'x-box': {1: 'H', 4: 'B'}}, 11: 'H'}}, 9: {'y2bar': {1: 'Q', 2: 'Q', 3: 'Q', 4: {'x2bar': {5: 'G', 6: 'Q', 7: 'A'}}, 5: {'y-ege': {3: 'O', 4: 'G', 5: 'G', 7: 'X', 8: 'X'}}, 6: {'x2bar': {2: 'E', 4: 'L', 5: 'G', 6: 'G', 7: 'L', 8: 'L'}}, 7: {'x2bar': {0: 'I', 2: 'E', 3: 'S', 4: 'E', 5: 'E', 6: 'E', 7: 'G', 8: 'G'}}, 8: {'x2bar': {8: 'G', 1: 'E', 2: 'E', 5: 'E'}}, 9: {'x-box': {2: 'Z', 3: 'X', 5: 'E', 6: 'E', 7: 'Z'}}, 10: 'E'}}, 10: {'y-ege': {1: 'K', 2: 'K', 3: 'G', 4: {'width': {2: 'G', 3: 'G', 4: 'G', 5: 'G', 6: 'E'}}, 5: 'G', 6: {'x-box': {2: 'X', 5: 'G'}}, 8: 'X'}}, 11: {'y-box': {0: 'K', 1: 'K', 2: 'G', 4: 'G', 5: 'G', 6: {'x-box': {2: 'C', 4: 'G'}}, 7: 'G', 8: {'onpix': {3: 'G', 5: 'Q'}}, 10: 'G', 11: {'x-box': {9: 'E', 4: 'G'}}}}, 12: {'x-box': {3: 'E', 4: 'G', 5: 'G', 6: 'G'}}, 13: 'G'}}, 7: {'xybar': {3: 'Q', 5: {'y2bar': {1: 'Q', 2: 'Q', 4: 'Q', 5: 'G', 6: 'G', 7: 'G'}}, 6: {'x2bar': {2: 'X', 3: 'X', 6: 'G', 7: {'y2bar': {5: 'G', 6: 'G', 7: 'B'}}, 8: {'width': {3: 'B', 4: 'G', 5: 'G', 6: 'G'}}, 9: 'B', 10: 'B'}}, 7: {'y-ege': {0: 'H', 2: 'D', 3: {'x-bar': {8: 'O', 5: 'D', 6: 'D', 7: 'O'}}, 4: {'x-box': {2: 'Q', 5: 'J'}}, 5: 'E', 6: {'high': {3: 'E', 4: 'E', 5: 'E', 6: 'B', 7: 'G'}}, 7: {'y-box': {8: 'Z', 9: 'L', 11: 'B'}}, 8: {'y2bar': {2: 'S', 5: 'S', 7: 'B', 9: 'Z', 10: 'Z'}}, 9: 'S'}}, 8: {'y2bar': {1: 'Q', 2: 'Q', 3: 'Q', 4: {'x2bar': {2: 'X', 5: 'G', 6: 'P', 7: 'P'}}, 5: 'P', 6: {'y-box': {1: 'C', 6: 'S', 7: 'G'}}, 7: {'y-box': {2: 'C', 5: 'C', 6: 'D'}}}}, 9: {'y-bar': {6: 'G', 7: {'x2bar': {4: 'G', 5: 'G', 6: 'G', 7: 'O'}}, 8: {'x-box': {1: 'C', 2: 'C', 3: 'C', 4: 'P'}}, 9: 'P', 10: 'P'}}, 10: {'x2bar': {0: 'X', 1: 'X', 2: {'x-box': {1: 'E', 3: 'S', 7: 'F'}}, 3: 'S', 4: 'S', 5: 'G', 6: 'G', 7: {'onpix': {3: 'G', 4: 'G', 5: 'G', 6: 'P'}}, 8: 'C', 9: 'C'}}, 11: {'x2bar': {1: 'X', 2: {'xy2br': {5: 'F', 6: 'T', 7: 'T', 8: 'E', 9: 'E'}}, 3: {'x-box': {8: 'F', 4: 'E'}}, 4: 'S', 6: {'x-box': {4: 'G', 5: 'C', 6: 'C'}}, 7: {'x-box': {8: 'C', 9: 'C', 5: 'G'}}}}, 12: {'yegvx': {3: 'Z', 4: 'T', 5: 'F', 6: {'x-box': {4: 'F', 6: 'T'}}, 7: {'x-box': {4: 'F', 5: 'Z'}}, 8: {'x-box': {3: 'E', 6: 'Z'}}, 9: {'x-box': {8: 'C', 9: 'C', 5: 'L'}}}}, 13: {'y-ege': {2: 'F', 3: {'x-box': {4: 'I', 5: 'C', 6: 'T', 7: 'S', 9: 'T'}}, 4: 'T', 5: 'F'}}, 14: 'S', 15: 'J'}}, 8: {'xy2br': {2: 'T', 3: {'x-box': {8: 'T', 4: 'P'}}, 4: {'x-box': {3: 'T', 4: 'F', 6: 'F', 7: 'T', 9: 'T', 10: 'T'}}, 5: {'high': {11: 'Z', 4: 'T', 5: 'T', 7: 'F'}}, 6: {'x-box': {3: 'D', 4: 'T', 6: 'T', 7: 'T', 8: 'S'}}, 7: {'y-ege': {3: {'x-box': {4: 'D', 6: 'S'}}, 5: 'S', 6: {'x-box': {9: 'C', 3: 'Z'}}, 7: 'Z', 8: {'y-box': {4: 'I', 7: 'Y'}}}}, 8: {'x2bar': {1: 'X', 2: {'x-box': {2: 'X', 3: 'E', 5: 'S'}}, 3: {'x-box': {4: 'S', 5: 'S', 6: 'E'}}, 4: 'S', 6: {'y-bar': {9: 'C', 10: 'C', 6: 'Y', 7: 'G'}}, 7: 'C', 8: 'O'}}, 9: {'xybar': {5: 'Y', 6: 'S', 7: 'S', 8: {'y-box': {2: 'Q', 3: 'Q', 7: 'E'}}, 9: {'x-box': {2: 'G', 3: 'G', 4: 'G', 5: 'G', 7: 'S'}}, 10: {'y-bar': {8: 'X', 9: 'E', 7: 'G'}}, 11: {'y-box': {3: 'E', 4: 'E', 6: 'E', 8: 'E', 9: 'E', 10: 'C', 12: 'C', 13: 'C'}}, 12: 'E'}}, 10: {'xybar': {5: 'Q', 6: 'S', 7: 'Q', 8: 'Q', 9: 'G', 10: {'high': {4: 'G', 5: 'E', 6: 'G', 7: 'E'}}, 11: 'C', 13: 'C'}}, 11: {'y2bar': {1: 'Q', 2: 'Q', 3: 'Q', 5: 'G', 6: {'y-box': {8: 'C', 9: 'G', 10: 'G', 7: 'G'}}, 7: {'x-box': {4: 'C', 7: 'G'}}, 8: 'C'}}, 12: {'y-box': {2: 'C', 4: 'C', 6: 'C', 7: 'C', 8: 'C', 9: 'C', 10: 'G'}}, 13: 'C', 14: 'C'}}, 9: {'xy2br': {2: 'T', 3: 'T', 4: {'y-box': {2: 'F', 3: 'T', 5: 'F', 6: 'T', 7: 'T', 8: 'T', 9: 'T', 10: 'T', 11: 'T'}}, 5: {'xybar': {8: 'Y', 10: 'F', 11: {'y-bar': {9: 'Z', 10: 'T', 11: 'T', 12: 'T'}}, 12: 'F', 13: 'F'}}, 6: {'x-box': {2: 'F', 3: 'F', 4: 'C', 5: 'F'}}, 7: {'x-box': {3: 'Y', 6: 'C'}}, 8: 'S', 9: {'xybar': {5: 'Q', 9: {'width': {5: 'G', 6: 'S'}}, 10: 'X', 11: 'E', 12: 'C', 13: 'C'}}, 10: {'y-box': {3: 'Q', 4: 'Q', 6: 'C', 7: 'C', 8: 'E'}}, 11: {'x-box': {3: 'Q', 4: 'C', 7: 'C'}}, 12: {'x-box': {3: 'Q', 4: 'C', 5: 'C'}}, 13: 'C', 14: 'C'}}, 10: {'yegvx': {3: {'x2bar': {1: 'Y', 2: 'Y', 4: 'E', 5: 'E'}}, 4: {'x-box': {3: 'Y', 4: 'F', 5: 'T', 6: 'T', 7: 'T', 8: 'T'}}, 5: {'xy2br': {5: 'F', 6: 'F', 7: 'S', 9: 'S', 10: {'width': {5: 'E', 6: 'X', 7: 'X'}}}}, 6: {'x2bar': {1: 'X', 2: {'high': {1: 'K', 2: 'X', 3: 'X'}}, 3: 'F', 4: 'F', 6: 'C', 7: 'C'}}, 7: {'x2bar': {1: 'V', 3: 'T', 4: 'T', 5: 'C', 6: 'C', 7: 'C'}}, 8: {'y2bar': {2: 'V', 3: 'V', 5: 'T', 6: 'T'}}, 9: 'V'}}, 11: {'y2bar': {1: 'V', 2: 'V', 3: 'V', 4: 'V', 5: {'x-box': {2: 'T', 3: 'Y'}}, 6: {'y-ege': {1: 'T', 2: 'Y', 3: 'F'}}, 7: {'y-ege': {1: 'T', 2: 'Y', 3: {'y-box': {5: 'Y', 6: 'Y', 7: 'X', 9: 'Y', 10: 'Y', 11: 'Y'}}, 4: 'Y'}}, 8: {'x2bar': {1: 'X', 2: 'Y', 7: 'C'}}}}, 12: {'xegvy': {10: {'y-bar': {6: 'U', 7: 'U', 9: 'V', 11: 'V', 12: 'V'}}, 11: {'y2bar': {1: {'x-bar': {8: 'V', 10: 'Y', 7: 'V'}}, 2: 'Y', 5: 'Y', 6: 'Y', 7: 'Y'}}, 12: 'T'}}, 13: {'y-bar': {6: 'U', 8: 'Y', 9: 'V', 10: 'Y', 11: 'Y'}}}}, 3: {'y-ege': {0: {'y2bar': {0: {'x2bar': {3: 'W', 9: 'N', 12: 'H', 14: 'H', 15: 'H'}}, 1: 'H', 2: {'x2bar': {3: 'V', 4: 'V', 5: 'V', 12: 'H', 13: 'H', 14: 'H', 15: 'H'}}, 3: {'width': {3: 'H', 4: 'V', 5: 'V', 6: 'V', 7: 'V', 8: 'V'}}, 4: 'U', 5: 'U', 6: 'U', 7: 'U'}}, 1: {'y-bar': {3: 'D', 4: 'A', 6: {'width': {4: 'U', 5: 'A', 6: 'A', 7: 'A'}}, 7: {'x-box': {2: 'K', 3: 'A', 4: 'A'}}, 8: 'U', 9: {'x2bar': {3: 'V', 4: 'V', 5: 'U', 6: 'U', 7: 'U'}}, 10: 'U', 11: {'onpix': {2: 'V', 3: 'V', 4: 'V', 5: 'T'}}, 12: {'onpix': {1: 'V', 2: 'V', 3: 'V', 4: 'T', 5: 'T'}}, 13: 'V'}}, 2: {'xegvy': {3: 'A', 5: 'A', 6: 'A', 7: {'xybar': {4: 'L', 5: 'A', 6: 'A', 7: {'x-box': {1: 'K', 2: 'A', 3: 'A', 4: 'A'}}, 8: 'A', 10: {'y-box': {3: 'H', 4: 'D'}}, 11: 'R'}}, 8: {'xy2br': {4: 'D', 5: 'D', 6: 'D', 7: {'y-box': {8: 'D', 4: 'H', 6: 'O'}}, 8: {'x2bar': {1: 'K', 2: 'J', 3: 'H', 5: 'H', 6: 'H', 7: 'O'}}, 9: {'x2bar': {1: 'K', 2: 'K', 3: 'H', 7: 'O'}}, 10: {'y-box': {0: 'K', 1: 'K', 3: 'K', 4: 'K', 6: 'O', 7: 'O', 10: 'J'}}, 11: 'K'}}, 9: {'y-bar': {7: {'x-box': {8: 'U', 3: 'H'}}, 8: 'U', 9: {'x-bar': {3: 'U', 4: 'U', 7: 'F'}}, 10: {'x-box': {4: 'Y', 6: 'U'}}, 11: {'x-box': {4: 'V', 6: 'F'}}, 12: 'V'}}, 10: {'y-box': {2: 'V', 3: 'U', 4: 'U', 5: 'V', 9: 'V', 10: 'U', 12: 'S'}}, 11: 'V', 12: {'x-bar': {9: 'V', 5: 'T', 6: 'T'}}}}, 3: {'y2bar': {0: 'A', 1: {'x-bar': {8: 'V', 12: 'A', 4: 'K', 13: 'A'}}, 2: {'x2ybr': {1: 'A', 2: 'A', 3: 'A', 5: 'K', 6: {'x-box': {2: 'X', 3: 'K', 5: 'K'}}, 7: 'K', 9: 'Y', 10: 'V', 11: 'V'}}, 3: {'x2bar': {2: 'A', 3: {'x-box': {2: 'A', 3: 'A', 4: 'A', 5: 'A', 6: 'Y'}}, 4: {'x-box': {4: 'A', 5: 'S', 6: 'S', 7: 'S', 8: 'S', 9: 'S'}}, 5: 'S', 6: 'K', 7: {'x-bar': {8: 'O', 3: 'K', 4: 'K', 7: 'O'}}, 8: 'O'}}, 4: {'xybar': {6: {'y-box': {1: 'Q', 6: 'Q', 7: 'Q', 9: 'Q', 10: 'O'}}, 7: {'x-bar': {8: 'O', 3: 'K', 7: 'O'}}, 8: {'xy2br': {10: 'O', 3: 'P', 4: 'D'}}, 9: {'y-bar': {4: 'Q', 5: 'Q', 6: 'O', 7: 'O', 8: 'O', 9: 'O', 10: 'P'}}, 10: 'O', 11: {'x-box': {4: 'P', 6: 'S'}}, 12: 'A', 13: 'S'}}, 5: {'x2bar': {2: 'A', 3: {'x2ybr': {3: 'R', 4: 'R', 5: 'H', 6: 'H', 7: 'H', 8: 'P', 9: 'H'}}, 4: {'xy2br': {4: 'D', 5: 'D', 6: 'D', 7: 'R', 9: 'H'}}, 5: 'D', 6: {'x-box': {2: 'H', 3: 'D', 4: 'D'}}, 7: {'onpix': {2: 'O', 3: 'O', 4: 'O', 5: 'D'}}, 8: {'xegvy': {8: 'O', 9: 'D', 7: 'N'}}, 9: 'O'}}, 6: {'xy2br': {3: 'D', 4: {'x-box': {2: 'D', 3: 'D', 4: 'D', 6: 'T', 7: 'T'}}, 5: {'x2bar': {1: 'F', 2: 'F', 3: 'T', 4: 'D', 5: 'D', 6: 'D', 7: 'D', 8: 'N', 9: 'D'}}, 6: {'xybar': {7: 'H', 9: 'D', 10: 'D', 11: 'D', 12: 'F'}}, 7: {'x-bar': {6: 'N', 7: 'H', 8: 'H', 9: 'H', 10: 'D', 11: 'I', 12: 'I'}}, 8: {'x2bar': {2: 'H', 3: 'H', 5: 'H', 6: 'H', 7: 'H', 8: 'O'}}, 9: {'x2bar': {1: 'K', 3: 'H', 4: 'H', 5: 'H', 6: 'H', 9: 'O'}}, 10: {'x2bar': {1: 'K', 4: 'K', 5: 'U', 6: 'H', 8: 'C'}}, 11: {'onpix': {3: 'K', 4: 'K', 5: 'K', 6: 'H', 8: 'K'}}}}, 7: {'xy2br': {4: {'x-box': {3: 'D', 4: 'D', 5: 'T', 7: 'T'}}, 5: 'D', 6: {'x2ybr': {2: 'D', 3: 'D', 4: 'D', 5: 'D', 6: 'D', 7: 'H'}}, 7: {'x-box': {8: 'H', 3: 'H', 4: 'R', 5: 'H'}}, 8: {'x2bar': {1: 'K', 2: 'K', 3: 'H', 5: 'U', 6: 'H'}}, 9: {'x-bar': {3: 'X', 4: 'U', 5: 'U', 6: 'H', 7: 'H', 8: 'H'}}, 10: {'x2bar': {1: 'K', 2: 'K', 6: 'C'}}, 11: 'K', 12: 'K'}}, 8: {'x2bar': {0: 'X', 1: 'X', 2: {'y-box': {4: 'X', 5: 'T', 6: 'X', 7: 'X', 8: 'X', 9: 'X', 10: 'X'}}, 3: 'D', 4: 'D', 5: {'x-box': {3: 'D', 4: 'U'}}, 6: 'U', 7: {'x-bar': {4: 'U', 5: 'U', 7: 'D'}}, 9: 'D', 11: 'D'}}, 9: {'x-box': {3: 'X', 4: 'X', 6: 'D'}}}}, 4: {'x2bar': {1: {'y2bar': {2: 'A', 5: {'x-box': {4: 'F', 5: 'A'}}, 6: {'x-bar': {8: 'K', 9: 'K', 4: 'Y', 7: 'K'}}, 7: {'yegvx': {6: 'X', 7: 'K', 8: 'K', 9: 'L', 11: 'E'}}, 8: {'xybar': {9: 'Y', 10: 'X', 11: 'E'}}, 9: {'x-box': {4: 'X', 5: 'X', 6: 'X', 7: 'X', 8: 'T'}}}}, 2: {'x2ybr': {0: 'X', 1: {'y2bar': {3: 'A', 4: 'A', 5: 'A', 8: 'X', 9: 'X'}}, 2: {'y-box': {9: 'A', 10: 'A', 7: 'X', 15: 'S'}}, 3: {'high': {4: 'X', 5: 'K', 6: 'B'}}, 4: {'x-box': {8: 'A', 5: 'X', 6: 'A', 7: 'X'}}, 5: {'x-box': {2: 'J', 4: 'E', 5: 'P', 6: 'P'}}, 6: {'x-box': {3: 'E', 4: 'E', 5: 'E', 6: 'H'}}, 7: 'E', 8: {'x-box': {5: 'E', 7: 'K'}}, 9: {'width': {9: 'X', 10: 'K', 5: 'T', 6: 'T'}}, 10: {'y-box': {4: 'Y', 5: 'Y', 7: 'K', 10: 'X', 11: 'K'}}, 11: {'y-box': {9: 'X', 7: 'K'}}, 12: 'X'}}, 3: {'x2ybr': {1: {'x-box': {4: 'R', 5: 'A'}}, 2: {'y-bar': {1: 'A', 2: 'A', 3: 'S', 6: 'X', 7: 'R'}}, 3: {'x-bar': {9: 'R', 10: 'R', 11: 'X', 12: 'Q'}}, 4: {'y2bar': {0: 'A', 1: 'A', 2: 'A', 4: 'P', 5: 'R', 6: 'B', 8: 'Z'}}, 5: {'y-box': {4: 'R', 6: 'K'}}, 6: {'x-box': {1: 'X', 3: 'B', 5: 'L'}}, 7: {'x-bar': {10: 'L', 5: 'S', 6: 'Y', 7: 'Y'}}, 8: {'x-box': {4: 'E', 5: 'Y', 6: 'Y', 7: 'S'}}, 9: {'xybar': {10: 'H', 11: 'E'}}, 10: {'x-box': {4: 'V', 5: 'K'}}, 11: {'x-box': {4: 'K', 6: 'K', 7: 'V'}}, 12: 'X'}}, 4: {'x2ybr': {1: 'A', 2: {'x-box': {3: 'R', 5: 'S', 6: 'I'}}, 3: {'y-bar': {4: 'Q', 5: 'O', 6: 'O', 7: 'R', 8: 'R'}}, 4: {'y-bar': {8: 'R', 9: 'R', 5: 'O', 7: 'R'}}, 5: {'y2bar': {5: 'R', 6: 'R', 7: 'D'}}, 6: {'yegvx': {8: 'X', 9: 'K', 10: 'K', 7: 'J'}}, 7: {'x-box': {8: 'S', 4: 'J', 6: 'Y'}}, 8: {'width': {6: 'Y', 7: 'S'}}, 9: {'x-box': {9: 'H', 5: 'E'}}, 10: 'E'}}, 5: {'xy2br': {4: {'x-box': {4: 'D', 6: 'P'}}, 5: 'D', 6: {'x-box': {4: 'R', 6: 'D'}}, 7: {'y-bar': {5: 'O', 6: 'G', 7: 'R'}}, 8: {'onpix': {1: 'X', 2: 'X', 3: 'G', 4: 'R'}}, 9: 'G', 10: {'y-box': {1: 'G', 4: 'Q', 7: 'K'}}, 14: 'C'}}, 6: {'xybar': {6: 'G', 7: {'onpix': {1: 'X', 2: 'H', 3: 'G', 4: 'G', 5: 'P', 7: 'H', 8: 'H', 9: 'H'}}, 8: {'x-bar': {8: 'J', 9: 'J', 5: 'C'}}, 9: {'y2bar': {3: 'Q', 4: 'Q', 5: 'O', 6: 'D', 7: 'D'}}, 10: {'y-box': {8: 'P', 11: 'G'}}, 12: 'C', 13: {'x-box': {6: 'C', 7: 'I'}}, 14: 'P'}}, 7: {'xybar': {5: {'x-box': {3: 'Q', 6: 'G'}}, 6: {'y-box': {8: 'Q', 1: 'Q', 5: 'Q', 6: 'P'}}, 7: {'y2bar': {5: 'U', 6: 'T', 7: 'H'}}, 8: {'x-box': {3: 'C', 6: 'J'}}, 9: {'xy2br': {8: 'Q', 9: 'O', 3: 'P', 7: 'O'}}, 10: {'y-box': {8: 'D', 10: 'P', 11: 'P', 6: 'O'}}, 11: 'D'}}, 8: {'xy2br': {2: 'D', 3: 'D', 4: 'D', 5: 'D', 6: 'O', 7: 'O', 8: {'xybar': {10: 'O', 5: 'Q', 6: 'Q', 7: 'O'}}, 9: {'yegvx': {5: 'U', 6: 'U', 7: 'O', 8: 'O', 9: 'Q'}}, 10: {'onpix': {2: 'O', 3: 'Q', 4: 'O', 5: 'Q', 6: 'U'}}, 11: 'O', 12: 'G'}}, 9: {'x-bar': {5: 'D', 6: 'O', 7: {'y-bar': {5: 'Q', 6: 'O', 7: 'O', 8: 'O', 9: 'O', 10: 'O'}}, 8: {'y-bar': {8: 'O', 5: 'Q', 6: 'O', 7: 'O'}}, 9: {'y-bar': {8: 'O', 9: 'O', 6: 'Q', 7: 'O'}}}}, 10: 'D', 11: 'D'}}, 5: {'xybar': {3: 'Q', 4: {'y-box': {8: 'G', 5: 'Q', 6: 'Q', 7: 'Q'}}, 5: {'y-box': {2: 'Q', 3: 'Q', 4: 'Q', 5: 'Q', 6: 'Q', 7: {'high': {9: 'Q', 5: 'U', 6: 'Q', 7: 'Q'}}, 8: 'Q', 9: {'x-box': {4: 'Q', 5: 'G'}}, 10: 'Q'}}, 6: {'x2bar': {2: 'Y', 3: 'K', 4: {'x2ybr': {3: 'Q', 4: 'D', 5: 'R', 6: 'K'}}, 5: {'xy2br': {8: 'R', 9: 'E', 10: 'K', 7: 'R'}}, 6: {'x-box': {3: 'R', 4: 'E'}}, 7: {'x-bar': {5: 'R', 6: 'G', 7: 'Q', 8: 'Q', 9: 'Q'}}, 8: {'yegvx': {9: 'Q', 10: 'Q', 6: 'U', 7: 'G'}}, 9: {'onpix': {8: 'U', 3: 'Q', 5: 'D', 7: 'L'}}, 10: 'R'}}, 7: {'x2ybr': {2: {'x-box': {4: 'R', 5: 'R', 6: 'S'}}, 3: {'x-box': {3: 'R', 4: 'R', 6: 'Q'}}, 4: {'onpix': {2: 'R', 3: 'R', 4: 'R', 5: 'H', 6: 'D'}}, 5: {'x2bar': {2: 'X', 4: 'R', 5: 'R', 6: 'R', 7: 'G', 9: 'R', 11: 'R'}}, 6: {'xy2br': {6: 'R', 7: 'R', 8: 'R', 9: 'K', 10: 'K', 11: 'K', 12: 'K', 13: 'K'}}, 7: {'xegvy': {6: 'Q', 7: 'G', 8: 'K', 9: 'K', 10: 'T'}}, 8: {'y-box': {10: 'Y', 7: 'T'}}, 9: {'onpix': {3: 'Q', 5: 'T', 6: 'Q'}}, 10: 'Y'}}, 8: {'yegvx': {3: 'Y', 5: 'J', 6: {'x-box': {1: 'I', 2: 'I', 3: 'I', 4: 'O', 6: 'O'}}, 7: {'y-box': {5: 'Q', 6: 'I', 7: 'I', 8: 'O', 9: 'I', 10: 'I'}}, 8: {'x2bar': {3: 'S', 4: 'S', 5: 'Q', 6: 'Q', 8: 'G'}}, 9: {'y2bar': {4: 'O', 5: 'R', 6: 'T', 7: 'T'}}, 10: 'R', 11: {'y-box': {6: 'H', 7: 'R', 8: 'R', 11: 'R', 13: 'S'}}}}, 9: {'xy2br': {4: 'I', 5: {'x-box': {2: 'I', 5: 'A', 7: 'Y'}}, 6: {'high': {3: 'B', 6: 'B', 7: 'Y', 8: 'B', 12: 'J'}}, 7: {'x-box': {3: 'Q', 4: 'R', 5: 'R'}}, 8: {'onpix': {2: 'S', 3: 'S', 4: 'O', 5: 'O', 6: 'R'}}, 9: {'high': {4: 'O', 5: 'S', 6: 'Q', 8: 'Q', 9: 'Q', 10: 'Q'}}, 10: {'high': {8: 'L', 5: 'O', 7: 'Q'}}, 11: 'Q', 12: 'G'}}, 10: {'yegvx': {3: 'Y', 4: 'Y', 5: {'x-box': {8: 'S', 6: 'E', 7: 'S'}}, 6: 'S', 7: 'E', 8: {'y-box': {11: 'C', 13: 'T', 6: 'B'}}, 9: {'width': {8: 'B', 9: 'S', 4: 'B', 6: 'G'}}, 10: 'B', 11: {'x-box': {4: 'B', 5: 'B', 7: 'R'}}, 12: 'Q'}}, 11: {'xy2br': {4: 'T', 5: 'T', 7: {'x-box': {8: 'I', 7: 'T'}}, 8: 'E', 9: {'yegvx': {4: 'S', 5: 'E', 6: 'E', 8: 'E', 9: 'E', 10: 'E', 11: 'E', 14: 'Q'}}, 10: 'Q', 12: 'G', 13: {'x-box': {5: 'C', 6: 'G'}}}}, 12: {'y2bar': {3: 'A', 4: 'P', 5: 'I', 6: 'T', 7: {'y-box': {11: 'G', 13: 'T', 14: 'T', 15: 'T'}}, 8: {'y-box': {8: 'E', 10: 'E', 12: 'Z', 7: 'E'}}, 9: 'E'}}, 13: {'width': {4: 'I', 5: 'I', 6: 'P'}}}}, 6: {'y2bar': {1: 'Q', 2: {'y-bar': {6: 'Q', 7: 'Q', 8: 'Q', 9: 'Q', 11: 'Q', 12: 'H'}}, 3: {'yegvx': {6: 'Y', 7: 'Q', 8: {'high': {4: 'G', 6: 'Q', 7: 'Q', 8: 'Q', 9: 'Q', 10: 'Q', 11: 'Q'}}, 9: {'high': {5: 'Q', 6: 'Q', 7: 'Q', 9: 'Q', 11: 'J', 12: 'J', 13: 'J'}}, 10: {'width': {3: 'J', 4: 'Q', 5: 'Q', 7: 'Q'}}, 11: 'R', 12: 'R'}}, 4: {'yegvx': {4: 'A', 5: {'y-box': {8: 'B', 5: 'F'}}, 6: {'y-box': {11: 'A', 5: 'O', 6: 'O'}}, 7: {'x-box': {8: 'S', 5: 'Q', 7: 'F'}}, 8: {'high': {8: 'Q', 9: 'Q', 11: 'Q', 6: 'B'}}, 9: {'y-box': {7: 'J', 8: 'Z', 10: 'L', 11: 'L', 12: 'F', 15: 'L'}}, 10: {'y-box': {6: 'Q', 7: 'H', 8: 'Q', 9: 'Q', 11: 'R'}}, 11: {'x-box': {3: 'R', 4: 'R', 5: 'R', 7: 'I'}}, 12: 'R', 13: 'R'}}, 5: {'xy2br': {4: 'I', 5: {'x-box': {2: 'J', 4: 'A', 6: 'F'}}, 6: {'y-box': {5: 'Z', 6: 'D', 7: 'B', 8: 'B', 11: 'B', 12: 'I'}}, 7: {'yegvx': {4: 'Z', 5: 'Z', 7: 'Z', 8: 'B', 9: 'R', 11: 'R'}}, 8: {'x-bar': {5: 'R', 6: 'R', 7: 'R', 8: 'Q', 11: 'Q', 12: 'Q'}}, 9: {'x-box': {3: 'Q', 4: 'R', 5: 'Q', 6: 'Q'}}, 10: 'L', 11: {'x-box': {3: 'C', 5: 'L', 6: 'L', 7: 'L'}}, 12: 'L', 13: 'L'}}, 6: {'x2bar': {2: 'X', 3: {'yegvx': {8: 'L', 9: 'S', 10: 'I', 11: 'I', 13: 'Q'}}, 4: {'onpix': {3: 'Q', 5: 'B', 6: 'R', 7: 'B'}}, 5: {'xegvy': {6: 'R', 7: 'R', 8: 'B', 9: 'B', 10: 'T'}}, 6: {'x-box': {3: 'R', 4: 'R', 5: 'R', 7: 'G'}}, 7: {'x-box': {3: 'Q', 6: 'G'}}, 8: {'y-box': {8: 'L', 9: 'Q', 5: 'Q', 6: 'Q'}}, 10: 'R'}}, 7: {'xybar': {5: 'Q', 6: {'x-box': {4: 'K', 5: 'Q'}}, 7: {'x-box': {2: 'T', 3: 'T', 4: 'T', 6: 'R'}}, 9: 'B', 10: {'y-box': {8: 'B', 10: 'Q', 11: 'B'}}, 11: {'x-box': {4: 'E', 6: 'B'}}, 12: 'T'}}, 8: {'x2bar': {2: 'Z', 3: 'X', 4: {'x-bar': {8: 'X', 5: 'K', 6: 'T', 7: 'X'}}, 5: {'width': {4: 'E', 5: 'E', 6: 'K'}}, 6: 'E', 7: 'E'}}, 9: {'x2bar': {2: 'Z', 3: {'x-box': {9: 'T', 2: 'X', 3: 'X', 4: 'X'}}, 4: 'X', 5: 'E', 6: 'E', 7: 'E'}}, 10: {'y-box': {11: 'E', 5: 'X', 6: 'E', 7: 'E'}}}}, 7: {'y2bar': {1: 'Y', 2: {'y-bar': {6: 'G', 8: 'Y', 9: 'Y', 11: 'H', 12: 'H'}}, 3: {'high': {4: 'E', 5: 'G', 6: {'x-bar': {8: 'E', 7: 'F'}}, 7: 'Q', 9: 'Q', 10: {'x-box': {4: 'Q', 6: 'J', 7: 'Q'}}, 11: 'Q', 15: 'J'}}, 4: {'x2bar': {2: 'X', 3: {'high': {5: 'F', 7: 'F', 9: 'Q', 10: 'J', 11: 'J', 12: 'J', 14: 'J'}}, 4: {'x-bar': {8: 'J', 9: 'D', 6: 'K'}}, 5: {'y-bar': {6: 'L', 7: 'E', 8: 'Q', 9: 'I', 10: 'S'}}, 6: 'P', 7: {'high': {8: 'P', 9: 'H', 6: 'A', 7: 'P'}}, 8: {'x-box': {4: 'R', 5: 'Q', 6: 'R'}}}}, 5: {'x2bar': {2: {'x-box': {3: 'X', 4: 'X', 5: 'X', 7: 'F'}}, 3: {'x-box': {3: 'Z', 4: 'E', 5: 'Z', 6: 'F', 8: 'L'}}, 4: {'y-bar': {3: 'Q', 4: 'Q', 5: 'E', 7: 'L', 9: 'E'}}, 5: {'x-box': {3: 'L', 5: 'F', 6: 'H', 8: 'E', 9: 'E'}}, 6: {'y-box': {8: 'B', 6: 'H'}}, 7: {'x2ybr': {5: 'H', 6: 'A', 7: 'P'}}, 8: {'width': {4: 'B', 5: 'H', 6: 'A', 7: 'H'}}}}, 6: {'yegvx': {6: 'I', 7: {'x-box': {3: 'X', 6: 'L'}}, 8: {'x2bar': {3: 'L', 4: 'L', 5: 'B', 6: 'B'}}, 9: {'y-bar': {8: 'B', 9: 'L', 6: 'B', 7: 'B'}}, 10: {'x-box': {5: 'Z', 6: 'B'}}, 11: 'Z', 12: 'Q', 13: 'Q'}}, 7: {'xybar': {7: 'T', 8: 'T', 9: 'B', 10: 'Q', 11: 'Q', 12: 'Z'}}, 8: {'xybar': {5: 'X', 6: 'X', 7: 'T', 8: 'T', 9: 'T', 12: 'Z'}}, 9: {'y-bar': {5: 'Z', 6: 'Z', 7: 'X', 8: 'X', 9: 'Z'}}, 10: 'X'}}, 8: {'yegvx': {3: {'width': {8: 'Y', 5: 'Z', 6: 'Y', 7: 'A'}}, 4: {'x2bar': {8: 'A', 5: 'Z', 6: 'Y', 7: 'Y'}}, 5: {'y-bar': {5: 'Y', 7: 'Y', 8: 'A', 9: 'J', 11: 'Z'}}, 6: {'y2bar': {2: 'H', 4: 'J', 5: 'I', 6: 'X', 8: 'T', 9: {'x-box': {5: 'Z', 6: 'T'}}}}, 7: {'onpix': {3: 'G', 4: 'I', 5: {'y-box': {8: 'B', 5: 'J', 6: 'I', 7: 'B'}}, 6: {'width': {5: 'X', 6: 'I'}}, 7: {'high': {8: 'T', 10: 'H', 6: 'E'}}, 8: 'Z'}}, 8: {'y2bar': {3: 'G', 4: {'x-box': {3: 'I', 5: 'C'}}, 5: {'x2bar': {2: 'X', 3: 'X', 4: 'I', 5: 'L'}}, 6: {'high': {8: 'L', 5: 'I', 6: 'J'}}, 7: 'J', 9: 'Z'}}, 9: {'y-box': {4: 'J', 5: {'y-bar': {9: 'J', 7: 'I'}}, 6: 'J', 7: 'I', 9: {'x-box': {4: 'C', 5: 'L', 6: 'E'}}, 10: {'x-box': {8: 'J', 4: 'K', 6: 'P', 7: 'P'}}, 11: 'P', 12: 'E', 15: 'E'}}, 10: {'high': {4: {'x-box': {3: 'F', 4: 'C'}}, 5: 'F', 6: {'y-box': {9: 'K', 5: 'J'}}, 7: 'F', 8: 'B', 9: 'L', 10: 'Z'}}, 11: {'x2ybr': {3: 'Q', 4: 'Q', 5: {'x-box': {4: 'E', 5: 'F', 6: 'E', 7: 'E', 9: 'E'}}, 6: {'y-box': {5: 'L', 6: 'F', 7: 'F', 8: 'L', 9: 'L', 11: 'F', 13: 'E'}}, 7: {'x-box': {3: 'L', 4: 'L', 7: 'C'}}, 8: 'C'}}, 12: {'x-box': {3: 'H', 5: 'Q'}}}}, 9: {'x2bar': {3: {'y2bar': {1: 'S', 2: 'S', 3: 'S', 5: 'X'}}, 4: {'xybar': {6: 'J', 7: {'x-box': {3: 'J', 4: 'J', 6: 'L'}}, 8: {'x-box': {4: 'S', 5: 'G'}}, 9: {'x-box': {8: 'C', 9: 'Q'}}, 10: {'y-bar': {8: 'E', 5: 'Q', 6: 'Q'}}, 11: 'Q'}}, 5: {'y2bar': {3: 'Z', 4: {'y-box': {5: 'J', 6: 'Z', 8: 'Z', 9: 'Z', 11: 'Z'}}, 5: {'y-bar': {8: 'I', 9: 'I', 5: 'Z', 6: 'Z'}}, 6: 'I', 7: 'Q', 8: 'Q', 10: 'Z'}}, 6: {'y-bar': {5: 'Y', 7: 'Y', 8: 'Y', 9: 'F', 10: 'Z'}}, 7: {'yegvx': {4: 'Y', 5: 'Y', 7: 'S', 8: 'S', 11: 'B'}}, 9: 'B', 10: 'B'}}, 10: {'xybar': {5: 'Y', 6: {'y-box': {6: 'B', 7: 'I', 8: 'X', 9: 'Z', 10: 'X', 11: 'B'}}, 7: {'y-box': {8: 'Z', 9: 'T', 10: 'Z', 7: 'Z'}}, 8: 'S', 9: 'G', 11: 'Z', 12: 'Z'}}, 11: {'onpix': {4: 'Z', 5: 'Z', 6: 'Z', 7: 'S', 8: 'S', 9: 'S', 10: 'S', 11: 'S'}}, 12: {'x-box': {9: 'Z', 4: 'S', 6: 'S', 7: 'Z'}}, 13: {'x-box': {9: 'Z', 10: 'Z', 4: 'S'}}, 14: {'x-box': {9: 'Z', 4: 'S', 7: 'Z'}}, 15: 'S'}}, 4: {'y-ege': {0: {'xybar': {5: 'N', 6: 'N', 7: 'W', 10: 'N', 11: 'N'}}, 1: {'xybar': {3: 'L', 6: 'U', 7: 'N', 8: {'x-box': {1: 'N', 2: 'N', 3: 'T', 4: 'V', 6: 'V'}}, 9: 'V', 10: 'N'}}, 2: {'xegvy': {5: 'A', 6: {'x-box': {3: 'J', 4: 'L'}}, 7: {'high': {8: 'U', 3: 'K', 4: 'D', 5: 'N'}}, 8: {'width': {3: 'K', 4: 'K', 5: 'K', 6: 'K', 7: 'U'}}, 9: {'x-box': {2: 'N', 3: 'F', 4: 'V'}}, 10: 'V', 11: {'x-box': {9: 'V', 3: 'P', 5: 'V', 6: 'V'}}, 12: 'V'}}, 3: {'x-bar': {2: 'K', 3: {'x-box': {9: 'X', 3: 'K', 4: 'K', 5: 'K'}}, 4: {'xegvy': {7: 'K', 8: 'K', 9: 'X', 10: 'Y', 11: 'U'}}, 5: {'y-box': {6: 'F', 7: 'P', 9: {'x-box': {5: 'K', 6: 'P'}}, 10: 'X', 11: 'Y'}}, 6: {'x2bar': {2: 'K', 3: 'F', 4: 'P', 5: {'x-box': {4: 'U', 7: 'V'}}, 6: 'V'}}, 7: {'xybar': {5: 'C', 6: 'V', 7: 'D', 8: 'D', 9: 'D', 10: 'H', 13: 'F'}}, 8: {'xybar': {4: 'N', 5: 'V', 6: 'U', 7: {'x-box': {3: 'A', 4: 'O'}}, 8: 'K'}}, 9: {'x2ybr': {2: 'K', 4: 'D', 8: 'A', 10: 'V', 11: 'V'}}, 10: {'y-bar': {2: 'A', 3: 'A', 4: 'A', 5: 'D', 7: 'R'}}, 11: 'A', 12: {'x-box': {5: 'D', 6: 'A'}}}}, 4: {'x2bar': {1: {'y2bar': {2: 'A', 5: 'F', 6: 'K', 7: 'K', 8: 'X'}}, 2: {'xybar': {4: 'A', 6: 'A', 7: 'A', 8: 'A', 9: {'x-box': {3: 'K', 6: 'X', 7: 'X', 8: 'X', 9: 'X', 10: 'X', 11: 'X'}}, 10: {'onpix': {3: 'K', 4: 'X', 5: 'K', 6: 'K', 7: 'K', 8: 'H'}}, 11: {'onpix': {3: 'X', 4: 'X', 5: 'X', 6: 'D', 7: 'T'}}, 12: 'F', 13: 'F'}}, 3: {'y2bar': {1: 'A', 3: {'x-box': {4: 'A', 7: 'G'}}, 4: {'x-box': {2: 'P', 5: 'H', 6: 'G'}}, 5: {'x-box': {4: 'J', 5: 'Q'}}, 6: {'x-bar': {4: 'H', 5: 'H', 6: 'P', 8: 'H', 9: 'H', 10: 'D', 11: 'R'}}, 7: {'x-bar': {2: 'K', 3: 'K', 4: 'K', 9: 'R', 10: 'D', 11: 'D'}}, 8: 'X', 9: {'x-box': {11: 'X', 6: 'D', 7: 'X'}}}}, 4: {'yegvx': {4: {'x-box': {9: 'Y', 5: 'T', 6: 'Y', 7: 'Y'}}, 5: {'x-box': {9: 'Y', 3: 'A'}}, 6: 'Y', 7: 'P', 8: {'x-box': {10: 'S', 3: 'P', 4: 'Q'}}, 9: {'x-box': {5: 'D', 6: 'H', 7: 'G'}}, 10: {'y-box': {8: 'H', 9: 'D', 12: 'D'}}, 11: {'x-box': {5: 'A', 6: 'R'}}}}, 5: {'x2ybr': {3: 'S', 4: 'P', 5: {'x-box': {5: 'D', 7: 'P'}}, 6: 'P', 7: {'x-box': {3: 'V', 5: 'U'}}, 8: 'P', 9: 'Y', 10: 'V', 12: 'Y'}}, 6: {'xybar': {6: 'G', 8: {'x-box': {6: 'J', 7: 'U'}}, 9: 'O', 10: 'P', 11: 'P', 12: 'P', 13: {'x-box': {9: 'P', 7: 'C'}}, 14: 'P'}}, 7: {'xybar': {5: 'G', 7: {'x-box': {4: 'C', 7: 'D'}}, 9: 'O', 10: 'O', 14: 'P'}}, 8: {'xy2br': {4: 'D', 5: 'O', 6: 'N', 7: 'O', 8: {'x-box': {4: 'C', 6: 'O'}}, 9: {'x2ybr': {5: 'Q', 6: 'C', 7: 'U'}}, 11: {'x-box': {4: 'O', 5: 'C', 6: 'C', 7: 'C'}}}}, 9: {'y-box': {9: 'D', 10: 'C', 11: 'N'}}, 10: 'N'}}, 5: {'xy2br': {3: 'P', 4: {'y2bar': {2: 'G', 3: 'P', 4: 'P', 5: 'D', 6: 'Y', 7: 'D', 8: 'D'}}, 5: {'y-box': {4: 'P', 6: 'Y', 7: 'Y', 8: 'T', 9: {'width': {5: 'P', 7: 'F'}}, 10: {'x-box': {5: 'G', 6: 'D'}}, 11: 'T', 13: {'onpix': {3: 'G', 4: 'Y', 5: 'P'}}, 15: 'Y'}}, 6: {'xegvy': {5: 'A', 7: 'G', 8: {'y2bar': {3: 'J', 4: 'B', 5: 'O', 6: 'O', 7: 'D'}}, 9: {'x-box': {8: 'O', 4: 'O', 5: 'F'}}, 10: {'high': {8: 'P', 13: 'Y', 10: 'P', 5: 'F'}}, 11: 'Y'}}, 7: {'xybar': {5: 'A', 6: {'high': {4: 'B', 6: 'D', 7: 'B'}}, 7: 'B', 8: {'x-box': {3: 'J', 6: 'O'}}, 9: {'x-box': {5: 'V', 6: 'D'}}, 10: {'x2bar': {2: 'B', 3: 'B', 4: 'R', 5: 'G', 8: 'O'}}, 11: {'x-box': {2: 'B', 3: 'B', 6: 'B', 7: 'G'}}}}, 8: {'yegvx': {5: 'D', 6: 'O', 7: {'x-box': {3: 'H', 5: 'Q', 6: 'Q'}}, 8: {'y-box': {9: 'O', 10: 'K', 7: 'X'}}, 9: {'x-bar': {8: 'S', 9: 'O', 10: 'G', 6: 'V'}}, 10: {'x-bar': {8: 'K', 9: 'K', 10: 'H', 7: 'O'}}, 11: {'x-box': {4: 'R', 5: 'R', 6: 'E'}}, 12: 'R'}}, 9: {'x2bar': {1: {'x-box': {4: 'K', 6: 'E'}}, 2: {'x-box': {8: 'K', 4: 'K', 5: 'L'}}, 3: 'H', 4: {'x-box': {8: 'S', 6: 'Q'}}, 5: {'x-box': {9: 'S', 4: 'R', 5: 'O', 6: 'R'}}, 6: 'O', 8: 'O', 9: 'O'}}, 10: {'yegvx': {5: 'O', 6: {'y-box': {8: 'U', 10: 'O', 5: 'O', 7: 'L'}}, 7: 'R', 9: {'x2bar': {2: 'K', 4: 'K', 5: 'K', 6: 'G'}}, 11: 'S'}}, 11: 'K', 12: {'y-box': {9: 'U', 10: 'G', 5: 'Q', 15: 'A'}}, 13: 'C', 14: {'x-box': {4: 'C', 6: 'C', 7: 'A'}}}}, 6: {'xy2br': {3: 'P', 4: {'x2bar': {4: 'P', 5: 'P', 6: 'G', 7: 'D'}}, 5: {'x-box': {3: 'J', 5: 'J', 6: 'Y', 7: 'Y', 8: 'Y', 9: 'Y'}}, 6: {'yegvx': {3: 'Y', 4: 'J', 5: {'x-box': {2: 'J', 4: 'B', 5: 'D'}}, 6: {'x-box': {4: 'B', 6: 'Y'}}, 7: {'x-box': {4: 'B', 7: 'Y'}}, 8: {'x-box': {3: 'P', 6: 'B'}}, 9: {'x-box': {6: 'B', 7: 'F'}}, 10: 'D'}}, 7: {'width': {4: {'y-bar': {8: 'J', 5: 'L', 6: 'R', 7: 'D'}}, 5: {'y-box': {5: 'B', 6: 'D', 7: 'R', 8: 'B', 9: 'Q', 11: 'Q'}}, 6: {'y-box': {8: 'B', 6: 'X', 15: 'S'}}, 7: {'y-box': {8: 'B', 9: 'O', 10: 'B', 11: 'B'}}, 8: {'x-bar': {5: 'Q', 7: 'B', 9: 'B', 11: 'B', 12: 'Q'}}, 9: {'x-box': {8: 'S', 6: 'R', 7: 'R'}}, 10: 'Q', 11: 'Q'}}, 8: {'y-bar': {4: {'x-box': {8: 'S', 6: 'Q'}}, 5: {'y-box': {8: 'R', 5: 'K', 6: 'K'}}, 6: {'high': {5: 'E', 6: 'J', 7: 'D'}}, 7: {'high': {8: 'O', 5: 'Q', 6: 'T', 7: 'T'}}, 9: 'K'}}, 9: {'y2bar': {1: 'Y', 2: 'Y', 3: {'y-box': {8: 'Q', 6: 'K', 7: 'G'}}, 4: 'R', 5: 'Q', 6: {'x-box': {4: 'Q', 5: 'R'}}, 7: {'y-box': {10: 'T', 11: 'K', 7: 'D'}}, 8: 'E'}}, 10: {'x-bar': {8: 'Q', 9: 'G', 10: 'L', 5: 'R'}}, 11: {'y-box': {8: 'Q', 9: 'Q', 6: 'C'}}, 12: {'x-box': {9: 'L', 6: 'G'}}, 13: 'G', 15: 'C'}}, 7: {'yegvx': {3: 'Y', 4: {'x-box': {3: 'D', 4: 'I'}}, 5: {'xybar': {8: 'F', 9: 'J', 11: 'F', 7: 'D'}}, 6: {'xy2br': {4: 'F', 5: 'Y', 6: {'x-box': {3: 'D', 4: 'D', 6: 'B'}}, 7: 'F', 8: 'F', 9: {'x-box': {4: 'I', 5: 'T'}}, 10: {'x-box': {4: 'T', 6: 'Q'}}}}, 7: {'xegvy': {5: 'Q', 6: 'H', 7: 'G', 8: {'x2bar': {2: 'X', 3: 'J', 6: 'G'}}, 9: {'xy2br': {4: 'F', 6: 'F', 7: 'X', 8: 'T', 11: 'Q'}}, 10: {'x-box': {4: 'E', 5: 'F', 7: 'T'}}, 11: 'E'}}, 8: {'y-box': {5: 'K', 6: {'xegvy': {7: 'R', 8: 'G', 9: 'E', 10: 'C', 11: 'Y'}}, 7: {'x-box': {4: 'G', 6: 'Q'}}, 8: {'x-box': {8: 'Y', 4: 'X', 5: 'Q', 7: 'Q'}}, 9: 'G', 10: {'x-bar': {8: 'Q', 7: 'B'}}, 13: 'L', 15: {'x-box': {8: 'L', 10: 'F'}}}}, 9: {'y-box': {4: 'X', 5: {'high': {3: 'X', 5: 'C'}}, 6: 'E', 7: {'xy2br': {9: 'Q', 10: 'E', 11: 'C', 6: 'R'}}, 8: 'C', 9: {'onpix': {6: 'Q', 7: 'K'}}, 10: {'x-box': {5: 'E', 6: 'K'}}, 11: 'R', 13: {'x-box': {9: 'F', 7: 'L'}}, 15: 'L'}}, 10: {'xegvy': {6: 'R', 7: 'R', 9: {'x-box': {3: 'E', 5: 'E', 6: 'B'}}, 10: 'C', 11: 'S'}}, 11: {'x2bar': {2: 'K', 3: 'K', 4: 'C', 5: {'x-box': {5: 'K', 6: 'B'}}, 6: {'x-box': {3: 'P', 4: 'Q'}}, 7: 'R', 8: 'Q'}}, 12: {'x-box': {3: 'E', 7: 'Q'}}, 13: 'C'}}, 8: {'xy2br': {3: 'F', 4: 'F', 5: {'y-box': {7: 'H', 9: 'X', 10: 'X', 11: 'I', 12: 'F'}}, 6: {'y-box': {4: 'H', 5: 'H', 6: 'S', 7: 'R', 9: 'D', 10: {'x-box': {4: 'X', 7: 'G'}}}}, 7: {'y-box': {5: 'F', 7: 'F', 8: 'F', 9: {'x-box': {5: 'G', 6: 'X', 7: 'X'}}, 10: 'F'}}, 8: {'yegvx': {6: {'y-box': {9: 'G', 6: 'J'}}, 7: 'I', 8: {'x-box': {8: 'G', 9: 'G', 4: 'H', 6: 'X'}}, 9: 'X', 10: 'K', 11: {'high': {8: 'F', 5: 'F', 6: 'F', 7: 'P'}}, 13: 'K'}}, 9: {'y-box': {5: 'E', 6: 'E', 7: {'x-box': {4: 'E', 5: 'Y'}}, 8: {'width': {6: 'E', 7: 'Y'}}, 9: {'x-box': {4: 'X', 6: 'E'}}, 11: {'x-box': {5: 'E', 6: 'G'}}, 12: 'C', 13: 'Z', 15: 'Z'}}, 10: {'xybar': {5: 'X', 6: 'E', 7: 'E', 8: {'x-box': {4: 'S', 5: 'Q', 6: 'X', 7: 'Q', 9: 'C'}}, 9: 'C', 12: 'Z'}}, 11: {'x2bar': {3: {'x-box': {3: 'E', 5: 'E', 6: 'C'}}, 4: 'C', 5: 'Q', 6: {'high': {10: 'Q', 6: 'E', 7: 'G'}}, 7: 'E'}}}}, 9: {'y-box': {4: 'H', 5: 'S', 6: 'S', 7: {'yegvx': {4: 'A', 5: 'H', 7: 'F', 8: 'F', 9: {'x-box': {4: 'I', 5: 'F'}}, 10: 'I', 11: 'F'}}, 8: {'high': {9: 'J', 10: {'onpix': {8: 'F', 7: 'J'}}, 6: {'x-bar': {8: 'S', 9: 'S', 7: 'K'}}, 7: 'T'}}, 9: {'width': {8: 'E', 4: 'C', 7: 'X'}}, 10: {'yegvx': {4: 'Z', 8: 'G', 9: 'Q', 10: 'Q', 14: 'K'}}, 11: {'x-box': {5: 'B', 6: 'G'}}, 12: {'width': {5: 'C', 6: 'G'}}, 13: 'C', 14: {'xy2br': {11: 'C', 12: 'C', 6: 'G', 7: 'Q'}}, 15: {'x-box': {10: 'Q', 7: 'G'}}}}, 10: {'yegvx': {2: 'A', 4: {'y-box': {9: 'Z', 7: 'H'}}, 5: 'Z', 6: 'S', 7: {'x-box': {5: 'S', 6: 'Z'}}, 8: {'xegvy': {5: 'K', 6: 'K', 8: 'X', 9: 'C', 10: 'J', 11: 'X'}}, 9: {'high': {9: 'J', 4: 'S', 6: {'onpix': {8: 'S', 5: 'X', 7: 'S'}}, 7: 'K'}}, 10: {'x-box': {3: 'S', 7: 'I'}}, 11: {'x-box': {8: 'Q', 4: 'K', 5: 'J'}}, 12: 'Y'}}, 11: {'xegvy': {6: 'X', 7: {'x-box': {3: 'D', 6: 'X'}}, 8: 'I', 9: 'D', 10: {'y-box': {9: 'E', 10: 'X', 11: 'X'}}, 11: {'x-box': {5: 'Y', 6: 'J'}}}}, 12: 'S', 15: 'S'}}, 5: {'y-ege': {0: {'xegvy': {4: 'M', 6: 'M', 7: {'x-box': {8: 'N', 1: 'M', 7: 'N'}}, 8: 'N', 9: {'x-box': {1: 'W', 2: 'N', 3: 'N', 4: 'N', 5: 'N'}}, 10: 'W', 11: 'W'}}, 1: {'xegvy': {4: 'M', 5: 'M', 7: 'N', 8: 'N', 9: 'N', 10: {'x-bar': {8: 'N', 3: 'W', 4: 'W', 7: 'U'}}, 11: {'high': {1: 'W', 2: 'W', 3: 'W', 4: 'W', 5: 'W', 6: 'W', 7: 'V', 8: 'U'}}, 12: {'x-box': {8: 'V', 4: 'T'}}}}, 2: {'y-bar': {3: 'U', 4: 'U', 5: {'y-box': {6: 'M', 7: 'W', 9: 'U', 10: 'U', 11: 'U'}}, 6: 'U', 7: {'x-box': {4: 'M', 5: 'M', 7: 'U'}}, 8: {'width': {3: 'N', 4: 'N', 5: 'N', 6: 'N', 7: 'M'}}, 9: {'xy2br': {5: 'V', 6: 'N', 7: 'N', 8: 'V', 9: 'W', 10: 'N', 11: 'N'}}, 10: {'y-box': {4: 'W', 6: 'W', 8: 'F', 9: 'N', 13: 'N'}}, 11: {'x-box': {5: 'N', 6: 'V'}}, 12: 'V', 13: 'N'}}, 3: {'y-bar': {2: 'A', 3: 'A', 5: {'x-box': {8: 'U', 3: 'V', 6: 'U', 7: 'U'}}, 6: {'xy2br': {4: 'N', 7: 'U', 8: 'U', 9: 'U', 11: 'C'}}, 7: {'y-box': {1: {'high': {1: 'H', 2: 'R'}}, 5: 'A', 6: {'width': {4: 'W', 5: 'C'}}, 7: {'xy2br': {8: 'W', 9: 'G', 10: 'C', 7: 'Y'}}, 8: 'A', 9: {'width': {4: 'U', 5: 'K'}}, 10: 'J', 11: 'K', 12: 'K', 15: 'K'}}, 8: {'y-box': {6: 'A', 7: 'A', 8: 'W', 9: 'K', 10: 'K'}}, 9: {'y-box': {6: 'P', 7: 'F', 8: 'F', 9: {'x-box': {5: 'H', 7: 'V'}}, 13: 'K', 14: 'V'}}, 10: 'V', 11: {'y-box': {9: 'N', 12: 'V', 14: 'N', 15: 'V'}}, 12: 'V'}}, 4: {'x2bar': {1: 'F', 2: {'xybar': {6: 'Y', 7: 'A', 8: 'K', 9: 'D', 10: {'onpix': {3: 'K', 5: 'K', 6: 'K', 7: 'K', 8: 'H'}}, 11: {'x-box': {8: 'X', 10: 'X', 6: 'D'}}, 12: 'F', 13: 'F'}}, 3: {'xybar': {7: {'x-box': {8: 'A', 4: 'T', 5: 'A', 6: 'A'}}, 8: 'A', 9: 'K', 10: {'x-bar': {4: 'H', 7: 'H', 8: 'H', 9: 'R', 10: 'D', 11: 'H'}}, 11: {'x-box': {8: 'T', 6: 'K', 7: 'K'}}}}, 4: {'x2ybr': {1: 'K', 2: {'x-box': {8: 'K', 5: 'K', 6: 'D'}}, 3: {'x-box': {3: 'R', 6: 'A', 7: 'H'}}, 4: 'A', 5: {'x-box': {2: 'R', 4: 'A'}}, 6: {'x-box': {2: 'P', 3: 'I', 6: 'F'}}, 7: {'x-box': {2: 'V', 3: 'V', 4: 'U', 5: 'P'}}, 8: 'V', 9: 'A', 10: {'x-box': {9: 'K', 6: 'H'}}, 11: 'K'}}, 5: {'y-box': {4: {'onpix': {6: 'Q', 7: 'Y'}}, 7: {'x-box': {3: 'G', 6: 'Q'}}, 8: {'x-box': {5: 'D', 7: 'U'}}, 9: 'P', 11: {'x-box': {8: 'U', 6: 'P'}}, 12: {'x-box': {9: 'Y', 7: 'P'}}, 13: 'U', 14: 'D', 15: 'V'}}, 6: {'y-bar': {3: 'A', 4: 'D', 5: 'Y', 7: 'W', 8: {'x-box': {10: 'P', 4: 'O', 5: 'D'}}, 9: 'P', 10: 'P', 11: 'P'}}, 7: {'x-box': {8: 'Y', 9: 'P', 5: 'D', 6: 'O'}}, 8: {'xy2br': {5: 'D', 12: 'C', 13: 'C', 6: 'O'}}, 9: 'O'}}, 5: {'y2bar': {0: 'P', 1: {'x-box': {4: 'V', 5: 'A', 6: 'Q'}}, 2: {'y-bar': {2: 'A', 3: 'A', 6: 'V', 7: 'V', 9: 'P', 11: 'V'}}, 3: {'y-box': {4: 'P', 5: {'x-box': {3: 'Y', 4: 'P'}}, 6: 'P', 7: 'M', 9: 'P', 10: 'O', 11: 'A', 12: 'O'}}, 4: {'x2bar': {2: 'A', 3: {'x-box': {3: 'I', 4: 'A', 5: 'A'}}, 4: {'x-box': {9: 'Y', 4: 'N'}}, 5: 'O', 6: 'O', 7: 'O', 8: 'O'}}, 5: {'xybar': {5: 'G', 6: {'xy2br': {4: 'O', 5: 'N', 8: 'O', 9: 'T', 10: 'L'}}, 7: 'T', 8: {'x2ybr': {8: 'Y', 4: 'O', 5: 'I', 7: 'Y'}}, 9: {'y-box': {9: 'R', 10: 'O', 11: 'O', 12: 'O', 13: 'O'}}, 10: {'x-box': {9: 'O', 4: 'D'}}, 11: 'D', 12: 'D', 13: 'D', 14: 'P'}}, 6: {'xybar': {7: {'x-bar': {8: 'B', 5: 'T', 6: 'T', 7: 'T'}}, 8: {'x-box': {8: 'O', 6: 'O', 7: 'J'}}, 9: {'x-box': {5: 'P', 6: 'R'}}, 10: {'width': {8: 'R', 9: 'H', 10: 'H', 7: 'D'}}, 11: {'x-box': {6: 'R', 7: 'G'}}, 12: {'width': {5: 'D', 6: 'D', 7: 'D', 8: 'P', 10: 'P'}}, 13: 'D'}}, 7: {'x2bar': {1: 'K', 2: 'E', 3: 'H', 4: {'x-box': {4: 'T', 6: 'D'}}, 6: 'T', 8: 'C'}}, 8: {'x-bar': {9: 'F', 2: 'K', 5: 'U', 7: 'K'}}, 9: {'y-box': {9: 'U', 10: 'U', 11: 'X'}}}}, 6: {'y-box': {2: 'B', 4: {'x-box': {3: 'B', 4: 'Y'}}, 5: 'Y', 6: {'y-bar': {3: 'Q', 5: 'Q', 7: 'M', 8: 'X', 9: 'H'}}, 7: {'onpix': {4: 'L', 5: 'Q', 6: 'K', 7: {'x-box': {4: 'Y', 5: 'V'}}, 8: 'P', 9: 'P', 10: 'Y'}}, 8: {'y-bar': {6: 'K', 7: 'P', 9: {'width': {5: 'F', 6: 'P'}}, 11: 'P', 12: 'V'}}, 9: {'x2ybr': {2: 'A', 3: 'K', 4: 'R', 5: 'R', 6: {'x-box': {4: 'B', 6: 'D'}}, 11: 'Y'}}, 10: {'xy2br': {5: 'J', 6: {'x-box': {9: 'Y', 5: 'D'}}, 7: {'x-box': {5: 'D', 6: 'R'}}, 8: 'V', 9: {'x-box': {5: 'R', 7: 'O'}}, 11: 'L'}}, 11: {'y-bar': {2: 'A', 4: 'B', 5: 'A', 6: {'x-box': {6: 'D', 7: 'G'}}, 7: 'G', 8: {'x-box': {6: 'D', 7: 'Y'}}, 9: 'D', 12: 'V'}}, 12: 'D', 13: {'width': {8: 'D', 9: 'P', 6: 'D', 7: 'O'}}, 15: {'xegvy': {8: 'G', 9: 'O', 10: 'P', 7: 'D'}}}}, 7: {'yegvx': {3: {'x-box': {8: 'Y', 4: 'A', 5: 'U'}}, 4: {'y-box': {4: 'Y', 6: 'Y', 7: 'A', 8: 'A', 9: {'onpix': {6: 'O', 7: 'D'}}, 11: 'Y', 14: 'D'}}, 5: {'xy2br': {6: 'D', 7: {'x-box': {8: 'D', 4: 'Y'}}, 8: 'A', 9: {'x-box': {3: 'R', 5: 'F'}}, 11: 'Q'}}, 6: {'onpix': {4: 'D', 5: 'Y', 6: 'Q', 7: 'B', 8: 'O', 10: 'D'}}, 7: {'x2ybr': {4: {'width': {8: 'B', 5: 'D', 7: 'B'}}, 5: {'x-box': {3: 'K', 4: 'Q', 5: 'Q'}}, 6: {'xybar': {6: 'G', 7: 'M'}}, 7: {'x-box': {3: 'B', 4: 'X', 7: 'Q'}}}}, 8: {'y-box': {8: {'width': {6: 'G', 7: 'X'}}, 9: 'E', 6: 'B', 15: 'F'}}, 9: {'y2bar': {3: 'E', 4: {'onpix': {5: 'K', 6: 'M'}}, 5: {'x-box': {4: 'E', 7: 'B'}}, 6: 'B', 7: 'T', 8: 'R'}}, 10: {'xybar': {8: 'P', 10: 'B', 6: 'K', 7: 'P'}}, 11: {'high': {8: 'K', 9: 'Q', 6: 'C', 7: 'F'}}}}, 8: {'yegvx': {3: 'D', 4: 'D', 5: {'y-box': {8: 'Y', 9: 'D', 6: 'Y', 7: 'Y'}}, 6: {'width': {8: 'X', 5: 'D', 6: 'F', 7: 'Q'}}, 7: {'y2bar': {3: 'G', 4: 'K', 5: 'R', 6: 'D', 7: 'D'}}, 8: {'y-box': {5: 'H', 6: 'Y', 7: {'width': {6: 'R', 7: 'G'}}, 8: 'H', 9: {'width': {6: 'Q', 7: 'E'}}, 10: {'x-box': {4: 'L', 6: 'T'}}, 11: {'onpix': {8: 'G', 9: 'E', 6: 'X'}}, 15: 'G'}}, 9: {'xybar': {5: 'E', 6: 'K', 7: 'E', 8: 'R', 9: 'Q', 12: 'F'}}, 10: {'high': {6: 'R', 7: 'E', 8: 'E', 9: 'C', 11: 'Q'}}, 11: {'xy2br': {6: 'K', 7: 'K', 8: 'S', 9: 'E', 11: 'C'}}, 12: {'x-box': {6: 'F', 7: 'R'}}, 13: 'Q'}}, 9: {'yegvx': {5: {'y-box': {9: 'D', 5: 'Y'}}, 6: {'x2bar': {3: 'F', 5: 'D', 7: 'T'}}, 7: {'y-box': {10: 'T', 11: 'G', 7: 'J'}}, 8: {'y-bar': {4: 'E', 6: 'E', 7: {'width': {8: 'E', 6: 'E', 7: 'X'}}, 8: 'E', 9: 'F', 10: 'F'}}, 9: {'x-box': {5: 'E', 6: 'F'}}, 10: {'y-box': {10: 'L', 5: 'S'}}, 11: {'xy2br': {8: {'high': {8: 'S', 4: 'S', 6: 'F', 7: 'S'}}, 9: 'E', 10: 'C', 7: 'F'}}}}, 10: {'xegvy': {5: 'D', 7: 'K', 8: {'x-box': {4: 'S', 5: 'F'}}, 9: 'F', 10: {'x-box': {4: 'E', 5: 'S'}}, 11: {'x-box': {5: 'E', 7: 'Q'}}, 13: 'Y'}}, 11: {'yegvx': {8: 'F', 10: 'S', 7: 'T'}}, 12: {'xybar': {8: 'S', 6: 'X', 7: 'D'}}, 13: 'S', 15: 'S'}}, 6: {'y-ege': {0: {'xegvy': {5: 'M', 6: {'x-box': {1: 'M', 2: 'M', 11: 'N'}}, 8: 'N', 9: {'x-box': {8: 'N', 2: 'W', 5: 'N'}}, 10: {'high': {1: 'W', 2: 'W', 3: 'W', 4: 'U', 6: 'N'}}, 11: 'W', 12: 'W'}}, 1: {'xegvy': {2: 'M', 3: 'M', 4: 'M', 5: 'M', 6: 'M', 7: 'N', 8: {'x-box': {3: 'U', 4: {'y-box': {9: 'U', 5: 'N', 7: 'N'}}, 5: 'N', 6: 'N', 7: 'N', 8: 'N'}}, 9: {'x2bar': {2: 'N', 3: 'N', 4: 'U', 6: 'N', 13: 'N'}}, 10: {'x-bar': {2: 'W', 4: 'V', 6: 'U', 7: 'U', 8: 'U'}}, 11: 'W', 12: 'W'}}, 2: {'y-bar': {3: 'U', 4: 'U', 6: 'M', 7: {'width': {5: 'M', 6: 'V', 7: 'M', 8: 'N', 11: 'N'}}, 8: {'x-box': {3: 'N', 4: 'N', 5: 'N', 6: 'N', 7: 'V', 10: 'N'}}, 9: {'x-bar': {4: 'W', 5: 'N', 6: 'N', 7: 'N', 8: 'V'}}, 10: {'width': {8: 'N', 9: 'N', 5: 'W', 6: 'W'}}, 11: {'y-box': {4: 'W', 6: 'W', 7: 'W', 8: 'W', 9: 'N', 10: 'W', 11: 'N', 12: 'N'}}, 12: {'onpix': {4: 'V', 6: 'W'}}}}, 3: {'xybar': {2: 'U', 3: 'N', 4: 'N', 5: {'y-box': {8: 'U', 6: 'G'}}, 6: {'y-bar': {6: 'U', 7: 'D', 8: 'N', 9: 'V', 10: 'V'}}, 7: {'onpix': {2: {'x-box': {2: 'H', 6: 'V'}}, 3: {'x-box': {3: 'H', 4: 'N'}}, 4: {'x-box': {3: 'H', 4: 'D'}}, 5: {'xy2br': {5: 'D', 6: 'H', 7: 'N', 8: 'H', 9: 'D', 10: 'C'}}, 6: {'x-box': {4: 'H', 5: 'N'}}, 7: {'y-box': {8: 'W', 10: 'D', 11: 'D'}}, 8: {'y-bar': {8: 'H', 9: 'W', 7: 'D'}}, 9: 'W'}}, 8: {'y-box': {7: 'W', 8: 'C', 9: 'C', 11: 'C', 13: 'V', 15: 'V'}}, 9: {'y-box': {9: 'K', 10: 'K', 11: 'V', 12: 'K', 13: 'K', 15: 'K'}}, 10: {'x-box': {4: 'F', 12: 'K'}}, 11: 'M'}}, 4: {'y2bar': {0: 'Q', 1: 'P', 2: {'onpix': {3: 'A', 4: 'A', 6: 'W', 7: 'W', 9: 'W', 10: 'V'}}, 3: {'y-bar': {8: {'x-box': {4: 'N', 5: 'W'}}, 5: 'G', 7: 'W'}}, 4: {'y-box': {5: 'N', 6: 'N', 8: 'C', 9: 'H', 10: 'J', 12: 'V', 14: 'V'}}, 5: {'x2ybr': {2: 'R', 3: 'H', 5: 'H', 6: 'C', 7: {'y-box': {9: 'H', 11: 'U', 14: 'U'}}, 10: 'V'}}, 6: {'x-box': {3: 'H', 4: 'R', 5: {'y-box': {10: 'U', 7: 'L'}}, 6: 'F', 7: {'y-box': {9: 'K', 10: 'A', 12: 'K', 13: 'K'}}, 8: {'x-bar': {8: 'K', 9: 'K', 10: 'H', 6: 'K'}}, 9: {'y-box': {12: 'K', 13: 'U'}}, 10: {'y-box': {14: 'V', 15: 'K'}}}}, 7: {'xybar': {6: 'K', 7: 'H', 8: 'H', 9: 'K', 11: 'R'}}, 8: {'onpix': {3: 'K', 4: 'U', 5: 'D', 6: 'U'}}}}, 5: {'xy2br': {4: 'D', 5: {'x-box': {3: 'I', 5: 'F', 6: 'F'}}, 6: {'x-bar': {5: 'F', 6: 'P', 7: 'R', 8: 'H', 9: 'U', 10: 'F', 11: 'R'}}, 7: {'y-box': {5: {'x-box': {2: 'P', 3: 'R', 4: 'N', 5: 'P'}}, 6: {'x-box': {3: 'H', 4: 'N', 5: 'N'}}, 7: {'y-bar': {9: 'N', 6: 'H', 7: 'B'}}, 8: {'x-box': {4: 'P', 7: 'N'}}, 9: 'H', 10: 'E', 11: {'x-box': {8: 'H', 5: 'R', 6: 'H', 7: 'H'}}, 12: 'H', 13: 'H'}}, 8: {'y2bar': {2: 'W', 3: {'high': {4: 'R', 5: 'N', 6: 'R', 7: 'P', 8: 'W'}}, 4: {'x-box': {4: 'R', 5: 'N', 6: 'A'}}, 5: 'H', 6: 'H', 7: {'x-box': {3: 'E', 7: 'L'}}}}, 9: {'x2ybr': {5: 'R', 6: {'onpix': {8: 'U', 4: 'O', 5: 'L', 6: 'C'}}, 7: 'N', 9: 'H', 10: 'V'}}, 10: {'y-box': {2: 'K', 6: 'Q'}}, 11: {'x-box': {8: 'A', 3: 'L', 4: 'A', 6: 'Q'}}, 12: 'C', 13: 'C'}}, 6: {'y2bar': {0: 'P', 1: 'G', 2: {'high': {4: 'G', 6: 'P', 7: 'G', 8: 'A', 9: 'P', 10: 'P'}}, 3: {'onpix': {4: 'J', 5: {'x-box': {3: 'H', 4: 'G'}}, 7: {'y-box': {8: 'R', 10: 'R', 6: 'Y', 7: 'R'}}, 8: {'x-bar': {8: 'G', 9: 'Y', 10: 'P'}}, 9: 'P', 10: 'P'}}, 4: {'yegvx': {3: {'x-box': {4: 'N', 5: 'J'}}, 4: {'x-box': {4: 'N', 5: 'A'}}, 5: 'R', 6: {'x-box': {3: 'R', 6: 'F'}}, 7: {'y-box': {8: 'M', 9: 'C', 10: 'R', 6: 'R'}}, 8: {'x-box': {3: 'K', 6: 'M'}}, 9: 'B', 10: {'y-box': {9: 'H', 7: 'F'}}, 11: 'R'}}, 5: {'x2ybr': {1: 'A', 2: 'R', 3: 'R', 4: 'R', 5: {'x-box': {8: 'R', 4: 'H', 7: 'R'}}, 6: {'xegvy': {8: 'V', 9: 'R', 11: 'L', 7: 'H'}}, 7: 'L', 8: {'x-box': {8: 'H', 5: 'T'}}}}, 6: {'xybar': {7: {'y-box': {9: 'T', 10: 'B', 11: 'B', 6: 'B'}}, 8: {'x-box': {9: 'O', 6: 'R'}}, 9: 'H', 10: {'width': {9: 'D', 10: 'K', 5: 'B', 6: 'B'}}, 11: 'B', 12: 'D'}}, 7: {'x-bar': {8: 'B', 9: 'K', 10: 'E'}}, 8: {'x-box': {8: 'T', 5: 'B'}}, 9: 'E'}}, 7: {'yegvx': {2: {'x-box': {4: 'I', 5: 'N', 7: 'U'}}, 3: {'y-box': {10: 'Y', 11: 'A'}}, 4: {'width': {4: 'V', 6: 'Y', 7: 'N', 8: 'P', 9: {'x-box': {6: 'A', 7: 'Y'}}}}, 5: {'y2bar': {3: 'Y', 4: {'width': {5: 'K', 6: 'R'}}, 5: {'x-box': {3: 'L', 4: 'L', 6: 'N'}}, 7: 'D'}}, 6: {'x2bar': {3: 'R', 4: {'y-box': {9: 'B', 10: 'B', 6: 'R'}}, 5: {'y-box': {6: 'D', 7: 'V'}}, 6: 'M'}}, 7: {'x-box': {2: 'H', 3: {'x-bar': {8: 'B', 9: 'B', 7: 'G'}}, 4: {'y-bar': {8: 'V', 9: 'B', 6: 'B', 7: 'V'}}, 5: 'Q', 6: 'B', 8: 'R', 9: 'R'}}, 8: {'x2ybr': {5: 'M', 6: {'x-box': {3: 'B', 4: 'V', 5: 'B'}}, 7: 'G'}}, 9: {'onpix': {3: 'B', 4: 'B', 5: 'B', 6: 'B', 8: 'G'}}, 10: {'y-box': {6: 'G', 7: {'x-box': {4: 'V', 5: 'K'}}, 9: 'B', 10: 'B', 11: 'H', 12: 'B', 14: 'B'}}, 11: {'xybar': {9: 'R', 10: 'B', 11: 'B', 7: {'x-box': {5: 'B', 6: 'H'}}}}, 12: 'K', 13: {'y-box': {8: 'K', 6: 'Q'}}}}, 8: {'xegvy': {4: 'K', 5: {'y-box': {9: 'K', 11: 'X', 13: 'Z', 15: 'Z'}}, 6: {'y-box': {9: 'Q', 10: 'Q', 11: 'Q', 15: 'R'}}, 7: {'y2bar': {3: {'x-box': {3: 'H', 6: 'G'}}, 4: 'B', 5: 'B', 6: 'B', 7: 'D'}}, 8: {'yegvx': {3: 'Y', 5: 'D', 6: {'x-box': {4: 'T', 7: 'Q'}}, 7: {'x-box': {3: 'H', 4: 'K'}}, 9: 'B', 10: 'H'}}, 9: {'x-box': {3: 'B', 4: 'B', 5: 'B', 7: 'M'}}, 10: {'y-box': {5: 'Y', 6: 'E', 8: 'B', 9: 'F', 11: 'X'}}, 11: {'high': {6: 'B', 7: 'G', 8: 'V', 9: 'Y', 10: 'Y'}}, 12: {'x-box': {4: 'L', 5: 'Y'}}, 13: 'X'}}, 9: {'y2bar': {2: 'Q', 3: {'x-box': {5: 'B', 6: 'E'}}, 4: {'y-box': {8: 'K', 9: 'D', 6: 'C', 7: 'K'}}, 5: {'x-box': {9: 'B', 4: 'E', 5: 'C'}}, 6: {'x-box': {4: 'X', 5: 'X', 6: 'L', 7: 'L', 8: 'D'}}, 7: 'D'}}, 10: {'xegvy': {5: 'D', 8: 'S', 10: 'E', 12: 'L', 13: 'Y'}}, 11: {'y-box': {8: 'H', 11: 'S'}}, 12: 'S', 13: {'x-box': {6: 'X', 7: 'S'}}}}, 7: {'y-ege': {0: {'y-bar': {5: 'M', 6: 'M', 7: 'M', 8: 'W', 9: 'W', 10: 'W', 11: 'W'}}, 1: {'xegvy': {2: 'M', 3: 'M', 5: 'M', 7: 'N', 8: {'x-box': {4: 'U', 7: 'N'}}, 9: 'W', 10: 'W', 11: 'W', 12: 'W'}}, 2: {'xegvy': {2: 'M', 5: 'M', 6: 'M', 7: {'y-box': {6: 'M', 8: 'M', 9: 'U', 10: 'N', 11: 'N'}}, 8: 'U', 9: {'x-box': {5: 'N', 6: 'U', 7: 'N'}}, 10: {'width': {5: 'W', 6: 'W', 8: 'W', 9: 'N', 10: 'W'}}, 11: {'y-bar': {7: 'N', 9: 'W', 10: 'W', 11: 'W', 12: 'V'}}, 12: {'y-box': {4: 'W', 6: 'W', 7: 'W', 8: 'W', 9: 'W', 10: 'W', 11: 'W', 15: 'N'}}, 13: 'W'}}, 3: {'xegvy': {5: 'U', 7: {'onpix': {6: 'N', 7: 'D'}}, 8: {'x-box': {4: 'N', 5: 'D', 6: 'N', 7: 'D'}}, 9: {'y-box': {9: 'N', 11: 'D', 6: 'O', 7: {'x-box': {4: 'O', 5: 'A'}}}}, 10: {'x-box': {4: 'V', 5: 'F'}}, 11: 'N', 12: 'V', 13: 'V'}}, 4: {'y2bar': {0: {'x-box': {3: 'P', 4: 'Q'}}, 1: {'x-box': {3: 'Q', 4: 'V'}}, 2: 'V', 3: {'y-bar': {8: 'W', 9: 'N', 10: 'O', 5: 'U'}}, 4: {'x-box': {8: 'U', 5: 'C'}}, 5: {'x-box': {8: 'V', 10: 'U'}}, 6: 'N'}}, 5: {'y-box': {5: {'high': {8: 'P', 5: 'N', 7: 'P'}}, 6: 'Q', 7: {'y2bar': {0: 'P', 2: 'V', 3: 'U', 4: {'width': {6: 'U', 7: 'N'}}}}, 8: {'yegvx': {9: {'onpix': {4: 'K', 5: 'C'}}, 6: 'U', 7: 'C'}}, 9: {'width': {8: 'W', 5: 'G', 6: 'U', 7: {'x-bar': {8: 'W', 6: 'K'}}}}, 10: {'x-box': {8: 'H', 4: 'K', 5: 'K', 6: 'H'}}, 11: {'width': {8: 'H', 9: 'K'}}, 12: {'width': {8: 'H', 9: 'H', 6: 'R', 7: 'H'}}, 13: 'H', 14: 'H', 15: {'y-bar': {6: 'U', 7: 'H'}}}}, 6: {'yegvx': {3: 'N', 4: {'x-box': {4: 'Y', 5: 'R', 6: 'Y'}}, 5: {'high': {8: {'x-box': {5: 'Y', 7: 'N'}}, 9: 'Y', 5: 'N', 7: 'R'}}, 6: {'x-box': {4: 'L', 5: 'R', 6: 'P', 7: 'R'}}, 7: {'onpix': {5: 'H', 6: 'L', 7: {'x-box': {4: 'B', 5: 'L'}}, 8: 'P', 9: 'N'}}, 8: {'x-box': {3: 'K', 4: 'G', 5: 'R', 7: 'H'}}, 9: {'x-bar': {8: 'G', 9: 'B', 6: 'P', 7: 'K'}}, 10: {'y-box': {7: 'K', 9: 'K', 10: 'K', 11: 'A', 13: 'R'}}, 11: {'xegvy': {1: 'A', 5: 'R', 6: 'K', 7: 'R', 8: 'R', 9: 'D'}}, 12: {'width': {9: 'R', 6: 'G', 7: 'W'}}}}, 7: {'xegvy': {5: {'x-box': {8: 'R', 9: 'R', 10: 'R', 7: 'B'}}, 6: {'y-box': {10: 'T', 6: 'R'}}, 7: {'x-box': {4: 'K', 5: 'K', 6: 'G'}}, 8: {'y2bar': {2: 'G', 3: 'H', 4: 'C', 5: 'R'}}, 9: {'y-box': {6: {'x-box': {3: 'B', 4: 'H'}}, 7: 'P', 8: 'R', 9: {'x-box': {5: 'V', 6: 'V', 7: 'R'}}, 10: 'K'}}, 10: {'x-bar': {8: 'L', 9: 'B', 6: 'N', 7: {'x-box': {4: 'L', 5: 'V'}}}}, 11: {'onpix': {5: 'G', 6: 'V', 7: 'Y', 8: {'x-box': {5: 'N', 6: 'G'}}, 9: 'G', 11: 'P'}}, 12: 'N', 13: 'Q'}}, 8: {'yegvx': {3: 'T', 4: {'x-box': {5: 'B', 6: 'V'}}, 5: 'L', 6: {'x2bar': {3: 'R', 4: 'R', 5: {'y-box': {9: 'B', 11: 'D'}}}}, 7: {'x2bar': {3: 'K', 4: 'T', 5: 'B'}}, 8: {'width': {5: 'H', 6: 'H', 7: 'G', 8: 'B', 9: 'V'}}, 9: {'x-box': {8: 'B', 4: 'P', 5: 'G'}}, 10: {'x-box': {8: 'B', 4: 'K'}}, 11: {'x-box': {4: 'P', 5: 'V', 6: 'M', 7: 'V'}}, 12: 'K', 13: 'G'}}, 9: {'yegvx': {4: 'N', 5: 'B', 6: {'y-box': {8: 'B', 9: 'B', 11: 'D', 7: 'B'}}, 7: 'B', 8: {'onpix': {10: 'H', 13: 'M', 6: 'B', 7: 'C'}}, 9: {'x-box': {4: 'H', 5: 'B', 6: 'X'}}, 10: {'x-box': {5: 'E', 6: 'K'}}, 13: 'K', 14: 'K'}}, 10: {'y-bar': {4: 'G', 5: 'H', 7: 'G', 8: 'R', 9: 'D'}}, 11: {'y-box': {9: 'E', 10: 'B'}}, 13: 'S'}}, 8: {'y-ege': {0: {'y-bar': {6: 'M', 7: 'M', 8: 'W', 9: 'W', 10: 'W'}}, 1: {'y-bar': {2: 'M', 5: 'M', 6: 'M', 7: 'W', 9: 'W', 10: 'W', 11: 'W', 12: 'W'}}, 2: {'xegvy': {1: 'M', 2: 'M', 4: 'M', 5: 'M', 6: 'M', 7: {'y-box': {9: 'M', 11: 'N', 5: 'M'}}, 8: 'M', 9: 'M', 10: 'W', 11: 'W', 12: 'W', 13: 'W'}}, 3: {'xegvy': {5: 'M', 6: 'M', 7: 'M', 8: {'x-box': {4: 'O', 6: 'N'}}, 11: {'x-box': {8: 'W', 10: 'W', 5: 'A', 7: 'W'}}, 12: 'W'}}, 4: {'yegvx': {4: {'x-box': {4: 'F', 7: 'W'}}, 5: 'W', 6: 'Y', 7: {'y-bar': {4: 'C', 5: 'V', 6: 'V', 7: 'O', 8: 'A'}}, 8: {'high': {8: 'A', 9: 'Q', 7: 'O'}}, 9: 'O', 11: 'G'}}, 5: {'yegvx': {4: 'C', 5: 'W', 6: 'U', 7: {'onpix': {11: 'U', 4: 'N', 7: 'M'}}, 8: 'N', 9: 'N', 10: 'O', 11: 'Q'}}, 6: {'y2bar': {0: 'P', 1: 'P', 2: {'x-box': {4: 'V', 6: 'P'}}, 3: {'x-box': {4: 'R', 6: 'W'}}, 4: {'width': {6: 'P', 7: 'U', 8: 'N', 9: 'R', 10: 'N'}}, 5: 'M', 8: 'U', 9: 'U'}}, 7: {'yegvx': {4: {'x-bar': {8: 'V', 9: 'R', 6: 'N'}}, 5: {'x-box': {5: 'R', 6: 'N'}}, 6: {'y-box': {8: 'R', 9: 'R', 10: 'H', 7: 'B'}}, 7: 'K', 8: 'M', 9: 'R', 10: 'K', 11: 'M', 12: {'x-box': {4: 'G', 6: 'K', 7: 'M'}}}}, 8: {'xegvy': {6: 'K', 7: {'y-box': {8: 'H', 9: 'K', 10: 'G'}}, 8: {'width': {8: 'M', 9: 'K', 7: 'H'}}, 9: 'W', 10: 'R', 11: 'G', 15: 'Q'}}, 9: {'y2bar': {3: 'G', 4: {'y-box': {10: 'R', 11: 'M'}}, 5: {'xegvy': {9: 'V', 11: 'B', 5: 'B', 6: 'K'}}, 6: 'T'}}, 10: {'yegvx': {3: 'V', 5: 'N', 7: 'B', 8: {'x-box': {10: 'B', 4: 'H'}}, 9: 'K', 10: 'B', 12: 'E'}}, 11: 'H', 12: 'B'}}, 9: {'xegvy': {1: 'M', 2: 'A', 3: 'M', 4: 'M', 5: {'width': {4: 'M', 5: 'M', 6: 'M', 8: 'U', 9: 'M'}}, 6: {'x2bar': {2: 'M', 3: 'M', 4: {'x-box': {6: 'M', 7: 'N'}}, 5: 'H', 6: 'M', 7: 'M', 12: 'M', 13: 'M'}}, 7: {'y-ege': {2: 'M', 3: 'M', 4: 'W', 5: {'y-box': {8: 'H', 7: 'M'}}, 6: {'y-box': {9: 'N', 10: 'U', 11: 'Y'}}, 8: 'U'}}, 8: {'x2bar': {2: 'M', 3: {'y-box': {8: 'M', 10: 'N'}}, 4: 'U', 5: {'y-bar': {8: 'W', 9: 'H'}}, 6: 'U'}}, 9: {'yegvx': {0: 'N', 5: 'R', 6: 'W', 8: {'y-bar': {8: 'W', 5: 'V', 6: 'W', 7: 'W'}}, 10: 'M', 11: 'O', 12: 'O'}}, 10: {'y-ege': {0: 'W', 1: 'W', 2: {'x-box': {8: 'M', 10: 'M', 7: 'W'}}, 5: 'N', 6: 'O', 7: 'F', 9: 'G'}}, 11: {'yegvx': {4: 'Y', 5: {'x-box': {5: 'P', 6: 'W', 7: 'W', 8: 'W', 9: 'W'}}, 6: 'W', 7: {'x-box': {8: 'M', 4: 'W'}}, 8: 'M', 9: 'G', 10: 'B'}}, 12: {'y-box': {5: 'Q', 7: 'P', 9: 'W', 10: 'W', 11: 'W', 12: 'W', 15: 'W'}}, 13: 'W', 14: {'x-box': {6: 'W', 7: 'Q'}}}}, 10: {'y-ege': {0: 'W', 1: {'y-box': {2: 'W', 9: 'W', 10: 'W', 13: 'W', 14: 'M', 15: 'W'}}, 2: {'x2ybr': {2: 'M', 3: 'M', 4: 'M', 5: 'M', 6: {'x-box': {10: 'M', 11: 'M', 4: 'W', 5: 'M'}}, 7: 'M', 9: 'W', 10: 'W'}}, 3: {'xegvy': {5: 'M', 6: 'M', 7: 'M', 8: 'M', 9: 'M', 10: 'W', 11: 'W', 12: 'W', 13: {'x-box': {11: 'M', 7: 'W'}}}}, 4: {'y2bar': {1: 'O', 2: 'W', 3: 'W', 4: {'y-box': {10: 'W', 6: 'Y', 7: 'M'}}, 5: 'M'}}, 5: {'x-box': {4: 'U', 5: 'M', 6: 'M', 7: 'M'}}, 6: {'yegvx': {3: 'M', 4: 'M', 5: {'x-box': {5: 'U', 7: 'M'}}, 6: 'U', 8: 'U', 10: 'O'}}, 8: {'x2bar': {4: 'U', 5: 'W', 6: 'G', 7: 'M'}}, 9: {'x-box': {8: 'W', 5: 'G', 6: {'y-box': {9: 'R', 10: 'U'}}, 7: 'W'}}, 10: {'x-box': {5: 'G', 6: 'M', 7: 'G'}}}}, 11: {'y-ege': {2: {'width': {7: 'M', 10: 'W', 11: 'M', 12: 'M', 14: 'M'}}, 3: {'xybar': {8: 'M', 9: 'M', 6: 'W', 7: 'W'}}, 4: {'xegvy': {6: 'M', 8: 'M', 9: 'M', 10: 'W', 11: 'W', 13: 'W'}}, 5: {'onpix': {8: 'O', 9: 'G', 10: 'M', 11: 'U', 12: 'M'}}, 6: {'y-box': {6: 'M', 7: 'M', 8: 'M', 9: {'high': {6: 'W', 7: 'U'}}, 10: 'U', 11: 'O'}}, 7: {'x-box': {5: 'M', 6: 'U', 7: 'M'}}, 8: {'x-box': {4: 'U', 7: 'O'}}, 9: 'W', 10: {'x-box': {8: 'W', 5: 'Q'}}}}, 12: {'y-ege': {2: 'W', 3: 'W', 4: 'M', 5: 'M', 6: 'M', 7: 'M', 9: 'W', 10: 'W'}}, 13: {'onpix': {7: 'M', 9: 'M', 10: 'M', 12: 'W', 13: 'M', 14: 'W'}}, 14: {'x2bar': {3: 'M', 4: 'M', 5: 'W', 6: 'W', 7: 'W'}}, 15: {'x-box': {9: 'M', 5: 'W', 6: 'M'}}}}\n",
            "{'x-ege': {0: {'xybar': {0: 'L', 1: 'L', 2: 'L', 3: {'x-box': {2: 'L', 3: 'Y'}}, 4: {'y-bar': {5: 'S', 6: 'S', 7: 'S', 8: 'S', 11: 'Y', 12: 'Y', 14: 'T'}}, 5: {'x2ybr': {4: 'E', 5: 'S', 6: 'S', 7: 'S', 11: 'T'}}, 6: {'y-ege': {0: {'y-bar': {11: 'Y', 12: 'T', 13: 'T', 14: 'T', 15: 'T'}}, 1: 'T', 2: 'L', 3: 'L', 4: 'I', 7: 'E', 8: 'S', 9: 'S'}}, 7: {'y-ege': {0: {'y-bar': {7: 'I', 11: 'Y', 12: 'T', 13: 'T', 14: 'T', 15: 'T'}}, 1: 'T', 2: {'y-bar': {3: 'L', 4: 'L', 5: 'L', 7: 'I'}}, 3: {'xy2br': {7: 'I', 8: 'I', 9: 'I', 10: 'L', 11: 'L', 13: 'C'}}, 4: {'x-box': {1: 'C', 2: 'C', 3: 'I', 4: 'I', 5: 'I', 6: 'I', 7: 'I'}}, 5: 'E', 6: 'E', 7: 'E', 8: {'x-box': {3: 'Z', 4: 'E'}}, 9: 'Z', 11: 'Z', 12: 'Z'}}, 8: {'y-bar': {3: 'L', 4: 'L', 5: 'L', 6: 'Z', 7: 'Z', 8: 'Z', 10: 'Z', 11: {'x-box': {3: 'Y', 4: 'T'}}, 12: 'T', 14: 'T', 15: 'T'}}, 9: {'y-bar': {3: 'L', 4: 'L', 5: 'L', 7: 'Z', 8: 'Z', 10: 'P', 11: {'onpix': {0: 'P', 2: 'Y', 3: 'T'}}, 12: 'Y', 13: 'T', 14: 'T', 15: 'T'}}, 10: {'x-bar': {4: 'P', 5: 'P', 6: 'T', 7: 'Z', 8: 'L', 11: 'J'}}, 11: {'xegvy': {6: 'J', 7: 'J', 8: 'F', 9: {'y-box': {3: 'T', 6: 'P', 7: 'P', 8: 'P', 9: 'T'}}, 10: {'x2bar': {1: 'T', 2: {'y-box': {3: 'Y', 4: 'T', 6: 'T', 7: 'Y', 9: 'Y'}}, 3: 'P', 4: 'P', 6: 'P', 7: 'P', 8: 'P'}}}}, 12: {'x-bar': {0: 'F', 1: 'F', 2: {'x-box': {8: 'Y', 3: 'F'}}, 3: {'x-box': {2: 'P', 3: 'P', 4: 'P', 5: 'Y', 8: 'Y'}}, 4: {'x-box': {4: 'T', 5: 'P', 6: 'T'}}, 5: {'onpix': {2: 'T', 4: 'P'}}, 6: 'P', 7: {'onpix': {0: 'I', 1: 'P', 2: 'I'}}, 10: 'J', 11: 'J', 12: 'J', 14: 'J', 15: 'J'}}, 13: {'x-bar': {0: 'F', 1: 'F', 3: 'Y', 4: {'x-box': {8: 'T', 4: 'P'}}, 5: {'x-box': {3: 'I', 4: 'P', 5: 'P'}}, 6: {'y-bar': {8: 'I', 9: 'I', 11: 'P', 12: 'P'}}, 7: 'I', 8: 'I', 9: {'y-ege': {0: 'J', 1: 'I', 2: 'I'}}, 10: 'J', 12: 'J', 13: 'J', 14: 'J', 15: 'J'}}, 14: {'y-ege': {0: 'J', 1: {'xy2br': {6: {'x-box': {3: 'I', 4: 'J', 5: 'J'}}, 7: {'x-box': {2: 'J', 3: 'I', 4: 'J'}}, 8: 'I', 9: {'x-bar': {8: 'J', 9: 'J', 7: 'I'}}, 10: 'I'}}, 2: {'x-box': {3: 'I', 4: 'P', 6: 'P'}}, 3: 'P'}}, 15: 'J'}}, 1: {'x2ybr': {0: 'L', 1: {'y-box': {2: 'L', 4: 'A', 5: 'L', 7: 'L', 8: 'L', 9: 'L', 10: 'L', 11: 'L'}}, 2: {'y2bar': {0: 'A', 1: 'A', 2: 'A', 6: {'x-box': {2: 'L', 3: 'L', 4: 'Z'}}, 7: {'x-bar': {4: 'L', 5: 'L', 7: 'L', 8: 'L', 9: 'L', 11: 'J'}}, 8: 'L', 9: 'L'}}, 3: {'xegvy': {8: 'Z', 9: 'S', 6: {'y-box': {2: 'J', 5: 'J', 7: 'L', 8: 'J', 10: 'J', 11: 'J'}}, 7: {'x-box': {1: 'L', 2: 'L', 3: 'Z'}}}}, 4: {'xy2br': {1: 'P', 2: 'P', 3: 'P', 4: 'P', 5: {'onpix': {1: 'P', 2: 'J', 3: 'I', 4: 'P', 5: 'I'}}, 6: 'I', 7: 'S', 8: {'y-box': {2: 'J', 3: 'S', 4: 'S', 5: 'J'}}, 9: {'x-box': {1: 'J', 2: 'J', 3: 'J', 4: 'Z', 6: 'Z'}}, 10: {'y-box': {9: 'J', 10: 'G', 11: 'J'}}, 11: {'x-box': {2: 'J', 5: 'C'}}, 12: {'x-box': {2: 'J', 3: 'G', 4: 'G'}}, 13: 'G'}}, 5: {'y-ege': {0: 'J', 1: 'J', 2: {'xy2br': {2: 'P', 3: 'P', 4: {'x2bar': {2: 'F', 3: 'P', 4: 'P', 6: 'P'}}, 5: 'F', 6: 'P', 9: 'J'}}, 3: {'x-box': {1: 'G', 2: 'P', 3: 'P', 4: 'P', 5: 'P', 6: 'P'}}, 4: {'xy2br': {2: 'P', 3: 'P', 6: 'B', 7: {'x-box': {1: 'B', 2: 'S', 3: 'S'}}, 8: 'S', 9: {'x-box': {1: 'G', 2: 'E'}}, 11: {'y-box': {8: 'C', 6: 'C', 7: 'G'}}, 12: 'C', 13: 'C', 14: 'C'}}, 5: {'xybar': {6: 'G', 7: 'G', 10: 'S', 11: {'x-box': {2: 'Z', 3: 'S', 4: 'Z'}}, 12: {'x-box': {2: 'Z', 3: 'Z', 4: 'I'}}, 13: 'I', 14: 'I'}}, 6: {'x2bar': {2: 'Z', 5: 'E', 6: 'G', 7: 'G', 8: 'G'}}, 7: {'y-box': {0: 'B', 1: 'B', 8: 'Z', 9: 'E', 10: 'Z', 11: 'E'}}, 9: 'S', 10: 'S'}}, 6: {'xy2br': {2: {'x-box': {3: 'F', 4: 'P', 6: 'P'}}, 3: {'onpix': {2: 'P', 3: 'P', 4: 'F', 6: 'P'}}, 4: {'x2bar': {2: 'F', 3: {'x-box': {2: 'F', 5: 'I'}}, 6: 'P', 7: 'P', 8: 'P', 9: 'P', 10: 'P'}}, 5: {'x-box': {0: 'P', 1: 'P', 2: 'F', 3: 'P', 4: 'P', 6: 'P'}}, 6: {'high': {8: 'I', 1: 'B', 2: 'F', 3: 'F'}}, 7: {'y2bar': {4: 'B', 5: 'B', 6: 'S', 7: {'x-box': {3: 'S', 4: 'Z'}}, 8: 'Z', 9: 'Z', 10: 'Z'}}, 8: {'y2bar': {4: 'B', 6: 'S', 7: 'S', 8: {'x-box': {1: 'Z', 2: 'Z', 3: 'G'}}, 9: 'Z', 10: 'Z', 11: 'Z'}}, 9: {'xybar': {6: {'y-box': {0: 'G', 1: 'Z', 2: 'Z', 3: 'Z', 6: 'G', 7: 'G'}}, 7: 'Z', 9: 'E', 10: 'E', 11: 'Z', 12: 'Z', 13: 'I', 14: 'J', 15: 'J'}}, 10: {'y-ege': {0: 'J', 1: 'J', 5: 'C', 6: 'G', 7: 'E', 8: 'E', 9: 'S', 10: 'Z'}}, 11: {'xybar': {5: 'S', 6: 'G', 7: 'C', 10: 'E', 13: 'J', 15: 'J'}}, 12: {'x-box': {1: 'J', 3: 'C', 4: 'C', 5: 'C'}}, 13: {'x-bar': {11: 'J', 12: 'J', 5: 'C', 6: 'C'}}, 14: 'C', 15: 'C'}}, 7: {'xybar': {4: 'C', 5: 'C', 6: {'x-box': {2: 'Z', 3: 'C', 4: 'C', 5: 'I'}}, 7: {'xegvy': {8: 'Z', 9: 'Z', 10: 'I', 7: 'C'}}, 8: {'y-box': {1: 'C', 2: 'C', 3: 'C', 5: 'C', 9: 'Z', 10: 'Z'}}, 9: {'y-bar': {7: 'G', 8: 'C', 9: 'P', 10: 'P', 11: 'P'}}, 10: {'xy2br': {2: 'P', 3: 'P', 4: 'P', 6: 'S', 8: {'x-box': {1: 'S', 3: 'S', 7: 'E'}}, 9: 'E', 10: 'E'}}, 11: {'y2bar': {1: 'P', 2: 'P', 7: {'yegvx': {5: 'S', 6: 'S', 7: 'E', 8: 'E', 9: 'E'}}, 8: 'Z', 9: 'Z', 10: 'Z'}}, 12: {'width': {3: 'F', 4: 'T', 6: 'Z', 7: 'Z', 8: 'Z'}}, 13: {'x-bar': {11: 'J', 4: 'F', 5: 'F', 6: 'F'}}, 14: {'y-bar': {4: 'J', 5: 'J', 8: 'J', 11: 'F', 12: 'F'}}, 15: 'J'}}, 8: {'xy2br': {2: 'P', 3: {'x-bar': {3: 'F', 4: 'F', 5: 'P', 6: 'P'}}, 4: {'y-box': {1: 'P', 2: 'P', 3: {'x-box': {1: 'F', 2: 'P'}}, 5: 'P', 7: 'P', 8: 'P', 9: 'F'}}, 5: {'onpix': {1: 'F', 2: 'P', 4: 'Z'}}, 6: 'Z', 7: {'x-box': {3: 'S', 7: 'Z'}}, 8: {'width': {3: 'E', 4: 'S', 5: 'C'}}, 9: {'x-box': {8: 'C', 1: 'E'}}, 10: {'x2bar': {2: 'E', 4: 'C'}}, 12: {'x-box': {1: 'C', 2: 'C', 3: 'J'}}, 13: {'x-bar': {5: 'C', 6: 'C', 7: 'J', 10: 'J', 11: 'J'}}, 14: {'x-bar': {4: 'C', 5: 'C', 6: 'C', 7: 'J', 8: 'J', 11: 'J'}}, 15: 'C'}}, 9: {'yegvx': {4: {'xybar': {9: 'Y', 10: 'Y', 11: 'T', 12: {'y-ege': {2: 'T', 3: 'F'}}}}, 5: {'y2bar': {4: 'F', 5: 'T', 6: 'T', 7: {'y-box': {3: 'T', 4: 'T', 5: 'T', 6: 'T', 7: 'F', 9: 'F'}}, 8: {'x-box': {4: 'T', 6: 'Y'}}, 9: {'x-box': {4: 'Z', 5: 'T'}}, 10: {'x-box': {5: 'Z', 6: 'T'}}}}, 6: {'y-ege': {2: 'F', 3: 'F', 4: 'P', 6: 'Z'}}, 7: {'xy2br': {4: 'P', 5: {'x-box': {2: 'F', 4: 'P'}}, 6: 'F', 10: 'C', 11: 'C', 12: 'C', 13: 'C', 14: 'J'}}, 8: {'x-box': {2: 'C', 3: 'J', 4: 'C'}}, 9: 'C', 10: 'C'}}, 10: {'xy2br': {3: 'T', 4: {'x-box': {4: 'Y', 5: 'T', 6: 'T'}}, 5: {'y-box': {3: 'Y', 4: 'Y', 5: 'Y', 6: 'Y', 8: {'x-box': {3: 'F', 5: 'T', 6: 'T'}}, 9: 'F'}}, 6: {'y2bar': {5: 'Y', 6: 'F', 7: {'x2bar': {1: 'Y', 2: 'Y', 3: 'F'}}, 8: 'Y', 10: 'Z'}}, 7: 'F', 8: 'Y', 10: 'C', 11: 'C', 12: 'C', 13: 'C', 14: 'C'}}, 11: {'y-ege': {0: 'Y', 1: {'x2bar': {0: 'Y', 1: {'y2bar': {5: 'Y', 6: 'Y', 7: 'T', 8: 'T', 9: 'T'}}, 2: {'width': {2: 'T', 3: 'T', 4: 'T', 5: 'Y', 6: 'T', 7: 'T'}}, 3: 'T', 4: 'Y', 5: 'Y'}}, 2: {'x2bar': {0: 'Y', 1: 'Y', 2: 'Y', 3: {'width': {4: 'Y', 5: 'Y', 6: 'F'}}, 4: 'Y', 5: 'C', 6: 'C'}}, 3: {'y-bar': {9: 'C', 10: 'Y', 11: 'Y'}}}}, 12: {'y-ege': {0: 'Y', 1: 'T', 2: 'Y', 3: 'Y'}}, 13: 'Y'}}, 2: {'y-ege': {0: {'y-bar': {6: {'x2bar': {10: 'U', 11: 'H'}}, 7: {'x2bar': {9: 'U', 10: 'H'}}, 8: 'H', 9: {'onpix': {0: 'V', 1: 'Y', 2: 'V', 3: {'x-box': {3: 'V', 4: 'V', 5: 'Y'}}}}, 10: 'Y', 11: 'V', 12: 'V'}}, 1: {'y2bar': {0: 'A', 1: {'y-box': {0: 'K', 3: 'A', 4: 'A', 5: 'A', 6: 'A', 7: 'A', 8: 'A', 10: 'A'}}, 2: {'y-bar': {2: 'A', 4: 'A', 6: 'K', 11: 'V', 12: 'V', 13: 'V'}}, 3: 'V', 4: {'y-bar': {10: 'F', 11: 'V', 12: 'V'}}, 5: {'y-bar': {10: 'Y', 11: 'T', 12: 'T'}}, 6: 'T', 7: 'T'}}, 2: {'x2ybr': {0: 'A', 1: 'A', 2: {'x-box': {1: 'A', 2: 'A', 3: 'A', 4: 'A', 5: 'I', 6: 'A'}}, 3: {'y2bar': {1: 'A', 2: 'A', 4: 'R', 5: 'D', 6: 'D', 8: 'X'}}, 4: {'y-box': {11: 'J', 3: 'D', 4: 'D', 5: 'O'}}, 5: {'x-box': {1: {'onpix': {1: 'O', 2: 'B'}}, 2: {'width': {2: 'O', 3: 'O', 4: 'D'}}, 3: 'O', 4: 'F', 5: 'F', 6: 'S', 7: 'S'}}, 6: {'y2bar': {0: 'K', 1: 'K', 2: 'Q', 3: {'y-box': {2: 'Q', 3: 'O', 4: 'O'}}, 4: {'x-bar': {8: 'O', 6: 'D', 7: 'O'}}, 5: {'x-box': {1: 'D', 2: 'F', 5: 'F'}}, 6: {'y-box': {1: 'D', 3: 'F', 6: 'F', 8: 'F', 10: 'F'}}}}, 7: {'xybar': {7: 'D', 10: 'X', 12: 'F', 13: 'F', 15: 'J'}}, 8: {'xy2br': {3: 'F', 4: 'F', 5: 'F', 7: 'C', 8: 'S', 9: 'X'}}, 9: {'y-bar': {8: 'K', 9: 'C', 11: 'T', 12: 'T', 13: {'x-box': {3: 'F', 7: 'T'}}}}, 10: {'xy2br': {3: 'F', 4: 'F', 5: {'x-box': {4: 'F', 5: 'F', 6: 'T'}}, 6: 'F', 8: 'C', 9: 'C', 11: 'K', 12: 'C'}}, 11: {'xybar': {3: 'Y', 4: 'Y', 6: 'Y', 10: 'Y', 11: 'C', 12: 'C', 14: 'Y'}}, 12: 'Y', 13: 'Y'}}, 3: {'y2bar': {1: {'x-box': {1: 'Q', 2: 'A', 3: 'A', 5: 'A'}}, 2: {'width': {2: 'Q', 3: 'Q', 4: 'A', 5: 'A', 6: 'A', 7: 'A'}}, 3: {'y-bar': {2: 'A', 3: 'A', 6: 'Q', 7: {'x-bar': {8: 'Q', 7: 'O'}}, 8: 'S', 9: 'R', 10: 'P', 11: 'P'}}, 4: {'y-box': {0: {'onpix': {0: 'O', 1: 'Q'}}, 1: 'Q', 2: {'high': {2: 'Q', 3: 'O', 4: 'O'}}, 3: {'xy2br': {6: 'R', 7: 'R', 8: 'O', 9: 'O', 10: 'G'}}, 4: 'O', 5: 'O', 6: 'P', 7: 'Q', 8: {'x-box': {3: 'P', 4: 'Q'}}, 9: {'x-box': {3: 'A', 5: 'S', 6: 'S'}}, 10: {'x-box': {5: 'S', 6: 'P'}}, 11: 'S', 12: 'S', 15: 'S'}}, 5: {'y-box': {0: {'xy2br': {8: 'O', 9: 'Q', 6: 'D'}}, 1: 'O', 2: {'onpix': {2: 'F', 3: 'O'}}, 3: {'x2bar': {2: 'B', 3: 'B', 4: 'R', 5: 'G', 6: 'C', 7: 'O'}}, 4: {'xy2br': {3: 'P', 5: 'D', 6: 'R', 7: 'R', 8: 'O'}}, 5: {'x-box': {2: 'F', 3: 'O', 4: 'O'}}, 6: {'width': {3: 'O', 4: 'F'}}, 7: {'x-bar': {8: 'Q', 9: 'P', 4: 'F', 6: 'F'}}, 8: 'P', 9: 'S'}}, 6: {'xegvy': {5: 'L', 7: 'R', 8: {'xy2br': {4: 'D', 5: 'D', 6: 'D', 7: 'D', 8: 'O', 9: 'E', 14: 'C'}}, 9: {'xy2br': {4: 'F', 5: 'F', 6: 'F', 7: 'S', 10: 'G', 12: 'C'}}, 10: 'F', 11: 'C'}}, 7: {'xybar': {5: 'D', 6: 'D', 7: {'y-box': {0: 'D', 1: 'D', 2: 'D', 3: 'D', 4: 'D', 6: 'D', 7: 'D', 8: 'D', 9: 'O', 10: 'D'}}, 8: {'width': {4: 'D', 5: 'L', 6: 'L'}}, 9: {'y-box': {8: 'X', 4: 'C', 5: 'D', 6: 'Y'}}, 10: {'yegvx': {4: 'Y', 5: 'Y', 6: 'X', 8: 'D', 9: 'X'}}, 11: {'y-bar': {8: 'C', 10: 'Y', 11: 'T', 7: 'C'}}, 12: {'x-box': {3: 'C', 4: 'C', 5: 'T', 6: 'C', 7: 'C'}}, 13: {'x-box': {4: 'C', 6: 'T', 7: 'T'}}, 14: 'F'}}, 8: {'x2bar': {0: {'y-box': {9: 'X', 10: 'X', 11: 'L'}}, 1: 'X', 2: 'X', 3: 'T', 4: 'T', 6: 'C', 7: {'x-box': {3: 'D', 4: 'C', 5: 'C', 6: 'C', 7: 'C'}}, 9: 'D'}}, 9: {'x-box': {8: 'T', 3: 'X', 4: 'X'}}}}, 4: {'xy2br': {2: 'P', 3: 'P', 4: {'x-box': {3: 'P', 4: 'P', 5: 'P', 6: 'T', 8: 'T', 9: 'T'}}, 5: {'x2bar': {1: {'y2bar': {5: 'I', 6: 'I', 7: 'Y', 8: 'Y', 9: 'Y', 10: 'T'}}, 2: 'T', 3: {'y-bar': {9: 'T', 10: 'F', 7: 'P'}}, 4: 'P', 6: {'width': {6: 'J', 7: 'F'}}, 7: 'J', 9: 'P', 10: 'P', 11: 'P'}}, 6: {'yegvx': {3: 'Y', 4: 'T', 5: 'T', 6: {'onpix': {3: 'T', 4: 'J', 5: 'J', 6: 'F'}}, 7: {'x-box': {3: 'B', 4: 'O'}}, 8: {'x2bar': {1: 'A', 2: 'B', 3: 'B', 4: 'R', 5: 'R'}}, 9: 'B', 10: {'x-bar': {8: 'B', 9: 'R', 10: 'B', 7: 'B'}}, 11: 'I', 12: 'I'}}, 7: {'y-box': {0: 'R', 1: 'R', 3: {'xegvy': {8: 'B', 6: 'R', 7: 'R'}}, 4: {'x2bar': {2: 'B', 3: 'B', 4: 'R'}}, 5: 'B', 6: {'x2bar': {8: 'O', 2: 'S', 4: 'X', 7: 'Q'}}, 7: {'x-bar': {8: 'J', 6: 'R', 7: 'S'}}, 8: 'S', 9: {'x-box': {4: 'S', 6: 'J'}}, 10: {'width': {4: 'S', 5: 'T'}}}}, 8: {'xybar': {5: 'G', 6: {'y-box': {3: 'G', 6: 'Q'}}, 7: {'x-bar': {9: 'A', 5: 'R', 6: 'R', 7: 'X'}}, 8: {'x-box': {3: 'Q', 5: 'J'}}, 9: 'G', 10: 'S', 11: {'y-box': {3: 'E', 4: 'E', 5: 'E', 6: 'E', 7: 'S', 9: 'T'}}, 12: {'x-box': {3: 'A', 6: 'T'}}, 13: 'I'}}, 9: {'xybar': {5: {'x-box': {1: 'Q', 3: 'G', 4: 'G', 5: 'L'}}, 6: {'x-bar': {8: 'Q', 5: 'G', 6: 'L', 7: 'G'}}, 7: {'y-box': {9: 'X', 3: 'G', 6: 'R'}}, 8: {'x-box': {1: 'Q', 2: 'Q', 4: 'G'}}, 9: {'y-box': {9: 'S', 4: 'G', 7: 'G'}}, 10: {'x-box': {1: 'E', 3: 'G', 4: 'G', 5: 'S'}}, 11: 'E', 13: 'I'}}, 10: {'y2bar': {1: 'Q', 2: 'Q', 3: 'Q', 4: {'x-box': {2: 'G', 3: 'Q', 5: 'G'}}, 5: 'G', 6: 'G', 7: {'y-bar': {3: 'Z', 6: 'L', 7: 'G'}}, 8: {'x2bar': {9: 'C', 2: 'E', 3: 'E', 7: 'G'}}, 9: 'E'}}, 11: {'x2bar': {0: 'L', 3: 'L', 6: {'xybar': {6: 'G', 7: 'G', 8: 'G', 9: 'G', 10: 'G', 12: 'C'}}, 7: {'x-box': {2: 'Q', 3: 'G', 4: 'G', 5: 'G'}}, 10: 'C'}}, 12: {'y2bar': {5: 'G', 6: 'G', 7: {'y-bar': {8: 'C', 5: 'G', 6: 'G', 7: 'G'}}, 8: 'C', 9: 'C'}}, 13: {'y-box': {6: 'G', 7: 'C', 8: 'C', 9: 'C', 11: 'C'}}, 14: 'C'}}, 5: {'xybar': {4: 'Q', 5: {'x2bar': {3: 'Y', 4: 'Q', 5: 'Q', 6: 'Q', 7: 'Q', 8: 'G', 9: 'G'}}, 6: {'x2bar': {3: 'X', 4: {'y2bar': {4: 'B', 5: 'R', 6: 'B', 8: 'X', 9: 'X'}}, 5: {'y-box': {2: 'R', 5: 'Q', 7: 'E'}}, 6: {'y2bar': {8: 'E', 2: 'Q', 4: 'Q', 5: 'G'}}, 7: {'y2bar': {3: 'Q', 4: 'R', 5: 'G', 6: 'G'}}, 8: {'x-box': {3: 'G', 4: 'R', 5: 'G'}}, 9: 'R'}}, 7: {'y2bar': {1: 'Q', 2: 'Q', 3: 'R', 4: {'x-bar': {5: 'R', 6: 'R', 7: 'S'}}, 5: {'x-box': {2: 'B', 4: 'R'}}, 6: {'x-box': {2: 'E', 3: 'B'}}, 7: 'E', 8: {'x-box': {1: 'X', 4: 'G'}}, 10: 'C'}}, 8: {'width': {8: 'J', 9: 'J', 3: 'Q', 7: 'C'}}, 9: {'x2ybr': {4: {'x-box': {4: 'S', 5: 'L'}}, 5: 'B', 7: 'G', 8: 'G', 9: 'G'}}, 10: {'xy2br': {4: 'Y', 5: {'x-box': {8: 'T', 4: 'J'}}, 6: {'y-box': {3: 'B', 4: 'B', 5: 'B', 7: 'S', 8: 'S', 9: 'F', 10: 'B', 14: 'F'}}, 7: {'y-bar': {4: 'Z', 5: 'Z', 6: 'B', 7: 'S', 8: 'S', 9: 'G'}}, 8: {'x2bar': {3: 'S', 4: 'S', 6: 'G'}}, 9: {'x-bar': {5: 'G', 6: 'S', 7: 'S', 9: 'S', 11: 'Z'}}, 10: 'G', 11: 'G', 12: 'C', 13: 'G'}}, 11: {'x2bar': {2: {'y-box': {5: 'E', 7: 'E', 8: 'E', 9: 'F', 10: 'F', 11: 'F', 12: 'T', 13: 'F', 14: 'I'}}, 3: {'y-box': {6: 'S', 7: 'S', 8: 'S', 11: 'F', 13: 'T', 14: 'T'}}, 4: {'x2ybr': {3: 'S', 4: 'S', 5: 'S', 6: 'S', 7: 'S', 8: 'S', 9: 'E', 10: 'E'}}, 5: {'y-box': {7: 'S', 8: 'S', 9: 'E', 10: 'S', 12: 'C'}}, 6: 'C', 7: 'C'}}, 12: {'y2bar': {2: 'P', 3: 'J', 4: 'L', 5: {'y-box': {9: 'F', 12: 'I'}}, 6: 'T', 7: {'x2bar': {2: 'T', 6: 'C', 7: 'C'}}, 8: {'x-box': {8: 'C', 3: 'E'}}, 9: 'E', 10: 'E'}}, 13: {'x-box': {5: 'I', 6: 'I', 8: 'T', 9: 'T', 10: 'T'}}, 14: 'I'}}, 6: {'yegvx': {2: 'F', 4: {'x-box': {8: 'F', 3: 'Z', 7: 'F'}}, 5: {'x-box': {3: 'A', 4: 'Z', 6: 'Z', 7: 'F'}}, 6: {'x2bar': {2: {'x-box': {4: 'Z', 6: 'F'}}, 3: 'F', 4: 'T', 6: 'B', 7: 'B'}}, 7: {'x2ybr': {3: {'x-box': {9: 'L', 3: 'Z'}}, 4: 'E', 5: {'x-box': {6: 'F', 7: 'T'}}, 6: {'y-box': {1: 'X', 2: 'X', 3: 'X', 4: 'X', 5: 'X', 6: 'X', 7: 'Z', 9: 'X'}}, 7: 'Z', 8: 'L'}}, 8: {'xy2br': {4: 'J', 5: {'x-box': {2: 'B', 3: 'B', 7: 'I'}}, 6: 'B', 7: {'x-box': {9: 'C', 5: 'Z'}}, 8: {'x2bar': {2: 'Z', 3: 'X', 4: 'X', 5: 'Z'}}, 9: {'x-box': {3: 'X', 4: 'E', 5: 'Z', 7: 'Z'}}, 10: 'E', 11: 'L', 12: {'x-box': {3: 'Q', 5: 'G', 6: 'L'}}, 13: 'L'}}, 9: {'y2bar': {3: 'J', 4: {'high': {5: 'L', 6: 'I', 7: 'L', 8: 'L', 9: 'Z'}}, 5: {'x-box': {2: 'B', 3: 'B', 4: 'Z', 5: 'Z'}}, 6: 'B', 7: 'E', 8: 'E', 9: {'y-box': {8: 'E', 5: 'X', 7: 'Z'}}, 10: 'Z'}}, 10: {'xy2br': {5: 'B', 6: 'B', 7: 'B', 8: {'x-box': {3: 'E', 4: 'G'}}, 9: {'y-box': {2: 'E', 5: 'E', 6: 'Z', 8: 'G', 9: 'G', 11: 'G'}}, 10: 'Z', 11: 'G', 12: 'G'}}, 11: {'x-bar': {8: 'G', 9: 'J', 5: 'R', 7: 'G'}}, 12: {'width': {3: 'E', 4: 'Q', 5: 'J', 6: 'J', 9: 'B'}}, 13: 'J'}}, 7: {'x2bar': {2: {'y-box': {5: 'X', 6: 'X', 7: 'X', 8: 'X', 9: 'Z', 10: 'Z', 11: 'J', 12: 'J'}}, 3: {'y2bar': {2: {'x-box': {3: 'S', 5: 'J'}}, 3: 'J', 6: 'F', 7: 'F', 10: 'Z', 11: 'Z'}}, 4: {'high': {4: 'L', 5: 'L', 6: 'L', 7: 'Z', 8: 'F', 10: 'Z'}}, 5: {'y2bar': {8: {'x-box': {1: 'Z', 2: 'Z', 7: 'E'}}, 9: 'Z', 10: 'Z', 6: 'B'}}, 6: {'y-bar': {5: 'P', 7: 'B', 8: 'B', 9: 'P', 10: 'F'}}, 7: {'xy2br': {8: 'P', 9: 'A', 6: 'B', 7: 'B'}}, 8: 'B', 9: 'B'}}, 8: {'yegvx': {1: 'S', 3: 'A', 4: 'Y', 6: {'x-box': {8: 'Z', 3: 'E'}}, 7: 'S', 8: {'x2bar': {3: 'X', 4: 'Z', 5: 'Z', 6: {'x-box': {2: 'S', 3: 'S', 4: 'Z', 5: 'Z'}}, 7: 'S', 8: 'S'}}, 9: {'x2bar': {2: {'x-box': {3: 'X', 7: 'J'}}, 3: {'x-box': {5: 'X', 7: 'J'}}, 4: 'E', 5: 'E', 7: 'B', 8: 'B', 9: 'B'}}, 10: {'x-box': {2: 'B', 3: 'B', 5: 'B', 6: 'F'}}, 11: {'x-box': {3: 'L', 5: 'B'}}}}, 9: {'x2bar': {3: 'X', 4: 'Z', 5: 'Z', 6: 'S', 7: 'S', 8: {'x-bar': {8: 'S', 6: 'B', 7: 'S'}}, 9: 'B', 10: 'B'}}, 10: {'high': {4: 'S', 6: 'S', 8: 'B', 9: 'Z', 11: 'Z'}}, 12: 'S', 13: 'Z'}}, 3: {'y-ege': {0: {'y2bar': {0: {'x2bar': {9: 'N', 3: 'W', 14: 'H', 15: 'H'}}, 1: 'H', 2: {'x2bar': {4: 'V', 5: 'V', 12: 'H', 13: 'H', 14: 'H', 15: 'H'}}, 3: {'width': {3: 'H', 4: 'V', 5: 'V', 6: 'V', 7: 'V', 8: 'V'}}, 4: 'U', 5: 'U', 6: 'U', 7: 'U'}}, 1: {'y-bar': {4: 'A', 6: {'width': {1: 'K', 4: 'U', 5: 'A'}}, 7: 'U', 8: 'U', 9: {'x2bar': {3: 'V', 5: 'U', 6: 'U', 7: 'U'}}, 10: {'x-box': {5: 'V', 7: 'U'}}, 11: {'onpix': {2: 'V', 3: 'V', 4: 'V', 5: 'T', 7: 'T'}}, 12: {'onpix': {1: 'V', 2: 'V', 3: 'V', 4: 'V', 5: 'T'}}, 13: 'V'}}, 2: {'x2ybr': {0: 'A', 1: 'A', 2: {'y-box': {5: 'A', 7: 'A', 8: 'L', 9: 'L', 10: 'A'}}, 3: {'x-box': {3: 'R', 5: 'L'}}, 4: {'high': {1: 'H', 3: 'D', 4: 'D', 7: 'K'}}, 5: {'y2bar': {2: 'K', 3: 'K', 4: 'O', 5: {'y-box': {8: 'D', 3: 'H', 7: 'J'}}, 6: {'high': {1: 'H', 2: 'K', 5: 'K'}}}}, 6: {'high': {0: 'K', 1: 'K', 2: {'x2bar': {1: 'K', 2: 'K', 3: 'H', 5: 'H', 6: 'H', 8: 'K'}}, 3: 'H', 4: {'x-bar': {3: 'K', 7: 'O'}}, 5: {'x-box': {2: 'D', 4: 'K'}}, 6: {'x-box': {4: 'K', 6: 'S'}}, 8: 'J'}}, 7: {'y2bar': {2: {'x-box': {4: 'K', 6: 'V'}}, 3: 'K', 4: 'O', 5: 'H', 6: {'x-box': {2: 'K', 6: 'F'}}, 7: {'width': {3: 'U', 5: 'K'}}}}, 8: {'y-box': {3: {'y-bar': {8: 'U', 9: 'K', 7: 'K'}}, 4: 'U', 5: 'U', 6: {'y-bar': {8: 'O', 9: 'O', 11: 'T'}}, 7: {'x-box': {3: 'H', 5: 'U'}}, 9: 'F', 10: 'V', 11: 'T'}}, 9: {'y-bar': {7: 'K', 8: 'U', 10: 'V', 11: 'T', 13: 'T'}}, 10: {'x-bar': {3: 'U', 4: 'U', 5: 'U', 6: 'Y', 8: 'V'}}, 11: {'x-bar': {2: 'V', 3: 'U', 4: 'U', 7: 'V', 9: 'V'}}, 12: {'width': {8: 'V', 10: 'U', 7: 'Y'}}}}, 3: {'x2bar': {0: 'X', 1: {'y2bar': {8: 'X', 2: 'A', 6: {'x-bar': {3: 'K', 4: 'K', 5: 'K', 6: 'K', 7: 'K', 8: 'K', 9: 'F'}}, 7: {'y-box': {4: 'K', 5: 'K', 6: 'K', 8: 'K', 10: 'K'}}}}, 2: {'x2ybr': {0: 'X', 1: {'x-box': {3: 'X', 4: 'A'}}, 2: {'x-box': {2: 'A', 3: 'A', 5: 'R'}}, 3: {'y2bar': {5: 'R', 6: 'D', 7: 'K'}}, 4: {'x-box': {4: 'D', 6: 'F', 7: 'A'}}, 5: {'x-box': {8: 'H', 3: 'K', 5: 'F'}}, 6: {'y-bar': {8: 'K', 9: 'F', 7: 'H'}}, 7: {'x-box': {4: 'K', 5: 'H', 6: 'K', 7: 'K'}}, 8: 'K', 9: {'x-bar': {4: 'K', 5: 'K', 6: 'T'}}, 10: {'x-box': {3: 'X', 4: 'X', 5: 'K'}}, 11: {'onpix': {3: 'X', 4: 'K', 5: 'K', 6: 'X'}}, 12: 'K'}}, 3: {'x2ybr': {1: {'y-box': {4: 'A', 5: 'A', 6: 'R', 9: 'A', 10: 'A', 11: 'A', 12: 'A'}}, 2: {'y-bar': {3: 'A', 4: 'A', 5: 'H', 7: 'R'}}, 3: {'yegvx': {8: 'D', 9: 'H', 10: 'R', 11: 'R'}}, 4: {'high': {2: 'H', 3: 'D', 4: 'R', 5: 'H', 6: 'D', 7: 'H', 8: 'D'}}, 5: {'high': {3: 'H', 4: 'K', 5: 'D', 6: 'H', 7: 'D', 8: 'H', 9: 'H'}}, 6: {'y-box': {3: 'H', 4: 'H', 5: 'H', 6: 'H', 8: 'H', 9: 'F', 10: 'H', 11: 'H', 14: 'S'}}, 7: {'xybar': {10: 'H', 12: 'F', 15: 'J'}}, 8: 'H', 9: {'xegvy': {7: 'H', 8: 'H', 9: 'H', 10: 'Y', 11: 'T'}}, 10: {'y-box': {10: 'P', 5: 'K', 6: 'H', 7: 'K'}}, 11: {'width': {5: 'V', 6: 'K', 7: 'K'}}}}, 4: {'x2ybr': {1: 'A', 2: {'y-box': {6: 'H', 7: 'H', 8: 'A', 9: 'A', 11: 'D'}}, 3: {'yegvx': {8: 'H', 9: 'D', 10: 'H'}}, 4: {'y-box': {8: 'D', 9: 'R', 10: 'D', 6: 'D'}}, 5: {'x-box': {8: 'S', 4: 'P', 6: 'D'}}, 6: {'x-box': {2: 'K', 3: 'D', 6: 'S', 7: 'S'}}, 8: {'y-box': {4: 'P', 7: 'T', 11: 'S', 12: 'S', 13: 'S', 15: 'S'}}, 9: {'x-box': {4: 'Y', 5: 'H', 7: 'H'}}, 10: 'H'}}, 5: {'xy2br': {4: {'x-box': {3: 'D', 4: 'D', 7: 'T'}}, 5: 'D', 6: {'x-box': {2: 'D', 4: 'H', 5: 'D'}}, 8: {'xybar': {8: 'U', 9: 'U', 10: 'U', 7: 'H'}}, 9: 'U', 10: {'x-box': {9: 'S', 5: 'U', 6: 'A', 7: 'S'}}}}, 6: {'xy2br': {4: 'D', 5: 'D', 6: {'y-box': {9: 'D', 2: 'H', 7: 'H'}}, 8: {'y-box': {0: 'X', 1: 'H', 2: 'H', 3: 'H', 4: 'H', 5: 'H', 6: 'N', 7: 'H', 9: 'H'}}, 9: {'x2ybr': {5: 'H', 6: 'H', 7: 'U', 8: 'U', 9: 'U'}}, 10: 'H', 11: 'K'}}, 7: {'xy2br': {3: 'D', 4: 'D', 5: {'y-box': {6: 'D', 7: 'H', 8: 'D', 9: 'D', 10: 'H'}}, 6: {'x-box': {3: 'D', 4: 'N'}}, 7: {'xegvy': {8: 'O', 7: 'N'}}, 8: {'y-bar': {5: 'Q', 6: 'O', 7: 'O', 8: 'O', 9: 'O'}}, 9: {'x-bar': {4: 'U', 6: 'H', 7: 'O', 8: 'O', 9: 'O'}}, 10: {'x-box': {2: 'H', 4: 'O'}}, 11: {'x-bar': {3: 'K', 6: 'H'}}, 12: 'K'}}, 8: {'xy2br': {3: 'D', 4: 'D', 5: {'x-bar': {8: 'N', 7: 'D'}}, 6: {'x-box': {3: 'O', 5: 'N', 6: 'N'}}, 7: {'y-box': {6: 'O', 7: 'H', 8: 'O', 9: 'O', 10: 'N', 11: 'O'}}, 8: {'y-bar': {4: 'Q', 6: 'O', 7: 'O', 8: 'O', 9: 'O'}}, 9: 'O', 10: 'O', 11: {'y-box': {3: 'K', 6: 'K', 7: 'U', 9: 'O', 10: 'K'}}, 12: 'K'}}, 9: {'xy2br': {5: {'x-box': {3: 'D', 4: 'N'}}, 6: {'x-box': {3: 'D', 4: 'N', 5: 'D'}}, 7: 'O', 8: 'O', 11: 'K'}}, 10: 'D'}}, 4: {'x2bar': {0: 'X', 1: {'y2bar': {2: 'A', 4: 'F', 5: {'x-box': {4: 'F', 7: 'S'}}, 6: 'K', 7: {'yegvx': {6: 'X', 7: 'K', 8: 'K', 10: 'L', 11: 'E'}}, 8: {'xybar': {10: 'X', 11: 'E'}}, 9: {'y-bar': {5: 'L', 6: 'X', 7: 'X', 8: 'X', 10: 'T'}}}}, 2: {'x2ybr': {1: {'width': {4: 'S', 5: 'S', 6: 'A', 7: 'X', 8: 'A'}}, 2: {'y-bar': {2: 'A', 3: 'L', 6: 'X', 7: 'X'}}, 3: {'x-box': {5: 'B', 7: 'X'}}, 4: {'x-box': {8: 'A', 6: 'A', 7: 'X'}}, 5: {'xybar': {8: 'I', 9: 'J', 10: 'X', 11: 'E', 13: 'P', 14: 'P'}}, 6: {'x-box': {3: 'E', 4: 'E', 5: 'E', 6: 'K', 7: 'P'}}, 7: {'y-box': {8: 'I', 11: 'E', 6: 'E', 7: 'K'}}, 8: 'K', 9: {'width': {9: 'X', 10: 'K', 6: 'T', 7: 'K'}}, 10: {'high': {3: 'Y', 4: 'X', 5: 'X', 7: 'K', 8: 'X'}}, 11: {'y-box': {8: 'X', 9: 'X', 11: 'X', 7: 'K'}}, 12: 'X'}}, 3: {'xegvy': {4: 'A', 6: {'high': {4: 'R', 5: 'Q', 6: 'R', 7: 'R', 8: 'R'}}, 7: {'y-bar': {9: 'S', 2: 'A', 4: 'O', 7: 'R'}}, 8: {'onpix': {2: 'K', 3: 'P', 4: 'E', 5: 'H', 6: 'K', 7: 'H', 8: 'H'}}, 9: {'y-box': {6: 'X', 7: 'B', 8: 'D', 11: 'H', 14: 'Z'}}, 10: {'y-bar': {2: 'L', 3: 'L', 4: 'L', 8: 'Y', 11: 'V'}}, 11: 'V', 13: 'Q'}}, 4: {'yegvx': {4: 'Y', 5: 'K', 6: {'width': {12: 'H', 6: 'J', 7: 'E'}}, 7: {'x-box': {5: 'O', 7: 'H'}}, 8: {'x2ybr': {2: 'S', 3: 'O', 4: 'Q', 5: 'D', 6: 'X', 7: 'S'}}, 9: {'x-bar': {5: 'K', 6: 'K', 7: 'R', 8: 'O', 9: 'R'}}, 10: {'y-box': {1: 'K', 3: 'K', 4: 'K', 5: 'R', 7: 'R', 10: 'A', 12: 'I'}}, 11: 'R'}}, 5: {'xybar': {5: 'G', 6: {'x-bar': {5: 'K', 6: 'R', 7: 'R'}}, 7: {'xy2br': {8: 'X', 9: 'G', 6: 'H'}}, 8: {'x2ybr': {8: 'Q', 4: 'O', 5: 'R', 7: 'J'}}, 9: 'R', 10: {'x-box': {3: 'D', 4: 'D', 5: 'C', 7: 'C'}}, 11: {'x-box': {3: 'E', 6: 'D'}}, 12: 'C', 13: 'I'}}, 6: {'y-box': {1: 'H', 2: 'H', 3: 'X', 4: 'Q', 5: {'y-bar': {5: 'Q', 6: 'O', 7: 'H'}}, 6: 'X', 7: 'G', 8: {'y-bar': {8: 'D', 9: 'P', 6: 'G'}}, 9: {'x-bar': {8: 'J', 5: 'C', 7: 'C'}}, 10: {'x-bar': {4: 'P', 5: 'C', 6: 'G', 7: 'H', 9: 'D'}}, 11: {'width': {4: 'O', 6: 'G'}}, 12: 'I'}}, 7: {'xy2br': {3: {'x-box': {4: 'D', 5: 'P'}}, 4: 'D', 5: {'x-box': {4: 'D', 5: 'H'}}, 7: {'x-box': {3: 'H', 4: 'P'}}, 8: {'x-box': {2: 'Q', 3: 'L', 4: 'Q', 5: 'Q'}}, 9: 'Q', 10: {'y-box': {4: 'G', 5: 'Q', 7: 'Q'}}, 11: 'G'}}, 8: {'xy2br': {2: 'D', 3: 'D', 5: 'D', 6: {'x-box': {4: 'O', 5: 'D'}}, 7: 'O', 8: {'y-bar': {8: 'O', 5: 'Q', 6: 'O', 7: 'O'}}, 9: {'x2ybr': {4: 'Q', 5: 'Q', 6: 'O', 7: 'U', 8: 'O'}}, 10: {'x2ybr': {5: 'L', 6: 'C', 7: 'U'}}, 11: {'y-box': {9: 'O', 10: 'O', 6: 'U'}}}}, 9: {'xy2br': {5: 'D', 6: {'x-box': {3: 'O', 4: 'D', 5: 'O', 6: 'O'}}, 7: 'O', 8: {'y-bar': {4: 'Q', 5: 'Q', 6: 'Q', 7: 'O', 8: 'O'}}, 9: {'width': {4: 'Q', 5: 'Q', 6: 'O', 7: 'O'}}, 10: 'O'}}, 10: 'D', 11: 'D'}}, 5: {'xy2br': {3: 'P', 4: {'x-box': {3: 'I', 4: 'D', 5: 'D', 7: 'P'}}, 5: {'xegvy': {6: 'D', 7: 'J', 8: 'I', 9: {'x-box': {2: 'I', 7: 'Y'}}, 10: {'x-box': {8: 'T', 5: 'Y'}}, 11: 'Y'}}, 6: {'x2bar': {2: {'x-box': {2: 'J', 7: 'T'}}, 3: {'x-box': {2: 'B', 3: 'B', 6: 'B', 7: 'S', 8: 'T'}}, 4: {'y-box': {9: 'B', 11: 'R', 7: 'R'}}, 5: {'y-box': {6: 'R', 7: 'D', 8: 'R', 9: 'R', 13: 'I'}}, 6: 'O', 7: 'Q', 8: 'O'}}, 7: {'xybar': {5: 'Q', 6: {'yegvx': {6: 'D', 7: 'B', 8: 'R', 9: 'R', 11: 'R'}}, 7: {'x-box': {3: 'T', 4: 'K', 5: 'D', 6: 'S', 7: 'S'}}, 8: {'y-box': {6: 'H', 7: 'H', 8: 'O', 9: 'R', 12: 'S'}}, 9: 'R', 10: {'x2ybr': {3: 'S', 4: 'B', 6: 'S', 7: 'S'}}, 11: 'B', 12: {'x-box': {8: 'T', 4: 'I', 5: 'I', 7: 'I'}}, 13: 'I'}}, 8: {'xybar': {5: {'x-box': {3: 'Q', 4: 'L'}}, 6: {'x2bar': {3: 'K', 6: 'Q', 7: 'Q', 8: 'Q', 9: 'L', 10: 'R'}}, 7: {'x2bar': {2: 'X', 4: 'E', 7: 'T', 8: 'R', 9: 'R', 10: 'R'}}, 8: {'x-box': {9: 'S', 4: 'R'}}, 9: {'width': {8: 'O', 5: 'S', 6: 'O', 7: 'O'}}, 10: 'Q', 11: 'E', 12: 'E', 13: 'I'}}, 9: {'xybar': {4: 'G', 5: 'Q', 6: {'yegvx': {9: 'Q', 10: 'K', 11: 'L', 5: 'U'}}, 7: {'x2bar': {5: 'E', 6: 'T', 7: 'T', 8: 'R', 9: 'R', 10: 'R'}}, 8: {'y-bar': {8: 'Q', 9: 'R', 5: 'H'}}, 9: {'x-bar': {8: 'Q', 6: 'G', 7: 'O'}}, 10: {'y-box': {9: 'G', 11: 'E', 13: 'S'}}, 11: {'yegvx': {4: 'S', 5: 'Z', 6: 'E', 7: 'E', 8: 'E', 9: 'Z', 10: 'E', 11: 'E'}}, 12: {'x-box': {5: 'Z', 6: 'E', 7: 'E'}}}}, 10: {'y2bar': {1: 'Q', 2: 'Q', 3: 'Q', 4: 'O', 5: {'x-box': {9: 'S', 6: 'Q'}}, 6: {'onpix': {2: 'Q', 3: 'Q', 4: 'U'}}, 7: {'high': {2: 'K', 4: 'K', 5: 'K', 6: 'E', 8: 'Q'}}, 8: {'x-box': {2: 'K', 3: 'E', 4: 'E', 5: 'K'}}}}, 11: {'y2bar': {2: 'Q', 3: 'Q', 4: {'x-box': {4: 'Q', 6: 'L'}}, 5: 'U', 7: 'K', 8: {'y-box': {8: 'G', 1: 'K', 2: 'K', 11: 'E'}}}}, 12: {'y-bar': {3: 'L', 4: 'L', 6: 'G', 7: 'C', 10: 'Q', 11: 'Q'}}, 13: {'y-box': {10: {'high': {8: 'C', 7: 'G'}}, 11: 'G', 14: 'A', 7: 'K'}}}}, 6: {'xy2br': {4: {'y-box': {9: 'I', 10: 'P', 12: 'P', 14: 'I'}}, 5: {'high': {4: {'x-box': {3: 'B', 4: 'F'}}, 5: 'J', 6: {'x-box': {8: 'Y', 3: 'B'}}, 7: 'I', 8: {'x-box': {2: 'I', 5: 'B', 7: 'I'}}, 9: {'y-box': {11: 'B', 6: 'J'}}, 10: 'J', 11: 'J', 12: 'J'}}, 6: {'y2bar': {3: 'J', 4: {'y-box': {8: 'B', 9: 'J', 10: 'J'}}, 5: {'y-box': {5: 'B', 6: 'D', 7: 'B', 8: 'X', 9: 'B', 11: 'B', 12: 'I'}}, 6: {'x2bar': {2: 'X', 3: 'B', 4: 'B', 5: 'R', 6: 'B'}}, 7: 'R', 8: 'X', 9: 'T'}}, 7: {'x2ybr': {1: 'S', 2: 'S', 3: 'Z', 4: {'y-box': {8: 'B', 9: 'Q', 11: 'B', 7: 'Q'}}, 5: {'x2bar': {3: 'F', 4: 'B', 5: 'B', 6: 'R', 8: 'R'}}, 6: 'X', 7: {'x-box': {3: 'F', 4: 'Q'}}, 8: 'T', 9: 'T'}}, 8: {'x2bar': {2: {'x-box': {4: 'X', 6: 'Z', 7: 'Z'}}, 3: 'X', 4: {'x-box': {2: 'T', 3: 'X', 4: 'J', 6: 'Q'}}, 5: {'high': {8: 'E', 4: 'H', 5: 'L', 6: 'H'}}, 6: {'onpix': {3: 'R', 4: 'H', 6: 'R'}}, 7: {'x-bar': {8: 'R', 9: 'Q', 6: 'T', 7: 'T'}}, 8: {'y-box': {4: 'R', 6: 'Q', 7: 'R', 8: 'R', 9: 'R', 10: 'Q'}}, 9: 'R', 10: 'R'}}, 9: {'x2bar': {2: {'onpix': {3: 'Z', 4: 'Z', 5: 'E', 6: 'X'}}, 3: {'y2bar': {8: 'X', 9: 'X', 4: 'C', 7: 'K'}}, 4: {'y-box': {9: 'Z', 5: 'T', 11: 'Q', 13: 'Q'}}, 5: {'y2bar': {8: 'E', 4: 'P', 5: 'E', 6: 'R'}}, 6: {'y2bar': {3: 'Q', 5: 'R', 8: 'E', 9: 'E', 10: 'E'}}, 7: {'xegvy': {8: 'Q', 9: 'Q', 10: 'T', 7: 'Q'}}, 8: {'x-bar': {8: 'Q', 9: 'Q', 5: 'R', 6: 'R'}}, 9: {'x-box': {4: 'R', 5: 'R', 6: 'R', 7: 'L'}}}}, 10: {'xybar': {4: 'Q', 5: {'y-box': {3: 'Q', 6: 'Q', 7: 'Q', 9: 'Q', 11: 'X'}}, 6: {'y-box': {8: 'E', 10: 'K', 6: 'X', 7: 'X'}}, 7: 'E', 8: {'high': {5: 'E', 6: 'Q', 8: 'Q', 9: 'Q', 10: 'Q'}}, 11: {'x-box': {4: 'L', 5: 'E'}}, 12: 'Z'}}, 11: {'y2bar': {2: 'Q', 3: 'Q', 4: {'x-box': {4: 'Q', 7: 'L'}}, 5: 'L', 6: 'L', 7: 'K', 8: 'K', 9: 'E', 10: 'E'}}, 12: {'y-box': {8: 'Q', 11: 'E', 7: 'Q'}}, 13: {'x-box': {8: 'L', 5: 'K'}}}}, 7: {'xybar': {4: 'Q', 5: {'y2bar': {2: 'Q', 4: 'Q', 5: 'E', 6: 'G', 8: 'X', 9: 'X'}}, 6: {'y2bar': {3: {'x-box': {4: 'E', 6: 'Q'}}, 4: {'y-box': {8: 'A', 9: 'Q', 4: 'I', 6: 'Q'}}, 5: {'width': {4: 'L', 5: 'L', 6: 'A'}}, 6: {'y-box': {9: 'L', 6: 'B'}}, 9: 'X', 10: 'X'}}, 7: {'x2bar': {2: 'X', 3: {'xy2br': {6: 'Z', 8: 'L', 9: 'Y', 10: 'C', 11: 'C'}}, 4: {'x-box': {2: 'D', 4: 'J'}}, 5: {'y-bar': {9: 'Q', 10: 'T', 5: 'L', 6: 'L'}}, 6: {'x-bar': {8: 'E', 9: 'Y', 7: 'H'}}, 7: 'P', 8: {'x-bar': {8: 'B', 5: 'R', 6: 'H', 7: 'H'}}}}, 8: {'yegvx': {5: {'x-box': {3: 'T', 4: 'H', 5: 'T'}}, 6: {'width': {4: 'T', 5: 'H', 7: 'T'}}, 8: 'X', 9: {'width': {8: 'P', 9: 'P', 5: 'Q', 6: 'P'}}, 10: {'x-box': {4: 'P', 5: 'H'}}, 11: 'F', 13: 'C'}}, 9: {'x2bar': {1: 'I', 2: 'J', 4: {'x-box': {4: 'G', 6: 'B'}}, 5: 'B', 6: 'B'}}, 10: {'onpix': {2: {'x-bar': {8: 'E', 10: 'Q'}}, 3: 'E', 4: {'x-box': {8: 'F', 7: 'Q'}}, 5: {'x-box': {9: 'E', 4: 'B', 7: 'Q'}}, 8: 'B'}}, 11: {'y2bar': {3: 'J', 4: {'x-box': {4: 'E', 5: 'F', 6: 'J'}}, 5: {'y-box': {10: 'F', 11: 'E', 12: 'F'}}, 6: 'Q', 7: 'Q', 8: 'Z', 9: 'Z'}}, 12: {'yegvx': {6: 'Z', 7: 'L', 8: 'L', 9: 'Z', 10: 'Z', 11: 'Q', 13: 'Q'}}, 13: 'J'}}, 8: {'yegvx': {2: 'S', 3: 'Y', 4: {'y-bar': {5: 'Y', 6: 'Y', 7: 'A', 8: 'Z', 9: 'A'}}, 5: {'y-box': {4: 'H', 5: 'Y', 6: {'x-box': {3: 'D', 4: 'Y'}}, 7: {'x-box': {5: 'Z', 6: 'J'}}, 8: 'T', 9: {'x-box': {4: 'Z', 6: 'Y'}}, 10: 'A'}}, 6: {'xegvy': {6: 'I', 7: 'J', 8: 'T', 9: 'T', 10: {'y-box': {8: 'T', 9: 'Z', 6: 'H'}}}}, 7: {'xy2br': {5: {'y-box': {9: 'B', 11: 'G'}}, 6: {'x-box': {5: 'B', 6: 'Z'}}, 7: 'H', 8: {'y-box': {8: 'X', 9: 'T', 5: 'I', 7: 'T'}}, 9: {'x-box': {4: 'I', 5: 'L', 6: 'T'}}, 10: 'C', 11: 'E'}}, 8: {'high': {4: 'G', 5: {'x2ybr': {6: 'J', 7: 'I'}}, 6: {'x2bar': {2: 'X', 4: 'I', 5: 'I'}}, 7: {'x-box': {4: 'I', 5: 'J'}}, 8: 'X', 10: 'Z', 13: 'J'}}, 9: {'high': {4: {'y-box': {9: 'C', 6: 'X'}}, 5: 'E', 6: {'x-box': {3: 'I', 4: 'J'}}, 7: {'x-box': {9: 'G', 5: 'P'}}, 8: {'x-bar': {8: 'Z', 6: 'P', 7: 'B'}}, 9: 'H', 14: 'J'}}, 10: {'y-bar': {4: 'Q', 5: {'y-box': {9: 'Q', 11: 'Q', 7: 'Z'}}, 6: 'L', 7: {'y-box': {8: 'L', 9: 'C', 12: 'E', 15: 'E'}}, 8: 'F', 9: 'F', 10: 'F'}}, 11: {'y-box': {5: 'L', 6: {'width': {5: 'L', 6: 'F'}}, 7: 'L', 8: {'x-box': {4: 'L', 5: 'F'}}, 9: {'y-bar': {5: 'Q', 7: 'E'}}, 10: 'Q', 11: 'B', 12: 'Q', 13: {'x-box': {8: 'E', 7: 'C'}}, 14: {'x-box': {8: 'Q', 9: 'Q', 6: 'E'}}}}, 12: {'x-box': {8: 'Q', 4: 'Q', 5: 'E'}}, 13: 'E'}}, 9: {'high': {3: 'S', 4: {'width': {4: 'G', 5: 'S', 6: 'Z'}}, 5: {'yegvx': {4: 'Z', 5: 'Z', 6: 'Y', 8: 'K', 9: {'x-box': {5: 'Q', 6: 'E'}}, 11: 'E'}}, 6: {'x2bar': {3: {'x-box': {4: 'S', 5: 'X'}}, 4: 'Q', 5: 'Z', 6: 'Y', 7: {'width': {5: 'S', 6: 'Y'}}}}, 7: {'y-box': {9: 'X', 10: 'X', 6: 'J'}}, 8: {'y-box': {6: 'B', 7: {'x-box': {4: 'J', 5: 'J', 6: 'I'}}, 9: 'L', 10: {'x-bar': {8: 'X', 9: 'B'}}, 11: {'x-box': {4: 'B', 5: 'B', 6: 'Z'}}, 14: 'Q', 15: {'x-box': {8: 'C', 6: 'Q'}}}}, 9: {'x2ybr': {4: 'I', 5: 'J', 6: 'A', 7: {'x-box': {5: 'I', 6: 'X'}}}}, 10: {'y-box': {8: 'I', 7: 'Z'}}, 11: 'Z', 12: 'Z'}}, 10: {'yegvx': {1: 'S', 5: 'Z', 6: {'x-box': {5: 'Y', 6: 'Z'}}, 7: {'y-box': {8: 'Z', 9: 'Z', 10: 'Y', 7: 'Z'}}, 8: 'X', 9: 'X', 10: {'y-box': {6: 'B', 7: 'I'}}}}, 11: {'onpix': {4: 'Z', 5: 'Z', 6: 'Z', 7: 'S', 9: 'S', 10: 'S', 11: 'S'}}, 12: {'x-box': {4: 'S', 7: 'Z'}}, 13: {'x-box': {8: 'Z', 9: 'Z', 4: 'S', 6: 'S'}}, 14: {'x-box': {9: 'Z', 4: 'S'}}, 15: 'S'}}, 4: {'y-ege': {0: 'N', 1: {'xybar': {2: 'L', 3: 'L', 5: 'V', 6: 'U', 7: 'N', 8: {'x-box': {1: 'N', 2: 'N', 3: 'T', 4: 'V', 6: 'V'}}, 9: 'V', 10: {'y-box': {3: 'M', 4: 'N'}}}}, 2: {'xybar': {4: {'x-box': {4: 'V', 6: 'U'}}, 5: 'V', 6: {'onpix': {1: 'V', 2: 'K', 4: 'V', 5: 'U', 6: 'U'}}, 7: {'x-box': {2: 'N', 3: 'K', 4: 'K', 5: 'K', 6: 'K'}}, 8: 'A', 9: {'x-box': {8: 'V', 3: 'A'}}, 10: 'V', 11: 'J', 12: 'D'}}, 3: {'x2ybr': {2: {'xy2br': {6: 'G', 7: 'K', 8: 'D', 9: 'A', 10: 'A'}}, 3: 'A', 4: {'x-bar': {3: 'K', 4: 'K', 7: 'N', 10: 'D', 12: 'A'}}, 5: {'xybar': {7: {'x-box': {3: 'N', 4: 'K'}}, 8: 'O', 10: 'K', 11: 'X', 13: 'P'}}, 6: {'yegvx': {6: 'U', 7: {'x-box': {3: 'F', 4: 'D', 5: 'D', 6: 'D'}}, 8: {'y-box': {8: 'O', 3: 'K', 7: 'O'}}, 9: 'N', 11: 'K'}}, 7: {'x2bar': {2: {'x-box': {3: 'H', 6: 'X', 7: 'X'}}, 4: {'x-box': {3: 'P', 5: 'U'}}, 5: 'U', 6: 'U', 7: {'y-box': {8: 'C', 7: 'O'}}, 8: 'K'}}, 8: {'y-box': {2: 'F', 4: 'U', 5: {'width': {5: 'U', 7: 'K'}}, 6: 'A', 7: 'U', 9: 'K', 11: 'U', 13: 'S'}}, 9: {'x-box': {2: 'F', 5: 'Y', 6: 'Y', 7: 'U'}}, 10: {'xegvy': {7: 'K', 9: 'X', 10: 'X', 11: 'V', 12: 'V'}}, 11: {'x-box': {8: 'V', 6: 'K', 7: 'Y'}}, 12: 'Y'}}, 4: {'y2bar': {1: {'x-bar': {11: 'A', 12: 'A', 5: 'P'}}, 2: {'x2ybr': {2: 'A', 4: 'A', 5: 'P', 7: 'V', 10: 'V'}}, 3: {'x2ybr': {2: 'A', 3: 'G', 4: {'x-box': {5: 'O', 6: 'P'}}, 5: 'P', 8: 'Y', 10: 'Y'}}, 4: {'y-box': {5: 'A', 8: 'O', 9: {'high': {4: 'Y', 6: 'O', 7: 'O'}}, 10: 'Q', 11: 'O', 12: 'P', 13: {'x-bar': {11: 'G', 6: 'Y'}}, 15: 'P'}}, 5: {'xy2br': {2: 'P', 3: 'P', 4: {'y-box': {6: 'D', 8: 'D', 9: 'P', 10: 'P', 11: 'P', 12: 'P', 15: 'P'}}, 5: {'x-box': {9: 'Y', 4: 'N', 6: 'D', 7: 'V'}}, 6: {'high': {4: 'F', 5: 'Y', 6: 'A', 8: 'D', 9: 'Y'}}, 7: {'x-box': {5: 'R', 6: 'O'}}, 8: {'x-box': {4: 'J', 5: 'Q', 6: 'O'}}, 9: 'U', 10: {'x-box': {5: 'U', 6: 'S'}}, 11: {'x-bar': {6: 'G', 7: 'O'}}, 12: 'C', 13: 'C'}}, 6: {'x2bar': {1: 'K', 2: {'y-box': {9: 'H', 10: 'H', 11: 'P'}}, 3: {'xybar': {8: 'J', 9: 'D', 10: 'H', 11: 'D'}}, 4: {'y-box': {8: 'H', 9: 'D', 10: 'T', 15: 'S'}}, 5: 'D', 6: {'x-box': {5: 'G', 6: 'J'}}, 7: {'x-box': {3: 'D', 4: 'C'}}, 8: {'xy2br': {4: 'D', 6: 'N', 8: 'C', 11: 'C', 12: 'C', 13: 'C'}}, 9: 'C'}}, 7: {'xy2br': {4: {'x-box': {5: 'P', 6: 'T'}}, 5: {'onpix': {6: 'D', 7: 'P'}}, 6: {'width': {6: 'P', 7: 'D'}}, 7: {'y-box': {8: 'H', 9: 'D', 10: 'D', 11: 'X'}}, 8: {'x-bar': {8: 'K', 9: 'R', 5: 'G', 6: 'X'}}, 9: {'width': {6: 'C', 7: 'G', 8: 'H', 9: 'H', 11: 'K'}}, 10: 'K', 11: 'K', 12: 'K'}}, 8: {'x2ybr': {2: 'X', 3: 'D', 4: {'width': {8: 'X', 9: 'X', 6: 'X', 7: 'D'}}, 6: 'X', 7: 'X', 8: 'U', 9: {'high': {3: 'T', 4: 'K', 6: 'F', 8: 'F', 9: 'T'}}, 10: 'Y', 11: 'X', 12: 'K'}}, 9: {'x2ybr': {1: 'X', 2: 'X', 4: 'D', 5: 'X', 6: 'X', 7: 'X', 9: 'X'}}, 10: 'X'}}, 5: {'xy2br': {2: 'D', 3: 'P', 4: {'y-box': {8: 'D', 9: 'G', 10: 'P', 12: 'G', 13: 'G'}}, 5: {'xegvy': {7: 'G', 8: 'P', 9: 'Y', 10: {'width': {8: 'Y', 4: 'Y', 7: 'P'}}, 11: {'high': {4: 'P', 5: 'P', 6: 'T', 8: 'Y', 9: 'P'}}}}, 6: {'y-box': {1: 'B', 4: {'x-box': {3: 'Y', 4: 'P'}}, 5: 'P', 6: 'D', 7: 'B', 9: {'x2bar': {2: 'A', 3: 'J', 4: 'D', 5: 'O'}}, 10: 'O', 11: {'yegvx': {8: 'O', 9: 'D', 10: 'O', 6: 'G'}}, 12: 'G', 15: {'x-box': {8: 'O', 9: 'G'}}}}, 7: {'yegvx': {4: 'J', 5: 'D', 6: 'D', 7: 'G', 8: {'x-box': {4: 'B', 6: 'O'}}, 9: {'x-box': {8: 'O', 2: 'B', 5: 'O', 7: 'G'}}, 10: {'x-box': {4: 'R', 5: 'R', 6: 'B'}}, 11: {'x-box': {5: 'R', 6: 'B'}}, 13: 'Q'}}, 8: {'x-bar': {6: {'x-box': {5: 'K', 6: 'V'}}, 7: {'x-box': {4: 'X', 5: 'D'}}, 8: {'y-box': {7: 'R', 8: 'O', 10: 'R', 11: 'O', 15: 'S'}}, 9: 'K', 10: 'E', 11: 'B'}}, 9: {'x2bar': {1: 'K', 2: 'K', 3: 'H', 4: {'x-box': {6: 'Q', 7: 'O'}}, 5: {'x-box': {5: 'O', 6: 'R'}}, 6: 'O', 8: {'x-box': {6: 'O', 7: 'U'}}}}, 10: {'y-box': {6: 'Q', 7: 'L', 8: {'high': {6: 'K', 7: 'O'}}, 9: {'x-box': {5: 'K', 6: 'R'}}, 10: {'x-box': {6: 'K', 7: 'O'}}, 11: 'O'}}, 11: 'U', 12: {'y-box': {5: 'Q', 6: 'Q', 9: 'A', 10: 'G', 11: 'G'}}, 13: {'x-box': {5: 'G', 7: 'C'}}, 14: 'A', 15: 'C'}}, 6: {'yegvx': {3: 'Y', 4: {'onpix': {8: 'J', 4: 'J', 5: 'U', 6: 'J'}}, 5: {'xegvy': {5: {'x-box': {4: 'D', 5: 'D', 7: 'O'}}, 6: 'D', 7: 'D', 8: {'x-box': {2: 'J', 3: 'J', 4: 'B', 6: 'Q'}}, 9: {'x-box': {8: 'P', 9: 'Y'}}, 10: 'Y', 11: 'P'}}, 6: {'y-box': {5: 'I', 6: 'Q', 9: 'Q', 11: 'Y', 14: {'x-box': {9: 'G', 7: 'P'}}, 15: 'P'}}, 7: {'high': {4: {'x-box': {3: 'R', 4: 'E'}}, 5: 'G', 6: {'y-box': {9: 'B', 12: 'P', 7: 'Q'}}, 7: {'x2bar': {2: 'X', 4: 'Q', 5: 'B'}}, 8: {'y-box': {10: 'G', 6: 'Q'}}, 9: {'x-box': {4: 'Q', 7: 'Y'}}, 10: 'Q', 13: 'Y'}}, 8: {'x2ybr': {2: 'S', 3: 'P', 4: {'x-box': {8: 'P', 3: 'X'}}, 5: 'Q', 6: {'x-box': {3: 'P', 5: 'B', 6: 'G'}}, 7: {'width': {4: 'G', 7: 'T'}}, 8: 'Q', 9: 'T', 10: {'x-box': {4: 'V', 6: 'Y'}}}}, 9: {'y2bar': {2: {'y-box': {9: 'Q', 6: 'H'}}, 3: 'R', 4: 'Q', 5: {'y-box': {6: 'C', 9: 'O', 10: 'F', 11: 'F', 15: 'S'}}, 6: {'x-box': {3: 'B', 4: 'R', 5: 'R'}}, 7: {'x-box': {5: 'K', 6: 'T'}}}}, 10: {'x2ybr': {2: 'S', 3: 'K', 4: 'D', 5: 'R', 6: {'xy2br': {8: 'R', 11: 'C', 13: 'K', 6: 'P'}}, 8: {'x-box': {4: 'S', 6: 'L'}}}}, 11: {'y-box': {8: 'R', 9: 'E', 10: 'K', 7: 'B'}}, 12: {'y2bar': {3: 'K', 5: 'R', 6: 'Q', 7: 'E'}}}}, 7: {'xy2br': {3: {'x-box': {8: 'F', 10: 'P'}}, 4: {'x-box': {8: 'P', 10: 'Y', 4: 'I', 5: 'F'}}, 5: {'y-box': {9: 'Y', 10: 'Y', 11: 'Y', 13: 'F'}}, 6: {'yegvx': {4: 'D', 5: 'D', 6: {'x-box': {3: 'D', 6: 'B'}}, 7: {'x-box': {4: 'J', 5: 'F', 6: 'F'}}, 8: {'x-box': {4: 'B', 5: 'R'}}, 9: 'R', 10: 'F', 11: 'R'}}, 7: {'y2bar': {1: 'P', 3: 'R', 4: {'y-box': {8: 'Q', 9: 'R', 10: 'R'}}, 5: 'Q', 6: 'D', 7: 'R'}}, 8: {'yegvx': {4: 'D', 5: 'F', 6: 'Z', 7: {'x-box': {3: 'E', 5: 'T'}}, 8: {'x-bar': {8: 'Q', 9: 'F', 6: 'T'}}, 9: {'x-box': {4: 'R', 5: 'K'}}, 10: 'R', 11: 'K'}}, 9: {'xegvy': {4: 'R', 5: 'X', 6: {'x-box': {3: 'K', 4: 'E', 5: 'Q'}}, 7: {'x-box': {8: 'Z', 3: 'X', 4: 'E', 5: 'E'}}, 8: {'x-box': {3: 'E', 4: 'G', 6: 'Q'}}, 9: {'y-box': {8: 'Q', 10: 'E'}}, 10: 'T', 11: {'high': {8: 'Y', 5: 'S', 6: 'Y'}}}}, 10: {'x-bar': {4: 'C', 5: {'x-box': {4: 'K', 5: 'E'}}, 6: {'y-box': {10: 'X', 7: 'C'}}, 7: {'y-box': {6: 'G', 7: 'E', 8: 'G', 9: 'G', 10: 'G', 11: 'G'}}, 8: {'high': {10: 'Q', 4: 'C', 5: 'E', 7: 'E'}}, 9: {'x-box': {4: 'Q', 7: 'L'}}}}, 11: {'y-bar': {3: 'L', 5: {'x-box': {4: 'G', 5: 'C'}}, 6: 'C', 7: {'x-box': {3: 'C', 4: 'G', 5: 'C'}}, 8: {'y-box': {5: 'C', 7: 'G'}}, 9: 'E'}}, 12: {'x-box': {4: 'Q', 6: 'K'}}}}, 8: {'y-box': {4: 'H', 5: {'xegvy': {8: 'I', 9: 'F', 10: {'high': {4: 'E', 6: 'F', 7: 'H'}}, 11: 'Y'}}, 6: {'yegvx': {5: 'D', 6: 'J', 7: 'I', 8: 'K', 9: 'S', 11: {'x-bar': {10: 'S', 6: 'E'}}}}, 7: {'yegvx': {3: 'Z', 6: {'x-box': {3: 'D', 6: 'H'}}, 7: {'high': {8: 'F', 5: 'D'}}, 8: {'x2ybr': {8: 'Y', 4: 'R', 5: 'H', 6: 'J'}}, 9: 'E', 11: {'width': {5: 'E', 6: 'F'}}, 13: 'K'}}, 8: {'x2bar': {2: 'X', 3: 'E', 4: {'high': {11: 'Y', 6: 'D', 7: 'L'}}, 5: 'D', 6: {'x-box': {4: 'F', 5: 'E'}}}}, 9: {'x2bar': {2: 'X', 3: {'x-box': {3: 'E', 4: 'X', 5: 'G'}}, 4: {'high': {8: 'C', 6: 'D', 7: 'X'}}, 5: {'x-box': {3: 'D', 6: 'K', 7: 'Q'}}, 6: {'x-box': {4: 'G', 6: 'E', 7: 'Q'}}, 7: 'Q', 8: 'P'}}, 10: {'y2bar': {3: 'E', 4: 'F', 5: 'D', 7: 'T'}}, 11: {'xy2br': {3: 'F', 4: 'F', 5: 'I', 6: 'X', 7: 'X', 8: 'H', 9: 'G', 10: 'X'}}, 12: 'C', 13: {'x-bar': {8: 'F', 11: 'Q', 6: 'Z'}}, 14: {'width': {8: 'Z', 5: 'G', 6: 'C', 7: 'G'}}, 15: {'x-box': {9: 'C', 10: 'Z'}}}}, 9: {'yegvx': {4: {'x-box': {5: 'A', 7: 'Z'}}, 5: {'x-box': {3: 'Y', 4: 'H'}}, 6: {'x-box': {3: 'D', 5: 'T'}}, 7: {'y-bar': {9: 'F', 10: 'E', 6: 'G'}}, 8: {'x2ybr': {5: 'X', 6: 'G', 7: 'E', 8: 'Y', 9: 'C'}}, 9: {'onpix': {4: 'Q', 5: 'I', 6: 'K', 7: 'H', 8: 'S'}}, 10: {'y-box': {6: 'S', 7: 'I', 9: {'x-box': {5: 'C', 6: 'E'}}, 10: 'K', 12: 'Q', 14: {'x-box': {6: 'Q', 7: 'C'}}}}, 11: {'x-box': {10: 'C', 4: 'L', 6: 'C', 7: 'C'}}, 14: 'Q'}}, 10: {'high': {4: 'S', 5: {'x-box': {3: 'S', 4: 'S', 5: 'X'}}, 6: {'y2bar': {3: 'S', 4: {'x-box': {4: 'S', 5: 'Z'}}, 5: 'X'}}, 7: {'x-box': {8: 'Q', 3: 'D', 4: 'Z', 6: 'Z'}}, 8: {'y2bar': {3: 'K', 4: 'C', 5: 'X', 6: 'X', 7: 'J'}}, 9: {'x2ybr': {8: 'I', 5: 'A', 6: 'J'}}, 10: {'y-box': {9: 'J', 7: 'H'}}}}, 11: {'x2bar': {3: {'y2bar': {3: 'S', 5: 'X', 7: 'E'}}, 4: {'x-bar': {8: 'J', 7: 'I'}}, 5: 'S', 7: 'A', 8: 'A'}}, 15: 'S'}}, 5: {'y-ege': {0: {'xegvy': {6: 'M', 7: 'N', 8: 'N', 9: {'x-box': {1: 'W', 2: 'N', 3: 'N', 4: 'N', 7: 'N', 8: 'N'}}, 10: {'x-box': {1: 'W', 2: 'W', 3: 'U'}}, 11: 'W'}}, 1: {'xegvy': {4: 'M', 5: 'M', 6: 'M', 7: 'N', 8: 'N', 9: 'N', 10: {'y-box': {3: 'W', 5: 'U', 6: 'W'}}, 11: {'x-box': {2: 'W', 3: 'W', 4: 'W', 5: 'W', 6: 'W', 7: 'V'}}}}, 2: {'xybar': {3: {'x-bar': {4: 'N', 5: 'U', 6: 'U', 7: 'N', 9: 'N'}}, 4: {'y-bar': {4: 'U', 5: 'U', 6: 'U', 9: 'N', 10: 'N', 11: 'N', 12: 'N'}}, 5: 'N', 6: {'high': {4: 'N', 5: 'N', 6: 'U', 7: 'N', 8: 'U'}}, 7: {'y2bar': {1: 'V', 2: 'W', 4: 'N', 5: 'N', 6: 'D'}}, 8: {'x-box': {3: 'M', 6: 'V', 7: 'V'}}, 9: {'y-box': {4: 'W', 6: 'M', 9: 'V', 10: 'V', 11: 'V'}}, 10: {'width': {4: 'W', 5: 'W', 7: 'M'}}}}, 3: {'y-box': {1: 'H', 2: {'x2bar': {4: 'R', 5: 'N', 6: 'D'}}, 3: {'x-bar': {8: 'H', 6: 'R', 7: 'D'}}, 5: {'width': {4: 'D', 5: 'A', 6: 'A'}}, 6: {'width': {4: {'high': {9: 'P', 4: 'F'}}, 5: 'C', 6: 'F', 7: 'A'}}, 7: {'x2bar': {1: 'F', 2: {'x-box': {3: 'A', 4: 'F'}}, 3: {'x-box': {3: 'C', 6: 'A'}}, 4: 'V', 5: 'G', 6: 'G', 7: 'U'}}, 8: {'x-box': {3: 'F', 4: 'F', 5: 'F', 6: 'U', 9: 'Y'}}, 9: {'x-bar': {5: {'high': {4: 'H', 5: 'K'}}, 6: {'x-box': {5: 'F', 7: 'K'}}, 7: 'A', 8: {'x-box': {4: 'C', 5: 'N', 6: 'K'}}, 9: 'K', 10: 'K', 12: 'A'}}, 10: {'y-bar': {3: 'A', 6: 'U', 7: 'J', 8: 'U', 9: 'H'}}, 11: {'xybar': {3: 'U', 6: 'U', 7: 'V', 8: 'V', 9: 'A', 10: 'K', 12: 'D'}}, 12: {'y-bar': {8: 'K', 10: 'V', 7: 'K'}}, 13: {'y-bar': {9: 'K', 10: 'V', 5: 'U', 6: 'U'}}, 15: {'y-bar': {9: 'V', 11: 'V', 6: 'U', 7: 'K'}}}}, 4: {'x2bar': {1: {'x-box': {8: 'K', 4: 'F', 6: 'F'}}, 2: {'y-box': {9: {'x-box': {4: 'F', 5: 'K', 7: 'H'}}, 10: {'xybar': {9: 'F', 10: 'H', 11: 'D', 12: 'F', 13: 'F'}}, 11: 'X', 12: 'X', 13: 'K', 15: 'X'}}, 3: {'xybar': {6: 'A', 7: {'x-box': {3: 'K', 4: 'A', 5: 'A', 6: 'A'}}, 8: 'A', 9: {'x-box': {8: 'K', 11: 'K', 5: 'A', 7: 'K'}}, 10: {'y-bar': {8: 'H', 4: 'D', 6: 'H', 7: 'H'}}, 11: 'K'}}, 4: {'xybar': {6: 'T', 7: {'y-box': {9: 'V', 11: 'V', 5: 'Y', 7: 'C'}}, 8: {'x-box': {2: 'V', 3: 'P', 4: 'J', 5: 'P', 6: 'A'}}, 9: 'N', 10: {'x-box': {3: 'R', 5: 'K', 6: 'H', 8: 'K', 9: 'K'}}, 11: {'x-box': {8: 'K', 5: 'A', 6: 'A', 7: 'K'}}, 12: 'D'}}, 5: {'x2ybr': {2: 'D', 3: 'P', 4: 'P', 5: 'R', 6: 'D', 7: {'onpix': {6: 'Q', 7: 'Y'}}, 8: {'x-box': {8: 'U', 6: 'Q', 7: 'U'}}, 10: 'V', 12: 'Y'}}, 6: {'xybar': {6: {'x-box': {3: 'W', 5: 'L'}}, 7: {'x-box': {3: 'H', 4: 'P'}}, 8: 'D', 9: {'y-box': {8: 'D', 9: 'O', 10: 'O', 11: 'D'}}, 10: {'x-box': {6: 'O', 7: 'V'}}, 11: 'P', 12: 'P', 13: 'P'}}, 7: {'x-bar': {5: 'Y', 6: 'L', 7: 'O', 8: 'D', 9: 'U'}}, 8: 'O', 9: {'y-box': {8: 'N', 10: 'N', 11: 'O'}}}}, 5: {'y2bar': {0: 'P', 1: {'x-box': {4: 'V', 5: 'A', 6: 'Q'}}, 2: {'y-bar': {2: 'A', 3: 'A', 8: 'P', 9: 'P', 11: 'V'}}, 3: {'y-bar': {2: 'A', 4: 'Y', 5: 'A', 6: 'O', 7: {'x-box': {3: 'M', 4: 'O', 5: 'O', 6: 'O'}}, 8: {'x-box': {3: 'N', 6: 'P'}}, 9: {'x-box': {3: 'M', 6: 'P'}}, 10: 'P'}}, 4: {'x-box': {3: 'I', 4: {'y-box': {8: 'A', 7: 'N'}}, 5: 'O', 6: 'O', 7: 'O', 8: 'O', 9: {'y-box': {13: 'O', 14: 'P'}}, 10: 'O', 12: 'P'}}, 5: {'y-box': {3: 'B', 6: {'x-box': {3: 'L', 4: 'T'}}, 7: 'D', 8: {'x-box': {2: 'I', 4: 'D'}}, 9: 'D', 10: {'x2bar': {9: 'O', 4: 'D', 6: 'O', 7: 'O'}}, 11: {'x-box': {8: 'D', 5: 'D', 7: 'O'}}, 12: 'O', 13: 'O', 14: 'O'}}, 6: {'onpix': {3: {'x-box': {3: 'B', 5: 'D', 7: 'O'}}, 4: {'xy2br': {5: 'P', 6: 'R', 8: 'D', 9: 'D', 10: 'D'}}, 5: {'x-box': {8: 'D', 9: 'D', 6: 'P'}}, 6: {'x-box': {4: 'T', 5: 'R', 6: 'K', 7: 'H'}}, 7: {'x-box': {5: 'T', 6: 'K', 7: 'P'}}, 8: 'T', 10: 'H'}}, 7: {'y-box': {5: 'H', 6: 'U', 8: 'T', 9: 'T', 10: 'T', 11: 'K'}}, 8: {'x-box': {9: 'X', 6: 'F', 7: 'U'}}, 9: 'X'}}, 6: {'yegvx': {3: 'Y', 4: {'y-box': {8: 'A', 9: 'D', 6: 'N'}}, 5: {'xy2br': {5: 'F', 6: {'x-box': {9: 'Y', 4: 'N'}}, 7: {'x-box': {3: 'Y', 5: 'D', 6: 'D'}}, 9: {'x-box': {2: 'L', 5: 'T'}}, 10: 'L'}}, 6: {'x2bar': {1: 'A', 3: 'R', 4: 'D', 5: 'H', 6: 'G', 7: 'G'}}, 7: {'x-box': {2: 'H', 3: 'X', 4: 'A', 5: 'R', 6: {'y-box': {9: 'R', 7: 'Q'}}, 7: 'G', 8: 'P', 10: 'Y'}}, 8: {'width': {4: 'B', 5: 'R', 6: 'P', 7: 'Q', 9: 'V', 10: 'E'}}, 9: {'x-box': {8: 'D', 10: 'D', 3: 'P', 4: 'Q'}}, 10: {'y-box': {2: 'B', 7: 'P', 8: 'P', 10: 'D', 13: 'D'}}, 11: {'onpix': {3: 'B', 4: 'D', 5: 'E', 7: 'E', 8: 'B'}}, 12: 'K'}}, 7: {'yegvx': {3: {'x-box': {8: 'Y', 4: 'A', 5: 'U'}}, 4: {'x2bar': {1: 'Y', 5: {'x-box': {8: 'D', 4: 'Y', 6: 'D'}}, 6: 'D', 7: 'A', 8: 'U'}}, 5: {'xegvy': {5: 'O', 7: 'Q', 9: 'D', 10: {'x-box': {3: 'R', 5: 'Y'}}, 11: 'L'}}, 6: {'y-box': {5: 'Y', 6: 'Q', 7: 'O', 9: {'x-box': {5: 'D', 7: 'O'}}, 10: 'B', 11: 'V', 12: 'D', 14: 'D'}}, 7: {'xegvy': {3: 'Q', 4: 'Q', 5: {'x-box': {4: 'D', 6: 'Q'}}, 6: {'y-box': {10: 'X', 6: 'Q'}}, 7: {'x-box': {3: 'K', 4: 'G', 5: 'G', 6: 'G'}}, 8: {'width': {8: 'B', 5: 'D', 6: 'G'}}, 10: {'x-box': {8: 'Y', 3: 'B'}}}}, 8: {'onpix': {5: {'x-box': {4: 'G', 5: 'C'}}, 6: 'P', 7: 'R', 8: 'B', 9: {'x-box': {6: 'T', 7: 'G'}}}}, 9: {'onpix': {3: 'B', 5: 'E', 6: 'R', 7: 'Q', 8: 'E'}}, 10: {'y-bar': {4: 'Q', 5: 'B', 6: 'P', 7: 'E', 8: 'B', 9: 'P'}}, 11: {'x2bar': {2: 'K', 4: 'C', 5: 'F', 7: {'x-box': {5: 'Q', 6: 'R'}}, 8: 'Q'}}, 12: {'x-box': {3: 'E', 6: 'R', 7: 'B'}}}}, 8: {'y2bar': {2: {'high': {5: 'G', 7: 'H', 10: 'H', 11: 'Q', 12: 'Y'}}, 3: {'y-box': {6: 'Y', 7: 'R', 9: 'Q', 10: {'high': {8: 'G', 7: 'E'}}, 11: {'x-box': {5: 'E', 6: 'Q'}}}}, 4: {'yegvx': {5: 'Y', 7: 'K', 9: 'E', 10: 'C', 11: 'K', 12: 'R'}}, 5: {'xybar': {5: 'R', 6: 'E', 7: {'x-box': {6: 'Q', 7: 'C'}}, 10: 'B', 11: 'F', 12: 'F'}}, 6: {'y-box': {6: 'F', 7: 'D', 8: 'D', 9: 'X', 10: 'D', 12: 'D'}}, 7: {'x-box': {5: 'K', 6: 'K', 7: 'S'}}, 9: 'X'}}, 9: {'yegvx': {5: {'y-box': {9: 'D', 5: 'Y'}}, 6: {'x-box': {10: 'F', 5: 'T'}}, 7: {'onpix': {9: 'L', 6: 'K', 7: 'J'}}, 8: {'high': {4: 'B', 6: 'E', 7: 'E', 8: 'X', 10: 'F'}}, 9: {'x-box': {4: 'E', 5: 'E', 6: 'F'}}, 10: {'x-box': {4: 'S', 5: 'E'}}, 11: {'xegvy': {8: 'S', 9: 'C', 10: 'S', 11: 'F'}}, 12: 'F', 13: 'Q'}}, 10: {'yegvx': {5: {'y-box': {11: 'D', 6: 'F'}}, 6: 'H', 8: {'x-box': {4: 'F', 6: 'K'}}, 9: 'E', 10: {'x-box': {4: 'S', 5: 'J', 6: 'S'}}, 11: 'K', 12: {'x-box': {4: 'S', 6: 'F'}}}}, 11: {'xegvy': {4: 'T', 7: 'S', 8: {'x-box': {5: 'D', 7: 'A'}}, 9: {'high': {9: 'J', 6: 'S'}}, 13: 'Y'}}, 12: {'x-bar': {8: 'S', 7: 'X'}}, 15: 'S'}}, 6: {'y-ege': {0: {'xegvy': {5: 'M', 6: 'M', 7: 'N', 8: 'N', 9: {'x-box': {2: 'W', 5: 'N', 7: 'N', 8: 'N', 10: 'N'}}, 10: 'W', 11: 'W', 12: 'W'}}, 1: {'xegvy': {2: 'M', 3: 'M', 5: 'M', 6: 'M', 7: 'N', 8: {'x-box': {3: 'U', 4: 'N', 5: 'N', 6: 'N', 7: 'N'}}, 9: {'x2bar': {2: 'N', 3: 'N', 4: 'U', 5: 'N', 6: 'N', 13: 'N'}}, 10: {'onpix': {4: 'U', 5: 'U', 6: 'W'}}, 11: 'W', 12: 'W'}}, 2: {'y-bar': {3: {'x-box': {11: 'U', 5: 'M'}}, 4: 'U', 5: 'U', 6: {'x-box': {9: 'U', 2: 'M', 3: 'M', 4: 'M'}}, 7: {'x-bar': {4: 'M', 5: 'M', 8: 'N', 9: 'N', 10: 'N', 11: 'N', 12: 'N'}}, 8: 'N', 9: {'y-box': {6: 'N', 7: 'W', 9: 'N', 11: 'U', 13: 'N', 15: 'N'}}, 10: 'W', 11: {'x2bar': {1: 'V', 2: 'W', 3: 'W', 5: {'x-box': {4: 'W', 6: 'N', 7: 'N'}}}}, 12: {'onpix': {4: 'V', 6: 'W', 7: 'W'}}}}, 3: {'xegvy': {4: 'A', 5: 'A', 6: 'K', 7: {'x-box': {4: 'N', 5: 'N', 6: 'N', 7: 'U', 11: 'U'}}, 8: {'y2bar': {3: 'W', 4: {'x-box': {3: 'N', 4: 'W'}}, 5: 'U', 6: {'xy2br': {5: 'D', 6: 'H', 7: 'H', 8: 'D', 9: 'H', 10: 'H'}}, 7: {'xy2br': {8: 'K', 10: 'H', 5: 'H', 6: 'D'}}}}, 9: {'y-bar': {8: {'x-box': {8: 'K', 12: 'K', 4: 'N', 7: 'K'}}, 6: 'C', 7: 'F'}}, 10: {'y-box': {2: 'N', 10: 'N', 11: 'K', 12: 'V', 13: 'N', 14: 'N'}}, 11: {'y-box': {7: 'W', 9: 'N', 10: 'K', 13: 'K', 15: 'N'}}, 12: 'V', 13: 'V'}}, 4: {'y2bar': {0: 'Q', 2: {'y-bar': {4: 'A', 5: {'x-box': {4: 'W', 5: 'V'}}, 6: {'x-box': {3: 'C', 4: 'W', 6: 'W'}}, 7: 'W', 9: {'y-box': {5: 'P', 6: 'G'}}}}, 3: {'x2ybr': {4: 'N', 5: {'x-box': {3: 'R', 4: 'N'}}, 6: 'G', 7: 'P', 8: 'W'}}, 4: {'xy2br': {5: 'V', 6: 'H', 7: {'y-box': {8: 'F', 9: 'F', 10: 'J'}}, 8: {'x-box': {3: 'N', 5: 'H'}}, 9: 'N', 11: 'C'}}, 5: {'xy2br': {4: 'H', 5: 'H', 7: {'x-box': {5: 'J', 7: 'U'}}, 8: {'x-box': {6: 'A', 7: 'U'}}, 9: 'U', 11: 'C', 12: 'C'}}, 6: {'x-box': {3: 'H', 4: 'R', 5: 'L', 6: 'L', 7: {'y-box': {10: 'A', 12: 'K', 13: 'K', 14: 'K'}}, 8: 'K', 9: {'y-box': {12: 'K', 13: 'U'}}}}, 7: {'xy2br': {5: 'H', 6: {'x-box': {4: 'R', 5: 'R', 7: 'H'}}, 7: 'K', 8: 'H', 10: {'x-box': {3: 'K', 6: 'H'}}}}, 8: {'x-box': {5: 'U', 6: 'D', 8: 'U', 9: 'U', 11: 'K'}}, 9: 'U'}}, 5: {'x2bar': {1: {'onpix': {8: 'F', 6: 'K', 7: 'K'}}, 2: {'x-box': {3: 'K', 5: 'V', 6: 'A'}}, 3: {'xybar': {6: 'R', 7: 'R', 8: {'high': {5: 'N', 6: 'D', 7: 'I'}}, 9: 'H', 10: 'H'}}, 4: {'y2bar': {2: 'V', 3: {'y-box': {8: 'P', 9: 'G', 5: 'P'}}, 4: {'x-box': {4: 'C', 5: 'N', 6: 'C', 7: 'H'}}, 5: {'x-box': {8: 'H', 11: 'H', 5: 'T'}}, 7: {'x-box': {3: 'B', 4: 'E'}}, 8: 'K'}}, 5: {'y-box': {5: {'high': {8: 'P', 5: 'N', 6: 'P', 7: 'Q'}}, 6: 'P', 7: 'H', 8: {'onpix': {5: 'R', 7: 'U'}}, 9: 'G', 10: {'x-box': {4: 'A', 5: 'R'}}, 11: {'onpix': {8: 'V', 9: 'V', 11: 'V', 6: 'R'}}, 15: 'O'}}, 6: {'y-box': {11: 'R', 13: 'O'}}, 7: {'y-box': {8: 'H', 9: 'L', 10: 'L', 14: 'O'}}, 8: {'x-bar': {8: 'U', 6: 'L', 7: 'O'}}}}, 6: {'y-box': {4: 'Y', 5: {'yegvx': {3: 'N', 9: {'y-bar': {8: 'V', 9: 'G', 7: 'B'}}, 11: 'V', 4: 'Y'}}, 6: {'yegvx': {4: 'P', 5: {'x-box': {4: 'Y', 6: 'P'}}, 6: {'high': {4: 'R', 6: 'V'}}, 7: 'R', 8: 'K', 9: 'B'}}, 7: {'x2bar': {2: 'P', 3: {'xegvy': {8: 'K', 9: 'R', 11: 'L'}}, 4: 'G', 5: 'Q', 7: 'Q'}}, 8: {'xegvy': {6: 'R', 7: 'R', 8: {'width': {5: 'E', 6: 'N'}}, 9: 'R', 10: {'x-box': {4: 'L', 5: 'P'}}, 11: 'L'}}, 9: {'xegvy': {4: 'B', 5: 'R', 6: {'x-box': {8: 'B', 5: 'H'}}, 7: 'H', 8: {'width': {9: 'K', 6: 'E', 7: 'T'}}, 9: 'C', 11: 'L'}}, 10: {'yegvx': {6: 'L', 7: 'L', 8: 'M', 9: 'E', 10: {'y-bar': {8: 'B', 5: 'R', 7: 'B'}}, 11: {'width': {9: 'E', 5: 'R'}}}}, 11: {'x2bar': {1: 'K', 3: 'R', 4: {'y-bar': {8: 'T', 4: 'G', 7: 'B'}}, 5: {'x-box': {4: 'E', 6: 'D', 7: 'D'}}, 6: 'B'}}, 12: {'width': {8: 'R', 6: 'B', 7: 'R'}}, 13: 'R', 15: 'D'}}, 7: {'yegvx': {2: {'y-box': {8: 'N', 9: 'A'}}, 3: 'N', 4: {'y-box': {10: 'L', 11: 'A', 6: 'Y'}}, 5: {'xy2br': {6: 'P', 7: {'y-box': {9: 'N', 5: 'P'}}, 8: {'x-bar': {8: 'K', 6: 'R', 7: 'R'}}, 9: 'R', 10: 'L', 11: 'L'}}, 6: {'y-box': {5: 'V', 6: 'D', 7: 'D', 10: 'B', 11: 'D', 13: 'R'}}, 7: {'y2bar': {2: {'x-box': {2: 'B', 3: 'G'}}, 3: 'H', 4: {'y-box': {8: 'M', 6: 'Q', 7: 'B'}}, 5: 'R', 6: {'y-box': {15: 'R', 6: 'B', 7: 'X'}}}}, 8: {'x2bar': {3: 'B', 4: 'D', 5: 'G', 7: 'M'}}, 9: 'B', 10: {'y-box': {6: 'V', 7: {'width': {6: 'Q', 7: 'K'}}, 8: 'M', 9: {'x-box': {5: 'R', 6: 'P'}}, 11: 'H', 12: 'B', 13: 'B', 14: 'B'}}, 11: {'xybar': {7: {'x-box': {5: 'B', 6: 'H'}}, 8: 'F', 9: 'R', 10: 'B', 11: 'B'}}, 13: 'G'}}, 8: {'yegvx': {2: {'x-box': {8: 'Z', 6: 'U'}}, 3: {'x-box': {4: 'B', 5: 'Y', 6: 'U', 7: {'y-box': {9: 'D', 10: 'A'}}}}, 4: {'y-box': {8: 'B', 6: 'V'}}, 5: {'high': {8: 'Z', 9: 'Y', 6: 'B', 7: 'D'}}, 6: {'high': {4: 'B', 5: 'B', 6: 'B', 7: 'X', 8: 'Q', 11: 'Q'}}, 7: {'y2bar': {2: 'H', 3: {'x-box': {3: 'B', 4: 'K', 6: 'G'}}, 4: 'B', 5: {'x-box': {4: 'V', 7: 'B'}}, 6: 'X', 7: 'X'}}, 8: {'x2bar': {3: {'x-box': {4: 'L', 6: 'X'}}, 4: 'B', 5: 'B', 6: 'M', 7: 'Q'}}, 9: {'x2bar': {3: {'x-box': {5: 'X', 6: 'B'}}, 4: {'high': {12: 'Y', 6: 'H', 7: 'Y'}}, 5: 'B', 6: 'P', 7: {'y-box': {9: 'R', 10: 'Q'}}}}, 10: {'y-box': {8: 'G', 9: 'C', 6: 'K'}}, 11: {'x-box': {8: 'B', 11: 'B', 5: 'K', 6: 'F'}}, 12: {'x-box': {4: 'E', 6: 'F'}}}}, 9: {'xy2br': {4: 'F', 5: 'D', 6: {'x-box': {5: 'X', 6: 'B'}}, 7: {'x-box': {8: 'D', 9: 'D', 5: 'B', 7: 'L'}}, 8: 'M', 9: {'y-box': {8: 'Y', 9: 'D', 7: 'K'}}, 10: {'x-box': {9: 'C', 5: 'Y', 6: 'T'}}, 11: 'E', 12: 'Q'}}, 10: {'xy2br': {6: 'B', 8: 'S', 9: {'x-box': {4: 'Y', 6: 'D'}}, 10: 'L', 11: 'G'}}, 12: 'S'}}, 7: {'y-ege': {0: {'xegvy': {5: 'M', 6: 'M', 7: 'N', 8: 'N', 9: 'W', 10: 'W', 11: 'W', 12: 'W'}}, 1: {'xegvy': {2: 'M', 3: 'M', 5: 'M', 6: 'M', 7: 'U', 8: {'x-box': {4: 'U', 7: 'N'}}, 10: 'W', 11: 'W', 12: 'W'}}, 2: {'xegvy': {2: 'M', 5: 'M', 6: 'M', 7: {'width': {8: 'U', 9: 'N', 10: 'N', 6: 'M'}}, 8: 'U', 9: {'x-box': {8: 'N', 3: 'W'}}, 10: {'y-box': {6: 'W', 7: 'W', 8: 'W', 9: 'W', 11: 'N'}}, 11: {'x2ybr': {1: 'N', 2: 'N', 8: 'W', 9: 'W', 10: 'W', 11: 'V'}}, 12: {'y-box': {4: 'W', 6: 'W', 7: 'W', 8: 'W', 9: 'W', 10: 'W', 15: 'N'}}, 13: 'W'}}, 3: {'y2bar': {1: 'O', 2: {'x-box': {9: 'W', 4: 'V', 6: 'W'}}, 3: 'W', 4: {'x-box': {4: 'A', 5: 'F', 7: 'V'}}, 5: {'x2ybr': {6: 'N', 7: 'N', 8: 'A', 10: 'V', 11: 'M'}}, 6: {'onpix': {8: 'D', 5: 'N', 6: 'D', 7: 'D'}}, 7: 'D'}}, 4: {'y2bar': {0: {'x-box': {3: 'P', 4: 'Q'}}, 1: 'V', 2: 'O', 3: 'N', 4: {'x-box': {8: 'U', 5: 'W'}}, 5: 'U'}}, 5: {'yegvx': {3: 'U', 4: {'x-box': {4: 'N', 5: 'W', 6: 'N'}}, 5: {'x-box': {4: 'U', 5: 'N'}}, 6: 'P', 7: {'high': {8: 'N', 4: 'N', 6: 'U', 7: 'P'}}, 8: {'x-box': {8: 'H', 4: 'Y'}}, 9: {'y-box': {8: 'C', 10: 'K', 11: 'K', 12: 'H', 13: 'H', 15: 'H'}}, 10: {'x-box': {8: 'R', 4: 'G', 6: 'W'}}, 11: {'x-box': {9: 'A', 5: 'Q'}}}}, 6: {'yegvx': {1: 'U', 2: 'U', 3: 'N', 4: {'x-box': {4: 'Y', 5: 'R', 6: 'R'}}, 5: {'x2bar': {4: 'R', 5: 'N', 6: 'W'}}, 6: {'high': {8: 'H', 10: 'P', 4: 'R', 5: 'R'}}, 7: {'xegvy': {6: 'H', 7: 'R', 8: {'x-box': {3: 'H', 6: 'C'}}, 9: 'N', 10: 'V', 11: 'L', 12: 'P'}}, 8: {'high': {4: 'B', 6: 'G'}}, 9: {'xegvy': {7: {'x-box': {8: 'K', 5: 'B', 6: 'K'}}, 9: 'R', 10: 'V', 11: 'G', 12: 'P', 13: 'P'}}, 10: {'y-box': {10: 'M', 15: 'R', 14: 'R', 6: 'R'}}, 11: {'y-box': {6: 'K', 8: {'width': {5: 'R', 6: 'K'}}, 9: 'G', 10: 'R', 11: 'K', 12: 'A', 14: 'R', 15: 'R'}}, 12: {'xy2br': {8: 'W', 9: 'Q', 10: 'G', 7: 'R'}}, 13: 'G'}}, 7: {'y-box': {5: 'Q', 6: {'width': {4: 'H', 5: 'B', 6: 'V'}}, 7: {'y2bar': {3: 'H', 5: 'M', 6: 'K'}}, 8: {'xegvy': {7: 'K', 8: {'width': {8: 'N', 5: 'G', 6: 'H'}}, 9: 'R', 10: 'R', 11: {'x-box': {6: 'G', 7: 'P'}}, 12: 'P'}}, 9: {'x2ybr': {5: 'R', 6: 'N', 7: 'B'}}, 10: {'onpix': {4: 'R', 6: 'V', 8: 'K', 9: 'T', 11: 'R'}}, 11: {'width': {8: 'N', 9: 'B', 7: {'x-bar': {8: 'L', 7: 'K'}}}}, 12: 'R', 13: 'R', 15: 'R'}}, 8: {'yegvx': {2: 'N', 3: 'T', 5: {'x-box': {4: 'L', 7: 'V'}}, 6: {'y-box': {8: 'M', 9: 'B', 11: 'R'}}, 7: {'onpix': {8: 'K', 9: 'B', 6: 'B', 7: 'T'}}, 8: {'x-box': {3: 'Y', 4: 'H', 5: 'B', 7: 'V'}}, 9: {'y-box': {8: 'G', 9: 'V', 11: 'B', 15: 'B'}}, 10: {'x-box': {4: 'K', 5: 'W'}}, 11: {'x-box': {5: 'V', 6: 'M'}}, 12: 'K', 13: {'x-box': {4: 'K', 6: 'G', 7: 'Q'}}, 14: 'K'}}, 9: {'yegvx': {4: 'N', 5: {'x-box': {4: 'V', 5: 'B'}}, 6: 'B', 7: 'B', 8: {'onpix': {8: 'B', 10: 'H', 13: 'M', 7: 'B'}}, 9: {'x-box': {4: 'H', 5: 'B'}}, 10: 'K', 11: 'B', 12: 'K', 13: 'K', 14: {'y-bar': {10: 'Q', 5: 'G', 7: 'K'}}}}, 10: {'xy2br': {8: 'V', 9: 'K', 11: 'G', 6: 'D'}}, 11: 'B', 12: {'x-box': {5: 'B', 6: 'Y'}}, 13: 'S', 15: 'S'}}, 8: {'y-ege': {0: {'y-bar': {6: 'M', 7: 'M', 8: 'W', 9: 'W', 10: 'W', 11: 'W'}}, 1: {'y-bar': {2: 'M', 3: 'M', 5: 'M', 9: 'W', 10: 'W', 11: 'W', 12: 'W'}}, 2: {'x-bar': {3: 'W', 4: {'x-box': {10: 'W', 5: 'W', 6: 'M', 7: 'N'}}, 5: 'M', 6: 'M', 7: {'high': {2: 'M', 3: 'M', 4: 'M', 5: 'M', 6: 'M', 8: 'U'}}, 8: 'M', 9: 'M', 10: {'x-box': {8: 'M', 10: 'M', 5: 'W', 6: 'M'}}, 11: 'M', 12: 'M'}}, 3: {'y2bar': {2: 'W', 3: 'W', 4: 'M', 5: {'x-box': {4: 'M', 5: 'M', 6: 'N', 7: 'M'}}}}, 4: {'xegvy': {6: 'A', 7: {'width': {8: 'A', 6: 'L', 7: 'V'}}, 8: {'x-box': {3: 'O', 4: 'G', 7: 'A'}}, 9: {'x2bar': {1: 'F', 4: {'x-box': {4: 'V', 5: 'C'}}, 5: 'O', 6: {'x-box': {5: 'Q', 6: 'Y'}}}}, 10: 'V', 11: 'A', 12: 'W', 13: 'W'}}, 5: {'yegvx': {5: 'W', 6: 'N', 7: {'x2bar': {4: 'U', 5: 'N', 6: 'M'}}, 8: {'x-box': {4: 'V', 5: 'N'}}, 9: 'N', 10: 'G', 12: 'W'}}, 6: {'yegvx': {1: 'U', 5: {'x-box': {5: 'M', 6: 'P'}}, 6: {'x-bar': {9: 'U', 6: 'H', 7: 'C'}}, 7: 'U', 8: {'y-box': {8: 'P', 11: 'V', 6: 'Y'}}, 9: {'x-box': {4: 'R', 6: 'V'}}, 10: {'x-box': {5: 'O', 6: 'G'}}, 11: 'P', 12: 'Q'}}, 7: {'yegvx': {3: 'N', 4: 'R', 5: 'R', 6: 'R', 7: 'K', 8: {'y-box': {9: 'K', 7: 'G'}}, 9: 'R', 10: {'y-box': {8: 'K', 11: 'D', 5: 'W'}}, 11: 'M', 12: 'K'}}, 8: {'yegvx': {5: 'R', 6: {'x-box': {5: 'H', 6: 'M', 7: 'B'}}, 7: {'xegvy': {4: 'B', 7: 'K', 8: 'B', 9: 'K', 11: 'G'}}, 8: {'width': {8: 'K', 9: 'K', 6: 'K', 7: 'H'}}, 9: 'M', 10: 'W', 12: 'K'}}, 9: {'xy2br': {6: 'B', 7: {'x-box': {8: 'B', 9: 'B', 4: 'H'}}, 8: {'y-box': {8: 'V', 10: 'M', 11: 'M'}}, 9: {'x-box': {5: 'Y', 6: 'G', 7: 'G'}}, 10: 'R', 11: 'E'}}, 10: {'x-box': {4: 'H', 5: 'E', 6: {'x-bar': {8: 'V', 7: 'E'}}, 7: 'E', 9: 'B', 10: 'B'}}, 11: 'H'}}, 9: {'y-ege': {0: {'x2bar': {3: 'W', 4: 'W', 5: 'W', 12: 'M', 13: 'M'}}, 1: {'x-box': {3: 'M', 4: 'W', 6: 'W', 8: 'W', 9: 'W', 10: 'W', 12: 'W'}}, 2: {'y2bar': {0: 'M', 1: 'M', 2: 'W', 3: 'W', 4: {'x-bar': {3: 'W', 4: 'M', 7: 'W', 8: 'M', 11: 'M'}}, 5: 'M', 6: 'M', 7: 'M'}}, 3: {'y-bar': {6: 'M', 7: 'M', 8: 'M', 10: 'W', 11: 'M'}}, 4: {'y2bar': {8: 'H', 2: 'W', 3: 'M', 5: 'M'}}, 5: {'y2bar': {1: 'O', 2: 'O', 3: 'G', 4: {'x-box': {4: 'U', 5: 'M', 6: 'M'}}, 5: 'H', 6: 'N'}}, 6: {'xybar': {8: 'V', 5: 'W', 6: {'x-box': {4: 'W', 6: 'Q'}}, 7: 'P'}}, 7: {'yegvx': {3: 'N', 6: 'N', 8: 'W', 9: 'W', 10: 'H', 11: 'A'}}, 8: {'x-box': {4: 'Y', 5: 'G', 6: 'W'}}, 9: {'x2bar': {4: 'K', 5: {'x-box': {3: 'H', 6: 'G'}}, 6: 'G', 7: 'M'}}, 10: {'y-box': {10: 'H', 6: 'Q'}}, 11: 'E'}}, 10: {'y-ege': {1: {'x-box': {4: 'W', 5: 'W', 6: 'W', 7: 'W', 8: 'M', 11: 'W', 12: 'W'}}, 2: {'x-box': {4: {'onpix': {8: 'W', 9: 'W', 6: 'M'}}, 5: 'M', 6: 'W', 7: 'M', 8: 'M', 9: 'W', 10: 'M', 11: 'M'}}, 3: {'onpix': {4: 'M', 6: 'W', 7: 'M', 8: 'M', 10: 'M', 11: 'M'}}, 4: {'y2bar': {1: 'O', 2: 'W', 4: 'M', 5: 'M'}}, 5: {'onpix': {7: 'W', 8: 'M', 9: {'x-box': {4: 'Q', 7: 'M'}}, 10: {'x-box': {5: 'U', 6: 'O'}}, 11: 'M', 12: 'M'}}, 6: {'y-box': {8: 'O', 9: 'M', 10: 'W', 11: 'C'}}, 7: {'x-box': {5: 'K', 7: 'O'}}, 8: {'yegvx': {6: 'U', 7: 'K', 8: 'W', 9: {'x-box': {8: 'W', 6: 'G'}}, 10: 'W', 14: 'Q'}}, 9: {'onpix': {8: 'G', 9: 'G', 10: 'R', 11: 'W', 12: 'W', 13: 'W'}}}}, 11: {'yegvx': {3: 'M', 4: {'y-box': {9: 'M', 10: 'W', 11: 'W'}}, 5: {'xegvy': {8: 'M', 9: {'x-box': {10: 'W', 5: 'M'}}, 10: 'W', 6: 'M'}}, 6: {'y-box': {5: 'M', 8: 'W', 10: 'M', 14: 'W', 15: 'M'}}, 7: {'x-box': {8: 'M', 11: 'M', 5: 'U', 6: 'M'}}, 8: {'onpix': {6: 'M', 7: 'M', 8: 'M', 9: 'G', 11: 'O', 14: 'W'}}, 9: 'M', 10: {'x-box': {6: 'U', 7: 'O'}}, 11: 'O', 12: 'O', 13: 'Q', 15: 'Q'}}, 12: {'xegvy': {4: 'M', 5: 'M', 6: 'M', 7: 'M', 8: 'M', 9: {'x-box': {9: 'M', 11: 'W'}}, 10: 'W', 11: {'y-box': {10: 'O', 11: 'W'}}, 12: 'O'}}, 13: {'xegvy': {6: 'M', 8: 'M', 9: 'M', 10: 'W', 11: 'W', 12: 'W'}}, 14: {'high': {8: 'M', 9: 'W', 6: 'M', 7: 'M'}}, 15: {'y-box': {8: 'W', 9: 'M'}}}}\n",
            "{'xy2br': {0: 'P', 1: 'P', 2: {'xegvy': {6: 'L', 7: 'L', 8: 'D', 9: 'P', 10: {'y-box': {2: 'P', 4: 'P', 5: 'P', 6: 'P', 7: 'P', 8: 'P', 9: 'P', 10: 'F', 11: 'P'}}, 11: 'P', 12: 'T'}}, 3: {'y-bar': {6: 'D', 7: {'x-box': {8: 'N', 3: 'D', 7: 'N'}}, 8: {'y-box': {4: 'P', 6: 'D', 7: 'N', 8: 'N', 9: 'D', 10: 'P'}}, 9: 'P', 10: 'P', 11: {'xybar': {9: 'P', 10: 'P', 11: 'P', 12: 'F', 13: 'P', 14: {'x-box': {4: 'P', 6: 'F', 7: 'F'}}}}, 12: {'x2bar': {3: 'F', 4: 'P', 5: {'x-box': {3: 'F', 7: 'P'}}, 6: 'P', 8: 'P'}}, 13: {'y2bar': {2: 'P', 4: 'F', 5: 'F', 6: 'T', 9: 'T'}}, 14: {'y2bar': {1: 'P', 4: 'T', 5: 'T', 6: 'T', 7: 'T'}}, 15: 'F'}}, 4: {'x2ybr': {0: 'N', 1: {'onpix': {1: 'L', 2: 'L', 3: 'N', 4: 'N', 6: 'N'}}, 2: {'x-box': {1: 'L', 6: 'N'}}, 3: {'x-box': {1: 'L', 2: 'L', 5: 'P', 6: 'F', 9: 'H', 12: 'P'}}, 4: {'xybar': {6: 'N', 7: 'G', 8: 'I', 9: {'onpix': {8: 'I', 4: 'D', 7: 'I'}}, 11: 'P', 12: 'P', 13: {'y-bar': {8: 'P', 9: 'F', 11: 'J', 7: 'P'}}, 14: {'x-box': {5: 'F', 7: 'P'}}}}, 5: {'x2bar': {2: {'width': {3: 'F', 4: 'I', 5: 'F', 6: 'F', 7: 'F'}}, 3: {'y-box': {3: 'P', 4: 'P', 7: {'x-bar': {8: 'P', 7: 'F'}}, 9: 'P', 10: {'x-box': {4: 'I', 5: 'J', 6: 'I', 7: 'P'}}, 11: 'F', 12: {'width': {6: 'J', 7: 'P'}}, 13: 'J', 14: 'I', 15: 'F'}}, 4: 'P', 5: {'y-bar': {7: {'x-box': {8: 'Y', 2: 'D'}}, 8: 'D', 9: 'P', 10: 'P', 11: 'P'}}, 6: {'xybar': {6: 'N', 9: 'D', 10: 'P', 11: 'P', 13: 'P', 14: 'P'}}, 7: 'D', 8: 'D', 9: 'P'}}, 6: {'x-ege': {0: 'P', 1: {'y2bar': {1: 'P', 2: 'P', 3: 'P', 4: 'I', 5: 'F', 6: 'F'}}, 2: {'x-box': {3: {'y-box': {9: 'P', 2: 'D'}}, 4: 'F', 5: 'F', 6: 'J', 8: 'F', 9: 'F'}}, 3: {'x-box': {3: 'D', 4: 'D', 5: 'D', 6: 'P'}}, 4: {'x-box': {8: 'Y', 4: 'O', 5: 'D', 6: 'P'}}, 5: {'x-box': {9: 'P', 3: 'I', 4: 'N', 5: 'O'}}, 6: {'y-bar': {8: 'D', 11: 'F', 7: 'N'}}, 7: 'N', 8: 'N'}}, 7: {'xybar': {6: {'x-box': {4: 'M', 5: 'I'}}, 7: 'D', 8: {'x-box': {3: 'P', 4: 'D'}}, 9: {'x-bar': {5: 'P', 6: 'P', 7: 'D'}}, 10: 'Y', 11: 'F', 12: 'F', 13: 'F', 14: 'P'}}, 8: {'xybar': {8: 'P', 9: 'P', 10: 'P', 11: {'x-bar': {3: 'P', 4: 'P', 5: 'T', 6: 'T', 7: 'T'}}, 12: 'T', 13: {'x-box': {3: 'F', 7: 'T'}}, 14: 'F'}}, 9: {'yegvx': {4: {'x-box': {3: {'y-box': {4: 'T', 7: 'F'}}, 4: 'T', 5: 'T', 6: 'T', 7: 'T', 8: 'T'}}, 5: {'xybar': {8: 'Y', 10: {'x-box': {2: 'Y', 3: 'T'}}, 11: {'y-box': {3: 'T', 4: 'T', 5: 'T', 7: 'T', 8: 'F', 10: 'T', 11: 'T'}}, 12: 'T', 13: 'F'}}, 6: 'F', 7: 'P', 8: 'V', 9: 'V', 10: 'V'}}, 10: {'y-box': {3: 'Y', 5: 'T', 6: 'Y', 7: 'F', 8: 'T', 9: 'Y', 10: 'T', 11: {'x-box': {9: 'V', 5: 'T', 6: 'T'}}, 12: 'V'}}, 11: 'Y'}}, 5: {'x2ybr': {0: 'L', 1: {'y-box': {3: 'L', 4: 'L', 6: 'L', 7: 'L', 8: 'L', 9: 'A', 10: 'K', 11: 'A', 12: 'K'}}, 2: {'y-bar': {1: 'L', 3: 'L', 4: 'L', 5: 'A', 6: 'X', 7: 'N', 8: 'H'}}, 3: {'high': {1: 'N', 2: 'D', 4: {'x-box': {3: 'N', 4: 'N', 6: 'G', 7: 'H'}}, 6: 'D', 7: {'x2bar': {3: 'N', 5: 'D'}}, 8: {'xegvy': {8: 'I', 9: 'N', 10: 'P', 11: 'X'}}, 11: 'J'}}, 4: {'xybar': {4: 'N', 5: {'y-box': {8: 'N', 11: 'D', 4: 'D'}}, 6: {'y-box': {8: 'O', 9: 'N', 10: 'B'}}, 7: {'x-box': {4: 'X', 5: 'G'}}, 8: {'y-box': {7: 'I', 8: 'D', 11: {'x-box': {3: 'I', 5: 'J'}}, 12: 'H', 13: 'G', 14: 'G'}}, 9: {'x2bar': {1: {'x-box': {2: 'I', 5: 'F'}}, 2: 'I', 4: {'x-box': {8: 'H', 5: 'B'}}, 5: {'y-bar': {4: 'G', 6: 'D', 7: 'D'}}}}, 10: {'x-box': {3: 'D', 4: 'D', 5: 'D', 7: 'N', 8: 'P'}}, 11: {'y-box': {6: 'J', 7: 'J', 8: 'J', 10: 'F', 12: 'F', 13: 'P', 15: 'P'}}, 12: {'y-box': {3: 'P', 6: 'J', 7: {'x-box': {3: 'P', 4: 'P', 5: 'J'}}, 8: 'P', 9: 'P', 10: {'x-box': {8: 'P', 5: 'F', 7: 'P'}}, 11: 'J', 12: 'F', 13: {'onpix': {4: 'I', 5: 'P'}}, 14: {'x-box': {9: 'J', 7: 'F'}}}}, 13: {'y2bar': {3: 'J', 4: {'x-box': {8: 'P', 4: 'J'}}, 5: {'x-box': {4: 'P', 5: 'I', 6: 'I'}}, 6: {'y-box': {9: 'P', 10: 'I', 11: 'I', 12: 'I', 14: 'I'}}, 7: 'P'}}}}, 5: {'xybar': {4: 'S', 5: {'x-bar': {8: 'O', 9: 'S', 5: 'D', 7: 'D'}}, 6: {'x2bar': {4: 'X', 5: 'B', 6: 'N', 7: 'D', 9: 'O', 10: 'D', 11: 'D'}}, 7: {'y-box': {3: 'B', 6: 'J', 8: 'B', 9: 'D', 10: 'J', 11: 'B'}}, 8: {'y-box': {6: 'I', 7: {'y-bar': {5: 'J', 6: 'I', 7: 'I'}}, 8: 'I', 9: 'P', 10: 'D', 11: 'J'}}, 9: {'width': {3: 'D', 4: 'D', 5: 'D', 6: {'x-box': {3: 'I', 6: 'G'}}, 7: 'F', 8: 'Y'}}, 10: {'xegvy': {8: {'y-bar': {8: 'D', 9: 'B', 7: 'D'}}, 9: {'x-box': {4: 'J', 6: 'F'}}, 10: 'P', 7: 'B'}}, 11: {'high': {4: 'P', 5: 'D', 7: 'D'}}, 12: {'x-box': {8: 'F', 6: 'J', 7: 'J'}}, 13: {'y2bar': {2: 'J', 3: 'J', 4: 'P', 5: {'width': {4: 'I', 6: 'P', 7: 'P'}}, 6: {'width': {8: 'F', 5: 'P', 6: 'F', 7: 'P'}}, 7: 'F'}}, 14: {'x-box': {6: 'P', 7: 'I'}}}}, 6: {'x2bar': {0: 'I', 1: {'x-bar': {8: 'P', 7: 'F'}}, 2: {'y-ege': {1: 'F', 2: 'F', 3: {'x-box': {3: 'F', 4: 'P'}}, 4: 'P', 5: 'F', 6: 'F', 7: 'F', 8: 'J'}}, 3: {'y-bar': {5: 'I', 6: 'I', 7: 'S', 8: 'X', 9: {'x-box': {3: 'F', 4: 'F', 5: 'F', 6: 'T', 7: 'F'}}, 10: 'F'}}, 4: {'y-box': {1: 'B', 3: 'B', 6: 'B', 7: 'D', 8: 'D', 9: {'x-box': {3: 'B', 5: 'G'}}, 10: 'Y', 11: {'x-box': {8: 'Y', 5: 'G'}}}}, 5: {'y-ege': {2: 'M', 3: 'D', 4: 'D', 5: 'D', 6: 'B', 7: 'B', 8: {'y-box': {8: 'B', 9: 'S', 3: 'S'}}}}, 6: {'y-box': {0: 'P', 1: 'D', 2: 'D', 3: 'D', 4: 'D', 5: {'x-bar': {8: 'B', 7: 'D'}}, 7: {'y2bar': {8: 'D', 6: 'B', 7: 'H'}}, 8: {'width': {6: 'D', 7: 'N'}}, 9: {'width': {5: 'D', 6: 'B'}}, 10: 'S', 11: {'x-box': {4: 'D', 5: 'S'}}}}, 7: {'yegvx': {5: 'H', 6: 'H', 7: 'D', 8: 'P', 9: 'B', 10: 'B', 11: 'B'}}, 8: {'onpix': {1: 'P', 3: {'x-bar': {8: 'O', 5: 'P', 7: 'D'}}, 5: 'O', 6: 'D', 7: 'Q'}}, 9: 'P', 10: {'y-bar': {9: 'P', 10: 'P', 7: 'D'}}, 11: {'width': {4: 'D', 5: 'D', 6: 'P'}}}}, 7: {'x-ege': {0: 'Z', 1: 'F', 2: {'yegvx': {3: 'T', 4: 'T', 5: 'T', 6: 'F', 7: 'F'}}, 3: {'xegvy': {8: {'x-box': {3: 'D', 4: 'D', 5: 'H'}}, 10: 'Y', 6: 'D', 7: 'B'}}, 4: {'y-box': {6: 'P', 7: 'H', 8: 'D', 9: 'S', 10: 'D', 12: 'F'}}, 5: {'x-box': {6: 'D', 7: 'V'}}, 6: {'x-box': {4: 'D', 5: 'D', 6: 'F'}}, 7: {'width': {8: 'N', 9: 'D', 4: 'M'}}, 8: 'M', 10: 'M', 11: 'M'}}, 8: {'x-box': {1: 'F', 2: {'y-bar': {9: 'P', 10: 'P', 11: 'F', 12: 'F', 13: 'F'}}, 3: {'high': {3: 'F', 4: 'F', 5: 'A', 6: 'P', 10: 'P'}}, 4: {'onpix': {8: 'P', 2: 'T', 3: 'F', 4: 'T'}}, 5: {'y-box': {9: 'Y', 10: {'width': {5: 'V', 7: 'P'}}, 11: 'T', 7: 'F'}}, 6: {'y-box': {9: 'Y', 10: 'O', 11: 'V', 12: 'F'}}, 7: 'V', 8: 'Y', 9: {'y-box': {13: 'V', 14: 'V', 15: 'Y'}}, 10: 'V'}}, 9: {'xybar': {3: 'U', 6: 'A', 7: 'P', 8: {'y-box': {8: 'Y', 9: 'Y', 11: 'Y', 12: 'V', 14: 'V'}}, 9: 'Y', 10: {'yegvx': {4: 'Y', 5: 'T', 6: 'F', 7: {'x-box': {2: 'F', 3: 'F', 4: 'P'}}, 9: 'V'}}, 11: {'yegvx': {3: 'T', 4: 'T', 5: {'x-box': {2: 'T', 3: 'T', 4: 'T', 5: 'Z', 9: 'T'}}, 6: 'F'}}, 12: {'x-box': {3: 'F', 4: 'F', 5: 'T', 6: 'T'}}, 13: 'F'}}, 10: {'x2bar': {1: 'Y', 2: {'y-ege': {1: {'y-box': {3: 'Y', 4: 'T', 6: 'T'}}, 2: {'x-box': {2: 'Y', 3: 'Y', 4: 'T', 7: 'T', 8: 'T'}}, 3: 'Y', 4: 'Y', 5: 'Y', 6: 'Y'}}, 3: {'high': {1: 'Y', 2: 'Y', 3: 'Y', 4: {'y-box': {2: 'F', 5: 'T'}}, 6: 'T', 7: {'x-box': {4: 'F', 5: 'T'}}, 8: 'T', 9: 'Y', 15: 'Y'}}, 4: {'x-bar': {3: 'F', 4: 'F', 5: 'F', 6: 'Y', 8: 'V'}}, 5: {'x-box': {4: 'F', 6: 'V', 7: 'V', 9: 'V', 10: 'V'}}, 6: {'x-box': {3: 'F', 4: 'F', 5: 'F', 7: 'V', 10: 'V'}}}}, 11: {'y-box': {6: 'Y', 8: 'Y', 9: 'Y', 10: 'Y', 11: 'Y', 13: 'V'}}, 12: 'Y'}}, 6: {'x2ybr': {0: {'x-box': {2: 'L', 3: 'L', 4: 'X'}}, 1: {'xybar': {0: 'L', 1: 'L', 2: 'L', 4: 'A', 5: 'A', 6: 'A', 10: 'X', 11: {'y-box': {6: 'R', 9: 'R', 10: 'R', 11: 'X', 14: 'H'}}, 13: 'N'}}, 2: {'xybar': {1: 'L', 2: 'L', 3: {'width': {4: 'L', 6: 'A'}}, 4: 'A', 5: 'A', 6: {'x-box': {8: 'S', 3: 'A', 5: 'A'}}, 7: 'A', 8: 'Z', 9: 'R', 10: {'y-bar': {3: 'G', 5: 'A', 6: 'H', 7: 'R'}}, 11: {'xegvy': {8: {'x-box': {8: 'K', 5: 'D', 7: 'K'}}, 9: 'H', 5: 'R', 7: 'R'}}, 12: 'X'}}, 3: {'xybar': {5: 'D', 6: {'x-box': {4: 'O', 5: 'O', 6: 'O', 7: 'H'}}, 7: 'Z', 8: 'Z', 9: {'y-ege': {2: 'M', 3: {'x-box': {8: 'M', 4: 'D', 5: 'D', 6: 'D'}}, 4: 'K', 6: {'x-box': {3: 'Z', 4: 'J'}}}}, 10: {'y-box': {3: {'width': {3: 'D', 4: 'R'}}, 4: {'x-bar': {9: 'R', 10: 'D'}}, 5: 'D', 6: 'D', 7: {'width': {3: 'J', 5: 'S', 6: 'R'}}, 8: 'H', 9: {'width': {8: 'R', 5: 'D', 7: 'D'}}, 10: {'x-box': {6: 'D', 7: 'S'}}, 11: {'x-box': {5: 'D', 6: 'X'}}, 12: {'x-box': {9: 'B', 7: 'G'}}, 15: 'D'}}, 11: {'x-ege': {0: 'J', 1: 'S', 2: 'B', 3: 'D', 4: {'y-box': {10: 'D', 7: 'B'}}, 5: 'P'}}, 12: {'x-box': {3: 'J', 5: 'I', 6: 'I', 7: 'I'}}, 13: 'P', 14: 'I'}}, 4: {'xybar': {5: {'x-box': {2: 'Q', 4: 'D', 5: 'D', 6: 'D'}}, 6: {'y-box': {4: 'H', 5: 'H', 7: {'width': {4: 'D', 5: 'Z', 6: 'Z'}}, 8: 'N', 9: 'B', 10: 'N', 11: 'B'}}, 7: {'x2bar': {3: 'X', 4: 'H', 5: 'R', 7: {'x-box': {2: 'S', 3: 'R', 5: 'R'}}, 8: 'S'}}, 8: {'yegvx': {4: 'J', 5: 'J', 7: 'S', 8: 'S', 9: {'x-box': {8: 'D', 4: 'S', 5: 'R'}}, 11: 'R'}}, 9: {'y-box': {3: 'D', 4: 'R', 5: {'y-bar': {6: 'M', 7: 'R'}}, 6: 'D', 7: 'D', 9: {'x-box': {3: 'J', 6: 'D'}}, 10: {'x-box': {8: 'G', 3: 'J', 5: 'J', 6: 'M'}}, 11: 'D', 12: 'K', 13: 'K'}}, 10: {'y-ege': {1: {'high': {1: 'N', 2: 'N', 3: 'N', 4: 'N', 6: 'N', 7: 'J', 8: 'N'}}, 2: {'x-box': {8: 'N', 1: 'D', 2: 'D', 3: 'D'}}, 3: {'yegvx': {8: 'D', 9: 'R'}}, 4: {'x-box': {2: 'B', 3: 'R', 4: 'B', 5: 'R'}}, 5: {'y-bar': {8: 'S', 6: 'D', 7: 'B'}}, 6: {'width': {8: 'B', 9: 'B', 4: 'J', 6: 'D'}}, 7: 'F', 9: 'B'}}, 11: {'y-box': {6: 'D', 7: 'D', 8: 'D', 9: 'D', 11: {'y-bar': {6: 'F', 7: 'P'}}, 12: 'X', 13: 'X', 14: 'T', 15: {'x-box': {5: 'I', 7: 'X'}}}}, 12: {'width': {5: 'J', 6: 'P', 7: 'F', 8: 'F', 9: 'P'}}, 13: 'F', 14: 'J'}}, 5: {'xybar': {5: {'y-box': {7: 'D', 8: 'X', 9: 'S', 10: 'S', 11: 'D'}}, 6: {'y-box': {1: 'R', 2: 'R', 3: {'x-bar': {6: 'R', 7: 'B'}}, 4: {'high': {2: 'R', 3: 'R', 6: 'O'}}, 5: {'x-box': {3: 'R', 4: 'O'}}, 6: {'x-box': {3: 'S', 4: 'D', 5: 'D'}}, 7: {'x-box': {3: 'D', 4: 'X'}}, 8: {'y-bar': {8: 'X', 10: 'Z', 7: 'B'}}, 9: 'Z', 10: {'x-box': {4: 'X', 5: 'D', 6: 'O'}}, 11: {'x-box': {4: 'X', 5: 'S'}}}}, 7: {'y-ege': {3: {'x-box': {4: 'N', 5: 'H', 6: 'N'}}, 4: {'x-box': {2: 'R', 4: 'R', 7: 'N'}}, 5: {'xegvy': {8: 'B', 6: 'O', 7: 'R'}}, 6: {'xegvy': {8: 'B', 11: 'N', 6: 'R', 7: 'B'}}, 7: {'x2bar': {8: 'H', 4: 'N', 6: 'B', 7: 'B'}}, 8: {'x2bar': {9: 'B', 5: 'Z', 6: 'Z', 7: 'S'}}, 9: 'B', 10: {'y-box': {9: 'D', 7: 'S'}}, 11: 'S'}}, 8: {'x2bar': {2: 'X', 3: {'x-box': {2: 'J', 5: 'X'}}, 4: {'x-box': {8: 'H', 3: 'J'}}, 5: {'y-bar': {8: 'N', 9: 'S', 10: 'S'}}, 6: {'x-box': {4: 'R', 5: 'R', 7: 'K'}}, 7: {'x-box': {3: 'S', 6: 'R'}}, 8: 'H', 9: 'B', 10: 'B'}}, 9: {'x2bar': {1: 'F', 2: {'y-box': {8: 'J', 9: 'F', 10: 'F'}}, 3: 'B', 4: {'xegvy': {8: 'B', 9: 'G', 7: 'R'}}, 5: {'y-box': {9: 'B', 10: 'O', 3: 'D', 14: 'G'}}, 6: {'y-bar': {9: 'O', 6: 'G', 7: 'D'}}, 7: 'O', 8: 'O'}}, 10: {'y-ege': {1: 'N', 2: {'x-box': {1: 'D', 2: 'D', 6: 'N'}}, 3: {'x-box': {2: 'B', 3: 'D', 5: 'D', 6: 'D'}}, 4: {'x-box': {2: 'B', 3: 'D', 4: 'F', 6: 'P'}}, 5: {'yegvx': {8: 'B', 9: 'B', 10: 'B', 7: 'G'}}, 6: {'high': {4: 'B', 5: 'B', 6: 'F', 7: 'B', 8: 'B', 14: 'J'}}, 7: {'x-box': {8: 'F', 5: 'F', 6: 'B', 7: 'D'}}, 9: 'D'}}, 11: {'y-box': {4: 'S', 6: {'x-box': {2: 'J', 3: 'D'}}, 9: 'D', 10: 'S', 13: 'I', 14: 'I'}}, 12: {'y2bar': {3: 'J', 4: 'I', 5: 'I', 6: 'F', 7: 'T'}}, 13: {'y-ege': {2: {'x-ege': {1: 'P', 2: 'F'}}, 3: 'P', 5: 'T'}}, 14: {'y-box': {9: 'F', 11: 'J', 14: 'I', 7: 'J'}}}}, 6: {'y-ege': {0: 'N', 1: {'x-box': {1: 'I', 2: 'N', 3: 'N', 4: 'N'}}, 2: {'x-ege': {0: 'I', 1: 'I', 2: {'x-box': {1: 'D', 2: 'F'}}, 3: {'x-box': {2: 'H', 3: 'D'}}, 4: 'F', 5: 'N', 6: {'y-box': {2: 'N', 7: 'N', 8: 'W', 10: 'N', 11: 'N'}}, 7: 'W'}}, 3: {'x2bar': {1: 'F', 2: 'F', 4: 'D', 5: {'y-bar': {8: 'N', 9: 'N', 11: 'W', 7: 'D'}}, 6: 'H', 7: {'x-box': {1: 'D', 4: 'N', 5: 'O'}}, 8: {'x-box': {1: 'D', 2: 'D', 4: 'O'}}, 9: {'y-box': {8: 'N', 9: 'D', 10: 'D', 6: 'D'}}, 10: 'D', 11: 'D'}}, 4: {'x2bar': {1: 'F', 2: {'x-box': {1: 'B', 3: 'S', 9: 'X'}}, 3: {'x-box': {2: 'B', 4: 'R'}}, 4: {'width': {4: 'R', 5: 'R', 6: 'W', 8: 'W', 9: 'F'}}, 5: {'x-box': {3: 'B', 4: 'H', 5: 'J', 7: 'W', 9: 'W', 10: 'W'}}, 6: 'H', 7: 'O', 8: 'O', 9: 'O', 10: 'D', 11: 'D'}}, 5: {'y-box': {1: 'B', 2: 'B', 3: 'B', 4: {'y2bar': {8: 'X', 5: 'B'}}, 5: 'B', 6: 'B', 7: 'B', 8: 'B', 9: {'x-box': {4: 'B', 5: 'F'}}, 10: 'F', 11: {'x-box': {5: 'R', 6: 'O', 7: 'O'}}, 13: 'T', 15: {'x-box': {8: 'O', 7: 'T'}}}}, 6: {'yegvx': {4: 'M', 5: 'D', 7: 'X', 8: {'x-box': {2: 'X', 3: 'X', 4: 'B', 5: 'B'}}, 9: {'width': {3: 'B', 4: 'B', 5: 'B', 6: 'Q', 7: 'B', 8: 'B'}}, 10: {'y-box': {2: 'B', 4: 'B', 6: 'P', 8: 'P', 10: 'B'}}, 11: 'I'}}, 7: {'yegvx': {4: 'D', 5: {'x-box': {3: 'D', 6: 'N'}}, 6: 'D', 7: 'X', 8: {'width': {4: 'Z', 5: 'B', 6: 'B', 7: 'B'}}, 9: 'B', 10: {'x-box': {3: 'B', 4: 'B', 5: 'Q'}}, 11: 'B'}}, 8: {'yegvx': {5: 'D', 6: 'D', 7: {'x-box': {9: 'F', 3: 'S', 4: 'D', 5: 'G'}}, 8: {'x-box': {2: 'S', 3: 'S', 4: 'D'}}, 9: {'onpix': {10: 'P', 2: 'S', 6: 'X', 7: 'P'}}, 10: 'B', 11: 'B', 13: 'K'}}, 9: {'x-ege': {0: 'S', 2: 'B', 4: 'F', 5: 'D', 6: 'X', 7: 'D', 9: 'H'}}, 10: {'width': {10: 'N', 5: 'B', 6: 'H'}}, 11: {'y-box': {8: 'S', 9: 'S', 10: 'D'}}, 12: 'D'}}, 7: {'y-ege': {1: {'x-box': {2: 'N', 3: 'M'}}, 2: {'xybar': {4: 'U', 6: 'M', 7: {'x-box': {3: 'N', 5: 'N', 6: 'V', 7: 'V'}}, 8: 'W', 9: 'W', 12: 'F', 13: 'F'}}, 3: {'xegvy': {7: 'D', 8: {'width': {3: 'D', 4: 'D', 5: 'O', 6: 'D', 9: 'D'}}, 9: {'y-box': {8: 'O', 10: 'I', 6: 'O', 7: 'O'}}, 10: {'x-box': {3: 'N', 5: 'F'}}, 12: {'x-box': {8: 'V', 5: 'W', 6: 'W'}}}}, 4: {'x-ege': {1: 'S', 2: 'T', 3: {'x-box': {4: 'S', 6: 'Y'}}, 5: 'U', 6: 'P', 9: 'W', 10: 'M', 11: {'x-box': {8: 'W', 9: 'W', 7: 'M'}}}}, 5: {'y-box': {4: {'x-box': {2: 'Z', 3: 'Y'}}, 6: {'x-box': {3: 'P', 5: 'F'}}, 7: 'P', 8: 'S', 10: {'high': {5: 'F', 6: 'Y'}}, 11: 'F', 12: {'onpix': {3: 'F', 4: 'G'}}, 13: {'x-bar': {5: 'F', 6: 'T'}}, 14: 'T', 15: {'x-box': {9: 'U', 7: 'T'}}}}, 6: {'xybar': {6: 'U', 7: 'P', 8: {'x-box': {4: 'P', 5: 'O', 6: 'P'}}, 9: 'P', 10: 'D', 11: 'C', 12: {'x-box': {10: 'T', 6: 'Z'}}}}, 7: {'x-box': {4: 'P', 6: 'Y'}}, 8: {'yegvx': {1: 'S', 5: {'x-box': {4: 'D', 7: 'Y'}}, 6: 'H', 7: 'H', 8: 'F', 9: 'B'}}, 9: {'y-box': {8: 'F', 10: 'B', 6: 'Z', 7: 'F'}}, 10: {'y-box': {9: 'X', 10: 'X', 7: 'Z'}}, 11: {'x-box': {4: 'S', 5: 'X', 7: 'F'}}, 13: 'Z', 14: 'Z'}}, 8: {'onpix': {0: 'F', 2: 'T', 3: {'x2bar': {9: 'O', 3: 'F', 4: 'U', 7: 'O'}}, 4: {'y-box': {6: 'F', 7: 'Z', 8: 'O', 9: 'W', 11: 'Z', 12: 'S', 14: 'T'}}, 5: {'x-box': {10: 'V', 7: 'Z'}}, 6: {'x-box': {3: 'P', 5: 'A'}}, 7: 'P', 9: 'P', 10: 'B'}}, 9: {'xybar': {3: 'U', 6: {'x-box': {8: 'W', 9: 'W', 5: 'P', 7: 'W'}}, 7: {'high': {5: 'V', 6: 'P', 7: 'A', 9: 'P', 10: 'P'}}, 8: {'y-box': {9: 'V', 11: 'V', 13: 'V', 6: 'P'}}, 9: {'onpix': {3: 'Y', 4: {'x-box': {9: 'V', 6: 'Y'}}, 5: 'Y', 6: 'F'}}, 10: {'yegvx': {4: 'Y', 5: 'Y', 6: 'F', 7: {'x-box': {2: 'F', 5: 'P'}}}}, 11: {'x-box': {1: 'F', 4: 'Z', 5: 'F', 6: 'Z', 7: 'T'}}, 12: 'F'}}, 10: {'x-box': {2: {'y-box': {4: 'Y', 6: 'F'}}, 3: {'y-box': {3: 'F', 4: 'Y', 5: 'Y', 6: 'Y', 7: 'F', 9: 'F'}}, 4: {'x-ege': {0: 'F', 1: 'F', 2: 'F', 3: 'P'}}, 5: {'y-box': {9: 'Y', 10: 'F', 11: 'F', 6: 'Y'}}, 6: {'width': {9: 'Z', 6: 'Y'}}, 7: 'Y', 8: {'y-box': {11: 'Y', 12: 'V'}}, 9: 'Y'}}, 11: {'high': {2: 'V', 3: 'V', 4: 'Y', 5: 'F', 6: 'Y', 7: 'Y', 8: 'Y', 9: 'Y', 11: 'Y', 13: 'Y'}}, 12: 'Y'}}, 7: {'x-ege': {0: {'xybar': {0: 'L', 1: 'L', 2: 'L', 3: 'L', 4: 'S', 5: 'S', 6: 'T', 7: {'width': {0: 'I', 1: 'I', 2: 'I', 4: 'Z', 5: 'I', 6: 'I'}}, 8: {'x-box': {2: 'T', 3: 'T', 4: 'Z'}}, 9: 'T', 10: 'J', 11: {'y-box': {0: 'F', 3: 'F', 4: 'J', 5: 'F', 7: 'J', 8: 'J', 9: 'F'}}, 12: {'x-bar': {1: 'F', 2: 'Y', 15: 'J'}}, 13: {'x-bar': {0: 'F', 5: 'I', 6: 'I', 7: 'I', 9: 'J', 10: 'J'}}, 14: {'x-box': {2: 'I', 3: 'I', 4: 'J', 5: 'J'}}, 15: 'J'}}, 1: {'y-ege': {1: {'y-box': {3: 'V', 5: 'T', 6: 'T', 8: 'J', 9: 'J'}}, 2: {'xybar': {3: 'L', 4: 'Y', 6: 'L', 7: 'L', 10: 'B', 11: 'J', 12: 'Y'}}, 3: {'x-box': {1: 'B', 3: 'F', 6: 'Y', 7: 'Y'}}, 4: {'y2bar': {8: 'S', 5: 'B', 6: 'I', 7: 'S'}}, 5: {'y2bar': {4: 'B', 5: 'Z', 6: 'S', 7: 'S', 8: 'S', 9: 'Z', 10: 'Z'}}, 6: {'x-box': {1: 'B', 2: 'Z', 3: 'Z', 4: 'Z', 5: 'Z', 7: 'Z'}}, 7: {'y-box': {0: 'B', 1: 'B', 3: 'Z', 4: 'Z', 9: 'Z', 10: 'Z'}}, 8: 'Z', 9: 'Z', 10: 'Z', 11: 'Z'}}, 2: {'y-ege': {0: {'x-box': {1: 'T', 2: 'V', 3: 'V'}}, 1: {'x-box': {2: 'T', 3: 'V', 4: 'V', 5: 'V', 6: 'V'}}, 2: {'x2ybr': {1: 'A', 2: 'A', 3: {'x-box': {1: 'R', 2: 'X'}}, 5: 'B', 8: 'C', 12: 'Y', 13: 'Y'}}, 3: {'y-box': {0: {'x-bar': {6: 'R', 7: 'O'}}, 1: {'x-box': {2: 'R', 3: 'O'}}, 2: 'O', 3: {'y-bar': {8: 'R', 6: 'B', 7: 'B'}}, 4: {'x2bar': {1: 'X', 2: 'X', 3: 'R', 4: 'R', 6: 'O'}}, 5: {'width': {4: 'O', 5: 'X', 6: 'X', 7: 'X'}}, 6: 'A', 7: {'x-bar': {3: 'Y', 5: 'D', 7: 'O', 8: 'A', 11: 'X'}}, 8: 'X', 9: {'onpix': {2: 'S', 3: 'C', 4: 'X'}}, 10: 'F', 11: {'x-box': {6: 'S', 7: 'Y'}}, 12: 'S'}}, 4: {'y-box': {0: 'R', 1: 'R', 3: {'x-box': {1: 'B', 2: 'R'}}, 4: {'xegvy': {8: 'B', 6: 'R', 7: 'R'}}, 5: 'B', 6: {'yegvx': {5: 'S', 6: 'J', 7: 'X', 8: 'S', 9: 'S', 10: 'B', 11: 'B'}}, 7: {'x-box': {3: 'X', 4: 'S'}}, 8: 'S', 9: {'x2bar': {0: 'A', 8: 'Q', 5: 'S', 7: 'J'}}, 10: 'T', 12: 'I'}}, 5: {'y-box': {1: {'high': {1: 'X', 2: 'R'}}, 2: {'x-bar': {8: 'X', 7: 'R'}}, 3: {'x2bar': {9: 'R', 3: 'X', 5: 'R'}}, 5: 'B', 6: {'y2bar': {8: 'S', 4: 'R', 5: 'G', 6: 'B'}}, 7: 'S', 8: {'y2bar': {8: 'S', 5: 'B', 6: 'B', 7: 'B'}}, 9: {'x-box': {4: 'S', 5: 'I', 6: 'S', 7: 'T'}}, 10: {'yegvx': {5: 'S', 6: 'J', 8: 'S', 9: 'C', 10: 'S', 11: 'J', 12: 'B'}}, 11: {'width': {9: 'S', 4: 'C', 6: 'S', 7: 'S'}}, 12: 'C', 13: 'T', 15: 'C'}}, 6: {'y-box': {1: 'X', 2: 'X', 4: 'Z', 5: 'X', 6: 'B', 7: {'onpix': {3: 'Z', 4: 'Z', 5: 'B'}}, 8: {'width': {3: 'B', 5: 'Z', 7: 'Z'}}, 10: 'J', 13: 'T', 14: 'C'}}, 7: {'x2bar': {2: {'x-box': {4: 'Z', 5: 'J'}}, 3: 'B', 4: 'Z', 5: 'Z', 6: {'x-box': {3: 'Y', 4: 'P'}}, 8: {'y-box': {1: 'B', 5: 'G', 6: 'B', 7: 'B', 8: 'B', 9: 'B', 10: 'B'}}, 9: 'B'}}, 8: {'x2bar': {2: 'J', 4: {'y-box': {4: 'I', 7: 'S'}}, 6: 'S', 7: {'x-box': {2: 'S', 3: 'S', 4: 'S', 5: 'G'}}, 8: 'B', 9: 'B', 10: 'B'}}, 9: {'x2bar': {3: 'S', 4: 'Z', 6: 'S', 7: 'S', 8: {'x-box': {3: 'B', 4: 'S', 5: 'S'}}, 9: 'B'}}, 10: {'x-box': {5: 'Z', 6: 'B', 7: 'Z'}}, 12: 'S'}}, 3: {'y-ege': {0: {'x-box': {4: 'H', 5: 'U'}}, 1: 'V', 2: {'y-bar': {4: 'L', 6: 'D', 7: {'x-box': {2: 'H', 3: 'R'}}, 8: 'H', 13: 'V'}}, 3: {'x2bar': {0: 'X', 1: 'X', 2: {'y2bar': {8: 'X', 5: 'R', 6: 'D', 7: 'K'}}, 3: {'xegvy': {8: 'H', 6: 'R', 7: 'H'}}, 4: {'y-box': {9: 'S', 5: 'R', 6: 'H', 7: 'H'}}, 6: 'H', 7: {'onpix': {2: 'O', 3: 'O', 4: 'Q', 5: 'N', 6: 'H', 7: 'H'}}, 8: {'y-bar': {3: 'Q', 6: 'N', 7: 'N', 9: 'O', 10: 'H'}}}}, 4: {'x2bar': {1: {'x-box': {3: 'A', 5: 'Y', 6: 'X', 7: 'S'}}, 2: {'y2bar': {8: 'X', 3: 'A', 6: 'J', 7: 'X'}}, 3: {'y-box': {4: 'R', 5: 'R', 6: 'Q', 7: 'R', 8: 'R', 9: 'X', 10: 'H'}}, 4: {'xybar': {5: 'Q', 6: 'R', 7: 'R', 8: 'J', 9: 'R', 10: 'R', 11: 'D', 13: 'S'}}, 5: {'y-box': {2: 'R', 5: 'O', 6: 'R', 7: 'G', 9: 'R', 11: 'G'}}, 6: {'x-box': {5: 'H', 6: 'J'}}, 7: {'width': {4: 'H', 6: 'O', 7: 'H'}}, 8: 'O', 9: {'xybar': {5: 'Q', 6: 'O', 7: 'O'}}}}, 5: {'y-bar': {3: {'width': {8: 'Y', 4: 'S', 5: 'S', 6: 'S'}}, 4: {'y-box': {5: 'H', 7: 'Q'}}, 5: {'y-box': {7: 'O', 8: 'O', 11: 'I', 12: 'I', 15: 'I'}}, 6: {'x-box': {3: 'Q', 5: 'I', 7: 'B'}}, 7: {'y2bar': {4: 'B', 5: 'R', 6: 'R', 7: 'D'}}, 8: {'yegvx': {5: 'T', 6: 'S', 7: 'X', 8: 'R', 9: 'R', 10: 'R', 11: 'R'}}, 9: {'x-box': {3: 'R', 4: 'H', 5: 'R'}}}}, 6: {'y-box': {2: 'R', 4: {'x2bar': {3: 'H', 5: 'Z', 7: 'Q'}}, 6: {'width': {5: 'B', 6: 'Z'}}, 7: {'x-box': {4: 'Q', 5: 'B'}}, 8: 'Z', 9: {'x-bar': {9: 'B', 10: 'F', 11: 'Q', 6: 'R'}}, 10: {'onpix': {5: 'T', 6: 'B', 7: 'R'}}, 11: {'x-box': {5: 'R', 6: 'T'}}, 13: 'Q', 14: {'x-box': {9: 'S', 7: 'I'}}, 15: 'S'}}, 7: {'y-box': {6: 'T', 7: {'x-box': {4: 'X', 5: 'B'}}, 8: 'X', 9: {'y-bar': {8: 'H', 9: 'Z', 7: 'H'}}, 10: 'P', 11: 'H', 15: 'Q'}}, 8: {'yegvx': {2: 'S', 3: 'Y', 4: {'y-box': {8: 'Y', 6: 'Z', 7: 'Y'}}, 5: {'x-box': {3: 'H', 4: 'Z'}}, 6: {'x-box': {3: 'X', 4: 'H'}}, 7: {'y-box': {8: 'X', 9: 'G', 11: 'G', 5: 'H'}}, 8: {'y-box': {11: 'G', 6: 'I'}}, 9: {'x-box': {9: 'G', 4: 'J', 5: 'P'}}, 10: 'J', 11: 'L'}}, 9: {'x2bar': {3: {'x-box': {3: 'S', 4: 'X'}}, 4: 'J', 5: {'y2bar': {3: 'Z', 4: 'Z', 5: 'I', 6: 'I', 7: 'Q'}}, 6: {'x-box': {4: 'I', 6: 'Y', 7: 'Z'}}, 7: 'Y', 9: 'B', 10: 'B'}}, 10: {'onpix': {4: 'Z', 5: 'Z', 6: 'S', 7: 'Y'}}, 11: 'Z', 12: {'x-box': {9: 'Z', 4: 'S', 6: 'S'}}, 13: 'Z', 14: 'Z'}}, 4: {'y-ege': {1: {'y-box': {1: 'N', 2: 'N', 3: 'N', 4: 'V', 7: 'L', 8: 'V'}}, 2: {'x-box': {2: 'N', 6: 'U'}}, 3: {'yegvx': {7: {'y-box': {10: 'U', 12: 'X'}}, 8: 'X', 9: 'D', 10: {'onpix': {4: 'K', 5: 'R'}}, 12: 'D'}}, 4: {'y-box': {5: 'A', 7: 'H', 8: {'x2bar': {1: 'X', 3: 'H', 6: 'J'}}, 9: {'onpix': {3: 'D', 4: 'X', 5: 'O', 6: 'R'}}, 10: {'xegvy': {8: 'H', 9: 'X', 6: 'D', 7: 'D'}}, 11: {'x-box': {5: 'D', 6: 'G'}}, 12: 'D', 13: 'X', 15: 'X'}}, 5: {'y-box': {5: 'B', 6: {'width': {5: 'B', 6: 'D'}}, 7: {'width': {8: 'D', 6: 'D', 7: 'R'}}, 8: 'B', 9: {'xybar': {9: 'D', 10: 'R', 11: 'G', 5: 'A'}}, 10: {'width': {4: 'O', 5: 'G', 6: 'G', 7: 'V', 8: 'B'}}, 11: {'width': {8: 'R', 6: 'O'}}, 12: {'x-box': {8: 'O', 6: 'Q'}}}}, 6: {'y-box': {5: 'L', 6: {'high': {8: 'H', 4: 'X', 5: 'Q'}}, 7: {'x-box': {3: 'J', 4: 'R', 5: 'D'}}, 8: {'yegvx': {9: 'B', 11: 'R', 5: 'D', 7: 'B'}}, 9: {'y2bar': {2: 'V', 4: 'Q', 5: 'O', 6: 'R', 7: 'B'}}, 10: {'y-bar': {8: 'R', 4: 'D', 6: 'B', 7: 'X'}}, 11: {'xybar': {8: 'R', 10: 'S', 7: 'B'}}, 14: 'D', 15: 'S'}}, 7: {'y2bar': {1: 'P', 2: 'R', 3: 'R', 4: {'high': {8: 'J', 5: 'F', 6: 'R', 7: 'R'}}, 5: {'y-box': {9: 'Q', 10: 'B'}}, 6: {'x-box': {4: 'D', 6: 'B'}}, 7: 'R', 9: 'X'}}, 8: {'xegvy': {8: {'x-box': {4: 'I', 5: 'H', 6: 'J'}}, 9: {'x-box': {4: 'F', 5: 'X', 6: 'F'}}, 11: 'F', 6: 'K'}}, 9: {'y-bar': {8: 'T', 9: 'F', 6: {'x-box': {8: 'G', 6: 'Q'}}, 7: 'K'}}, 10: {'y-box': {7: {'x-box': {4: 'S', 5: 'J'}}, 8: {'x-box': {4: 'S', 7: 'I'}}, 9: 'J', 11: 'Z', 13: 'Q'}}, 11: 'S'}}, 5: {'y-ege': {0: {'high': {1: 'W', 2: 'N', 4: 'N', 5: 'N', 8: 'N'}}, 1: {'high': {1: 'W', 2: {'width': {3: 'W', 4: 'W', 5: 'N'}}, 3: 'N', 4: 'N', 5: {'x-box': {3: 'N', 4: 'N', 5: 'W'}}, 6: {'x-box': {4: 'T', 5: 'N'}}, 8: 'V'}}, 2: {'x-bar': {3: 'W', 4: 'F', 5: 'U', 6: 'U', 7: 'N', 9: 'U', 11: 'M'}}, 3: {'y-box': {1: 'R', 2: {'x-box': {2: 'R', 3: 'N'}}, 6: 'F', 7: 'Y', 8: 'Y', 9: 'K', 10: 'U', 12: 'U', 13: 'U', 15: 'U'}}, 4: {'yegvx': {5: {'x-box': {3: 'F', 4: 'A', 6: 'A'}}, 6: {'y-box': {9: 'J', 6: 'A'}}, 7: {'x-box': {8: 'Y', 9: 'X'}}, 8: {'x-box': {2: 'P', 6: 'H'}}, 9: 'H', 10: {'x-box': {8: 'K', 5: 'R'}}, 12: 'D'}}, 5: {'x2ybr': {2: {'y-box': {8: 'R', 10: 'A', 11: 'A'}}, 3: {'y-box': {9: 'R', 10: 'H', 11: 'H', 13: 'D'}}, 4: {'y2bar': {8: 'X', 5: 'O', 6: 'D', 7: 'H'}}, 5: 'D', 6: 'J', 7: {'y-box': {8: 'A', 11: 'O', 7: 'N'}}, 8: {'x-box': {4: 'Y', 5: 'P'}}}}, 6: {'y-box': {4: 'Y', 5: 'Y', 6: 'H', 7: 'Q', 8: {'x-box': {4: 'P', 5: 'B'}}, 9: 'D', 10: {'high': {8: 'B', 5: 'D', 6: 'D', 7: 'R'}}, 11: {'x-box': {5: 'A', 7: 'B'}}, 12: 'D', 13: {'x-box': {10: 'O', 7: 'D'}}, 15: {'x-box': {10: 'O', 7: 'D'}}}}, 7: {'y-bar': {4: 'Q', 5: 'B', 6: 'D', 7: {'x2bar': {2: 'X', 3: 'F', 4: 'D'}}, 8: 'B', 9: 'B', 10: 'Y', 11: 'Y'}}, 8: {'x-box': {4: 'Y', 6: 'D'}}, 10: {'y-box': {5: 'S', 6: 'F', 7: 'S', 8: 'S', 11: 'K'}}, 11: {'x-box': {8: 'S', 5: 'S', 6: 'J'}}, 12: 'S', 13: 'S'}}, 6: {'y2bar': {0: 'P', 1: {'x-box': {2: 'P', 3: 'P', 4: 'N'}}, 2: {'y-bar': {5: 'P', 8: 'B', 9: 'P', 10: 'W', 11: 'W'}}, 3: {'y-ege': {2: {'x-box': {8: 'V', 6: 'W'}}, 3: 'W', 4: {'x-box': {4: 'W', 5: 'P'}}, 5: {'y-box': {8: 'P', 6: 'N'}}, 6: {'high': {4: 'H', 6: 'Y', 7: 'Y', 8: 'P', 9: 'Y'}}, 7: {'x-box': {2: 'H', 4: 'B', 5: 'P'}}, 8: {'width': {8: 'Y', 5: 'Y', 6: 'B'}}}}, 4: {'x2bar': {1: 'F', 2: {'x-box': {8: 'V', 5: 'A'}}, 3: {'x-box': {3: 'R', 4: 'N', 5: 'B', 6: 'H', 7: 'N'}}, 4: {'yegvx': {4: 'R', 5: 'N', 6: 'B', 7: 'N', 8: 'B', 9: 'H'}}, 5: 'Y', 6: {'x-box': {3: 'N', 5: 'Y'}}, 7: 'R', 8: 'Q'}}, 5: {'yegvx': {4: 'N', 5: 'N', 6: {'x-box': {11: 'U', 4: 'N', 5: 'N', 7: 'U'}}, 7: {'xybar': {4: 'U', 6: 'N', 7: 'N', 8: 'J', 9: 'B', 10: 'N'}}, 8: {'y-box': {9: 'H', 10: 'H', 11: 'B', 12: 'H'}}, 9: {'y-box': {9: 'B', 10: 'B', 11: 'N', 13: 'H'}}, 10: 'V', 11: {'x-box': {5: 'H', 6: 'V'}}}}, 6: {'y-ege': {3: 'K', 4: {'x-box': {6: 'F', 7: 'K'}}, 5: {'x-box': {11: 'H', 4: 'R', 6: 'H'}}, 7: {'x-box': {8: 'B', 4: 'X'}}, 8: 'X', 9: 'D', 10: 'S'}}, 7: {'xybar': {7: 'H', 8: 'D', 9: 'D', 10: 'D', 11: {'x-box': {8: 'H', 6: 'B'}}, 12: 'D'}}, 8: 'D'}}, 7: {'yegvx': {2: 'N', 4: {'x-box': {5: 'N', 6: 'R'}}, 5: {'x-bar': {8: 'W', 10: 'U', 5: 'W', 7: 'N'}}, 6: {'xegvy': {7: 'N', 8: 'H', 9: {'x-box': {3: 'P', 4: 'B'}}, 10: 'B', 11: 'W', 12: 'W'}}, 7: {'y-box': {1: 'M', 7: {'x-bar': {8: 'H', 9: 'B'}}, 9: 'N', 10: 'D', 11: {'x-box': {8: 'N', 6: 'D'}}, 12: 'B', 15: 'H'}}, 8: {'x2ybr': {4: 'B', 5: {'x-box': {8: 'B', 5: 'M'}}, 6: 'H', 7: {'x-box': {4: 'B', 6: 'H'}}, 9: 'W'}}, 9: {'y-ege': {4: 'W', 5: 'H', 6: 'B', 7: 'B', 8: 'B', 9: 'B', 10: 'H', 12: 'B', 13: 'S'}}, 10: {'onpix': {9: 'W', 11: 'P', 6: 'N', 7: 'K'}}, 11: {'x-box': {4: 'K', 7: 'V'}}, 12: 'K', 13: 'K', 14: 'K'}}, 8: {'y-ege': {1: 'W', 2: {'x-bar': {4: 'W', 7: 'M', 8: 'M', 9: 'M', 10: 'M'}}, 3: 'W', 4: {'y-box': {8: 'W', 9: 'F'}}, 5: {'x-box': {5: 'N', 6: 'W'}}, 6: {'y-box': {10: 'N', 11: 'U', 5: 'M', 6: 'P'}}, 7: {'y-box': {9: 'R', 10: 'H', 7: 'R'}}, 8: {'x-box': {8: 'B', 5: 'H', 7: 'B'}}, 9: {'x-box': {8: 'B', 9: 'B', 4: 'H', 5: 'B'}}, 10: 'B', 12: 'B'}}, 9: {'y-ege': {1: 'W', 2: 'W', 3: {'y-box': {8: 'M', 11: 'W', 5: 'W'}}, 5: {'x-box': {4: 'U', 5: 'M', 6: 'M'}}, 6: {'y-box': {9: 'N', 10: 'U', 7: 'P'}}, 7: 'R', 8: {'x-box': {5: 'G', 6: 'N', 7: 'N'}}, 9: 'G', 11: 'B'}}, 10: {'x2ybr': {4: 'M', 6: {'y2bar': {2: 'O', 3: 'M', 4: 'M', 6: 'W'}}, 7: 'W', 8: 'W', 9: 'W', 10: 'W'}}, 11: {'y-ege': {2: 'M', 3: 'M', 4: 'M', 5: {'width': {8: 'U', 9: 'M', 10: 'M'}}, 6: {'x-box': {8: 'M', 6: 'U'}}, 7: {'y-box': {8: 'O', 11: 'O', 7: 'M'}}, 9: 'O'}}, 12: {'x-box': {4: 'W', 6: 'M', 7: 'M'}}, 13: 'M', 14: 'M'}}, 8: {'x-ege': {0: {'xybar': {1: 'L', 2: 'L', 3: 'L', 4: {'x-box': {2: 'S', 3: 'Y'}}, 5: {'y-bar': {11: 'Y', 14: 'T', 6: 'S', 7: 'S'}}, 6: 'T', 7: {'y-bar': {6: 'I', 7: {'width': {0: 'I', 1: 'I', 2: 'I', 3: 'I', 4: 'Z', 5: 'Z', 6: 'Z'}}, 8: 'I', 11: {'y-box': {9: 'Y', 7: 'T'}}, 12: {'x-box': {2: 'T', 3: 'Y', 4: 'Y'}}, 13: 'T', 14: 'T', 15: 'T'}}, 8: {'y-bar': {6: 'Z', 7: 'Z', 8: 'Z', 11: {'x-box': {3: 'Y', 4: 'T'}}, 12: 'T', 14: 'T', 15: 'T'}}, 9: {'x-bar': {5: 'Y', 6: 'Y', 7: 'Z'}}, 10: 'Z', 11: 'F', 12: {'x-bar': {1: 'F', 2: 'F', 7: 'I', 8: 'J', 9: 'J', 10: 'J', 11: 'J'}}, 13: {'x2ybr': {1: 'J', 4: 'J', 5: 'I', 6: 'I', 7: 'I'}}, 14: {'x2bar': {0: 'I', 1: 'I', 2: 'J'}}, 15: 'J'}}, 1: {'x2ybr': {1: 'L', 2: {'y2bar': {0: 'A', 1: 'A', 2: 'A', 6: {'high': {5: 'L', 6: 'L', 7: 'J'}}, 7: 'L', 8: 'L', 9: 'L'}}, 4: {'y-box': {1: 'J', 3: 'S', 5: 'J', 7: 'J', 11: 'Z'}}, 5: {'y-box': {0: 'R', 3: 'S', 4: 'S', 5: 'S', 7: 'Z', 8: 'J', 10: 'Z', 11: 'J'}}, 6: {'y2bar': {4: 'B', 6: 'S', 7: {'y-box': {3: 'Z', 5: 'S', 7: 'Z', 9: 'Z', 10: 'E'}}, 8: {'x2bar': {1: 'Z', 2: 'E', 5: 'Z', 7: 'G'}}, 9: 'Z', 10: 'Z'}}, 7: {'high': {1: 'E', 2: 'S', 3: 'S', 4: 'Z', 5: {'x-box': {3: 'Z', 4: 'Z', 7: 'C'}}, 6: {'x-box': {4: 'Z', 7: 'E'}}, 7: 'Z', 8: 'I'}}, 8: {'width': {3: 'E', 4: 'S', 5: 'C'}}, 10: 'T', 11: {'x2bar': {0: 'Y', 1: {'y-box': {1: 'Y', 2: 'Y', 5: 'Y', 6: 'Y', 7: 'T', 8: 'Y', 10: 'T'}}, 2: {'x-bar': {6: 'T', 7: 'T', 8: 'T', 9: 'T', 10: 'Y'}}}}, 12: {'y-ege': {0: 'Y', 1: 'T', 2: 'Y'}}, 13: 'Y'}}, 2: {'x2ybr': {0: 'A', 1: {'x-box': {1: 'A', 2: 'A', 3: 'A', 4: 'A', 5: 'A', 6: 'S'}}, 2: {'y2bar': {0: 'A', 1: 'A', 2: 'A', 3: 'A', 5: 'Z', 7: 'Q', 8: 'S', 10: 'S'}}, 3: {'high': {4: 'Q', 5: 'S', 6: 'S', 7: 'Z', 8: 'S', 9: 'Z'}}, 4: {'y-ege': {2: 'O', 3: 'X', 4: 'R', 5: {'x-box': {4: 'S', 5: 'E'}}, 6: 'Z'}}, 5: {'y-box': {0: {'x2bar': {8: 'R', 10: 'H', 7: 'R'}}, 1: {'onpix': {1: 'R', 2: 'E'}}, 3: {'x-box': {1: 'O', 2: 'X', 3: 'X', 4: 'R'}}, 4: {'x2bar': {2: 'J', 4: 'R', 5: 'E', 6: 'O', 7: 'G'}}, 5: {'x2bar': {1: 'X', 2: 'E', 5: 'E', 6: 'O', 7: 'O', 8: 'O'}}, 6: {'x2bar': {8: 'R', 2: 'Z', 4: 'S', 7: 'S'}}, 7: {'width': {3: 'R', 4: 'R', 5: 'H'}}, 8: {'x-box': {3: 'Q', 5: 'Z'}}, 9: {'x-box': {3: 'R', 5: 'S'}}, 10: 'S', 11: {'width': {9: 'S', 6: 'R', 7: 'G'}}, 12: 'S'}}, 6: {'x2bar': {1: 'X', 2: {'high': {3: 'E', 4: 'Z', 5: 'X', 6: 'J', 7: 'J', 8: 'E'}}, 3: {'xybar': {5: 'X', 6: 'X', 7: 'X', 10: 'S', 11: 'S', 12: 'Z', 13: 'S'}}, 4: {'high': {0: 'X', 1: 'X', 4: 'L', 5: 'X', 6: 'S', 8: 'X'}}, 5: {'xybar': {8: 'F', 9: 'O', 6: 'Z', 7: 'E'}}, 6: {'y-box': {0: 'Q', 1: 'O', 3: 'O', 4: 'O', 6: 'P', 7: 'Z', 9: 'F', 12: 'C'}}, 7: {'high': {1: 'Q', 2: 'O', 3: 'O', 4: 'O', 5: 'A', 6: 'S'}}, 8: {'y-box': {8: 'G', 2: 'O', 11: 'S', 5: 'O'}}, 10: 'H', 11: 'H'}}, 7: {'y-box': {1: {'high': {2: 'S', 3: 'E'}}, 2: {'width': {2: 'Q', 3: 'S', 4: 'S'}}, 3: {'x2bar': {8: 'G', 2: 'E', 6: 'S'}}, 4: {'x-box': {2: 'E', 3: 'G', 4: 'G'}}, 5: {'width': {4: 'Q', 5: 'L'}}, 6: 'Q', 7: {'xybar': {10: 'X', 11: 'E', 6: 'X', 7: 'J'}}, 8: {'width': {4: 'G', 5: 'S', 6: 'X'}}, 9: {'x-box': {4: 'L', 5: 'T', 6: 'T'}}, 10: {'width': {6: 'J', 7: 'Z'}}, 11: 'S', 12: 'S'}}, 8: {'x2bar': {2: {'x-box': {2: 'X', 5: 'S'}}, 3: 'S', 4: 'S', 5: 'G', 6: 'Y', 7: {'y-box': {8: 'S', 10: 'C'}}}}, 9: {'yegvx': {4: 'S', 5: 'E', 6: 'X', 7: 'O', 9: 'G'}}, 10: 'T', 11: {'y2bar': {2: 'V', 3: {'y-box': {0: 'U', 1: 'V', 3: 'V', 4: 'V', 5: 'V', 6: 'V', 7: 'V', 10: 'V', 11: 'V'}}, 4: 'V', 5: 'T', 6: 'T', 7: {'y-box': {9: 'Y', 10: 'T', 5: 'Y'}}}}, 12: {'high': {0: {'y-bar': {9: 'V', 10: 'V', 6: 'U'}}, 1: 'V', 3: 'Y', 4: 'V', 5: 'V', 6: {'x-box': {3: 'V', 4: 'Y', 5: 'V'}}, 7: 'V', 8: {'x-box': {5: 'Y', 7: 'V'}}, 9: 'T'}}, 13: {'onpix': {0: 'V', 1: 'Y', 2: 'V', 3: 'V', 4: 'V'}}}}, 3: {'y-ege': {0: {'y2bar': {0: 'H', 1: 'H', 2: {'x2bar': {3: 'V', 4: 'V', 5: 'V', 12: 'H', 13: 'H', 14: 'H', 15: 'H'}}, 3: 'V', 4: 'U', 5: 'U', 6: 'U'}}, 1: {'x2ybr': {0: 'A', 1: 'D', 7: 'U', 9: 'U', 10: {'x-box': {3: 'V', 5: 'U', 6: 'V'}}, 11: {'y2bar': {2: 'V', 3: 'V', 5: 'T', 6: 'T', 7: 'U'}}, 12: 'V'}}, 2: {'y2bar': {1: 'A', 2: 'A', 3: {'x-box': {8: 'V', 2: 'O', 4: 'V', 7: 'V'}}, 4: {'y-box': {8: 'O', 9: 'O', 2: 'V', 6: 'O'}}, 5: 'H', 6: {'width': {3: 'U', 4: 'K'}}, 7: 'U'}}, 3: {'y2bar': {0: 'A', 1: {'x-box': {4: 'V', 5: 'A'}}, 2: {'y-bar': {1: 'A', 2: 'A', 3: 'A', 4: 'A', 7: 'X', 11: 'V'}}, 3: {'xybar': {8: 'V', 10: 'O', 13: 'S', 7: 'A'}}, 4: {'y-box': {1: 'Q', 5: 'Q', 6: 'O', 7: 'O', 8: 'O', 9: 'O', 10: 'O', 11: 'O'}}, 5: {'y-bar': {4: 'Q', 5: 'O', 6: 'O', 7: 'O', 8: 'H', 9: 'H'}}, 6: {'x2ybr': {3: 'D', 4: 'H', 5: 'H', 6: 'H', 7: 'H', 8: 'O'}}, 7: {'x2ybr': {3: 'K', 4: 'K', 5: 'H', 6: 'X'}}, 8: 'X', 9: 'X'}}, 4: {'x2bar': {0: 'X', 1: {'x-bar': {6: 'X', 7: 'X', 8: 'K', 9: 'K', 10: 'E'}}, 2: {'x-bar': {5: 'X', 6: 'K', 7: 'I', 8: 'X', 10: 'B'}}, 3: {'y-bar': {1: 'A', 4: 'O', 6: 'S', 7: 'X', 8: 'R', 9: 'H', 11: 'V'}}, 4: {'x2ybr': {2: 'I', 3: 'R', 4: 'O', 6: 'X', 7: 'S', 10: 'E'}}, 5: {'x-bar': {11: 'I', 5: 'E', 6: 'G', 7: 'X'}}, 6: {'y-bar': {5: 'P', 6: 'G', 7: 'H', 8: 'H', 9: 'O'}}, 7: {'yegvx': {5: 'U', 6: 'J', 7: 'H', 8: 'Q', 9: 'Q', 10: 'L'}}, 8: {'xybar': {5: 'Q', 6: 'Q', 7: 'O'}}, 9: {'xybar': {5: 'Q', 6: 'Q', 7: 'O'}}}}, 5: {'x2bar': {2: {'y2bar': {5: 'S', 6: 'X', 7: 'T', 8: 'E', 9: 'E'}}, 3: {'x-box': {4: 'S', 5: 'B', 7: 'S'}}, 4: {'yegvx': {4: 'E', 5: 'E', 6: 'O', 7: 'Q', 8: 'Q', 10: 'E', 11: 'R'}}, 5: {'y-bar': {4: 'I', 6: 'O', 7: 'R', 8: 'R', 9: 'R'}}, 6: {'y-box': {8: 'R', 6: 'Q'}}, 7: {'onpix': {3: 'Q', 4: 'T', 5: 'J', 6: 'Y'}}, 8: {'yegvx': {8: 'Q', 9: 'Q', 10: 'Q', 11: 'L'}}, 9: {'y-box': {8: 'R', 9: 'Q', 10: 'Q', 11: 'L'}}, 10: 'R', 11: 'R'}}, 6: {'yegvx': {4: 'A', 5: 'Z', 6: {'x-box': {4: 'J', 6: 'Z'}}, 7: {'x-box': {3: 'X', 4: 'T'}}, 8: {'x-box': {2: 'X', 3: 'X', 4: 'X', 7: 'T'}}, 9: {'y2bar': {3: 'Q', 4: 'Z', 5: 'R', 6: 'R', 7: 'T', 8: 'E', 9: 'E'}}, 10: {'y-box': {6: 'Q', 7: 'T', 9: 'E', 10: 'R', 11: 'R'}}, 11: {'x2ybr': {4: 'R', 5: 'R', 6: 'R', 7: 'L', 8: 'Q'}}, 12: {'x-box': {3: 'H', 6: 'Q'}}, 13: 'Q'}}, 7: {'y-bar': {4: 'Z', 5: {'x-box': {3: 'Y', 4: 'L', 5: 'Q', 6: 'Q'}}, 6: {'y-box': {8: 'L', 9: 'G', 11: 'E', 6: 'P'}}, 7: {'width': {4: 'L', 5: 'X', 6: 'P', 8: 'X', 9: 'H'}}, 8: {'x-box': {3: 'L', 4: 'X', 5: 'T'}}, 9: {'xybar': {8: 'F', 6: 'A', 7: 'T'}}, 11: 'H'}}, 8: {'y-box': {4: 'J', 5: {'yegvx': {8: 'J', 9: 'J', 11: 'L', 7: 'J'}}, 6: {'yegvx': {8: 'I', 9: 'J', 11: 'L', 7: 'I'}}, 7: {'high': {8: 'I', 9: 'H', 5: 'F', 6: 'T'}}, 8: {'x2bar': {2: 'X', 4: 'L', 6: 'F'}}, 9: {'xybar': {6: 'A', 7: 'L', 8: 'T', 9: 'G', 10: 'E', 11: 'Q'}}, 10: {'x-box': {4: 'L', 5: 'A', 6: 'A'}}, 11: {'onpix': {8: 'Y', 4: 'Q', 7: 'F'}}, 12: 'E', 13: 'Q', 15: 'E'}}, 9: {'y-box': {2: 'S', 5: {'x-bar': {8: 'I', 9: 'J'}}, 6: 'J', 7: {'xybar': {8: 'S', 5: 'Y', 6: 'J', 7: 'J'}}, 8: {'x-box': {4: 'F', 6: 'I'}}, 9: 'X', 10: {'width': {5: 'E', 6: 'Q'}}, 11: {'x2bar': {8: 'A', 3: 'X', 7: 'S'}}, 15: 'Q'}}, 10: {'y2bar': {4: 'Z', 5: 'Y', 7: 'T'}}, 11: 'Z', 13: 'S'}}, 4: {'x2bar': {1: {'xybar': {7: 'X', 8: 'V', 9: 'K', 10: 'K', 11: 'E'}}, 2: {'x2ybr': {3: {'y-box': {5: 'K', 6: 'K', 7: 'K', 8: 'K', 9: 'K', 10: 'B'}}, 4: {'x-bar': {8: 'K', 9: 'K', 10: 'E', 7: 'X'}}, 5: {'x-box': {4: 'E', 6: 'H', 7: 'H'}}, 6: {'x-bar': {8: 'X', 6: 'Z', 7: 'X'}}, 7: {'y-box': {9: 'X', 4: 'N', 14: 'Z'}}, 8: {'x-box': {8: 'X', 9: 'Z', 3: 'A', 6: 'X'}}, 10: {'x-box': {3: 'V', 4: 'V', 5: 'X'}}}}, 3: {'y2bar': {0: 'W', 1: 'H', 2: 'V', 3: {'x-box': {1: 'N', 2: 'N', 3: 'U', 6: 'S'}}, 4: {'x-box': {2: 'A', 6: 'O'}}, 6: {'y-box': {8: 'H', 9: 'J', 10: 'H', 12: 'D'}}, 7: 'X', 8: 'X', 10: 'X'}}, 4: {'yegvx': {5: 'D', 6: {'width': {5: 'I', 6: 'D', 7: 'F'}}, 7: {'y-bar': {4: 'Q', 5: 'H', 6: 'G', 7: 'U', 9: 'V'}}, 8: {'y-box': {5: 'Q', 8: 'J', 9: 'U', 14: 'G', 15: 'G'}}, 9: {'y2bar': {3: 'S', 4: 'K', 5: 'S', 6: 'R', 10: 'X'}}, 10: {'x-box': {3: 'S', 4: 'S', 6: 'D', 7: 'Q'}}, 11: {'x-bar': {9: 'R', 11: 'Q', 7: 'L'}}, 13: 'K'}}, 5: {'xegvy': {5: 'K', 6: {'y-box': {6: 'D', 7: 'K', 8: 'K', 9: 'K', 10: 'K', 11: 'R', 15: 'S'}}, 7: {'y-box': {9: 'U', 10: 'K', 6: 'G', 7: 'U'}}, 8: {'x-box': {4: 'S', 5: 'F', 6: 'J', 7: 'U'}}, 9: {'x-box': {3: 'S', 5: 'O'}}, 10: {'x-box': {4: 'S', 6: 'J'}}, 11: 'F'}}, 6: {'y-ege': {1: 'N', 4: {'x-box': {4: 'O', 6: 'G', 7: 'U'}}, 5: {'x-box': {4: 'D', 5: 'O'}}, 6: {'width': {5: 'R', 6: 'D'}}, 7: 'R', 8: 'F', 10: 'Z'}}, 7: {'high': {4: 'C', 7: 'T', 8: {'x-bar': {8: 'O', 6: 'T', 7: 'O'}}, 9: 'Q', 10: 'Q'}}, 8: {'yegvx': {1: 'A', 2: 'A', 6: 'O', 8: 'Q', 9: 'Q', 10: 'T', 11: {'x-box': {4: 'Q', 6: 'H'}}}}, 9: 'J', 11: 'N'}}, 5: {'y-ege': {0: {'y-bar': {6: 'M', 7: 'N', 8: {'x-box': {1: 'W', 3: 'N'}}, 9: 'N', 10: 'W', 11: 'W'}}, 1: {'xegvy': {6: 'M', 7: 'N', 8: 'N', 9: 'N', 10: 'W', 11: 'W', 12: 'V'}}, 2: {'x-bar': {9: 'W', 5: 'V', 6: 'U', 7: 'U'}}, 3: {'y-box': {3: 'H', 5: 'A', 7: 'W', 8: {'x-box': {4: 'W', 5: 'A'}}, 9: 'U', 10: 'U', 11: {'x-box': {8: 'U', 6: 'D'}}, 12: {'x-bar': {9: 'U', 6: 'K', 7: 'K'}}, 13: 'U', 14: 'U', 15: 'U'}}, 4: {'y2bar': {1: 'V', 2: 'V', 4: 'A', 5: {'xybar': {8: 'Y', 12: 'D', 6: 'T', 7: 'A'}}, 6: {'x-bar': {8: 'K', 9: 'K', 6: 'L', 7: 'H'}}, 7: 'K', 8: 'X'}}, 5: {'xybar': {6: 'C', 7: {'x2bar': {3: 'A', 4: 'T', 6: 'M'}}, 8: {'width': {9: 'U', 5: 'N', 6: 'O', 7: 'V'}}, 9: {'x-box': {4: 'R', 7: 'O'}}, 10: {'x-box': {8: 'H', 9: 'O', 5: 'O', 7: 'H'}}, 11: {'x-box': {10: 'G', 6: 'E', 7: 'G'}}, 12: 'D'}}, 6: {'x2ybr': {3: 'K', 4: 'Q', 5: 'M', 6: 'F', 7: 'V', 8: 'Y', 10: 'V'}}, 7: {'yegvx': {5: 'A', 6: 'V', 7: {'x-box': {8: 'Q', 4: 'M', 6: 'G'}}, 9: {'x-box': {4: 'B', 6: 'T'}}, 10: 'P', 11: {'x-box': {4: 'K', 5: 'F'}}, 12: 'R'}}, 8: {'x2bar': {2: 'X', 4: 'S', 5: {'onpix': {4: 'B', 6: 'E', 7: 'F'}}, 6: {'x-box': {5: 'E', 6: 'F'}}, 7: 'T'}}, 9: {'x-bar': {6: 'E', 7: 'F', 8: {'width': {5: 'S', 6: 'B'}}, 9: 'S', 10: 'S'}}, 10: {'width': {8: 'K', 9: 'F', 6: 'S', 7: {'y-box': {8: 'J', 9: 'E'}}}}, 11: {'y2bar': {8: 'T', 3: 'S', 4: 'A'}}}}, 6: {'y-ege': {0: {'y-bar': {5: 'M', 6: 'M', 7: 'N', 8: 'W', 11: 'W'}}, 1: {'y-box': {1: 'M', 3: {'x-box': {2: 'M', 4: 'W'}}, 4: 'W', 5: 'W', 7: 'W', 8: {'x-box': {3: 'U', 7: 'W'}}, 9: 'U', 10: 'N', 11: 'N'}}, 2: {'onpix': {2: 'M', 3: 'U', 4: 'N', 5: 'N', 6: 'W', 7: 'W'}}, 3: {'y-box': {2: 'H', 4: 'H', 5: 'H', 6: 'W', 7: {'width': {5: 'H', 6: 'D', 7: 'H'}}, 8: 'H', 10: 'N', 11: {'x-box': {8: 'V', 7: 'K'}}, 12: 'U'}}, 4: {'yegvx': {5: {'x-box': {3: 'N', 6: 'A'}}, 6: {'x-box': {4: 'N', 5: 'N', 7: 'U'}}, 7: 'K', 8: {'y-box': {5: 'R', 6: 'W', 9: 'H', 10: 'W', 11: 'W'}}, 9: {'y2bar': {2: 'G', 4: 'H', 5: 'R'}}, 10: {'x-box': {4: 'W', 5: 'L', 6: 'L'}}}}, 5: {'x2bar': {1: 'K', 2: 'A', 3: {'xybar': {8: 'N', 10: 'H', 7: 'R'}}, 4: {'x-box': {10: 'H', 3: 'E', 4: 'P'}}, 5: {'y-box': {11: 'V', 7: 'H', 15: 'O'}}, 6: {'width': {8: 'W', 9: 'W', 5: 'R'}}, 7: 'W'}}, 6: {'x2ybr': {2: 'R', 3: {'y-box': {11: 'R', 14: 'O'}}, 4: {'x2bar': {3: 'R', 5: 'D', 6: 'B'}}, 5: {'y-box': {9: 'H', 10: 'H', 7: 'R'}}, 6: {'y-box': {5: 'V', 6: 'R', 7: 'F', 8: 'H', 9: 'E'}}, 7: {'y-box': {8: 'G', 11: 'M', 5: 'Y'}}, 8: 'Y', 9: 'F', 10: 'V'}}, 7: {'yegvx': {3: 'Y', 4: {'y-box': {8: 'Y', 11: 'A', 5: 'V', 6: 'Y'}}, 5: {'y-box': {8: 'R', 9: 'R', 6: 'Y'}}, 6: {'y-box': {5: 'V', 6: 'R', 7: 'V', 8: 'R', 9: 'M', 13: 'R'}}, 7: {'x-box': {8: 'R', 3: 'B', 4: 'V'}}, 8: {'x-box': {3: 'B', 4: 'V', 5: 'G', 6: 'G'}}, 9: 'G', 10: {'y-box': {7: 'V', 8: 'M', 9: 'B', 10: 'B', 11: 'H', 12: 'B'}}, 11: {'x-box': {5: 'F', 6: 'H'}}, 13: 'K'}}, 8: {'yegvx': {3: {'y-box': {10: 'Y', 11: 'Y', 6: 'B'}}, 4: 'Y', 5: 'B', 6: 'Q', 7: {'x-box': {4: 'V', 5: 'B'}}, 8: {'x-box': {6: 'M', 7: 'B'}}, 9: 'B', 10: 'H', 11: 'B', 12: {'x-box': {5: 'K', 6: 'F'}}}}, 9: {'x-box': {9: 'B', 5: 'K', 6: 'M'}}, 10: 'S', 13: {'x-box': {6: 'X', 7: 'S'}}}}, 7: {'y-ege': {0: {'y-bar': {6: 'M', 7: 'M', 8: 'W', 9: 'W', 10: 'W', 11: 'W'}}, 1: {'y-box': {1: 'M', 2: 'W', 3: 'M', 4: 'M', 5: 'W', 6: 'W', 7: 'U', 8: 'M', 9: 'W', 10: 'W'}}, 2: {'xegvy': {5: 'M', 6: 'M', 7: {'x-box': {4: 'M', 6: 'U', 7: 'N'}}, 8: 'U', 9: {'x-box': {3: 'W', 6: 'U'}}, 10: 'W', 11: 'W'}}, 3: {'x-box': {3: 'O', 4: 'O', 6: 'D', 7: 'D'}}, 4: {'yegvx': {8: {'x-box': {4: 'V', 5: 'N'}}, 9: 'O', 6: 'V', 7: 'U'}}, 5: {'x2ybr': {8: {'x-box': {4: 'Y', 5: 'W'}}, 4: 'N', 5: 'K', 7: {'y2bar': {2: 'V', 3: 'U', 4: 'U'}}}}, 6: {'onpix': {5: {'x-box': {3: 'K', 12: 'R', 7: 'H'}}, 6: {'x-box': {3: 'H', 5: 'R', 6: 'K', 7: 'K', 13: 'R'}}, 7: {'x2bar': {1: 'K', 3: 'B', 6: 'R'}}, 8: 'R', 9: {'x-box': {4: 'Y', 5: 'M', 6: 'R', 7: 'R'}}, 11: {'x-box': {6: 'Y', 7: 'R'}}, 12: 'V'}}, 7: {'yegvx': {4: 'Y', 5: {'x-box': {4: 'Y', 6: 'R'}}, 6: {'y-box': {9: 'R', 7: 'M'}}, 7: {'y-box': {8: 'R', 10: 'T', 11: 'K', 7: 'H'}}, 8: {'x-box': {4: 'G', 5: 'V', 7: 'V'}}, 9: {'x-bar': {8: 'B', 7: 'V'}}, 13: 'G'}}, 8: {'yegvx': {4: {'x-box': {5: 'B', 6: 'V'}}, 5: 'V', 6: {'high': {8: 'B', 6: 'R'}}, 7: 'B', 8: {'x-box': {4: 'H', 7: 'V'}}, 9: 'V', 10: {'x-box': {8: 'B', 5: 'W'}}, 11: 'V'}}, 9: {'y-box': {8: {'x-box': {4: 'V', 6: 'B'}}, 9: 'B', 10: 'X', 13: 'B'}}, 10: 'V', 15: 'S'}}, 8: {'y-ege': {0: {'y-bar': {8: 'W', 11: 'W', 6: 'M', 7: 'M'}}, 1: {'y-bar': {5: 'M', 7: 'W', 9: 'W', 10: 'W', 11: 'W'}}, 2: {'xegvy': {4: 'M', 6: 'M', 7: 'U', 11: 'W', 12: 'W'}}, 3: {'x2ybr': {4: 'M', 6: 'W', 7: 'M'}}, 4: {'yegvx': {8: 'O', 10: 'O', 6: 'Y', 7: 'V'}}, 5: {'yegvx': {8: {'x-box': {4: 'V', 6: 'N'}}, 10: 'O', 6: 'U', 7: 'U'}}, 6: {'onpix': {7: {'x-box': {4: 'V', 5: 'P'}}, 8: {'x-box': {5: 'O', 6: 'N'}}, 9: 'V', 10: {'x-box': {5: 'U', 6: 'R'}}, 12: 'U'}}, 7: {'yegvx': {4: {'x-box': {6: 'V', 7: 'N'}}, 6: 'B', 8: 'M', 9: 'R', 12: {'x-box': {4: 'G', 7: 'K'}}}}, 8: {'x-box': {4: {'high': {6: 'B', 7: 'K'}}, 5: 'W', 6: 'M', 7: 'K'}}, 9: {'x2bar': {3: 'K', 4: 'V', 5: 'V', 6: {'y-box': {9: 'G', 11: 'M'}}, 7: 'M'}}, 10: {'x-box': {8: 'B', 6: 'V'}}}}, 9: {'y-ege': {0: {'x2bar': {13: 'M', 4: 'W', 12: 'M', 5: 'W'}}, 1: {'x-box': {4: 'W', 6: 'M', 7: 'W', 9: 'W', 11: 'W', 12: 'W'}}, 2: {'x-box': {5: 'M', 7: 'W'}}, 3: 'M', 4: {'x-box': {4: 'W', 5: 'U', 6: 'H'}}, 5: {'y-box': {8: 'O', 10: 'O', 7: 'M'}}, 6: {'xegvy': {7: 'Y', 8: 'W', 9: 'O', 10: 'O', 11: 'Y'}}, 7: {'y-box': {10: 'O', 11: 'F', 5: 'W'}}, 8: {'y-box': {8: 'M', 9: 'G', 10: 'U', 5: 'W'}}, 9: {'x-box': {6: 'M', 7: 'W'}}, 10: 'H'}}, 10: {'x2bar': {1: 'W', 2: {'x-bar': {8: 'M', 9: 'M', 4: 'W', 5: 'W'}}, 3: {'x-box': {10: 'W', 4: 'M', 5: 'K'}}, 4: {'y-box': {6: 'M', 7: 'U', 8: 'U', 9: 'U', 10: 'U', 11: 'U'}}, 5: {'y2bar': {1: 'W', 2: 'W', 3: 'G', 5: 'W'}}, 6: {'onpix': {9: 'W', 10: 'O', 12: 'O'}}, 7: {'x-box': {5: 'Y', 6: 'M'}}, 11: 'M', 12: 'M'}}, 11: {'xegvy': {5: 'M', 6: 'M', 7: {'x-box': {4: 'U', 5: 'M', 6: 'M'}}, 8: 'M', 9: 'U', 10: {'x-bar': {8: 'O', 9: 'W', 10: 'W', 7: 'Q'}}, 11: 'W', 12: 'W'}}, 12: {'xegvy': {5: 'M', 6: 'M', 9: 'M', 10: 'W', 11: 'O'}}, 13: {'xybar': {8: 'M', 6: 'M', 7: 'W'}}, 14: {'x-box': {8: 'M', 4: 'W', 5: 'W', 6: 'W'}}, 15: 'M'}}, 9: {'x2ybr': {0: 'J', 1: {'x-ege': {0: 'L', 1: 'L', 2: 'A', 3: {'x-box': {5: 'A', 7: 'S'}}, 4: 'D', 5: 'M', 6: 'M', 8: 'M'}}, 2: {'y2bar': {1: 'A', 2: {'x-box': {1: 'A', 2: 'A', 3: 'A', 4: 'A', 5: 'M', 8: 'M', 10: 'M'}}, 3: {'y-box': {5: 'R', 8: 'A', 9: 'A', 10: 'A', 11: 'A'}}, 4: {'x-bar': {5: 'R', 6: 'R', 9: 'S', 10: 'R', 12: 'Z', 13: 'J'}}, 5: {'onpix': {3: 'S', 4: 'S', 5: 'R'}}, 6: {'x-box': {9: 'S', 4: 'L', 5: 'L'}}, 7: {'x-bar': {6: 'L', 7: 'L', 9: 'L', 10: 'L', 11: 'J', 12: 'Q'}}, 8: 'L', 9: 'L'}}, 3: {'x2bar': {1: {'x-box': {1: 'A', 2: 'A', 3: 'A', 4: 'A', 6: 'K', 7: 'K'}}, 2: {'x-box': {3: 'A', 4: 'K', 5: 'K', 6: 'K', 8: 'R'}}, 3: {'x-bar': {6: 'K', 7: 'K', 10: 'M', 11: 'Q', 12: 'M'}}, 4: {'xybar': {7: 'Q', 9: 'O', 10: 'Z', 12: 'Q', 15: 'J'}}, 5: {'xybar': {11: 'B', 12: 'D', 13: 'I'}}, 6: {'x-box': {9: 'B', 6: 'B', 7: 'I'}}, 7: {'y-box': {8: 'R', 4: 'R', 5: 'Q', 6: 'R'}}, 8: 'R', 9: 'R'}}, 4: {'xybar': {4: 'N', 5: {'x-box': {3: 'E', 5: 'H', 6: 'R'}}, 6: {'y2bar': {2: 'M', 4: 'K', 5: {'y-box': {8: 'R', 6: 'Q', 7: 'Q'}}, 6: 'R', 8: 'E', 9: 'E', 10: 'E'}}, 7: {'yegvx': {6: 'Q', 7: 'Q', 8: {'high': {8: 'Q', 6: 'O', 7: 'O'}}, 9: 'K', 10: 'K', 11: 'R', 12: 'K'}}, 8: {'y-box': {5: {'x-box': {3: 'Q', 4: 'O'}}, 7: 'K', 8: 'R', 9: {'x-box': {4: 'A', 5: 'R'}}, 10: 'R', 11: 'R', 15: 'R'}}, 9: {'x2bar': {2: 'M', 4: 'O', 5: 'R'}}, 10: {'x2bar': {1: 'K', 2: 'K', 4: 'Q', 5: 'R', 6: 'B', 7: 'O'}}, 11: {'yegvx': {5: 'J', 6: 'J', 7: 'J', 9: {'width': {8: 'E', 5: 'Z', 6: 'Z', 7: 'Z'}}, 10: {'x-box': {8: 'B', 9: 'B', 5: 'E', 6: 'E'}}, 11: {'high': {8: 'E', 4: 'B', 5: 'Z', 7: 'E'}}, 12: 'E'}}, 12: {'x-box': {1: 'J', 2: 'J', 5: 'Q', 6: 'Z'}}, 13: 'I'}}, 5: {'xybar': {3: 'N', 4: 'M', 5: 'G', 6: {'x2bar': {3: {'y-box': {9: 'R', 6: 'K', 7: 'R'}}, 4: {'y-box': {9: 'R', 10: 'K', 11: 'G', 6: 'R'}}, 5: {'yegvx': {8: 'G', 9: 'E', 10: 'G', 7: 'Q'}}, 6: {'y-bar': {8: 'H', 11: 'Z', 6: 'G', 7: 'E'}}, 7: {'x-box': {2: 'Q', 3: 'G', 4: 'Q'}}, 8: 'Q', 9: 'Q'}}, 7: {'y-box': {1: 'E', 2: 'E', 3: 'O', 4: 'O', 5: 'Q', 6: 'D', 7: {'onpix': {4: 'N', 5: 'K'}}, 8: {'x2bar': {8: 'O', 3: 'R', 6: 'G', 7: 'A'}}, 9: {'x-box': {4: 'K', 5: 'O'}}, 10: 'H', 11: {'onpix': {5: 'O', 6: 'Z', 7: 'E'}}, 12: 'R'}}, 8: {'x-bar': {5: 'U', 6: 'F', 7: 'R', 8: 'R', 11: 'H'}}, 9: {'width': {5: 'G', 6: 'Q', 7: 'O', 8: 'Q', 10: 'K', 11: 'K'}}, 10: {'x2bar': {1: 'K', 2: 'K', 3: {'x-box': {11: 'H', 4: 'H', 5: 'E'}}, 4: {'high': {4: 'Q', 5: 'E', 6: 'E', 7: 'Q'}}, 5: {'x-box': {8: 'B', 5: 'E', 6: 'B'}}, 7: 'O', 8: 'O'}}, 11: {'y-ege': {1: 'J', 2: 'J', 3: 'J', 4: 'E', 5: 'Z', 6: {'width': {5: 'Z', 6: 'E'}}, 7: 'Z', 8: 'E'}}, 12: {'y-box': {4: 'Z', 8: 'Z', 9: 'Z', 10: 'S', 11: 'Z', 13: 'C'}}, 13: {'x-box': {2: 'I', 3: 'I', 4: 'I', 5: 'I', 8: 'S'}}, 14: 'J', 15: 'J'}}, 6: {'x2bar': {0: 'I', 1: {'x-box': {1: {'y-box': {3: 'Z', 5: 'I'}}, 2: 'E', 4: 'K', 5: 'E'}}, 2: {'y-box': {3: {'y-bar': {8: 'K', 7: 'E'}}, 4: {'y2bar': {8: 'E', 9: 'Z'}}, 5: {'x-box': {3: 'X', 4: 'K'}}, 6: {'x-box': {2: 'J', 3: 'X'}}, 7: {'x-ege': {0: 'I', 1: 'Z', 2: 'E', 3: 'E', 4: 'X'}}, 8: {'width': {6: 'X', 7: 'E'}}, 9: {'y2bar': {10: 'Z', 5: 'K', 6: 'H', 7: 'I'}}, 10: 'E', 11: {'width': {9: 'Z', 10: 'E', 7: 'Z'}}, 12: {'width': {8: 'Z', 7: 'X'}}, 14: 'Z'}}, 3: {'yegvx': {4: 'T', 5: {'x-bar': {8: 'L', 6: 'R', 7: 'L'}}, 6: {'onpix': {9: 'R', 11: 'R', 4: 'T', 5: 'R'}}, 7: {'y2bar': {3: 'G', 4: 'K', 5: 'R', 6: 'T', 7: 'Z', 8: 'Z', 9: 'Z'}}, 8: {'xybar': {10: 'H', 5: 'X', 6: 'X', 7: 'T'}}, 9: {'x-bar': {6: 'K', 7: 'X', 8: 'L', 9: 'S', 11: 'S'}}, 10: 'K', 12: 'H'}}, 4: {'x-ege': {1: 'E', 2: {'x-box': {2: 'X', 3: 'L', 5: 'Z', 6: 'E', 7: 'E'}}, 3: {'y-box': {1: 'K', 4: 'J', 5: 'T', 6: 'K', 7: 'K', 9: 'K', 12: 'E', 15: 'E'}}, 4: {'high': {8: 'U', 4: 'S', 5: 'E', 6: 'U'}}, 5: {'yegvx': {5: 'T', 6: 'T', 7: 'T', 8: 'U', 9: 'B', 12: 'E'}}, 6: {'high': {4: 'G', 5: 'G', 6: 'E', 7: 'C', 8: 'T'}}, 7: 'E', 8: {'y-box': {8: 'R', 9: 'K', 10: 'R', 11: 'K'}}}}, 5: {'y-ege': {2: 'N', 3: {'xybar': {4: 'N', 6: 'G', 7: 'H'}}, 4: {'width': {2: 'Q', 3: 'G', 4: 'G', 5: 'Q', 8: 'H'}}, 5: {'x-box': {2: 'E', 3: 'E', 6: 'U'}}, 6: {'y2bar': {1: 'Q', 2: 'G', 3: 'G', 4: 'P', 5: 'E', 6: 'R', 8: 'U', 9: 'U'}}, 7: {'y2bar': {1: 'Q', 2: 'G', 3: 'G', 4: 'E', 5: 'B', 7: 'E', 8: 'Z', 9: 'Z', 10: 'Z'}}, 8: {'xybar': {5: 'S', 6: 'K', 7: 'G', 8: 'B', 9: 'G', 10: 'E'}}, 9: {'width': {8: 'E', 4: 'S', 5: 'S', 6: 'F'}}, 10: 'S', 12: 'S', 13: 'S'}}, 6: {'y-box': {0: {'x-box': {1: 'Q', 2: 'G'}}, 1: 'H', 2: {'y2bar': {1: 'Q', 2: 'Q', 3: 'Q', 5: 'G', 6: 'G', 7: 'E'}}, 3: {'y2bar': {3: 'Q', 4: 'O', 5: 'G'}}, 4: {'xybar': {8: 'Q', 6: 'G', 7: 'S'}}, 5: {'x-bar': {8: 'Q', 6: 'G', 7: 'E'}}, 6: {'y-bar': {5: 'P', 6: 'Q', 7: 'Q', 8: 'F', 9: 'E'}}, 7: {'x-ege': {2: 'Q', 4: 'E', 5: 'G', 6: 'H', 8: 'E', 9: 'Q'}}, 8: {'xegvy': {6: 'E', 7: 'G', 8: 'G', 10: 'Q', 11: 'F'}}, 9: {'onpix': {2: 'O', 4: 'G', 5: 'H', 6: 'G', 7: 'H', 8: 'G'}}, 10: {'y2bar': {3: 'E', 4: 'E', 7: 'H'}}, 11: {'x-ege': {0: 'S', 2: 'C', 3: 'F', 4: 'E', 5: 'P', 6: 'A'}}, 14: {'x-box': {9: 'N', 10: 'M', 11: 'M'}}, 15: 'R'}}, 7: {'yegvx': {1: 'A', 3: 'A', 4: {'width': {9: 'A', 5: 'A', 6: 'U'}}, 6: 'U', 7: {'x-box': {10: 'M', 4: 'Q', 5: 'Q', 7: 'Q'}}, 8: {'y-box': {0: 'Q', 1: 'Q', 2: 'O', 3: 'O', 5: 'Q', 8: 'G', 9: 'Q', 10: 'Q'}}, 9: {'x-box': {1: 'Q', 2: 'Q', 3: 'Q', 5: 'C', 7: 'C'}}, 10: {'x-box': {2: 'Q', 3: 'Q', 4: 'L'}}, 11: 'G'}}, 8: {'yegvx': {5: {'x-box': {4: 'A', 6: 'O'}}, 6: {'y-box': {8: 'U', 9: 'U', 10: 'O'}}, 8: {'y-box': {9: 'C', 7: 'O'}}, 9: {'x-box': {3: 'Q', 4: 'Q', 5: 'C', 6: 'Q'}}, 10: {'y-box': {4: 'G', 8: 'G', 9: 'Q', 10: 'G', 11: 'G'}}, 11: {'y-box': {9: 'L', 10: 'G', 5: 'G'}}}}, 9: {'yegvx': {2: 'U', 4: 'U', 5: 'U', 8: 'O', 9: 'Q', 11: 'L', 13: 'L'}}}}, 7: {'xybar': {4: {'y-box': {8: 'G', 10: 'U', 11: 'G', 12: 'M', 13: 'M'}}, 5: {'y-ege': {2: 'M', 3: 'G', 4: {'x-box': {4: 'G', 5: 'U', 6: 'G'}}, 5: {'onpix': {2: 'G', 3: 'Q', 4: 'Q', 5: 'G'}}, 6: {'x-box': {3: 'L', 4: 'Q'}}, 7: 'G', 8: {'x-box': {4: 'X', 6: 'Q'}}, 9: {'x-box': {4: 'L', 6: 'K'}}}}, 6: {'y-ege': {2: 'M', 3: {'y-box': {8: 'C', 11: 'O', 6: 'U', 7: 'H'}}, 4: {'y2bar': {4: 'O', 5: 'U', 6: 'O', 7: 'O', 8: 'O', 9: 'O'}}, 5: {'y-box': {3: 'Q', 5: 'Q', 6: 'G', 7: 'T', 8: 'G', 10: 'O', 11: 'U'}}, 6: {'onpix': {9: 'O', 4: 'T', 5: 'Q', 6: 'T'}}, 7: {'y2bar': {1: 'Y', 4: 'Q', 5: 'L', 9: 'X'}}, 8: {'onpix': {8: 'T', 11: 'Y', 6: 'L', 7: 'T'}}, 9: 'T', 10: 'Q'}}, 7: {'y2bar': {1: {'x-box': {3: 'Y', 4: 'O'}}, 2: {'x-box': {3: 'Y', 4: 'G'}}, 3: {'y-box': {8: 'G', 10: 'E', 5: 'E', 7: 'M'}}, 4: {'x2bar': {2: 'A', 4: 'I', 5: 'G', 6: 'G', 8: 'O'}}, 5: {'x2bar': {2: 'X', 3: 'L', 4: 'T', 5: 'J', 6: 'M', 7: 'M', 8: 'S'}}, 6: {'y-ege': {3: 'D', 4: 'U', 6: 'T', 7: 'X'}}, 7: {'x-box': {2: 'E', 3: 'S', 4: 'H', 6: 'H'}}, 8: {'x-box': {4: 'E', 5: 'T'}}, 9: {'x-box': {3: 'Z', 4: 'E'}}, 10: {'y-box': {11: 'Z', 7: 'E'}}}}, 8: {'x-ege': {2: {'x-box': {1: 'Q', 2: 'Q', 3: 'Q', 4: 'X'}}, 3: {'y-box': {5: 'T', 6: 'T', 7: 'Q', 8: 'T', 9: 'T', 11: 'P'}}, 4: 'E', 5: {'y-bar': {8: 'E', 9: 'E', 10: 'F', 7: 'U'}}, 6: 'N', 7: {'x-box': {4: 'V', 5: 'N'}}, 8: {'y-bar': {5: 'V', 6: 'V', 7: 'E'}}, 9: 'V', 10: 'G'}}, 9: {'yegvx': {3: 'U', 4: 'U', 6: {'x-box': {10: 'K', 4: 'U'}}, 7: {'width': {10: 'X', 6: 'H', 7: 'O'}}, 8: {'x-box': {3: 'O', 4: 'K', 5: 'C', 6: 'O', 7: 'O', 9: 'O'}}, 9: {'x-box': {2: 'G', 4: 'Q'}}, 10: {'x-box': {1: 'G', 2: 'G', 5: 'C'}}, 11: 'C'}}, 10: {'x2bar': {0: 'X', 1: 'X', 2: {'width': {9: 'E', 10: 'K', 5: 'K', 7: 'X'}}, 3: {'x-box': {8: 'H', 9: 'H', 5: 'S', 6: 'H'}}, 6: 'O', 7: {'x-box': {9: 'O', 4: 'G'}}, 8: 'O'}}, 11: {'y-ege': {3: 'X', 4: 'E', 5: 'E', 7: 'Z'}}, 12: {'x-box': {9: 'Z', 3: 'E', 5: 'E'}}, 13: {'high': {8: 'C', 5: 'S', 6: 'S', 7: 'S'}}, 15: 'J'}}, 8: {'y2bar': {1: 'Y', 2: {'y-ege': {2: 'W', 3: 'Q', 4: 'Q', 5: 'V', 6: 'Y', 7: 'Y', 8: 'Y', 9: 'Y', 10: 'Y'}}, 3: {'y-box': {3: 'M', 4: 'Q', 5: 'Y', 6: 'Y', 7: 'Y', 8: 'Y', 10: 'C', 13: 'S'}}, 4: {'x2bar': {2: {'y-box': {8: 'A', 9: 'M'}}, 3: {'y-box': {4: 'M', 6: 'M', 7: 'M', 8: 'Y', 9: 'M', 10: 'N', 11: 'N'}}, 4: 'C', 5: 'G', 6: {'x-box': {3: 'Q', 5: 'O', 6: 'O', 8: 'O', 9: 'O'}}, 7: 'Q'}}, 5: {'y-box': {5: {'x-bar': {10: 'S', 7: 'A'}}, 8: {'onpix': {4: 'G', 5: 'S'}}, 9: {'x-box': {4: 'Q', 5: 'T', 7: 'Q'}}, 10: 'N', 11: {'width': {11: 'M', 6: 'U'}}, 13: 'H', 14: {'width': {8: 'U', 9: 'U', 6: 'O'}}}}, 6: {'x2bar': {2: 'A', 3: {'xegvy': {9: 'K', 10: 'A', 11: 'K', 7: 'K'}}, 4: {'x-box': {9: 'H', 5: 'H', 6: 'U', 7: 'S'}}, 5: {'x-box': {3: 'U', 4: 'U', 5: 'G'}}, 6: {'x-box': {4: 'G', 5: 'U', 7: 'G'}}, 7: {'y-box': {3: 'Q', 4: 'Q', 5: 'Q', 8: 'U', 10: 'U'}}, 8: 'Q'}}, 7: {'y-box': {3: 'K', 4: 'K', 5: {'x-box': {3: 'U', 5: 'Q'}}, 6: {'high': {4: 'E', 6: 'T'}}, 7: {'x-box': {4: 'E', 5: 'U'}}, 8: 'U', 9: {'x-box': {5: 'U', 6: 'S'}}, 10: 'T', 11: {'x-box': {8: 'H', 4: 'S'}}}}, 8: {'y-box': {3: 'X', 4: 'E', 5: {'x-box': {3: 'E', 5: 'U'}}, 6: {'width': {5: 'E', 6: 'T'}}, 7: 'X', 8: {'width': {5: 'E', 6: 'U', 7: 'E'}}, 9: {'x-box': {5: 'Z', 6: 'T'}}, 10: 'C', 11: {'x-box': {4: 'Z', 6: 'E'}}, 12: 'C'}}, 9: {'x-box': {9: 'U', 2: 'E', 3: 'E', 4: 'X'}}, 10: 'E'}}, 9: {'xybar': {5: {'xegvy': {8: 'W', 9: 'Q', 10: 'U', 7: 'Q'}}, 6: {'y-box': {2: 'U', 3: 'U', 6: 'Q', 7: 'Q', 9: 'Q', 10: 'U', 11: 'U'}}, 7: {'high': {1: 'W', 2: 'U', 3: 'U', 4: 'U', 6: 'U'}}, 8: {'x-bar': {4: 'W', 5: 'W', 7: 'Q'}}, 9: {'x-ege': {2: 'G', 3: 'U', 4: {'x-box': {9: 'X', 6: 'Q'}}, 6: {'y-box': {9: 'H', 10: 'K', 14: 'K'}}, 7: 'H', 9: 'M'}}, 10: {'x2bar': {2: 'X', 3: {'y-bar': {8: 'H', 9: 'H', 10: 'N', 6: 'M'}}, 4: {'y-box': {3: 'U', 7: 'H', 8: 'N', 9: 'S', 10: 'S'}}, 5: 'U', 6: 'U'}}, 11: {'y-box': {3: 'X', 5: {'x-box': {3: 'X', 4: 'H'}}, 6: 'N', 7: 'E', 8: 'E', 9: {'x-box': {4: 'E', 5: 'Z', 6: 'E'}}, 10: 'E'}}, 12: {'x-box': {2: 'C', 3: 'C', 5: 'E'}}, 13: {'y-box': {8: 'C', 9: 'N', 12: 'N', 14: 'S'}}}}, 10: {'y2bar': {1: 'W', 2: 'V', 3: {'x-box': {2: 'V', 3: 'N', 4: 'V', 5: 'V', 6: 'W', 8: 'W'}}, 4: {'x-box': {4: 'N', 5: 'N', 6: 'N', 7: 'N', 8: 'N', 9: 'H'}}, 5: {'x-box': {4: 'T', 6: 'M'}}, 6: {'width': {2: 'T', 3: {'high': {1: 'U', 2: 'U', 4: 'F'}}, 4: 'U', 5: {'onpix': {3: 'U', 4: 'T'}}, 6: 'H', 8: 'H'}}, 7: {'x2bar': {1: 'X', 2: 'X', 3: 'H', 5: 'U', 6: 'U', 7: 'T'}}, 8: {'y-ege': {1: 'U', 2: 'U', 3: 'X', 4: {'x-box': {9: 'X', 3: 'E', 6: 'X'}}, 5: 'E'}}, 9: {'x-box': {8: 'U', 4: 'X', 6: 'E'}}}}, 11: {'x-bar': {1: {'x-box': {2: 'F', 3: 'F', 4: 'F', 5: 'F', 7: 'W', 8: 'W'}}, 2: {'xybar': {9: 'W', 10: 'W', 11: 'W', 12: 'N'}}, 3: {'width': {5: 'U', 6: 'U', 7: 'W', 8: {'x-box': {8: 'X', 7: 'U'}}, 9: 'X', 10: 'X', 12: 'N'}}, 4: {'y-box': {10: 'N', 15: 'X', 6: 'U', 7: 'X'}}, 5: {'y2bar': {8: 'X', 9: {'y-box': {8: 'U', 10: 'T'}}, 4: 'N', 6: 'Y'}}, 6: {'x-box': {1: 'Y', 2: 'Y', 3: 'T', 4: 'V'}}, 7: {'width': {3: 'T', 4: 'V', 5: 'V', 6: 'V', 7: 'V', 9: 'V'}}, 8: {'x2bar': {1: 'Y', 2: 'V', 3: 'V'}}, 9: {'y-box': {2: 'V', 3: 'T', 5: 'T', 7: 'T'}}, 10: 'T'}}, 12: {'x2bar': {0: 'Y', 1: 'Y', 2: {'width': {8: 'V', 10: 'Y', 5: 'Y', 7: 'Y'}}, 3: {'y-bar': {9: 'X', 11: 'V', 12: 'V'}}, 4: 'F', 5: {'y-box': {8: 'U', 9: 'N'}}, 6: {'x-box': {8: 'N', 9: 'U', 10: 'N', 6: 'U'}}, 10: 'U'}}, 13: 'Y'}}, 10: {'xybar': {3: 'N', 4: {'xegvy': {6: 'Q', 8: 'M', 9: {'x-box': {5: 'Q', 7: 'N'}}, 10: 'N', 11: 'N', 13: 'M'}}, 5: {'y-ege': {1: 'U', 2: 'M', 4: {'y-box': {2: 'Q', 4: 'O', 6: {'high': {4: 'O', 5: 'Q'}}, 7: 'L', 8: 'U', 10: 'G', 11: 'G'}}, 5: {'y-box': {2: 'Q', 3: 'Q', 4: 'Q', 5: 'Q', 6: 'Q', 7: 'G', 10: 'G', 11: 'Q'}}, 6: {'y2bar': {0: 'Q', 2: 'Q', 3: 'Q', 4: 'Q', 5: 'Q', 6: 'L', 8: 'X', 9: 'X'}}, 7: {'width': {4: 'E', 5: 'Q', 6: 'E'}}, 8: {'x-box': {4: 'L', 6: 'Q', 7: 'Q'}}, 9: {'onpix': {2: 'S', 3: 'S', 6: 'T', 7: 'T', 10: 'Y'}}, 10: 'L'}}, 6: {'x2bar': {1: 'L', 2: 'L', 3: {'y-box': {2: 'X', 4: 'X', 6: {'x-box': {3: 'L', 4: 'C'}}, 7: {'x-bar': {5: 'K', 6: 'X', 7: 'X'}}, 8: {'onpix': {3: 'X', 4: 'X', 5: 'E', 6: 'X'}}, 9: 'K', 10: {'high': {8: 'E', 7: 'L'}}, 11: 'R'}}, 4: {'y2bar': {2: {'x-box': {5: 'Q', 6: 'G'}}, 3: {'x-box': {3: 'G', 4: 'C', 7: 'G'}}, 4: 'C', 6: 'K', 7: 'K', 8: 'X', 9: 'X'}}, 5: {'y2bar': {0: 'Q', 2: 'G', 3: 'G', 5: {'x-box': {1: 'G', 2: 'G', 3: 'G', 6: 'J'}}, 6: 'U', 7: {'x-box': {3: 'K', 4: 'K', 6: 'U'}}, 8: 'E'}}, 6: {'y2bar': {2: {'x-box': {3: 'K', 5: 'G'}}, 3: {'x-box': {2: 'Q', 3: 'G', 5: 'E', 6: 'G'}}, 4: 'Q', 5: {'x-box': {2: 'G', 4: 'M', 5: 'G'}}, 6: {'x-box': {2: 'G', 3: 'G', 4: 'G', 5: 'R', 6: 'G'}}, 7: 'G', 8: 'E', 9: {'x-box': {4: 'E', 5: 'C'}}}}, 7: {'y-ege': {3: 'Q', 4: 'G', 5: 'G', 6: {'x-box': {4: 'E', 7: 'Q'}}, 9: 'S'}}, 8: {'y2bar': {3: 'Q', 4: 'Q', 5: {'x-box': {4: 'U', 5: 'Q'}}, 6: {'high': {5: 'C', 6: 'Q'}}, 7: 'G', 8: 'G', 9: 'G'}}, 9: 'Q'}}, 7: {'x-ege': {0: 'L', 1: {'y-box': {2: 'Q', 3: 'G', 6: 'G', 7: 'Z', 9: 'Z', 10: 'Z', 11: 'Z'}}, 2: {'y2bar': {0: 'K', 1: 'Q', 2: {'x-box': {1: 'K', 2: 'Q'}}, 4: {'x-box': {1: 'G', 3: 'Q'}}, 5: 'S', 6: {'x-box': {2: 'G', 3: 'S', 4: 'S'}}, 7: 'G', 9: 'Z'}}, 3: {'y-box': {0: 'K', 1: {'x-bar': {4: 'K', 5: 'K', 6: 'K', 7: 'G'}}, 2: {'x-box': {2: 'H', 3: 'G'}}, 3: {'x-box': {2: 'H', 3: 'O', 4: 'H'}}, 4: 'Q', 6: {'xegvy': {6: 'T', 7: 'T', 8: 'K', 9: 'U', 10: 'C'}}, 7: {'y2bar': {3: 'Q', 5: 'L', 6: 'C', 7: 'Q'}}, 8: {'x-bar': {8: 'O', 6: 'E', 7: 'O'}}, 9: {'high': {6: 'O', 7: 'E'}}, 10: {'x-box': {4: 'E', 5: 'O', 6: 'U'}}, 11: {'x-box': {5: 'E', 6: 'U'}}}}, 4: {'x2bar': {2: {'y-box': {9: 'X', 10: 'X', 12: 'R'}}, 3: {'x-box': {4: 'E', 6: 'R'}}, 4: 'E', 5: {'x-box': {3: 'G', 6: 'Q'}}, 6: {'x-bar': {8: 'E', 7: 'G'}}, 7: 'O'}}, 5: {'y-ege': {2: 'U', 3: {'x-box': {3: 'C', 4: 'C', 5: 'A'}}, 4: 'G', 5: 'T', 6: {'x-box': {2: 'L', 3: 'E', 5: 'Q'}}, 7: {'x-box': {4: 'Q', 6: 'T', 7: 'G'}}, 8: {'x-box': {5: 'G', 7: 'E'}}, 9: 'E'}}, 6: {'y-box': {1: {'x-box': {2: 'M', 3: 'K'}}, 2: 'K', 4: 'K', 5: 'K', 6: 'C', 7: {'x2bar': {4: 'C', 5: 'H'}}, 8: 'H', 9: {'x-box': {5: 'M', 6: 'C'}}, 10: {'x-box': {4: 'L', 7: 'R'}}, 11: {'x-box': {6: 'H', 7: 'U'}}}}, 7: {'y-box': {7: 'E', 9: 'G', 10: 'T', 11: 'L', 15: 'U'}}, 8: {'y-box': {8: 'A', 9: 'G', 10: 'G', 6: 'A'}}, 9: 'E', 10: 'M'}}, 8: {'x2ybr': {2: {'x-bar': {10: 'A', 6: 'L', 7: 'L'}}, 3: {'y-box': {3: 'L', 4: 'L', 6: 'A', 8: 'L', 9: 'A'}}, 4: {'y-box': {6: 'O', 7: 'C', 9: 'M', 10: 'O', 14: 'R'}}, 5: 'O', 6: {'y-box': {8: 'S', 10: 'G', 6: 'Q'}}, 7: {'x2bar': {2: 'X', 3: {'x-box': {3: 'E', 4: 'L', 5: 'T'}}, 4: 'E', 5: {'x-box': {4: 'Z', 5: 'E'}}, 6: {'width': {5: 'Q', 6: 'E'}}, 7: {'x-box': {3: 'O', 4: 'Q'}}}}, 8: {'y-box': {2: 'Q', 3: 'Q', 5: 'Q', 6: 'Q', 7: 'E', 9: {'x-box': {3: 'E', 5: 'Q'}}, 10: 'C', 11: 'C', 15: 'C'}}, 9: 'Q', 10: {'y-box': {3: 'U', 5: 'U', 8: 'U', 9: 'Q', 10: 'U'}}, 12: 'Y'}}, 9: {'x2ybr': {2: 'L', 3: {'x-box': {8: 'M', 4: 'L', 5: 'L'}}, 4: {'high': {4: 'O', 5: 'O', 6: 'K', 7: 'O'}}, 5: {'y-box': {8: 'O', 10: 'E', 12: 'R', 5: 'O'}}, 6: {'width': {5: 'Q', 6: {'x-box': {5: 'O', 6: 'Q'}}, 8: 'O', 9: 'K', 10: 'S'}}, 7: {'x2bar': {4: {'x-box': {1: 'G', 5: 'T'}}, 5: 'G', 6: 'G', 7: 'Q', 8: 'O'}}, 8: {'y-ege': {2: 'U', 3: 'U', 4: {'x-box': {11: 'K', 4: 'G'}}, 6: 'Q', 8: 'C', 9: 'C', 10: 'C'}}, 9: {'y-box': {3: 'M', 8: 'U', 9: {'x-box': {4: 'C', 6: 'K'}}, 11: 'G', 12: 'K', 13: 'K', 15: 'K'}}, 10: {'x-box': {9: 'H', 3: 'N', 4: 'U'}}, 11: {'x-box': {9: 'H', 6: 'U', 7: 'X'}}}}, 10: {'x2bar': {1: {'x2ybr': {2: 'L', 3: 'L', 6: 'K', 7: 'K', 8: 'K', 10: 'X'}}, 2: {'x2ybr': {4: 'K', 5: 'K', 6: 'K', 7: {'x-box': {1: 'E', 3: 'K', 4: 'K', 6: 'K', 7: 'K'}}, 8: 'K', 9: 'K', 10: 'K', 11: 'X', 12: 'X', 13: 'Y'}}, 3: {'x2ybr': {2: 'A', 8: {'x-box': {9: 'H', 4: 'E', 5: 'H'}}, 9: {'x-box': {8: 'K', 10: 'K', 3: 'M', 4: 'M'}}, 10: 'M', 11: 'N'}}, 4: {'x-bar': {3: {'x-box': {5: 'N', 6: 'M'}}, 5: 'M', 7: 'Q', 8: 'E', 10: 'S', 13: 'A'}}, 5: {'x-box': {1: 'G', 2: 'G', 6: 'U', 7: 'E', 8: 'U', 9: 'U'}}, 6: {'y-bar': {8: 'E', 5: 'O', 6: 'O', 7: 'G'}}, 7: {'x-bar': {5: 'O', 6: 'G', 7: 'O', 8: 'O', 9: 'O'}}, 8: 'O'}}, 11: {'x2ybr': {2: {'x-box': {9: 'S', 2: 'A', 6: 'S'}}, 3: 'A', 4: {'width': {3: 'E', 4: 'E', 6: 'Z', 7: 'Q', 8: 'Q'}}, 5: {'x-box': {8: 'E', 2: 'J', 3: 'J'}}, 6: {'y-box': {9: 'L', 11: 'E'}}, 7: 'E', 8: {'x-box': {8: 'C', 2: 'E'}}, 9: 'E', 10: {'y-box': {8: 'X', 9: 'E', 6: 'M'}}, 11: {'y-box': {9: 'U', 10: 'N', 6: 'C', 7: 'M'}}, 12: {'x-box': {8: 'U', 6: 'X'}}}}, 12: {'x-bar': {3: {'x-box': {9: 'U', 5: 'C'}}, 4: 'C', 5: 'C', 7: 'Z', 8: 'Z', 9: {'x-box': {2: 'J', 7: 'Z'}}, 10: {'y-box': {1: 'J', 11: 'Q', 12: 'Z', 14: 'L'}}, 11: {'x-box': {0: 'J', 7: 'Z'}}, 12: 'A', 13: 'A'}}, 13: {'y-box': {7: 'C', 9: 'C', 10: 'J', 11: 'D', 13: {'x-box': {9: 'S', 7: 'N'}}, 14: 'D', 15: 'S'}}, 14: {'y-box': {3: 'J', 4: 'J', 5: 'J', 6: 'J', 7: 'I', 10: 'J', 11: 'J'}}, 15: 'J'}}, 11: {'y-ege': {0: 'J', 1: 'J', 2: {'x-ege': {0: 'L', 1: 'C', 2: {'x-box': {1: 'K', 5: 'A', 6: 'A'}}, 3: 'K', 4: 'K', 5: 'N', 6: {'x-box': {9: 'N', 11: 'N', 4: 'M'}}, 7: 'M', 8: 'M', 9: 'M', 10: 'M', 11: 'M', 14: 'M'}}, 3: {'x-ege': {0: 'L', 1: 'C', 2: {'x-box': {1: 'C', 2: 'C', 3: 'C', 4: 'C', 5: 'L', 6: 'C', 7: 'C'}}, 3: {'x-bar': {3: 'K', 4: {'y-box': {4: 'K', 5: 'K', 6: 'K', 7: 'K', 8: 'K', 9: 'X', 10: 'K'}}, 5: 'K', 6: {'y-box': {9: 'H', 5: 'K', 6: 'H'}}, 7: 'O', 8: 'U'}}, 4: 'K', 5: {'x-box': {4: 'C', 5: 'K', 6: 'K', 7: 'K'}}, 6: {'onpix': {3: 'N', 4: 'N', 5: 'M', 6: 'C', 7: 'C', 8: 'C'}}, 8: 'M', 11: 'M'}}, 4: {'x2bar': {2: {'width': {4: 'L', 5: 'L', 6: 'K', 7: 'K', 9: 'K', 10: 'K'}}, 3: {'y-box': {5: 'Q', 6: 'I', 8: 'K', 9: 'L', 10: {'x-box': {5: 'C', 6: 'L'}}, 14: 'A', 15: 'A'}}, 4: {'y2bar': {1: 'A', 2: 'A', 3: {'x-box': {4: 'G', 5: 'C'}}, 4: 'C', 5: 'M', 6: 'K', 7: 'K', 9: 'K'}}, 5: {'x-box': {8: 'D', 3: 'G', 4: 'G', 6: 'G'}}, 6: {'y-bar': {4: 'C', 5: 'G', 6: 'G', 7: {'width': {4: 'G', 5: 'C'}}, 8: 'C'}}, 7: {'y-box': {1: 'C', 6: 'C', 7: 'G', 8: 'G', 9: 'G', 10: 'G', 11: 'G'}}, 8: {'width': {3: 'C', 5: {'onpix': {3: 'G', 4: 'U'}}, 6: 'O', 7: 'O', 8: 'C', 9: 'C'}}, 9: {'width': {4: 'C', 5: 'C', 6: 'C', 7: 'O', 8: 'C'}}, 10: 'C'}}, 5: {'y2bar': {0: 'Q', 1: 'Q', 2: {'y-box': {11: 'A', 5: 'Q', 6: 'Q', 15: 'A'}}, 3: {'x-box': {2: 'Q', 3: 'Q', 4: 'G', 6: 'C'}}, 4: {'high': {8: 'C', 5: 'Q', 6: 'L'}}, 5: {'y-box': {6: 'U', 7: 'U', 9: 'M', 10: 'O', 11: 'O', 12: 'L'}}, 6: {'x-box': {3: 'L', 4: 'K', 6: 'U'}}, 7: {'x2bar': {4: 'K', 5: 'K', 6: 'G', 7: 'G', 8: 'G'}}, 8: {'x2bar': {3: 'K', 4: 'K', 6: {'x-box': {4: 'E', 7: 'C'}}, 7: 'G', 8: 'G', 9: 'G'}}, 9: {'x-box': {4: 'G', 5: 'C'}}}}, 6: {'y2bar': {1: 'Q', 2: 'Q', 3: {'y-box': {8: 'Q', 9: 'Q', 11: 'G', 6: 'Q'}}, 4: {'width': {8: 'G', 6: 'L', 7: 'L'}}, 5: {'x-box': {3: 'C', 4: 'L', 5: 'L', 6: 'L', 8: 'L'}}, 6: {'x-box': {4: 'L', 5: 'L', 6: 'G'}}, 7: {'x-box': {1: 'E', 4: 'K', 5: 'L'}}, 8: {'y-box': {2: 'K', 7: 'G', 8: 'E', 9: 'E', 10: 'E'}}, 9: 'G', 10: 'E'}}, 7: {'high': {4: 'E', 5: {'y2bar': {2: 'G', 3: 'E', 4: 'C', 5: 'C', 7: 'Q'}}, 6: {'x-box': {3: 'C', 5: 'C', 6: 'O', 7: 'L', 8: 'Z'}}, 7: {'x-box': {8: 'L', 4: 'G', 5: 'G'}}, 8: {'x-box': {8: 'L', 4: 'C', 6: 'L', 7: 'L'}}, 9: {'x-box': {3: 'Q', 4: 'Q', 5: 'Q', 6: 'Q', 7: 'Q', 8: 'L'}}, 10: 'Q'}}, 8: {'x2bar': {3: {'xegvy': {9: 'E', 10: 'E', 11: 'E', 6: 'X'}}, 4: {'xybar': {5: 'Q', 6: 'K', 7: 'C', 8: 'Q', 9: 'C'}}, 5: {'y-box': {11: 'E', 6: 'S', 15: 'Q'}}, 6: {'high': {10: 'Q', 11: 'Q', 6: 'E', 7: 'G'}}, 7: {'high': {8: 'Q', 10: 'Q', 6: 'E', 7: 'E'}}, 8: {'x-box': {5: 'Q', 6: 'U'}}}}, 9: {'onpix': {2: 'S', 3: 'S', 4: 'C', 5: 'C', 7: 'C', 8: {'width': {8: 'E', 9: 'E', 7: 'Q'}}, 9: {'high': {8: 'G', 9: 'L'}}, 11: 'L'}}, 10: {'high': {8: 'S', 11: 'Q', 6: 'X', 7: 'G'}}}}, 12: {'x-bar': {2: 'K', 3: {'x-ege': {1: 'C', 2: 'C', 3: 'K', 4: 'K'}}, 4: {'x-ege': {1: 'C', 2: 'C', 3: 'K', 4: 'K', 6: 'K'}}, 5: {'x-ege': {0: {'x-box': {1: 'E', 2: 'E', 3: 'I', 4: 'I', 6: 'I'}}, 1: 'C', 2: {'x-box': {4: 'C', 5: 'L', 6: 'C', 7: 'G'}}, 3: {'x-box': {3: 'K', 4: 'K', 6: 'L', 7: 'C'}}, 4: {'high': {8: 'G', 6: 'E', 7: 'K'}}, 5: 'K', 6: {'x-box': {11: 'N', 5: 'C', 6: 'N'}}}}, 6: {'xegvy': {6: 'J', 7: {'x-box': {3: 'C', 4: 'C', 5: 'G', 6: 'G'}}, 8: {'yegvx': {2: 'U', 4: 'U', 6: 'U', 7: 'G', 9: {'x-box': {4: 'G', 5: 'C'}}, 10: 'G'}}, 9: {'onpix': {1: 'C', 2: 'C', 4: 'G', 7: 'C', 8: 'C', 9: 'E'}}, 10: {'y-box': {2: 'C', 3: 'C', 4: 'C', 5: 'C', 7: 'C', 8: 'G', 9: 'C', 10: 'G', 11: 'G'}}, 11: 'C'}}, 7: {'xybar': {4: 'C', 5: {'high': {8: 'C', 9: 'Q', 5: 'C', 6: 'C'}}, 7: 'G', 8: {'y-bar': {8: 'E', 6: 'G', 7: 'C'}}, 9: 'E', 10: 'L', 11: {'x-box': {8: 'L', 9: 'L', 4: 'G', 5: 'L'}}, 12: 'L', 13: 'C', 14: 'J'}}, 8: {'y-bar': {1: 'A', 3: {'y-box': {9: 'A', 12: 'L'}}, 4: 'L', 5: {'x2bar': {8: 'G', 4: 'J', 7: 'G'}}, 6: {'y-box': {8: 'Q', 9: 'G', 5: 'G', 7: 'G'}}, 7: 'Q', 11: 'Q', 13: 'Q'}}, 9: {'onpix': {1: 'J', 2: 'J', 3: 'A', 4: 'A', 5: 'A', 6: 'Q', 8: 'Q'}}, 10: {'xybar': {3: 'Q', 4: 'Q', 10: 'A', 11: 'A', 13: 'L'}}, 12: {'x-box': {1: 'J', 2: 'J', 7: 'A'}}, 13: 'J'}}, 13: {'y-bar': {0: 'A', 2: {'x-box': {9: 'L', 2: 'J', 3: 'J', 7: 'L'}}, 3: {'x-box': {1: 'J', 2: 'J', 4: 'L', 6: 'L', 8: 'L'}}, 4: {'x-box': {1: 'J', 3: 'J', 4: 'J', 6: 'L', 8: 'L'}}, 5: {'y-box': {8: 'J', 10: 'G', 13: 'L'}}, 6: {'x-ege': {0: 'E', 1: 'C', 2: 'G', 3: 'G', 4: {'x-box': {6: 'G', 7: 'C'}}}}, 7: {'y-box': {0: 'C', 1: 'E', 4: 'C', 5: {'x-box': {3: 'C', 4: 'K'}}, 6: {'width': {3: 'E', 4: 'C', 5: 'C'}}, 7: 'C', 8: {'x-box': {4: 'K', 5: 'C'}}, 9: 'C', 10: 'C', 11: 'C'}}, 8: {'x-ege': {0: 'E', 1: 'C', 2: 'C', 3: 'C', 4: 'C', 5: 'C', 6: 'C', 7: 'N', 9: 'M'}}, 9: 'M'}}, 14: {'y-ege': {0: 'J', 1: 'J', 3: 'C', 4: 'C', 5: {'x-box': {4: 'C', 5: 'C', 6: 'C', 7: 'A', 8: 'A'}}, 6: 'E', 7: 'E', 8: 'E'}}, 15: {'y2bar': {4: 'J', 6: 'C', 7: 'C', 10: 'E', 11: 'E', 12: 'E'}}}}\n"
          ]
        }
      ],
      "source": [
        "#training the model\n",
        "classifiers, alphas = adaboost(dataFrame, x.columns.tolist(), \"target\", iterations=3)"
      ]
    },
    {
      "cell_type": "markdown",
      "metadata": {
        "id": "LBQy_xZE6n8y"
      },
      "source": [
        "###Step 7: Make Predictions on Test Data\n",
        "Once the model is trained, we can use it to make predictions on the testing set."
      ]
    },
    {
      "cell_type": "code",
      "execution_count": null,
      "metadata": {
        "id": "ufaHeb666rHC",
        "colab": {
          "base_uri": "https://localhost:8080/"
        },
        "outputId": "9c2b9526-144b-4e7e-8abf-43e0077d0822"
      },
      "outputs": [
        {
          "output_type": "stream",
          "name": "stdout",
          "text": [
            "5031     True\n",
            "1884     True\n",
            "2658     True\n",
            "5431     True\n",
            "3091     True\n",
            "         ... \n",
            "12540    True\n",
            "7113     True\n",
            "6831     True\n",
            "10192    True\n",
            "13202    True\n",
            "Name: target, Length: 4000, dtype: bool\n",
            "3965\n",
            "Accuracy: 0.99125\n"
          ]
        }
      ],
      "source": [
        "#testing the model\n",
        "yprediction = adaboost_classify(classifiers, alphas, xtest)\n",
        "print(ytest == yprediction)\n",
        "print(sum(ytest == yprediction))\n",
        "print('Accuracy:',sum(ytest == yprediction)/len(ytest))"
      ]
    },
    {
      "cell_type": "markdown",
      "metadata": {
        "id": "iGvSF_O1zGYD"
      },
      "source": [
        "\n",
        "##   Implementation 2: ANN with backpropagation on data set Breast Cancer:\n",
        "\n",
        "*   Data set: https://archive.ics.uci.edu/dataset/17/breast+cancer+wisconsin+diagnostic\n"
      ]
    },
    {
      "cell_type": "code",
      "execution_count": null,
      "metadata": {
        "colab": {
          "base_uri": "https://localhost:8080/"
        },
        "id": "Njuh-iA_1c8j",
        "outputId": "2f060f85-8d78-4046-e40f-49f7abc3a591"
      },
      "outputs": [
        {
          "output_type": "stream",
          "name": "stdout",
          "text": [
            "Requirement already satisfied: ucimlrepo in /usr/local/lib/python3.10/dist-packages (0.0.7)\n",
            "Requirement already satisfied: pandas>=1.0.0 in /usr/local/lib/python3.10/dist-packages (from ucimlrepo) (2.2.2)\n",
            "Requirement already satisfied: certifi>=2020.12.5 in /usr/local/lib/python3.10/dist-packages (from ucimlrepo) (2024.8.30)\n",
            "Requirement already satisfied: numpy>=1.22.4 in /usr/local/lib/python3.10/dist-packages (from pandas>=1.0.0->ucimlrepo) (1.26.4)\n",
            "Requirement already satisfied: python-dateutil>=2.8.2 in /usr/local/lib/python3.10/dist-packages (from pandas>=1.0.0->ucimlrepo) (2.8.2)\n",
            "Requirement already satisfied: pytz>=2020.1 in /usr/local/lib/python3.10/dist-packages (from pandas>=1.0.0->ucimlrepo) (2024.2)\n",
            "Requirement already satisfied: tzdata>=2022.7 in /usr/local/lib/python3.10/dist-packages (from pandas>=1.0.0->ucimlrepo) (2024.2)\n",
            "Requirement already satisfied: six>=1.5 in /usr/local/lib/python3.10/dist-packages (from python-dateutil>=2.8.2->pandas>=1.0.0->ucimlrepo) (1.16.0)\n"
          ]
        }
      ],
      "source": [
        "!pip install ucimlrepo"
      ]
    },
    {
      "cell_type": "code",
      "execution_count": null,
      "metadata": {
        "id": "2T7f05u94SXS"
      },
      "outputs": [],
      "source": [
        "import numpy as np\n",
        "import pandas as pd\n",
        "import math\n",
        "from ucimlrepo import fetch_ucirepo\n",
        "from sklearn import preprocessing"
      ]
    },
    {
      "cell_type": "code",
      "execution_count": null,
      "metadata": {
        "id": "7d6lGP6M4VSg"
      },
      "outputs": [],
      "source": [
        "BCWD_Dataset = fetch_ucirepo(id = 17)"
      ]
    },
    {
      "cell_type": "code",
      "execution_count": null,
      "metadata": {
        "id": "5FC6yR0k4XyN"
      },
      "outputs": [],
      "source": [
        "x = BCWD_Dataset.data.features\n",
        "y = BCWD_Dataset.data.targets"
      ]
    },
    {
      "cell_type": "code",
      "execution_count": null,
      "metadata": {
        "colab": {
          "base_uri": "https://localhost:8080/"
        },
        "id": "N9YB2u084afF",
        "outputId": "04de952f-c0fc-440a-8e26-f8b10f903380"
      },
      "outputs": [
        {
          "name": "stdout",
          "output_type": "stream",
          "text": [
            "     radius1  texture1  perimeter1   area1  smoothness1  compactness1  \\\n",
            "0      17.99     10.38      122.80  1001.0      0.11840       0.27760   \n",
            "1      20.57     17.77      132.90  1326.0      0.08474       0.07864   \n",
            "2      19.69     21.25      130.00  1203.0      0.10960       0.15990   \n",
            "3      11.42     20.38       77.58   386.1      0.14250       0.28390   \n",
            "4      20.29     14.34      135.10  1297.0      0.10030       0.13280   \n",
            "..       ...       ...         ...     ...          ...           ...   \n",
            "564    21.56     22.39      142.00  1479.0      0.11100       0.11590   \n",
            "565    20.13     28.25      131.20  1261.0      0.09780       0.10340   \n",
            "566    16.60     28.08      108.30   858.1      0.08455       0.10230   \n",
            "567    20.60     29.33      140.10  1265.0      0.11780       0.27700   \n",
            "568     7.76     24.54       47.92   181.0      0.05263       0.04362   \n",
            "\n",
            "     concavity1  concave_points1  symmetry1  fractal_dimension1  ...  radius3  \\\n",
            "0       0.30010          0.14710     0.2419             0.07871  ...   25.380   \n",
            "1       0.08690          0.07017     0.1812             0.05667  ...   24.990   \n",
            "2       0.19740          0.12790     0.2069             0.05999  ...   23.570   \n",
            "3       0.24140          0.10520     0.2597             0.09744  ...   14.910   \n",
            "4       0.19800          0.10430     0.1809             0.05883  ...   22.540   \n",
            "..          ...              ...        ...                 ...  ...      ...   \n",
            "564     0.24390          0.13890     0.1726             0.05623  ...   25.450   \n",
            "565     0.14400          0.09791     0.1752             0.05533  ...   23.690   \n",
            "566     0.09251          0.05302     0.1590             0.05648  ...   18.980   \n",
            "567     0.35140          0.15200     0.2397             0.07016  ...   25.740   \n",
            "568     0.00000          0.00000     0.1587             0.05884  ...    9.456   \n",
            "\n",
            "     texture3  perimeter3   area3  smoothness3  compactness3  concavity3  \\\n",
            "0       17.33      184.60  2019.0      0.16220       0.66560      0.7119   \n",
            "1       23.41      158.80  1956.0      0.12380       0.18660      0.2416   \n",
            "2       25.53      152.50  1709.0      0.14440       0.42450      0.4504   \n",
            "3       26.50       98.87   567.7      0.20980       0.86630      0.6869   \n",
            "4       16.67      152.20  1575.0      0.13740       0.20500      0.4000   \n",
            "..        ...         ...     ...          ...           ...         ...   \n",
            "564     26.40      166.10  2027.0      0.14100       0.21130      0.4107   \n",
            "565     38.25      155.00  1731.0      0.11660       0.19220      0.3215   \n",
            "566     34.12      126.70  1124.0      0.11390       0.30940      0.3403   \n",
            "567     39.42      184.60  1821.0      0.16500       0.86810      0.9387   \n",
            "568     30.37       59.16   268.6      0.08996       0.06444      0.0000   \n",
            "\n",
            "     concave_points3  symmetry3  fractal_dimension3  \n",
            "0             0.2654     0.4601             0.11890  \n",
            "1             0.1860     0.2750             0.08902  \n",
            "2             0.2430     0.3613             0.08758  \n",
            "3             0.2575     0.6638             0.17300  \n",
            "4             0.1625     0.2364             0.07678  \n",
            "..               ...        ...                 ...  \n",
            "564           0.2216     0.2060             0.07115  \n",
            "565           0.1628     0.2572             0.06637  \n",
            "566           0.1418     0.2218             0.07820  \n",
            "567           0.2650     0.4087             0.12400  \n",
            "568           0.0000     0.2871             0.07039  \n",
            "\n",
            "[569 rows x 30 columns]\n"
          ]
        }
      ],
      "source": [
        "print(x)"
      ]
    },
    {
      "cell_type": "code",
      "execution_count": null,
      "metadata": {
        "colab": {
          "base_uri": "https://localhost:8080/"
        },
        "id": "aSY4r1Om4fNe",
        "outputId": "f85df574-e6a9-4d87-951f-afc0c7f4c80e"
      },
      "outputs": [
        {
          "name": "stdout",
          "output_type": "stream",
          "text": [
            "    Diagnosis\n",
            "0           M\n",
            "1           M\n",
            "2           M\n",
            "3           M\n",
            "4           M\n",
            "..        ...\n",
            "564         M\n",
            "565         M\n",
            "566         M\n",
            "567         M\n",
            "568         B\n",
            "\n",
            "[569 rows x 1 columns]\n"
          ]
        }
      ],
      "source": [
        "print(y)"
      ]
    },
    {
      "cell_type": "code",
      "execution_count": null,
      "metadata": {
        "colab": {
          "base_uri": "https://localhost:8080/"
        },
        "id": "Kpz8LTxE4ik0",
        "outputId": "c0c90f26-ffa3-457a-af25-46b0d452dabc"
      },
      "outputs": [
        {
          "name": "stdout",
          "output_type": "stream",
          "text": [
            "[[7.92541486e-03 4.57286305e-03 5.40989964e-02 ... 1.16920795e-04\n",
            "  2.02695018e-04 5.23808686e-05]\n",
            " [8.66575595e-03 7.48616836e-03 5.59882822e-02 ... 7.83583182e-05\n",
            "  1.15852352e-04 3.75024596e-05]\n",
            " [9.36668268e-03 1.01087865e-02 6.18419883e-02 ... 1.15596947e-04\n",
            "  1.71873157e-04 4.16624718e-05]\n",
            " ...\n",
            " [1.16438847e-02 1.96964025e-02 7.59658259e-02 ... 9.94640269e-05\n",
            "  1.55579134e-04 5.48525170e-05]\n",
            " [9.23020523e-03 1.31418408e-02 6.27743569e-02 ... 1.18738077e-04\n",
            "  1.83125480e-04 5.55604587e-05]\n",
            " [2.31098880e-02 7.30820427e-02 1.42709515e-01 ... 0.00000000e+00\n",
            "  8.55006294e-04 2.09626935e-04]]\n"
          ]
        }
      ],
      "source": [
        "#normalizing the data\n",
        "#ss = preprocessing.StandardScaler()\n",
        "#x_normalized = ss.fit_transform(x)\n",
        "#print(x_normalized)\n",
        "x_normalized = preprocessing.normalize(x)\n",
        "print(x_normalized)"
      ]
    },
    {
      "cell_type": "code",
      "execution_count": null,
      "metadata": {
        "colab": {
          "base_uri": "https://localhost:8080/"
        },
        "id": "6IgTm43t4mqR",
        "outputId": "119013b1-184c-48f2-e448-b6a42f58d405"
      },
      "outputs": [
        {
          "name": "stderr",
          "output_type": "stream",
          "text": [
            "<ipython-input-8-2989ca02f994>:7: FutureWarning: ChainedAssignmentError: behaviour will change in pandas 3.0!\n",
            "You are setting values through chained assignment. Currently this works in certain cases, but when using Copy-on-Write (which will become the default behaviour in pandas 3.0) this will never work to update the original DataFrame or Series, because the intermediate object on which we are setting values will behave as a copy.\n",
            "A typical example is when you are setting values in a column of a DataFrame, like:\n",
            "\n",
            "df[\"col\"][row_indexer] = value\n",
            "\n",
            "Use `df.loc[row_indexer, \"col\"] = values` instead, to perform the assignment in a single step and ensure this keeps updating the original `df`.\n",
            "\n",
            "See the caveats in the documentation: https://pandas.pydata.org/pandas-docs/stable/user_guide/indexing.html#returning-a-view-versus-a-copy\n",
            "\n",
            "  y_numerical['Diagnosis'][i] = 1\n",
            "<ipython-input-8-2989ca02f994>:5: FutureWarning: ChainedAssignmentError: behaviour will change in pandas 3.0!\n",
            "You are setting values through chained assignment. Currently this works in certain cases, but when using Copy-on-Write (which will become the default behaviour in pandas 3.0) this will never work to update the original DataFrame or Series, because the intermediate object on which we are setting values will behave as a copy.\n",
            "A typical example is when you are setting values in a column of a DataFrame, like:\n",
            "\n",
            "df[\"col\"][row_indexer] = value\n",
            "\n",
            "Use `df.loc[row_indexer, \"col\"] = values` instead, to perform the assignment in a single step and ensure this keeps updating the original `df`.\n",
            "\n",
            "See the caveats in the documentation: https://pandas.pydata.org/pandas-docs/stable/user_guide/indexing.html#returning-a-view-versus-a-copy\n",
            "\n",
            "  y_numerical['Diagnosis'][i] = 0\n"
          ]
        }
      ],
      "source": [
        "#we need to convert the output to numerical values for classification calculations\n",
        "y_numerical = pd.DataFrame(data = {'Diagnosis':range(len(y))})\n",
        "for i in range(len(y)):\n",
        "    if y['Diagnosis'][i] == 'B':\n",
        "        y_numerical['Diagnosis'][i] = 0\n",
        "    else:\n",
        "        y_numerical['Diagnosis'][i] = 1"
      ]
    },
    {
      "cell_type": "code",
      "execution_count": null,
      "metadata": {
        "colab": {
          "base_uri": "https://localhost:8080/"
        },
        "id": "mkDMZEfZ4qop",
        "outputId": "557baaf7-5b7e-47d2-d0a8-84aefde7b378"
      },
      "outputs": [
        {
          "name": "stdout",
          "output_type": "stream",
          "text": [
            "     Diagnosis\n",
            "0            1\n",
            "1            1\n",
            "2            1\n",
            "3            1\n",
            "4            1\n",
            "..         ...\n",
            "564          1\n",
            "565          1\n",
            "566          1\n",
            "567          1\n",
            "568          0\n",
            "\n",
            "[569 rows x 1 columns]\n"
          ]
        }
      ],
      "source": [
        "print(y_numerical)"
      ]
    },
    {
      "cell_type": "code",
      "execution_count": null,
      "metadata": {
        "id": "_t9NgAHY4ufY"
      },
      "outputs": [],
      "source": [
        "BCWD_Metadata = BCWD_Dataset.metadata\n",
        "BCWD_Variables = BCWD_Dataset.variables"
      ]
    },
    {
      "cell_type": "code",
      "execution_count": null,
      "metadata": {
        "id": "F1VcdQf64x79"
      },
      "outputs": [],
      "source": [
        "#sigmoid over a single value of data\n",
        "def sigmoid(x):\n",
        "    return 1/(1+(math.e)**-x)\n",
        "#sigmoid derivation over a single value of data\n",
        "def sigmoid_derivation(x):\n",
        "    return sigmoid(x)*(1-sigmoid(x))\n",
        "#adding the sigmoid function to numpy library\n",
        "sigmoid = np.frompyfunc(sigmoid,1,1)\n",
        "sigmoid_derivation = np.frompyfunc(sigmoid_derivation,1,1)"
      ]
    },
    {
      "cell_type": "code",
      "execution_count": null,
      "metadata": {
        "id": "XBRVYu3K41H7"
      },
      "outputs": [],
      "source": [
        "#Relu over a single value of data\n",
        "def relu(x):\n",
        "    if x <= 0:\n",
        "        return 0\n",
        "    return x\n",
        "#relu derivation over a single value of data\n",
        "def relu_derivation(x):\n",
        "    if x <= 0:\n",
        "        return 0\n",
        "    return 1\n",
        "#adding the relu function to numpy library\n",
        "relu = np.frompyfunc(relu,1,1)\n",
        "relu_derivation = np.frompyfunc(relu_derivation,1,1)"
      ]
    },
    {
      "cell_type": "code",
      "execution_count": null,
      "metadata": {
        "id": "ofRayUbG44ir"
      },
      "outputs": [],
      "source": [
        "x_train,x_test = x_normalized[:500],x_normalized[500:]\n",
        "y_train,y_test = y_numerical[:500],y_numerical[500:]"
      ]
    },
    {
      "cell_type": "code",
      "execution_count": null,
      "metadata": {
        "id": "o9v4M-u348gj"
      },
      "outputs": [],
      "source": [
        "class BCWDClassifier():\n",
        "    def __init__(self,inputNumber,hiddenLayerNeuronsNumber,outputNeuronsNumber,learningRate):\n",
        "        self.learningRate = learningRate\n",
        "        self.Winput2hidden = np.random.normal(size = (inputNumber,hiddenLayerNeuronsNumber))\n",
        "        self.Whidden2output = np.random.normal(size = (hiddenLayerNeuronsNumber,outputNeuronsNumber))\n",
        "    def forward(self,x):\n",
        "        hiddenNeurons = sigmoid(x @ self.Winput2hidden)\n",
        "        outputNeurons = sigmoid(hiddenNeurons @ self.Whidden2output)\n",
        "        return outputNeurons.reshape(1,len(outputNeurons)),hiddenNeurons.reshape(1,len(hiddenNeurons)),self.Winput2hidden,self.Whidden2output\n",
        "    def updateWeights(self,derivedWinput2hidden,derivedWhidden2output):\n",
        "        self.Winput2hidden += self.learningRate * derivedWinput2hidden\n",
        "        self.Whidden2output += self.learningRate * derivedWhidden2output"
      ]
    },
    {
      "cell_type": "code",
      "execution_count": null,
      "metadata": {
        "id": "V59fUFjF5CE1"
      },
      "outputs": [],
      "source": [
        "def calculateGradient(x,w1,w2,h,err):\n",
        "    derivedWinput2hidden = x.reshape(len(x),1) @ (w2.T * sigmoid_derivation(x @ w1))* sigmoid_derivation(h @ w2) * err\n",
        "    derivedWhidden2output = err * sigmoid_derivation(h @ w2) * h\n",
        "    return derivedWinput2hidden.astype('float64'),derivedWhidden2output.T.astype('float64')"
      ]
    },
    {
      "cell_type": "code",
      "execution_count": null,
      "metadata": {
        "id": "hM136yKk5G0g"
      },
      "outputs": [],
      "source": [
        "bcwdc = BCWDClassifier(len(x_train[0]),100,1,0.01)"
      ]
    },
    {
      "cell_type": "code",
      "execution_count": null,
      "metadata": {
        "colab": {
          "base_uri": "https://localhost:8080/"
        },
        "id": "Wer-Ku2p5J2h",
        "outputId": "5a93740a-8228-4844-a7f9-557eec64457c"
      },
      "outputs": [
        {
          "name": "stderr",
          "output_type": "stream",
          "text": [
            "<ipython-input-17-c573ff2c99ce>:4: FutureWarning: Series.__getitem__ treating keys as positions is deprecated. In a future version, integer keys will always be treated as labels (consistent with DataFrame behavior). To access a value by position, use `ser.iloc[pos]`\n",
            "  dw1,dw2 = calculateGradient(x_train[j],w1,w2,h,y_train.iloc[j][0]-o)\n"
          ]
        }
      ],
      "source": [
        "for i in range(500):\n",
        "    for j in range(len(x_train)):\n",
        "        o,h,w1,w2 = bcwdc.forward(x_train[i])\n",
        "        dw1,dw2 = calculateGradient(x_train[j],w1,w2,h,y_train.iloc[j][0]-o)\n",
        "        bcwdc.updateWeights(dw1,dw2)"
      ]
    },
    {
      "cell_type": "code",
      "execution_count": null,
      "metadata": {
        "colab": {
          "base_uri": "https://localhost:8080/"
        },
        "id": "3DZZ1QF_5Lim",
        "outputId": "14f97d91-47f9-40ef-a8a9-9a7648e2cbb9"
      },
      "outputs": [
        {
          "name": "stdout",
          "output_type": "stream",
          "text": [
            "accuracy: 0.782608695652174\n"
          ]
        },
        {
          "name": "stderr",
          "output_type": "stream",
          "text": [
            "<ipython-input-18-4bd19f78b2a7>:9: FutureWarning: Series.__getitem__ treating keys as positions is deprecated. In a future version, integer keys will always be treated as labels (consistent with DataFrame behavior). To access a value by position, use `ser.iloc[pos]`\n",
            "  if o == y_test.iloc[i][0]:\n"
          ]
        }
      ],
      "source": [
        "total = len(y_test)\n",
        "correct = 0\n",
        "for i in range(total):\n",
        "    o,_,_,_ = bcwdc.forward(x_test[i])\n",
        "    if o < 0.5:\n",
        "        o = 0\n",
        "    else:\n",
        "        o = 1\n",
        "    if o == y_test.iloc[i][0]:\n",
        "        correct += 1\n",
        "print('accuracy:',correct/total)"
      ]
    },
    {
      "cell_type": "markdown",
      "metadata": {
        "id": "5Pknjicl0S43"
      },
      "source": [
        "## Implementation 3: Naïve Bayes on dataset Car Evaluation:\n",
        "* Data set: http://archive.ics.uci.edu/ml/datasets/Car+Evaluation"
      ]
    },
    {
      "cell_type": "code",
      "execution_count": null,
      "metadata": {
        "id": "Ti5VD_6q3aTp",
        "colab": {
          "base_uri": "https://localhost:8080/"
        },
        "outputId": "baa779eb-7e4c-483e-d606-177b55a8705f"
      },
      "outputs": [
        {
          "output_type": "stream",
          "name": "stdout",
          "text": [
            "Collecting ucimlrepo\n",
            "  Downloading ucimlrepo-0.0.7-py3-none-any.whl.metadata (5.5 kB)\n",
            "Requirement already satisfied: pandas>=1.0.0 in /usr/local/lib/python3.10/dist-packages (from ucimlrepo) (2.2.2)\n",
            "Requirement already satisfied: certifi>=2020.12.5 in /usr/local/lib/python3.10/dist-packages (from ucimlrepo) (2024.8.30)\n",
            "Requirement already satisfied: numpy>=1.22.4 in /usr/local/lib/python3.10/dist-packages (from pandas>=1.0.0->ucimlrepo) (1.26.4)\n",
            "Requirement already satisfied: python-dateutil>=2.8.2 in /usr/local/lib/python3.10/dist-packages (from pandas>=1.0.0->ucimlrepo) (2.8.2)\n",
            "Requirement already satisfied: pytz>=2020.1 in /usr/local/lib/python3.10/dist-packages (from pandas>=1.0.0->ucimlrepo) (2024.2)\n",
            "Requirement already satisfied: tzdata>=2022.7 in /usr/local/lib/python3.10/dist-packages (from pandas>=1.0.0->ucimlrepo) (2024.2)\n",
            "Requirement already satisfied: six>=1.5 in /usr/local/lib/python3.10/dist-packages (from python-dateutil>=2.8.2->pandas>=1.0.0->ucimlrepo) (1.16.0)\n",
            "Downloading ucimlrepo-0.0.7-py3-none-any.whl (8.0 kB)\n",
            "Installing collected packages: ucimlrepo\n",
            "Successfully installed ucimlrepo-0.0.7\n"
          ]
        }
      ],
      "source": [
        "!pip install ucimlrepo"
      ]
    },
    {
      "cell_type": "code",
      "source": [
        "from ucimlrepo import fetch_ucirepo\n",
        "from sklearn.model_selection import train_test_split\n",
        "import numpy as np"
      ],
      "metadata": {
        "id": "k56tI-hCoJqp"
      },
      "execution_count": null,
      "outputs": []
    },
    {
      "cell_type": "code",
      "source": [
        "carEvaluationDataset = fetch_ucirepo(id = 19)"
      ],
      "metadata": {
        "id": "KqYfIIRgoLmG"
      },
      "execution_count": null,
      "outputs": []
    },
    {
      "cell_type": "code",
      "source": [
        "dataFeatures = carEvaluationDataset.data.features\n",
        "dataTargets = carEvaluationDataset.data.targets"
      ],
      "metadata": {
        "id": "xJGA2I6woPRy"
      },
      "execution_count": null,
      "outputs": []
    },
    {
      "cell_type": "code",
      "source": [
        "print(dataFeatures)"
      ],
      "metadata": {
        "colab": {
          "base_uri": "https://localhost:8080/"
        },
        "id": "3gm0RZmAoRUM",
        "outputId": "1a1cc872-e93e-4094-dcc0-ff346cb38666"
      },
      "execution_count": null,
      "outputs": [
        {
          "output_type": "stream",
          "name": "stdout",
          "text": [
            "     buying  maint  doors persons lug_boot safety\n",
            "0     vhigh  vhigh      2       2    small    low\n",
            "1     vhigh  vhigh      2       2    small    med\n",
            "2     vhigh  vhigh      2       2    small   high\n",
            "3     vhigh  vhigh      2       2      med    low\n",
            "4     vhigh  vhigh      2       2      med    med\n",
            "...     ...    ...    ...     ...      ...    ...\n",
            "1723    low    low  5more    more      med    med\n",
            "1724    low    low  5more    more      med   high\n",
            "1725    low    low  5more    more      big    low\n",
            "1726    low    low  5more    more      big    med\n",
            "1727    low    low  5more    more      big   high\n",
            "\n",
            "[1728 rows x 6 columns]\n"
          ]
        }
      ]
    },
    {
      "cell_type": "code",
      "source": [
        "print(dataTargets)"
      ],
      "metadata": {
        "colab": {
          "base_uri": "https://localhost:8080/"
        },
        "id": "NXqpaQJCoUrU",
        "outputId": "5038aa05-f74a-4e8d-b40f-efc6b09ffc5a"
      },
      "execution_count": null,
      "outputs": [
        {
          "output_type": "stream",
          "name": "stdout",
          "text": [
            "      class\n",
            "0     unacc\n",
            "1     unacc\n",
            "2     unacc\n",
            "3     unacc\n",
            "4     unacc\n",
            "...     ...\n",
            "1723   good\n",
            "1724  vgood\n",
            "1725  unacc\n",
            "1726   good\n",
            "1727  vgood\n",
            "\n",
            "[1728 rows x 1 columns]\n"
          ]
        }
      ]
    },
    {
      "cell_type": "code",
      "source": [
        "print(dataTargets.value_counts())"
      ],
      "metadata": {
        "colab": {
          "base_uri": "https://localhost:8080/"
        },
        "id": "tC8zAibQoWTO",
        "outputId": "8a98080a-e169-4d12-8182-068c43e4df74"
      },
      "execution_count": null,
      "outputs": [
        {
          "output_type": "stream",
          "name": "stdout",
          "text": [
            "class\n",
            "unacc    1210\n",
            "acc       384\n",
            "good       69\n",
            "vgood      65\n",
            "Name: count, dtype: int64\n"
          ]
        }
      ]
    },
    {
      "cell_type": "code",
      "source": [
        "#dividing the train and the test sections\n",
        "xtrain,xtest,ytrain,ytest = train_test_split(dataFeatures,dataTargets,train_size = 0.8,shuffle = True)"
      ],
      "metadata": {
        "id": "vw-6_iCaoZfJ"
      },
      "execution_count": null,
      "outputs": []
    },
    {
      "cell_type": "code",
      "source": [
        "print(xtrain)"
      ],
      "metadata": {
        "colab": {
          "base_uri": "https://localhost:8080/"
        },
        "id": "ugh0PWSQoco-",
        "outputId": "6764161a-7939-429a-bec1-27afe70a97aa"
      },
      "execution_count": null,
      "outputs": [
        {
          "output_type": "stream",
          "name": "stdout",
          "text": [
            "     buying  maint  doors persons lug_boot safety\n",
            "1248    med    low      4       2      big    low\n",
            "760    high    low      2       2      med    med\n",
            "1055    med   high  5more       2    small   high\n",
            "1188    med    low      2       2    small    low\n",
            "63    vhigh  vhigh      4       4    small    low\n",
            "...     ...    ...    ...     ...      ...    ...\n",
            "1295    med    low  5more    more      big   high\n",
            "1095    med    med      2       4      big    low\n",
            "568    high   high      3       2    small    med\n",
            "179   vhigh   high      4       4      big   high\n",
            "318   vhigh    med  5more    more      med    low\n",
            "\n",
            "[1382 rows x 6 columns]\n"
          ]
        }
      ]
    },
    {
      "cell_type": "code",
      "source": [
        "print(ytrain)"
      ],
      "metadata": {
        "colab": {
          "base_uri": "https://localhost:8080/"
        },
        "id": "k_UbqZeIogiv",
        "outputId": "7e97a4ac-2c2d-4e8e-d005-a93d07d77c7c"
      },
      "execution_count": null,
      "outputs": [
        {
          "output_type": "stream",
          "name": "stdout",
          "text": [
            "      class\n",
            "1248  unacc\n",
            "760   unacc\n",
            "1055  unacc\n",
            "1188  unacc\n",
            "63    unacc\n",
            "...     ...\n",
            "1295  vgood\n",
            "1095  unacc\n",
            "568   unacc\n",
            "179   unacc\n",
            "318   unacc\n",
            "\n",
            "[1382 rows x 1 columns]\n"
          ]
        }
      ]
    },
    {
      "cell_type": "code",
      "source": [
        "print(xtest)"
      ],
      "metadata": {
        "colab": {
          "base_uri": "https://localhost:8080/"
        },
        "id": "vs1lImHIojJM",
        "outputId": "f85a97bf-ebff-4317-ba32-a020922191a3"
      },
      "execution_count": null,
      "outputs": [
        {
          "output_type": "stream",
          "name": "stdout",
          "text": [
            "     buying  maint  doors persons lug_boot safety\n",
            "815    high    low      4       2      med   high\n",
            "291   vhigh    med      4    more      med    low\n",
            "859    high    low  5more    more      med    med\n",
            "1597    low    med  5more       2      med    med\n",
            "1072    med   high  5more    more    small    med\n",
            "...     ...    ...    ...     ...      ...    ...\n",
            "833    high    low      4    more      med   high\n",
            "1537    low    med      2    more      big    med\n",
            "351   vhigh    low      3       2    small    low\n",
            "319   vhigh    med  5more    more      med    med\n",
            "503    high  vhigh      4       4      big   high\n",
            "\n",
            "[346 rows x 6 columns]\n"
          ]
        }
      ]
    },
    {
      "cell_type": "code",
      "source": [
        "print(ytest)"
      ],
      "metadata": {
        "colab": {
          "base_uri": "https://localhost:8080/"
        },
        "id": "5wNxQ1Zgolw3",
        "outputId": "6c91c68e-408e-4f52-ef2b-ffd123445a95"
      },
      "execution_count": null,
      "outputs": [
        {
          "output_type": "stream",
          "name": "stdout",
          "text": [
            "      class\n",
            "815   unacc\n",
            "291   unacc\n",
            "859     acc\n",
            "1597  unacc\n",
            "1072  unacc\n",
            "...     ...\n",
            "833     acc\n",
            "1537   good\n",
            "351   unacc\n",
            "319     acc\n",
            "503   unacc\n",
            "\n",
            "[346 rows x 1 columns]\n"
          ]
        }
      ]
    },
    {
      "cell_type": "code",
      "source": [
        "#calculating probability of each class\n",
        "p_unacc = sum(ytrain['class'] == 'unacc')/len(ytrain)\n",
        "p_acc = sum(ytrain['class'] == 'acc')/len(ytrain)\n",
        "p_good = sum(ytrain['class'] == 'good')/len(ytrain)\n",
        "p_vgood = sum(ytrain['class'] == 'vgood')/len(ytrain)"
      ],
      "metadata": {
        "id": "Af7yRkvyooHI"
      },
      "execution_count": null,
      "outputs": []
    },
    {
      "cell_type": "code",
      "source": [
        "print(p_unacc,p_acc,p_good,p_vgood)"
      ],
      "metadata": {
        "colab": {
          "base_uri": "https://localhost:8080/"
        },
        "id": "kSydO4negZnX",
        "outputId": "4e209f03-791b-4eab-c9cc-a331fec386a2"
      },
      "execution_count": null,
      "outputs": [
        {
          "output_type": "stream",
          "name": "stdout",
          "text": [
            "0.6975397973950795 0.223589001447178 0.03907380607814761 0.03979739507959479\n"
          ]
        }
      ]
    },
    {
      "cell_type": "code",
      "source": [
        "#function below normalizes word counts to the form of probability distribution\n",
        "def normalize_counts(myDictionary):\n",
        "    for key in myDictionary:\n",
        "        keyNum = 0\n",
        "        totalSum = 0\n",
        "        for i in myDictionary[key]:\n",
        "            keyNum += 1\n",
        "            totalSum += myDictionary[key][i]\n",
        "        for i in myDictionary[key]:\n",
        "            myDictionary[key][i] = ((myDictionary[key][i]+1)/(totalSum+keyNum))\n",
        "    return myDictionary"
      ],
      "metadata": {
        "id": "tekyrz9Fgbh8"
      },
      "execution_count": null,
      "outputs": []
    },
    {
      "cell_type": "code",
      "source": [
        "#function below claculates probability of each word according to each class\n",
        "def calculate_word_probability(data,target,column):\n",
        "    result = dict()\n",
        "    for i in range(len(data)):\n",
        "        if data[column].iloc[i] in result:\n",
        "            result[data[column].iloc[i]][target['class'].iloc[i]] += 1\n",
        "        else:\n",
        "            result[data[column].iloc[i]] = {'unacc':0,'acc':0,'good':0,'vgood':0}\n",
        "    #we need to make the result form a probability distribution\n",
        "    result = normalize_counts(result)\n",
        "    return result"
      ],
      "metadata": {
        "id": "9zgbzVRagdaO"
      },
      "execution_count": null,
      "outputs": []
    },
    {
      "cell_type": "code",
      "source": [
        "print(calculate_word_probability(xtrain,ytrain,'buying'))"
      ],
      "metadata": {
        "colab": {
          "base_uri": "https://localhost:8080/"
        },
        "id": "LQjixZHhgfU5",
        "outputId": "c02d9ebd-091c-4873-fb5d-017471c1793c"
      },
      "execution_count": null,
      "outputs": [
        {
          "output_type": "stream",
          "name": "stdout",
          "text": [
            "{'med': {'unacc': 0.6065573770491803, 'acc': 0.2677595628415301, 'good': 0.06284153005464481, 'vgood': 0.06284153005464481}, 'high': {'unacc': 0.7360703812316716, 'acc': 0.25806451612903225, 'good': 0.002932551319648094, 'vgood': 0.002932551319648094}, 'vhigh': {'unacc': 0.8289855072463768, 'acc': 0.16521739130434782, 'good': 0.002898550724637681, 'vgood': 0.002898550724637681}, 'low': {'unacc': 0.5994152046783626, 'acc': 0.2046783625730994, 'good': 0.09649122807017543, 'vgood': 0.09941520467836257}}\n"
          ]
        }
      ]
    },
    {
      "cell_type": "code",
      "source": [
        "#training the model\n",
        "probability_dict = {}\n",
        "for i in xtrain:\n",
        "    probability_dict[i] = calculate_word_probability(xtrain,ytrain,i)"
      ],
      "metadata": {
        "id": "mmZTQQw6gi2F"
      },
      "execution_count": null,
      "outputs": []
    },
    {
      "cell_type": "code",
      "source": [
        "print(probability_dict)"
      ],
      "metadata": {
        "colab": {
          "base_uri": "https://localhost:8080/"
        },
        "id": "mSciTnCggk_2",
        "outputId": "6296731d-9fd3-4661-d460-80c79a4f61a9"
      },
      "execution_count": null,
      "outputs": [
        {
          "output_type": "stream",
          "name": "stdout",
          "text": [
            "{'buying': {'med': {'unacc': 0.6065573770491803, 'acc': 0.2677595628415301, 'good': 0.06284153005464481, 'vgood': 0.06284153005464481}, 'high': {'unacc': 0.7360703812316716, 'acc': 0.25806451612903225, 'good': 0.002932551319648094, 'vgood': 0.002932551319648094}, 'vhigh': {'unacc': 0.8289855072463768, 'acc': 0.16521739130434782, 'good': 0.002898550724637681, 'vgood': 0.002898550724637681}, 'low': {'unacc': 0.5994152046783626, 'acc': 0.2046783625730994, 'good': 0.09649122807017543, 'vgood': 0.09941520467836257}}, 'maint': {'low': {'unacc': 0.6, 'acc': 0.21791044776119403, 'good': 0.12238805970149254, 'vgood': 0.05970149253731343}, 'high': {'unacc': 0.7162534435261708, 'acc': 0.24517906336088155, 'good': 0.0027548209366391185, 'vgood': 0.03581267217630854}, 'vhigh': {'unacc': 0.8352941176470589, 'acc': 0.1588235294117647, 'good': 0.0029411764705882353, 'vgood': 0.0029411764705882353}, 'med': {'unacc': 0.6151685393258427, 'acc': 0.27247191011235955, 'good': 0.042134831460674156, 'vgood': 0.0702247191011236}}, 'doors': {'4': {'unacc': 0.6724137931034483, 'acc': 0.23563218390804597, 'good': 0.04310344827586207, 'vgood': 0.04885057471264368}, '2': {'unacc': 0.7597765363128491, 'acc': 0.1871508379888268, 'good': 0.025139664804469275, 'vgood': 0.027932960893854747}, '5more': {'unacc': 0.6453488372093024, 'acc': 0.25, 'good': 0.05232558139534884, 'vgood': 0.05232558139534884}, '3': {'unacc': 0.688953488372093, 'acc': 0.22674418604651161, 'good': 0.0436046511627907, 'vgood': 0.040697674418604654}}, 'persons': {'2': {'unacc': 0.9933628318584071, 'acc': 0.0022123893805309734, 'good': 0.0022123893805309734, 'vgood': 0.0022123893805309734}, '4': {'unacc': 0.5330490405117271, 'acc': 0.34754797441364604, 'good': 0.06396588486140725, 'vgood': 0.05543710021321962}, 'more': {'unacc': 0.5659574468085107, 'acc': 0.3148936170212766, 'good': 0.05319148936170213, 'vgood': 0.06595744680851064}}, 'lug_boot': {'big': {'unacc': 0.6352459016393442, 'acc': 0.25, 'good': 0.0430327868852459, 'vgood': 0.07172131147540983}, 'med': {'unacc': 0.6811279826464208, 'acc': 0.227765726681128, 'good': 0.04338394793926247, 'vgood': 0.04772234273318872}, 'small': {'unacc': 0.7692307692307693, 'acc': 0.19230769230769232, 'good': 0.03619909502262444, 'vgood': 0.0022624434389140274}}, 'safety': {'low': {'unacc': 0.9935897435897436, 'acc': 0.002136752136752137, 'good': 0.002136752136752137, 'vgood': 0.002136752136752137}, 'med': {'unacc': 0.594017094017094, 'acc': 0.3311965811965812, 'good': 0.07264957264957266, 'vgood': 0.002136752136752137}, 'high': {'unacc': 0.4857142857142857, 'acc': 0.34285714285714286, 'good': 0.04835164835164835, 'vgood': 0.12307692307692308}}}\n"
          ]
        }
      ]
    },
    {
      "cell_type": "code",
      "source": [
        "#calculating post priority probability\n",
        "def calculate_final_probability(data,columns,index,classification):\n",
        "    result = 1\n",
        "    for i in columns:\n",
        "        result *= probability_dict[i][data[i].iloc[index]][classification]\n",
        "    return result"
      ],
      "metadata": {
        "id": "sWFxZvwGgnaB"
      },
      "execution_count": null,
      "outputs": []
    },
    {
      "cell_type": "code",
      "source": [
        "#testing the model\n",
        "correct = 0\n",
        "for i in range(len(xtest)):\n",
        "    prediction = 'unacc'\n",
        "    unacc_result = p_unacc * calculate_final_probability(xtest,xtest.columns,i,'unacc')\n",
        "    acc_result = p_acc * calculate_final_probability(xtest,xtest.columns,i,'acc')\n",
        "    good_result = p_good * calculate_final_probability(xtest,xtest.columns,i,'good')\n",
        "    vgood_result = p_vgood * calculate_final_probability(xtest,xtest.columns,i,'vgood')\n",
        "    myList = [unacc_result,acc_result,good_result,vgood_result]\n",
        "    if np.argmax(myList) == 0:\n",
        "        prediction = 'unacc'\n",
        "    elif np.argmax(myList) == 1:\n",
        "        prediction = 'acc'\n",
        "    elif np.argmax(myList) == 2:\n",
        "        prediction = 'good'\n",
        "    else:\n",
        "        prediction = 'vgood'\n",
        "    if prediction == ytest['class'].iloc[i]:\n",
        "        correct += 1\n",
        "print('accuracy:',correct/len(xtest))"
      ],
      "metadata": {
        "colab": {
          "base_uri": "https://localhost:8080/"
        },
        "id": "s45GlT4BgpEi",
        "outputId": "6fbe3575-f8e4-414e-cd46-3f155f7307be"
      },
      "execution_count": null,
      "outputs": [
        {
          "output_type": "stream",
          "name": "stdout",
          "text": [
            "accuracy: 0.7109826589595376\n"
          ]
        }
      ]
    },
    {
      "cell_type": "markdown",
      "metadata": {
        "id": "Pfv0cFlHzBcw"
      },
      "source": [
        "\n",
        "\n",
        "> # PART 2\n",
        "\n",
        "We conducted experiments on the given deep learning models using data set MNIST: https://www.kaggle.com/datasets/hojjatk/mnist-dataset."
      ]
    },
    {
      "cell_type": "markdown",
      "metadata": {
        "id": "ISQaY8113iiE"
      },
      "source": [
        "1. Deep Fully-connected Feedforward ANN. In your experiments, you should try (a) different structures (layers, number of neurons, etc.) (b) different activation functions, such as Relu, Sigmoid. Report and discuss your experimental results."
      ]
    },
    {
      "cell_type": "code",
      "execution_count": null,
      "metadata": {
        "id": "LzQa_Hv03sp0"
      },
      "outputs": [],
      "source": [
        "import torch\n",
        "from torch import nn\n",
        "from torch.utils.data import DataLoader\n",
        "import numpy as np\n",
        "import pandas as pd\n",
        "import torchvision.datasets as datasets\n",
        "import torchvision.transforms\n",
        "import matplotlib.pyplot as plt"
      ]
    },
    {
      "cell_type": "code",
      "execution_count": null,
      "metadata": {
        "colab": {
          "base_uri": "https://localhost:8080/"
        },
        "id": "1VZYSJmX5pY7",
        "outputId": "ef99626a-94ce-4451-dfde-9ae72514fcdc"
      },
      "outputs": [
        {
          "output_type": "stream",
          "name": "stdout",
          "text": [
            "Downloading http://yann.lecun.com/exdb/mnist/train-images-idx3-ubyte.gz\n",
            "Failed to download (trying next):\n",
            "HTTP Error 403: Forbidden\n",
            "\n",
            "Downloading https://ossci-datasets.s3.amazonaws.com/mnist/train-images-idx3-ubyte.gz\n",
            "Downloading https://ossci-datasets.s3.amazonaws.com/mnist/train-images-idx3-ubyte.gz to MNIST/raw/train-images-idx3-ubyte.gz\n"
          ]
        },
        {
          "output_type": "stream",
          "name": "stderr",
          "text": [
            "100%|██████████| 9912422/9912422 [00:02<00:00, 4608275.18it/s]\n"
          ]
        },
        {
          "output_type": "stream",
          "name": "stdout",
          "text": [
            "Extracting MNIST/raw/train-images-idx3-ubyte.gz to MNIST/raw\n",
            "\n",
            "Downloading http://yann.lecun.com/exdb/mnist/train-labels-idx1-ubyte.gz\n",
            "Failed to download (trying next):\n",
            "HTTP Error 403: Forbidden\n",
            "\n",
            "Downloading https://ossci-datasets.s3.amazonaws.com/mnist/train-labels-idx1-ubyte.gz\n",
            "Downloading https://ossci-datasets.s3.amazonaws.com/mnist/train-labels-idx1-ubyte.gz to MNIST/raw/train-labels-idx1-ubyte.gz\n"
          ]
        },
        {
          "output_type": "stream",
          "name": "stderr",
          "text": [
            "100%|██████████| 28881/28881 [00:00<00:00, 59259.60it/s]\n"
          ]
        },
        {
          "output_type": "stream",
          "name": "stdout",
          "text": [
            "Extracting MNIST/raw/train-labels-idx1-ubyte.gz to MNIST/raw\n",
            "\n",
            "Downloading http://yann.lecun.com/exdb/mnist/t10k-images-idx3-ubyte.gz\n",
            "Failed to download (trying next):\n",
            "HTTP Error 403: Forbidden\n",
            "\n",
            "Downloading https://ossci-datasets.s3.amazonaws.com/mnist/t10k-images-idx3-ubyte.gz\n",
            "Downloading https://ossci-datasets.s3.amazonaws.com/mnist/t10k-images-idx3-ubyte.gz to MNIST/raw/t10k-images-idx3-ubyte.gz\n"
          ]
        },
        {
          "output_type": "stream",
          "name": "stderr",
          "text": [
            "100%|██████████| 1648877/1648877 [00:01<00:00, 1269354.03it/s]\n"
          ]
        },
        {
          "output_type": "stream",
          "name": "stdout",
          "text": [
            "Extracting MNIST/raw/t10k-images-idx3-ubyte.gz to MNIST/raw\n",
            "\n",
            "Downloading http://yann.lecun.com/exdb/mnist/t10k-labels-idx1-ubyte.gz\n",
            "Failed to download (trying next):\n",
            "HTTP Error 403: Forbidden\n",
            "\n",
            "Downloading https://ossci-datasets.s3.amazonaws.com/mnist/t10k-labels-idx1-ubyte.gz\n",
            "Downloading https://ossci-datasets.s3.amazonaws.com/mnist/t10k-labels-idx1-ubyte.gz to MNIST/raw/t10k-labels-idx1-ubyte.gz\n"
          ]
        },
        {
          "output_type": "stream",
          "name": "stderr",
          "text": [
            "100%|██████████| 4542/4542 [00:00<00:00, 4321807.80it/s]"
          ]
        },
        {
          "output_type": "stream",
          "name": "stdout",
          "text": [
            "Extracting MNIST/raw/t10k-labels-idx1-ubyte.gz to MNIST/raw\n",
            "\n"
          ]
        },
        {
          "output_type": "stream",
          "name": "stderr",
          "text": [
            "\n"
          ]
        }
      ],
      "source": [
        "MNIST_Data_Train = datasets.MNIST(root = '',train = True,transform = torchvision.transforms.ToTensor(),download = True)\n",
        "MNIST_Data_Test = datasets.MNIST(root = '',train = False,transform = torchvision.transforms.ToTensor(),download = True)"
      ]
    },
    {
      "cell_type": "code",
      "execution_count": null,
      "metadata": {
        "colab": {
          "base_uri": "https://localhost:8080/"
        },
        "id": "S5kefcBf5ssa",
        "outputId": "fe8d9324-b6e4-410e-bb72-9ab897107a5c"
      },
      "outputs": [
        {
          "output_type": "stream",
          "name": "stdout",
          "text": [
            "Dataset MNIST\n",
            "    Number of datapoints: 60000\n",
            "    Root location: \n",
            "    Split: Train\n",
            "    StandardTransform\n",
            "Transform: ToTensor()\n"
          ]
        }
      ],
      "source": [
        "print(MNIST_Data_Train)"
      ]
    },
    {
      "cell_type": "code",
      "execution_count": null,
      "metadata": {
        "colab": {
          "base_uri": "https://localhost:8080/"
        },
        "id": "ZELzHBjf5u7Y",
        "outputId": "05ef45f2-a41f-4181-c916-61c84491e033"
      },
      "outputs": [
        {
          "output_type": "stream",
          "name": "stdout",
          "text": [
            "Dataset MNIST\n",
            "    Number of datapoints: 10000\n",
            "    Root location: \n",
            "    Split: Test\n",
            "    StandardTransform\n",
            "Transform: ToTensor()\n"
          ]
        }
      ],
      "source": [
        "print(MNIST_Data_Test)"
      ]
    },
    {
      "cell_type": "code",
      "execution_count": null,
      "metadata": {
        "id": "I6DhrZ64SrSy"
      },
      "outputs": [],
      "source": [
        "image0,label0 = MNIST_Data_Train[0]"
      ]
    },
    {
      "cell_type": "code",
      "execution_count": null,
      "metadata": {
        "colab": {
          "base_uri": "https://localhost:8080/"
        },
        "id": "Oyyv8GlWSuHw",
        "outputId": "063029bb-2762-4f57-a762-2e960dd687c1"
      },
      "outputs": [
        {
          "output_type": "stream",
          "name": "stdout",
          "text": [
            "tensor([[[0.0000, 0.0000, 0.0000, 0.0000, 0.0000, 0.0000, 0.0000, 0.0000,\n",
            "          0.0000, 0.0000, 0.0000, 0.0000, 0.0000, 0.0000, 0.0000, 0.0000,\n",
            "          0.0000, 0.0000, 0.0000, 0.0000, 0.0000, 0.0000, 0.0000, 0.0000,\n",
            "          0.0000, 0.0000, 0.0000, 0.0000],\n",
            "         [0.0000, 0.0000, 0.0000, 0.0000, 0.0000, 0.0000, 0.0000, 0.0000,\n",
            "          0.0000, 0.0000, 0.0000, 0.0000, 0.0000, 0.0000, 0.0000, 0.0000,\n",
            "          0.0000, 0.0000, 0.0000, 0.0000, 0.0000, 0.0000, 0.0000, 0.0000,\n",
            "          0.0000, 0.0000, 0.0000, 0.0000],\n",
            "         [0.0000, 0.0000, 0.0000, 0.0000, 0.0000, 0.0000, 0.0000, 0.0000,\n",
            "          0.0000, 0.0000, 0.0000, 0.0000, 0.0000, 0.0000, 0.0000, 0.0000,\n",
            "          0.0000, 0.0000, 0.0000, 0.0000, 0.0000, 0.0000, 0.0000, 0.0000,\n",
            "          0.0000, 0.0000, 0.0000, 0.0000],\n",
            "         [0.0000, 0.0000, 0.0000, 0.0000, 0.0000, 0.0000, 0.0000, 0.0000,\n",
            "          0.0000, 0.0000, 0.0000, 0.0000, 0.0000, 0.0000, 0.0000, 0.0000,\n",
            "          0.0000, 0.0000, 0.0000, 0.0000, 0.0000, 0.0000, 0.0000, 0.0000,\n",
            "          0.0000, 0.0000, 0.0000, 0.0000],\n",
            "         [0.0000, 0.0000, 0.0000, 0.0000, 0.0000, 0.0000, 0.0000, 0.0000,\n",
            "          0.0000, 0.0000, 0.0000, 0.0000, 0.0000, 0.0000, 0.0000, 0.0000,\n",
            "          0.0000, 0.0000, 0.0000, 0.0000, 0.0000, 0.0000, 0.0000, 0.0000,\n",
            "          0.0000, 0.0000, 0.0000, 0.0000],\n",
            "         [0.0000, 0.0000, 0.0000, 0.0000, 0.0000, 0.0000, 0.0000, 0.0000,\n",
            "          0.0000, 0.0000, 0.0000, 0.0000, 0.0118, 0.0706, 0.0706, 0.0706,\n",
            "          0.4941, 0.5333, 0.6863, 0.1020, 0.6510, 1.0000, 0.9686, 0.4980,\n",
            "          0.0000, 0.0000, 0.0000, 0.0000],\n",
            "         [0.0000, 0.0000, 0.0000, 0.0000, 0.0000, 0.0000, 0.0000, 0.0000,\n",
            "          0.1176, 0.1412, 0.3686, 0.6039, 0.6667, 0.9922, 0.9922, 0.9922,\n",
            "          0.9922, 0.9922, 0.8824, 0.6745, 0.9922, 0.9490, 0.7647, 0.2510,\n",
            "          0.0000, 0.0000, 0.0000, 0.0000],\n",
            "         [0.0000, 0.0000, 0.0000, 0.0000, 0.0000, 0.0000, 0.0000, 0.1922,\n",
            "          0.9333, 0.9922, 0.9922, 0.9922, 0.9922, 0.9922, 0.9922, 0.9922,\n",
            "          0.9922, 0.9843, 0.3647, 0.3216, 0.3216, 0.2196, 0.1529, 0.0000,\n",
            "          0.0000, 0.0000, 0.0000, 0.0000],\n",
            "         [0.0000, 0.0000, 0.0000, 0.0000, 0.0000, 0.0000, 0.0000, 0.0706,\n",
            "          0.8588, 0.9922, 0.9922, 0.9922, 0.9922, 0.9922, 0.7765, 0.7137,\n",
            "          0.9686, 0.9451, 0.0000, 0.0000, 0.0000, 0.0000, 0.0000, 0.0000,\n",
            "          0.0000, 0.0000, 0.0000, 0.0000],\n",
            "         [0.0000, 0.0000, 0.0000, 0.0000, 0.0000, 0.0000, 0.0000, 0.0000,\n",
            "          0.3137, 0.6118, 0.4196, 0.9922, 0.9922, 0.8039, 0.0431, 0.0000,\n",
            "          0.1686, 0.6039, 0.0000, 0.0000, 0.0000, 0.0000, 0.0000, 0.0000,\n",
            "          0.0000, 0.0000, 0.0000, 0.0000],\n",
            "         [0.0000, 0.0000, 0.0000, 0.0000, 0.0000, 0.0000, 0.0000, 0.0000,\n",
            "          0.0000, 0.0549, 0.0039, 0.6039, 0.9922, 0.3529, 0.0000, 0.0000,\n",
            "          0.0000, 0.0000, 0.0000, 0.0000, 0.0000, 0.0000, 0.0000, 0.0000,\n",
            "          0.0000, 0.0000, 0.0000, 0.0000],\n",
            "         [0.0000, 0.0000, 0.0000, 0.0000, 0.0000, 0.0000, 0.0000, 0.0000,\n",
            "          0.0000, 0.0000, 0.0000, 0.5451, 0.9922, 0.7451, 0.0078, 0.0000,\n",
            "          0.0000, 0.0000, 0.0000, 0.0000, 0.0000, 0.0000, 0.0000, 0.0000,\n",
            "          0.0000, 0.0000, 0.0000, 0.0000],\n",
            "         [0.0000, 0.0000, 0.0000, 0.0000, 0.0000, 0.0000, 0.0000, 0.0000,\n",
            "          0.0000, 0.0000, 0.0000, 0.0431, 0.7451, 0.9922, 0.2745, 0.0000,\n",
            "          0.0000, 0.0000, 0.0000, 0.0000, 0.0000, 0.0000, 0.0000, 0.0000,\n",
            "          0.0000, 0.0000, 0.0000, 0.0000],\n",
            "         [0.0000, 0.0000, 0.0000, 0.0000, 0.0000, 0.0000, 0.0000, 0.0000,\n",
            "          0.0000, 0.0000, 0.0000, 0.0000, 0.1373, 0.9451, 0.8824, 0.6275,\n",
            "          0.4235, 0.0039, 0.0000, 0.0000, 0.0000, 0.0000, 0.0000, 0.0000,\n",
            "          0.0000, 0.0000, 0.0000, 0.0000],\n",
            "         [0.0000, 0.0000, 0.0000, 0.0000, 0.0000, 0.0000, 0.0000, 0.0000,\n",
            "          0.0000, 0.0000, 0.0000, 0.0000, 0.0000, 0.3176, 0.9412, 0.9922,\n",
            "          0.9922, 0.4667, 0.0980, 0.0000, 0.0000, 0.0000, 0.0000, 0.0000,\n",
            "          0.0000, 0.0000, 0.0000, 0.0000],\n",
            "         [0.0000, 0.0000, 0.0000, 0.0000, 0.0000, 0.0000, 0.0000, 0.0000,\n",
            "          0.0000, 0.0000, 0.0000, 0.0000, 0.0000, 0.0000, 0.1765, 0.7294,\n",
            "          0.9922, 0.9922, 0.5882, 0.1059, 0.0000, 0.0000, 0.0000, 0.0000,\n",
            "          0.0000, 0.0000, 0.0000, 0.0000],\n",
            "         [0.0000, 0.0000, 0.0000, 0.0000, 0.0000, 0.0000, 0.0000, 0.0000,\n",
            "          0.0000, 0.0000, 0.0000, 0.0000, 0.0000, 0.0000, 0.0000, 0.0627,\n",
            "          0.3647, 0.9882, 0.9922, 0.7333, 0.0000, 0.0000, 0.0000, 0.0000,\n",
            "          0.0000, 0.0000, 0.0000, 0.0000],\n",
            "         [0.0000, 0.0000, 0.0000, 0.0000, 0.0000, 0.0000, 0.0000, 0.0000,\n",
            "          0.0000, 0.0000, 0.0000, 0.0000, 0.0000, 0.0000, 0.0000, 0.0000,\n",
            "          0.0000, 0.9765, 0.9922, 0.9765, 0.2510, 0.0000, 0.0000, 0.0000,\n",
            "          0.0000, 0.0000, 0.0000, 0.0000],\n",
            "         [0.0000, 0.0000, 0.0000, 0.0000, 0.0000, 0.0000, 0.0000, 0.0000,\n",
            "          0.0000, 0.0000, 0.0000, 0.0000, 0.0000, 0.0000, 0.1804, 0.5098,\n",
            "          0.7176, 0.9922, 0.9922, 0.8118, 0.0078, 0.0000, 0.0000, 0.0000,\n",
            "          0.0000, 0.0000, 0.0000, 0.0000],\n",
            "         [0.0000, 0.0000, 0.0000, 0.0000, 0.0000, 0.0000, 0.0000, 0.0000,\n",
            "          0.0000, 0.0000, 0.0000, 0.0000, 0.1529, 0.5804, 0.8980, 0.9922,\n",
            "          0.9922, 0.9922, 0.9804, 0.7137, 0.0000, 0.0000, 0.0000, 0.0000,\n",
            "          0.0000, 0.0000, 0.0000, 0.0000],\n",
            "         [0.0000, 0.0000, 0.0000, 0.0000, 0.0000, 0.0000, 0.0000, 0.0000,\n",
            "          0.0000, 0.0000, 0.0941, 0.4471, 0.8667, 0.9922, 0.9922, 0.9922,\n",
            "          0.9922, 0.7882, 0.3059, 0.0000, 0.0000, 0.0000, 0.0000, 0.0000,\n",
            "          0.0000, 0.0000, 0.0000, 0.0000],\n",
            "         [0.0000, 0.0000, 0.0000, 0.0000, 0.0000, 0.0000, 0.0000, 0.0000,\n",
            "          0.0902, 0.2588, 0.8353, 0.9922, 0.9922, 0.9922, 0.9922, 0.7765,\n",
            "          0.3176, 0.0078, 0.0000, 0.0000, 0.0000, 0.0000, 0.0000, 0.0000,\n",
            "          0.0000, 0.0000, 0.0000, 0.0000],\n",
            "         [0.0000, 0.0000, 0.0000, 0.0000, 0.0000, 0.0000, 0.0706, 0.6706,\n",
            "          0.8588, 0.9922, 0.9922, 0.9922, 0.9922, 0.7647, 0.3137, 0.0353,\n",
            "          0.0000, 0.0000, 0.0000, 0.0000, 0.0000, 0.0000, 0.0000, 0.0000,\n",
            "          0.0000, 0.0000, 0.0000, 0.0000],\n",
            "         [0.0000, 0.0000, 0.0000, 0.0000, 0.2157, 0.6745, 0.8863, 0.9922,\n",
            "          0.9922, 0.9922, 0.9922, 0.9569, 0.5216, 0.0431, 0.0000, 0.0000,\n",
            "          0.0000, 0.0000, 0.0000, 0.0000, 0.0000, 0.0000, 0.0000, 0.0000,\n",
            "          0.0000, 0.0000, 0.0000, 0.0000],\n",
            "         [0.0000, 0.0000, 0.0000, 0.0000, 0.5333, 0.9922, 0.9922, 0.9922,\n",
            "          0.8314, 0.5294, 0.5176, 0.0627, 0.0000, 0.0000, 0.0000, 0.0000,\n",
            "          0.0000, 0.0000, 0.0000, 0.0000, 0.0000, 0.0000, 0.0000, 0.0000,\n",
            "          0.0000, 0.0000, 0.0000, 0.0000],\n",
            "         [0.0000, 0.0000, 0.0000, 0.0000, 0.0000, 0.0000, 0.0000, 0.0000,\n",
            "          0.0000, 0.0000, 0.0000, 0.0000, 0.0000, 0.0000, 0.0000, 0.0000,\n",
            "          0.0000, 0.0000, 0.0000, 0.0000, 0.0000, 0.0000, 0.0000, 0.0000,\n",
            "          0.0000, 0.0000, 0.0000, 0.0000],\n",
            "         [0.0000, 0.0000, 0.0000, 0.0000, 0.0000, 0.0000, 0.0000, 0.0000,\n",
            "          0.0000, 0.0000, 0.0000, 0.0000, 0.0000, 0.0000, 0.0000, 0.0000,\n",
            "          0.0000, 0.0000, 0.0000, 0.0000, 0.0000, 0.0000, 0.0000, 0.0000,\n",
            "          0.0000, 0.0000, 0.0000, 0.0000],\n",
            "         [0.0000, 0.0000, 0.0000, 0.0000, 0.0000, 0.0000, 0.0000, 0.0000,\n",
            "          0.0000, 0.0000, 0.0000, 0.0000, 0.0000, 0.0000, 0.0000, 0.0000,\n",
            "          0.0000, 0.0000, 0.0000, 0.0000, 0.0000, 0.0000, 0.0000, 0.0000,\n",
            "          0.0000, 0.0000, 0.0000, 0.0000]]])\n"
          ]
        }
      ],
      "source": [
        "print(image0)"
      ]
    },
    {
      "cell_type": "code",
      "execution_count": null,
      "metadata": {
        "colab": {
          "base_uri": "https://localhost:8080/"
        },
        "id": "FjYGT8beSwwy",
        "outputId": "26b38bbd-5ec4-442c-e5d1-9e93218df38b"
      },
      "outputs": [
        {
          "output_type": "stream",
          "name": "stdout",
          "text": [
            "5\n"
          ]
        }
      ],
      "source": [
        "print(label0)"
      ]
    },
    {
      "cell_type": "code",
      "execution_count": null,
      "metadata": {
        "colab": {
          "base_uri": "https://localhost:8080/",
          "height": 447
        },
        "id": "DuGrWvtyS07K",
        "outputId": "37a8f5f6-c3fc-467b-a8b0-691939305607"
      },
      "outputs": [
        {
          "output_type": "execute_result",
          "data": {
            "text/plain": [
              "<matplotlib.image.AxesImage at 0x7a9a5267ba60>"
            ]
          },
          "metadata": {},
          "execution_count": 7
        },
        {
          "output_type": "display_data",
          "data": {
            "text/plain": [
              "<Figure size 640x480 with 1 Axes>"
            ],
            "image/png": "[encoded data removed]"
          },
          "metadata": {}
        }
      ],
      "source": [
        "plt.imshow(image0.reshape(28,28))"
      ]
    },
    {
      "cell_type": "code",
      "execution_count": null,
      "metadata": {
        "id": "QzvhO6wAWloa"
      },
      "outputs": [],
      "source": [
        "trainLoader = DataLoader(MNIST_Data_Train,batch_size = 64,shuffle = True)"
      ]
    },
    {
      "cell_type": "code",
      "execution_count": null,
      "metadata": {
        "id": "2gqXNS1PWoWc"
      },
      "outputs": [],
      "source": [
        "testLoader = DataLoader(MNIST_Data_Test,batch_size = 64,shuffle = True)"
      ]
    },
    {
      "cell_type": "code",
      "execution_count": null,
      "metadata": {
        "colab": {
          "base_uri": "https://localhost:8080/"
        },
        "id": "MoE13WKKWspV",
        "outputId": "6ba30039-7880-4520-f8c4-30d7fb6dd7e9"
      },
      "outputs": [
        {
          "output_type": "stream",
          "name": "stdout",
          "text": [
            "tensor([[[[0., 0., 0.,  ..., 0., 0., 0.],\n",
            "          [0., 0., 0.,  ..., 0., 0., 0.],\n",
            "          [0., 0., 0.,  ..., 0., 0., 0.],\n",
            "          ...,\n",
            "          [0., 0., 0.,  ..., 0., 0., 0.],\n",
            "          [0., 0., 0.,  ..., 0., 0., 0.],\n",
            "          [0., 0., 0.,  ..., 0., 0., 0.]]],\n",
            "\n",
            "\n",
            "        [[[0., 0., 0.,  ..., 0., 0., 0.],\n",
            "          [0., 0., 0.,  ..., 0., 0., 0.],\n",
            "          [0., 0., 0.,  ..., 0., 0., 0.],\n",
            "          ...,\n",
            "          [0., 0., 0.,  ..., 0., 0., 0.],\n",
            "          [0., 0., 0.,  ..., 0., 0., 0.],\n",
            "          [0., 0., 0.,  ..., 0., 0., 0.]]],\n",
            "\n",
            "\n",
            "        [[[0., 0., 0.,  ..., 0., 0., 0.],\n",
            "          [0., 0., 0.,  ..., 0., 0., 0.],\n",
            "          [0., 0., 0.,  ..., 0., 0., 0.],\n",
            "          ...,\n",
            "          [0., 0., 0.,  ..., 0., 0., 0.],\n",
            "          [0., 0., 0.,  ..., 0., 0., 0.],\n",
            "          [0., 0., 0.,  ..., 0., 0., 0.]]],\n",
            "\n",
            "\n",
            "        ...,\n",
            "\n",
            "\n",
            "        [[[0., 0., 0.,  ..., 0., 0., 0.],\n",
            "          [0., 0., 0.,  ..., 0., 0., 0.],\n",
            "          [0., 0., 0.,  ..., 0., 0., 0.],\n",
            "          ...,\n",
            "          [0., 0., 0.,  ..., 0., 0., 0.],\n",
            "          [0., 0., 0.,  ..., 0., 0., 0.],\n",
            "          [0., 0., 0.,  ..., 0., 0., 0.]]],\n",
            "\n",
            "\n",
            "        [[[0., 0., 0.,  ..., 0., 0., 0.],\n",
            "          [0., 0., 0.,  ..., 0., 0., 0.],\n",
            "          [0., 0., 0.,  ..., 0., 0., 0.],\n",
            "          ...,\n",
            "          [0., 0., 0.,  ..., 0., 0., 0.],\n",
            "          [0., 0., 0.,  ..., 0., 0., 0.],\n",
            "          [0., 0., 0.,  ..., 0., 0., 0.]]],\n",
            "\n",
            "\n",
            "        [[[0., 0., 0.,  ..., 0., 0., 0.],\n",
            "          [0., 0., 0.,  ..., 0., 0., 0.],\n",
            "          [0., 0., 0.,  ..., 0., 0., 0.],\n",
            "          ...,\n",
            "          [0., 0., 0.,  ..., 0., 0., 0.],\n",
            "          [0., 0., 0.,  ..., 0., 0., 0.],\n",
            "          [0., 0., 0.,  ..., 0., 0., 0.]]]])\n",
            "tensor([3, 2, 6, 8, 2, 8, 2, 3, 2, 9, 2, 9, 7, 6, 6, 7, 8, 0, 1, 4, 2, 0, 1, 1,\n",
            "        9, 8, 7, 7, 9, 8, 4, 7, 1, 5, 4, 3, 3, 3, 4, 1, 9, 8, 5, 7, 4, 1, 9, 8,\n",
            "        0, 5, 1, 4, 0, 4, 7, 5, 3, 2, 5, 0, 6, 2, 7, 4])\n"
          ]
        }
      ],
      "source": [
        "for i in trainLoader:\n",
        "    print(i[0])\n",
        "    print(i[1])\n",
        "    break"
      ]
    },
    {
      "cell_type": "code",
      "execution_count": null,
      "metadata": {
        "id": "6MaFIQKN5vwn"
      },
      "outputs": [],
      "source": [
        "#one hidden layered class with sigmoid as activation function\n",
        "class ArtificialNeuralNetworkV01(nn.Module):\n",
        "    def __init__(self,inputNeuronsNumber,hiddenNeuronsNumber,outputNeuronsNumber):\n",
        "        super().__init__()\n",
        "        self.hiddenLayer = nn.Linear(inputNeuronsNumber,hiddenNeuronsNumber)\n",
        "        self.activation1 = nn.Sigmoid()\n",
        "        self.outputLayer = nn.Linear(hiddenNeuronsNumber,outputNeuronsNumber)\n",
        "        self.activation2 = nn.LogSoftmax(dim = 1)\n",
        "    def forward(self,x):\n",
        "        h = self.activation1(self.hiddenLayer(x))\n",
        "        o = self.activation2(self.outputLayer(h))\n",
        "        return o"
      ]
    },
    {
      "cell_type": "code",
      "execution_count": null,
      "metadata": {
        "id": "DGWQ6Or1g_81"
      },
      "outputs": [],
      "source": [
        "annv01_TestingFunctionality = ArtificialNeuralNetworkV01(28*28,200,10)"
      ]
    },
    {
      "cell_type": "code",
      "execution_count": null,
      "metadata": {
        "colab": {
          "base_uri": "https://localhost:8080/"
        },
        "id": "EJ7wTP0ihA3O",
        "outputId": "b0cd3928-20d2-4a68-f113-5563c19102d3"
      },
      "outputs": [
        {
          "output_type": "stream",
          "name": "stdout",
          "text": [
            "ArtificialNeuralNetworkV01(\n",
            "  (hiddenLayer): Linear(in_features=784, out_features=200, bias=True)\n",
            "  (activation1): Sigmoid()\n",
            "  (outputLayer): Linear(in_features=200, out_features=10, bias=True)\n",
            "  (activation2): LogSoftmax(dim=1)\n",
            ")\n"
          ]
        }
      ],
      "source": [
        "print(annv01_TestingFunctionality)"
      ]
    },
    {
      "cell_type": "code",
      "execution_count": null,
      "metadata": {
        "colab": {
          "base_uri": "https://localhost:8080/"
        },
        "id": "Km-rHryDhF9F",
        "outputId": "ed90e5ec-a8b2-4500-93af-5c03931722db"
      },
      "outputs": [
        {
          "output_type": "stream",
          "name": "stdout",
          "text": [
            "tensor([[[0.0000, 0.0000, 0.0000, 0.0000, 0.0000, 0.0000, 0.0000, 0.0000,\n",
            "          0.0000, 0.0000, 0.0000, 0.0000, 0.0000, 0.0000, 0.0000, 0.0000,\n",
            "          0.0000, 0.0000, 0.0000, 0.0000, 0.0000, 0.0000, 0.0000, 0.0000,\n",
            "          0.0000, 0.0000, 0.0000, 0.0000],\n",
            "         [0.0000, 0.0000, 0.0000, 0.0000, 0.0000, 0.0000, 0.0000, 0.0000,\n",
            "          0.0000, 0.0000, 0.0000, 0.0000, 0.0000, 0.0000, 0.0000, 0.0000,\n",
            "          0.0000, 0.0000, 0.0000, 0.0000, 0.0000, 0.0000, 0.0000, 0.0000,\n",
            "          0.0000, 0.0000, 0.0000, 0.0000],\n",
            "         [0.0000, 0.0000, 0.0000, 0.0000, 0.0000, 0.0000, 0.0000, 0.0000,\n",
            "          0.0000, 0.0000, 0.0000, 0.0000, 0.0000, 0.0000, 0.0000, 0.0000,\n",
            "          0.0000, 0.0000, 0.0000, 0.0000, 0.0000, 0.0000, 0.0000, 0.0000,\n",
            "          0.0000, 0.0000, 0.0000, 0.0000],\n",
            "         [0.0000, 0.0000, 0.0000, 0.0000, 0.0000, 0.0000, 0.0000, 0.0000,\n",
            "          0.0000, 0.0000, 0.0000, 0.0000, 0.0000, 0.0000, 0.0000, 0.0000,\n",
            "          0.0000, 0.0000, 0.0000, 0.0000, 0.0000, 0.0000, 0.0000, 0.0000,\n",
            "          0.0000, 0.0000, 0.0000, 0.0000],\n",
            "         [0.0000, 0.0000, 0.0000, 0.0000, 0.0000, 0.0000, 0.0000, 0.0000,\n",
            "          0.0000, 0.0000, 0.0000, 0.0000, 0.0000, 0.0000, 0.0000, 0.0000,\n",
            "          0.0000, 0.0000, 0.0000, 0.0000, 0.0000, 0.0000, 0.0000, 0.0000,\n",
            "          0.0000, 0.0000, 0.0000, 0.0000],\n",
            "         [0.0000, 0.0000, 0.0000, 0.0000, 0.0000, 0.0000, 0.0000, 0.0000,\n",
            "          0.0000, 0.0000, 0.0000, 0.0000, 0.0118, 0.0706, 0.0706, 0.0706,\n",
            "          0.4941, 0.5333, 0.6863, 0.1020, 0.6510, 1.0000, 0.9686, 0.4980,\n",
            "          0.0000, 0.0000, 0.0000, 0.0000],\n",
            "         [0.0000, 0.0000, 0.0000, 0.0000, 0.0000, 0.0000, 0.0000, 0.0000,\n",
            "          0.1176, 0.1412, 0.3686, 0.6039, 0.6667, 0.9922, 0.9922, 0.9922,\n",
            "          0.9922, 0.9922, 0.8824, 0.6745, 0.9922, 0.9490, 0.7647, 0.2510,\n",
            "          0.0000, 0.0000, 0.0000, 0.0000],\n",
            "         [0.0000, 0.0000, 0.0000, 0.0000, 0.0000, 0.0000, 0.0000, 0.1922,\n",
            "          0.9333, 0.9922, 0.9922, 0.9922, 0.9922, 0.9922, 0.9922, 0.9922,\n",
            "          0.9922, 0.9843, 0.3647, 0.3216, 0.3216, 0.2196, 0.1529, 0.0000,\n",
            "          0.0000, 0.0000, 0.0000, 0.0000],\n",
            "         [0.0000, 0.0000, 0.0000, 0.0000, 0.0000, 0.0000, 0.0000, 0.0706,\n",
            "          0.8588, 0.9922, 0.9922, 0.9922, 0.9922, 0.9922, 0.7765, 0.7137,\n",
            "          0.9686, 0.9451, 0.0000, 0.0000, 0.0000, 0.0000, 0.0000, 0.0000,\n",
            "          0.0000, 0.0000, 0.0000, 0.0000],\n",
            "         [0.0000, 0.0000, 0.0000, 0.0000, 0.0000, 0.0000, 0.0000, 0.0000,\n",
            "          0.3137, 0.6118, 0.4196, 0.9922, 0.9922, 0.8039, 0.0431, 0.0000,\n",
            "          0.1686, 0.6039, 0.0000, 0.0000, 0.0000, 0.0000, 0.0000, 0.0000,\n",
            "          0.0000, 0.0000, 0.0000, 0.0000],\n",
            "         [0.0000, 0.0000, 0.0000, 0.0000, 0.0000, 0.0000, 0.0000, 0.0000,\n",
            "          0.0000, 0.0549, 0.0039, 0.6039, 0.9922, 0.3529, 0.0000, 0.0000,\n",
            "          0.0000, 0.0000, 0.0000, 0.0000, 0.0000, 0.0000, 0.0000, 0.0000,\n",
            "          0.0000, 0.0000, 0.0000, 0.0000],\n",
            "         [0.0000, 0.0000, 0.0000, 0.0000, 0.0000, 0.0000, 0.0000, 0.0000,\n",
            "          0.0000, 0.0000, 0.0000, 0.5451, 0.9922, 0.7451, 0.0078, 0.0000,\n",
            "          0.0000, 0.0000, 0.0000, 0.0000, 0.0000, 0.0000, 0.0000, 0.0000,\n",
            "          0.0000, 0.0000, 0.0000, 0.0000],\n",
            "         [0.0000, 0.0000, 0.0000, 0.0000, 0.0000, 0.0000, 0.0000, 0.0000,\n",
            "          0.0000, 0.0000, 0.0000, 0.0431, 0.7451, 0.9922, 0.2745, 0.0000,\n",
            "          0.0000, 0.0000, 0.0000, 0.0000, 0.0000, 0.0000, 0.0000, 0.0000,\n",
            "          0.0000, 0.0000, 0.0000, 0.0000],\n",
            "         [0.0000, 0.0000, 0.0000, 0.0000, 0.0000, 0.0000, 0.0000, 0.0000,\n",
            "          0.0000, 0.0000, 0.0000, 0.0000, 0.1373, 0.9451, 0.8824, 0.6275,\n",
            "          0.4235, 0.0039, 0.0000, 0.0000, 0.0000, 0.0000, 0.0000, 0.0000,\n",
            "          0.0000, 0.0000, 0.0000, 0.0000],\n",
            "         [0.0000, 0.0000, 0.0000, 0.0000, 0.0000, 0.0000, 0.0000, 0.0000,\n",
            "          0.0000, 0.0000, 0.0000, 0.0000, 0.0000, 0.3176, 0.9412, 0.9922,\n",
            "          0.9922, 0.4667, 0.0980, 0.0000, 0.0000, 0.0000, 0.0000, 0.0000,\n",
            "          0.0000, 0.0000, 0.0000, 0.0000],\n",
            "         [0.0000, 0.0000, 0.0000, 0.0000, 0.0000, 0.0000, 0.0000, 0.0000,\n",
            "          0.0000, 0.0000, 0.0000, 0.0000, 0.0000, 0.0000, 0.1765, 0.7294,\n",
            "          0.9922, 0.9922, 0.5882, 0.1059, 0.0000, 0.0000, 0.0000, 0.0000,\n",
            "          0.0000, 0.0000, 0.0000, 0.0000],\n",
            "         [0.0000, 0.0000, 0.0000, 0.0000, 0.0000, 0.0000, 0.0000, 0.0000,\n",
            "          0.0000, 0.0000, 0.0000, 0.0000, 0.0000, 0.0000, 0.0000, 0.0627,\n",
            "          0.3647, 0.9882, 0.9922, 0.7333, 0.0000, 0.0000, 0.0000, 0.0000,\n",
            "          0.0000, 0.0000, 0.0000, 0.0000],\n",
            "         [0.0000, 0.0000, 0.0000, 0.0000, 0.0000, 0.0000, 0.0000, 0.0000,\n",
            "          0.0000, 0.0000, 0.0000, 0.0000, 0.0000, 0.0000, 0.0000, 0.0000,\n",
            "          0.0000, 0.9765, 0.9922, 0.9765, 0.2510, 0.0000, 0.0000, 0.0000,\n",
            "          0.0000, 0.0000, 0.0000, 0.0000],\n",
            "         [0.0000, 0.0000, 0.0000, 0.0000, 0.0000, 0.0000, 0.0000, 0.0000,\n",
            "          0.0000, 0.0000, 0.0000, 0.0000, 0.0000, 0.0000, 0.1804, 0.5098,\n",
            "          0.7176, 0.9922, 0.9922, 0.8118, 0.0078, 0.0000, 0.0000, 0.0000,\n",
            "          0.0000, 0.0000, 0.0000, 0.0000],\n",
            "         [0.0000, 0.0000, 0.0000, 0.0000, 0.0000, 0.0000, 0.0000, 0.0000,\n",
            "          0.0000, 0.0000, 0.0000, 0.0000, 0.1529, 0.5804, 0.8980, 0.9922,\n",
            "          0.9922, 0.9922, 0.9804, 0.7137, 0.0000, 0.0000, 0.0000, 0.0000,\n",
            "          0.0000, 0.0000, 0.0000, 0.0000],\n",
            "         [0.0000, 0.0000, 0.0000, 0.0000, 0.0000, 0.0000, 0.0000, 0.0000,\n",
            "          0.0000, 0.0000, 0.0941, 0.4471, 0.8667, 0.9922, 0.9922, 0.9922,\n",
            "          0.9922, 0.7882, 0.3059, 0.0000, 0.0000, 0.0000, 0.0000, 0.0000,\n",
            "          0.0000, 0.0000, 0.0000, 0.0000],\n",
            "         [0.0000, 0.0000, 0.0000, 0.0000, 0.0000, 0.0000, 0.0000, 0.0000,\n",
            "          0.0902, 0.2588, 0.8353, 0.9922, 0.9922, 0.9922, 0.9922, 0.7765,\n",
            "          0.3176, 0.0078, 0.0000, 0.0000, 0.0000, 0.0000, 0.0000, 0.0000,\n",
            "          0.0000, 0.0000, 0.0000, 0.0000],\n",
            "         [0.0000, 0.0000, 0.0000, 0.0000, 0.0000, 0.0000, 0.0706, 0.6706,\n",
            "          0.8588, 0.9922, 0.9922, 0.9922, 0.9922, 0.7647, 0.3137, 0.0353,\n",
            "          0.0000, 0.0000, 0.0000, 0.0000, 0.0000, 0.0000, 0.0000, 0.0000,\n",
            "          0.0000, 0.0000, 0.0000, 0.0000],\n",
            "         [0.0000, 0.0000, 0.0000, 0.0000, 0.2157, 0.6745, 0.8863, 0.9922,\n",
            "          0.9922, 0.9922, 0.9922, 0.9569, 0.5216, 0.0431, 0.0000, 0.0000,\n",
            "          0.0000, 0.0000, 0.0000, 0.0000, 0.0000, 0.0000, 0.0000, 0.0000,\n",
            "          0.0000, 0.0000, 0.0000, 0.0000],\n",
            "         [0.0000, 0.0000, 0.0000, 0.0000, 0.5333, 0.9922, 0.9922, 0.9922,\n",
            "          0.8314, 0.5294, 0.5176, 0.0627, 0.0000, 0.0000, 0.0000, 0.0000,\n",
            "          0.0000, 0.0000, 0.0000, 0.0000, 0.0000, 0.0000, 0.0000, 0.0000,\n",
            "          0.0000, 0.0000, 0.0000, 0.0000],\n",
            "         [0.0000, 0.0000, 0.0000, 0.0000, 0.0000, 0.0000, 0.0000, 0.0000,\n",
            "          0.0000, 0.0000, 0.0000, 0.0000, 0.0000, 0.0000, 0.0000, 0.0000,\n",
            "          0.0000, 0.0000, 0.0000, 0.0000, 0.0000, 0.0000, 0.0000, 0.0000,\n",
            "          0.0000, 0.0000, 0.0000, 0.0000],\n",
            "         [0.0000, 0.0000, 0.0000, 0.0000, 0.0000, 0.0000, 0.0000, 0.0000,\n",
            "          0.0000, 0.0000, 0.0000, 0.0000, 0.0000, 0.0000, 0.0000, 0.0000,\n",
            "          0.0000, 0.0000, 0.0000, 0.0000, 0.0000, 0.0000, 0.0000, 0.0000,\n",
            "          0.0000, 0.0000, 0.0000, 0.0000],\n",
            "         [0.0000, 0.0000, 0.0000, 0.0000, 0.0000, 0.0000, 0.0000, 0.0000,\n",
            "          0.0000, 0.0000, 0.0000, 0.0000, 0.0000, 0.0000, 0.0000, 0.0000,\n",
            "          0.0000, 0.0000, 0.0000, 0.0000, 0.0000, 0.0000, 0.0000, 0.0000,\n",
            "          0.0000, 0.0000, 0.0000, 0.0000]]])\n"
          ]
        }
      ],
      "source": [
        "print(MNIST_Data_Train[0][0].reshape(-1,28,28))"
      ]
    },
    {
      "cell_type": "code",
      "execution_count": null,
      "metadata": {
        "colab": {
          "base_uri": "https://localhost:8080/"
        },
        "id": "9hO5tXBjhJHc",
        "outputId": "ed68a092-d97d-467b-d8f5-3ba26b21677f"
      },
      "outputs": [
        {
          "output_type": "stream",
          "name": "stdout",
          "text": [
            "torch.Size([1, 28, 28])\n"
          ]
        }
      ],
      "source": [
        "print(MNIST_Data_Train[0][0].shape)"
      ]
    },
    {
      "cell_type": "code",
      "execution_count": null,
      "metadata": {
        "colab": {
          "base_uri": "https://localhost:8080/"
        },
        "id": "RS85eHJ2hRM1",
        "outputId": "ac941959-6406-4a7c-a931-2f23f0b36d96"
      },
      "outputs": [
        {
          "output_type": "stream",
          "name": "stdout",
          "text": [
            "tensor([[-2.3155, -2.0433, -2.9055, -2.4292, -2.5589, -2.7110, -1.9238, -2.7036,\n",
            "         -1.7102, -2.3952]], grad_fn=<LogSoftmaxBackward0>)\n"
          ]
        }
      ],
      "source": [
        "print(annv01_TestingFunctionality.forward(MNIST_Data_Train[0][0].reshape(-1,28*28)))"
      ]
    },
    {
      "cell_type": "code",
      "execution_count": null,
      "metadata": {
        "id": "MSZqNMmZIf7x"
      },
      "outputs": [],
      "source": [
        "#creating our model\n",
        "annv01 = ArtificialNeuralNetworkV01(28*28,100,10)"
      ]
    },
    {
      "cell_type": "code",
      "execution_count": null,
      "metadata": {
        "id": "RTQWEFchIgyI"
      },
      "outputs": [],
      "source": [
        "#training the model\n",
        "criterion = nn.CrossEntropyLoss()\n",
        "optimizer = torch.optim.Adam(annv01.parameters(),lr = 0.01)\n",
        "for i in range(100):\n",
        "    for x,y in trainLoader:\n",
        "        optimizer.zero_grad()\n",
        "        yPrediction = annv01.forward(x.reshape(-1,28*28))\n",
        "        loss = criterion(yPrediction,y)\n",
        "        loss.backward()\n",
        "        optimizer.step()"
      ]
    },
    {
      "cell_type": "code",
      "execution_count": null,
      "metadata": {
        "colab": {
          "base_uri": "https://localhost:8080/"
        },
        "id": "VyFktvdmIjcd",
        "outputId": "7c41946e-14a8-4604-cb3f-34788de08e09"
      },
      "outputs": [
        {
          "output_type": "stream",
          "name": "stdout",
          "text": [
            "Accuracy for annv01: tensor(0.9708)\n"
          ]
        }
      ],
      "source": [
        "#testing our model\n",
        "correctPredictions = 0\n",
        "total = 0\n",
        "for x,y in testLoader:\n",
        "    predictions = annv01.forward(x.reshape(-1,28*28))\n",
        "    correctPredictions += sum(torch.argmax(predictions,dim = 1) == y)\n",
        "    total += len(y)\n",
        "print('Accuracy for annv01:',correctPredictions/total)"
      ]
    },
    {
      "cell_type": "code",
      "execution_count": null,
      "metadata": {
        "colab": {
          "base_uri": "https://localhost:8080/"
        },
        "id": "G_Fic0UcdXx4",
        "outputId": "7b07c404-64bf-47b8-8545-edcdbf3349ab"
      },
      "outputs": [
        {
          "output_type": "stream",
          "name": "stdout",
          "text": [
            "Accuracy for annv02: tensor(0.9728)\n"
          ]
        }
      ],
      "source": [
        "#one hidden layered class with relu as activation function\n",
        "class ArtificialNeuralNetworkV02(nn.Module):\n",
        "    def __init__(self,inputNeuronsNumber,hiddenNeuronsNumber,outputNeuronsNumber):\n",
        "        super().__init__()\n",
        "        self.hiddenLayer = nn.Linear(inputNeuronsNumber,hiddenNeuronsNumber)\n",
        "        self.activation1 = nn.ReLU()\n",
        "        self.outputLayer = nn.Linear(hiddenNeuronsNumber,outputNeuronsNumber)\n",
        "        self.activation2 = nn.LogSoftmax(dim = 1)\n",
        "    def forward(self,x):\n",
        "        h = self.activation1(self.hiddenLayer(x))\n",
        "        o = self.activation2(self.outputLayer(h))\n",
        "        return o\n",
        "#creating our model\n",
        "annv02 = ArtificialNeuralNetworkV02(28*28,100,10)\n",
        "#training the model\n",
        "criterion = nn.CrossEntropyLoss()\n",
        "optimizer = torch.optim.Adam(annv02.parameters(),lr = 0.01)\n",
        "for i in range(100):\n",
        "    for x,y in trainLoader:\n",
        "        optimizer.zero_grad()\n",
        "        yPrediction = annv02.forward(x.reshape(-1,28*28))\n",
        "        loss = criterion(yPrediction,y)\n",
        "        loss.backward()\n",
        "        optimizer.step()\n",
        "#testing our model\n",
        "correctPredictions = 0\n",
        "total = 0\n",
        "for x,y in testLoader:\n",
        "    predictions = annv02.forward(x.reshape(-1,28*28))\n",
        "    correctPredictions += sum(torch.argmax(predictions,dim = 1) == y)\n",
        "    total += len(y)\n",
        "print('Accuracy for annv02:',correctPredictions/total)"
      ]
    },
    {
      "cell_type": "code",
      "execution_count": null,
      "metadata": {
        "colab": {
          "base_uri": "https://localhost:8080/"
        },
        "id": "dE7padPejY6-",
        "outputId": "ff6f9f97-ba95-4474-ca26-f77ea0b421a4"
      },
      "outputs": [
        {
          "output_type": "stream",
          "name": "stdout",
          "text": [
            "Accuracy for annv03: tensor(0.9747)\n"
          ]
        }
      ],
      "source": [
        "#two hidden layered class with sigmoid as activation function\n",
        "class ArtificialNeuralNetworkV03(nn.Module):\n",
        "    def __init__(self,inputNeuronsNumber,hiddenNeurons1Number,hiddenNeurons2Number,outputNeuronsNumber):\n",
        "        super().__init__()\n",
        "        self.hiddenLayer1 = nn.Linear(inputNeuronsNumber,hiddenNeurons1Number)\n",
        "        self.activation1 = nn.Sigmoid()\n",
        "        self.hiddenLayer2 = nn.Linear(hiddenNeurons1Number,hiddenNeurons2Number)\n",
        "        self.activation2 = nn.Sigmoid()\n",
        "        self.outputLayer = nn.Linear(hiddenNeurons2Number,outputNeuronsNumber)\n",
        "        self.activation3 = nn.LogSoftmax(dim = 1)\n",
        "    def forward(self,x):\n",
        "        h1 = self.activation1(self.hiddenLayer1(x))\n",
        "        h2 = self.activation2(self.hiddenLayer2(h1))\n",
        "        o = self.activation3(self.outputLayer(h2))\n",
        "        return o\n",
        "#creating our model\n",
        "annv03 = ArtificialNeuralNetworkV03(28*28,100,150,10)\n",
        "#training the model\n",
        "criterion = nn.CrossEntropyLoss()\n",
        "optimizer = torch.optim.Adam(annv03.parameters(),lr = 0.01)\n",
        "for i in range(100):\n",
        "    for x,y in trainLoader:\n",
        "        optimizer.zero_grad()\n",
        "        yPrediction = annv03.forward(x.reshape(-1,28*28))\n",
        "        loss = criterion(yPrediction,y)\n",
        "        loss.backward()\n",
        "        optimizer.step()\n",
        "#testing our model\n",
        "correctPredictions = 0\n",
        "total = 0\n",
        "for x,y in testLoader:\n",
        "    predictions = annv03.forward(x.reshape(-1,28*28))\n",
        "    correctPredictions += sum(torch.argmax(predictions,dim = 1) == y)\n",
        "    total += len(y)\n",
        "print('Accuracy for annv03:',correctPredictions/total)"
      ]
    },
    {
      "cell_type": "code",
      "execution_count": null,
      "metadata": {
        "colab": {
          "base_uri": "https://localhost:8080/"
        },
        "id": "T-dimwXkogeE",
        "outputId": "ec90346e-5641-4623-a45e-9fbda31dcb20"
      },
      "outputs": [
        {
          "output_type": "stream",
          "name": "stdout",
          "text": [
            "Accuracy for annv04: tensor(0.9676)\n"
          ]
        }
      ],
      "source": [
        "#two hidden layered class with relu as activation function\n",
        "class ArtificialNeuralNetworkV04(nn.Module):\n",
        "    def __init__(self,inputNeuronsNumber,hiddenNeurons1Number,hiddenNeurons2Number,outputNeuronsNumber):\n",
        "        super().__init__()\n",
        "        self.hiddenLayer1 = nn.Linear(inputNeuronsNumber,hiddenNeurons1Number)\n",
        "        self.activation1 = nn.ReLU()\n",
        "        self.hiddenLayer2 = nn.Linear(hiddenNeurons1Number,hiddenNeurons2Number)\n",
        "        self.activation2 = nn.ReLU()\n",
        "        self.outputLayer = nn.Linear(hiddenNeurons2Number,outputNeuronsNumber)\n",
        "        self.activation3 = nn.LogSoftmax(dim = 1)\n",
        "    def forward(self,x):\n",
        "        h1 = self.activation1(self.hiddenLayer1(x))\n",
        "        h2 = self.activation2(self.hiddenLayer2(h1))\n",
        "        o = self.activation3(self.outputLayer(h2))\n",
        "        return o\n",
        "#creating our model\n",
        "annv04 = ArtificialNeuralNetworkV04(28*28,100,150,10)\n",
        "#training the model\n",
        "criterion = nn.CrossEntropyLoss()\n",
        "optimizer = torch.optim.Adam(annv04.parameters(),lr = 0.01)\n",
        "for i in range(100):\n",
        "    for x,y in trainLoader:\n",
        "        optimizer.zero_grad()\n",
        "        yPrediction = annv04.forward(x.reshape(-1,28*28))\n",
        "        loss = criterion(yPrediction,y)\n",
        "        loss.backward()\n",
        "        optimizer.step()\n",
        "#testing our model\n",
        "correctPredictions = 0\n",
        "total = 0\n",
        "for x,y in testLoader:\n",
        "    predictions = annv04.forward(x.reshape(-1,28*28))\n",
        "    correctPredictions += sum(torch.argmax(predictions,dim = 1) == y)\n",
        "    total += len(y)\n",
        "print('Accuracy for annv04:',correctPredictions/total)"
      ]
    },
    {
      "cell_type": "code",
      "source": [
        "#testing one hidden layered model (Sigmoid as Activation) with more neurons and different learning rate\n",
        "annv01_moreHiddenNeurons = ArtificialNeuralNetworkV01(28*28,300,10)\n",
        "#training the model\n",
        "criterion = nn.CrossEntropyLoss()\n",
        "optimizer = torch.optim.Adam(annv01_moreHiddenNeurons.parameters(),lr = 0.001)\n",
        "for i in range(100):\n",
        "    for x,y in trainLoader:\n",
        "        optimizer.zero_grad()\n",
        "        yPrediction = annv01_moreHiddenNeurons.forward(x.reshape(-1,28*28))\n",
        "        loss = criterion(yPrediction,y)\n",
        "        loss.backward()\n",
        "        optimizer.step()\n",
        "#testing our model\n",
        "correctPredictions = 0\n",
        "total = 0\n",
        "for x,y in testLoader:\n",
        "    predictions = annv01_moreHiddenNeurons.forward(x.reshape(-1,28*28))\n",
        "    correctPredictions += sum(torch.argmax(predictions,dim = 1) == y)\n",
        "    total += len(y)\n",
        "print('Accuracy for annv01_moreHiddenNeurons:',correctPredictions/total)"
      ],
      "metadata": {
        "colab": {
          "base_uri": "https://localhost:8080/"
        },
        "id": "hCsI3vGbaYxj",
        "outputId": "a4ecdd0f-c9ad-4497-e876-7b65a8816e77"
      },
      "execution_count": null,
      "outputs": [
        {
          "output_type": "stream",
          "name": "stdout",
          "text": [
            "Accuracy for annv01_moreHiddenNeurons: tensor(0.9818)\n"
          ]
        }
      ]
    },
    {
      "cell_type": "code",
      "source": [
        "#testing one hidden layered model (Relu as Activation) with more neurons and different learning rate\n",
        "annv02_moreHiddenNeurons = ArtificialNeuralNetworkV02(28*28,300,10)\n",
        "#training the model\n",
        "criterion = nn.CrossEntropyLoss()\n",
        "optimizer = torch.optim.Adam(annv02_moreHiddenNeurons.parameters(),lr = 0.001)\n",
        "for i in range(100):\n",
        "    for x,y in trainLoader:\n",
        "        optimizer.zero_grad()\n",
        "        yPrediction = annv02_moreHiddenNeurons.forward(x.reshape(-1,28*28))\n",
        "        loss = criterion(yPrediction,y)\n",
        "        loss.backward()\n",
        "        optimizer.step()\n",
        "#testing our model\n",
        "correctPredictions = 0\n",
        "total = 0\n",
        "for x,y in testLoader:\n",
        "    predictions = annv02_moreHiddenNeurons.forward(x.reshape(-1,28*28))\n",
        "    correctPredictions += sum(torch.argmax(predictions,dim = 1) == y)\n",
        "    total += len(y)\n",
        "print('Accuracy for annv02_moreHiddenNeurons:',correctPredictions/total)"
      ],
      "metadata": {
        "colab": {
          "base_uri": "https://localhost:8080/"
        },
        "id": "jGFFYMzMaaJp",
        "outputId": "ec21d3fa-f4c6-4bc2-d5fa-d38de7709b5f"
      },
      "execution_count": null,
      "outputs": [
        {
          "output_type": "stream",
          "name": "stdout",
          "text": [
            "Accuracy for annv02_moreHiddenNeurons: tensor(0.9822)\n"
          ]
        }
      ]
    },
    {
      "cell_type": "markdown",
      "metadata": {
        "id": "7ESLHZvu3uo2"
      },
      "source": [
        "2. CNN. In your experiments, you should try different CNN structures, filters, and hyperparameters. Report and discuss your experimental results."
      ]
    },
    {
      "cell_type": "code",
      "execution_count": null,
      "metadata": {
        "id": "93hJmv2t30Zn"
      },
      "outputs": [],
      "source": [
        "import torch\n",
        "from torch import nn #importing neural network\n",
        "from torch.utils.data import DataLoader #for making batches and shuffeling the data\n",
        "from torchvision.datasets import MNIST #MNIST dataset\n",
        "from torchvision.transforms import ToTensor #transform the data to tensor matrix"
      ]
    },
    {
      "cell_type": "code",
      "source": [
        "trainSet = MNIST(root = '',train = True,download = True, transform = ToTensor())\n",
        "testSet = MNIST(root = '',train = False,download = True, transform = ToTensor())"
      ],
      "metadata": {
        "id": "HHjpKswmFzPt",
        "collapsed": true
      },
      "execution_count": null,
      "outputs": []
    },
    {
      "cell_type": "code",
      "source": [
        "print(trainSet)"
      ],
      "metadata": {
        "colab": {
          "base_uri": "https://localhost:8080/"
        },
        "id": "zTMLA_BqF5Hf",
        "outputId": "3a8855d2-c013-4ee3-a6eb-72ca441499f3"
      },
      "execution_count": null,
      "outputs": [
        {
          "output_type": "stream",
          "name": "stdout",
          "text": [
            "Dataset MNIST\n",
            "    Number of datapoints: 60000\n",
            "    Root location: \n",
            "    Split: Train\n",
            "    StandardTransform\n",
            "Transform: ToTensor()\n"
          ]
        }
      ]
    },
    {
      "cell_type": "code",
      "source": [
        "print(testSet)"
      ],
      "metadata": {
        "colab": {
          "base_uri": "https://localhost:8080/"
        },
        "id": "cQZiSMQHF52W",
        "outputId": "76e17e0d-4d5f-4ed1-be1c-bad019b44566"
      },
      "execution_count": null,
      "outputs": [
        {
          "output_type": "stream",
          "name": "stdout",
          "text": [
            "Dataset MNIST\n",
            "    Number of datapoints: 10000\n",
            "    Root location: \n",
            "    Split: Test\n",
            "    StandardTransform\n",
            "Transform: ToTensor()\n"
          ]
        }
      ]
    },
    {
      "cell_type": "code",
      "source": [
        "trainLoader = DataLoader(trainSet,batch_size = 64,shuffle = True)\n",
        "testLoader = DataLoader(testSet,batch_size = 64,shuffle = True)"
      ],
      "metadata": {
        "id": "9-k7jViiF-NA"
      },
      "execution_count": null,
      "outputs": []
    },
    {
      "cell_type": "code",
      "source": [
        "#First version of CNN class\n",
        "class CNN_V01(nn.Module):\n",
        "    def __init__(self,activation_function = 'sigmoid',learning_rate = 0.01):\n",
        "        super().__init__()\n",
        "        self.learning_rate = learning_rate\n",
        "        self.convolutionalLayer1 = nn.Conv2d(in_channels = 1,out_channels = 20,kernel_size = 3,stride = 1) #balck & white so input channel is one\n",
        "        self.convolutionalLayer2 = nn.Conv2d(in_channels = 20,out_channels = 40,kernel_size = 3,stride = 1)\n",
        "        self.forward1 = nn.Linear(40*5*5,90)\n",
        "        #default activation function is sigmoid\n",
        "        self.activation1 = nn.Sigmoid()\n",
        "        #if we set activation function value to relu then we use relu\n",
        "        if activation_function == 'relu':\n",
        "            self.activation1 = nn.ReLU()\n",
        "        self.forward2 = nn.Linear(90,50)\n",
        "        #default activation function is sigmoid\n",
        "        self.activation2 = nn.Sigmoid()\n",
        "        #if we set activation function value to relu then we use relu\n",
        "        if activation_function == 'relu':\n",
        "            self.activation2 = nn.ReLU()\n",
        "        self.outputLayer = nn.Linear(50,10)\n",
        "        self.log_softmax = nn.LogSoftmax(dim = 1)\n",
        "    def forward(self,x):\n",
        "        #convolutional layer1 and max pooling\n",
        "        x = self.convolutionalLayer1(x)\n",
        "        x = nn.functional.max_pool2d(x,2,2)\n",
        "        #convolution layer2 and max pooling\n",
        "        x = self.convolutionalLayer2(x)\n",
        "        x = nn.functional.max_pool2d(x,2,2)\n",
        "        #forward layers\n",
        "        x = x.reshape(-1,40*5*5)\n",
        "        x = self.activation1(self.forward1(x))\n",
        "        x = self.activation2(self.forward2(x))\n",
        "        x = self.outputLayer(x)\n",
        "        x = self.log_softmax(x)\n",
        "        return x"
      ],
      "metadata": {
        "id": "IQ9b0MuhGAzJ"
      },
      "execution_count": null,
      "outputs": []
    },
    {
      "cell_type": "code",
      "source": [
        "#creating model instance relu as activation function and learning rate of 0.01\n",
        "cnn1 = CNN_V01('relu',0.01)\n",
        "#training the model\n",
        "criterion = nn.CrossEntropyLoss()\n",
        "optimizer = torch.optim.Adam(cnn1.parameters(),lr = cnn1.learning_rate)\n",
        "for epoch in range(20):\n",
        "    for x,y in trainLoader:\n",
        "        optimizer.zero_grad()\n",
        "        y_prediction = cnn1.forward(x)\n",
        "        loss = criterion(y_prediction,y)\n",
        "        loss.backward()\n",
        "        optimizer.step()\n",
        "#testing the model accuracy\n",
        "total = 0\n",
        "correct = 0\n",
        "for x,y in testLoader:\n",
        "    total += len(y)\n",
        "    y_prediction = cnn1.forward(x)\n",
        "    correct += sum(torch.argmax(y_prediction,dim = 1) == y)\n",
        "print('Accuracy for cnn1:',correct/total)"
      ],
      "metadata": {
        "id": "FliPXR8rQjiA",
        "colab": {
          "base_uri": "https://localhost:8080/"
        },
        "outputId": "540a3960-a1ac-48dd-841b-5540f6e4bffb"
      },
      "execution_count": null,
      "outputs": [
        {
          "output_type": "stream",
          "name": "stdout",
          "text": [
            "Accuracy for cnn1: tensor(0.9642)\n"
          ]
        }
      ]
    },
    {
      "cell_type": "code",
      "source": [
        "#creating model instance relu as activation function and learning rate of 0.001\n",
        "cnn2 = CNN_V01('relu',0.001)\n",
        "#training the model\n",
        "criterion = nn.CrossEntropyLoss()\n",
        "optimizer = torch.optim.Adam(cnn2.parameters(),lr = cnn2.learning_rate)\n",
        "for epoch in range(20):\n",
        "    for x,y in trainLoader:\n",
        "        optimizer.zero_grad()\n",
        "        y_prediction = cnn2.forward(x)\n",
        "        loss = criterion(y_prediction,y)\n",
        "        loss.backward()\n",
        "        optimizer.step()\n",
        "#testing the model accuracy\n",
        "total = 0\n",
        "correct = 0\n",
        "for x,y in testLoader:\n",
        "    total += len(y)\n",
        "    y_prediction = cnn2.forward(x)\n",
        "    correct += sum(torch.argmax(y_prediction,dim = 1) == y)\n",
        "print('Accuracy for cnn2:',correct/total)"
      ],
      "metadata": {
        "id": "nWjPGlS4QsgP",
        "colab": {
          "base_uri": "https://localhost:8080/"
        },
        "outputId": "20f55626-1a83-4f11-d7a0-015214893f6c"
      },
      "execution_count": null,
      "outputs": [
        {
          "output_type": "stream",
          "name": "stdout",
          "text": [
            "Accuracy for cnn2: tensor(0.9892)\n"
          ]
        }
      ]
    },
    {
      "cell_type": "code",
      "source": [
        "#creating model instance sigmoid as activation function and learning rate of 0.01\n",
        "cnn3 = CNN_V01('sigmoid',0.01)\n",
        "#training the model\n",
        "criterion = nn.CrossEntropyLoss()\n",
        "optimizer = torch.optim.Adam(cnn3.parameters(),lr = cnn3.learning_rate)\n",
        "for epoch in range(20):\n",
        "    for x,y in trainLoader:\n",
        "        optimizer.zero_grad()\n",
        "        y_prediction = cnn3.forward(x)\n",
        "        loss = criterion(y_prediction,y)\n",
        "        loss.backward()\n",
        "        optimizer.step()\n",
        "#testing the model accuracy\n",
        "total = 0\n",
        "correct = 0\n",
        "for x,y in testLoader:\n",
        "    total += len(y)\n",
        "    y_prediction = cnn3.forward(x)\n",
        "    correct += sum(torch.argmax(y_prediction,dim = 1) == y)\n",
        "print('Accuracy for cnn3:',correct/total)"
      ],
      "metadata": {
        "id": "YQxIZwpNv-LR",
        "colab": {
          "base_uri": "https://localhost:8080/"
        },
        "outputId": "9dc34240-67e3-4461-bb7d-60d3ad4368e0"
      },
      "execution_count": null,
      "outputs": [
        {
          "output_type": "stream",
          "name": "stdout",
          "text": [
            "Accuracy for cnn3: tensor(0.9232)\n"
          ]
        }
      ]
    },
    {
      "cell_type": "code",
      "source": [
        "#creating model instance sigmoid as activation function and learning rate of 0.001\n",
        "cnn4 = CNN_V01('sigmoid',0.001)\n",
        "#training the model\n",
        "criterion = nn.CrossEntropyLoss()\n",
        "optimizer = torch.optim.Adam(cnn4.parameters(),lr = cnn4.learning_rate)\n",
        "for epoch in range(20):\n",
        "    for x,y in trainLoader:\n",
        "        optimizer.zero_grad()\n",
        "        y_prediction = cnn4.forward(x)\n",
        "        loss = criterion(y_prediction,y)\n",
        "        loss.backward()\n",
        "        optimizer.step()\n",
        "#testing the model accuracy\n",
        "total = 0\n",
        "correct = 0\n",
        "for x,y in testLoader:\n",
        "    total += len(y)\n",
        "    y_prediction = cnn4.forward(x)\n",
        "    correct += sum(torch.argmax(y_prediction,dim = 1) == y)\n",
        "print('Accuracy for cnn4:',correct/total)"
      ],
      "metadata": {
        "id": "rVANa_WcwC4E",
        "colab": {
          "base_uri": "https://localhost:8080/"
        },
        "outputId": "3b00d5c4-826c-4fb0-fe4f-0b83d9262008"
      },
      "execution_count": null,
      "outputs": [
        {
          "output_type": "stream",
          "name": "stdout",
          "text": [
            "Accuracy for cnn4: tensor(0.9895)\n"
          ]
        }
      ]
    },
    {
      "cell_type": "code",
      "source": [
        "#second version of cnn (simple architecture)\n",
        "class CNN_V02(nn.Module):\n",
        "    def __init__(self,activation_function = 'sigmoid',learning_rate = 0.01):\n",
        "        super().__init__()\n",
        "        self.learning_rate = learning_rate\n",
        "        self.convolutionalLayer = nn.Conv2d(in_channels = 1,out_channels = 50,kernel_size = 3,stride = 1)\n",
        "        self.forward1 = nn.Linear(50*13*13,60)\n",
        "        #default activation function is sigmoid\n",
        "        self.activation1 = nn.Sigmoid()\n",
        "        #if we set activation function value to relu then we use relu\n",
        "        if activation_function == 'relu':\n",
        "            self.activation1 = nn.ReLU()\n",
        "        self.outputLayer = nn.Linear(60,10)\n",
        "        self.log_softmax = nn.LogSoftmax(dim = 1)\n",
        "    def forward(self,x):\n",
        "        x = nn.functional.max_pool2d(self.convolutionalLayer(x),2,2)\n",
        "        x = x.reshape(-1,50*13*13)\n",
        "        x = self.activation1(self.forward1(x))\n",
        "        x = self.log_softmax(x)\n",
        "        return x"
      ],
      "metadata": {
        "id": "pNTASft338Rt"
      },
      "execution_count": null,
      "outputs": []
    },
    {
      "cell_type": "code",
      "source": [
        "#creating model instance relu as activation function and learning rate of 0.01\n",
        "cnn5 = CNN_V02('relu',0.01)\n",
        "#training the model\n",
        "criterion = nn.CrossEntropyLoss()\n",
        "optimizer = torch.optim.Adam(cnn5.parameters(),lr = cnn5.learning_rate)\n",
        "for epoch in range(20):\n",
        "    for x,y in trainLoader:\n",
        "        optimizer.zero_grad()\n",
        "        y_prediction = cnn5.forward(x)\n",
        "        loss = criterion(y_prediction,y)\n",
        "        loss.backward()\n",
        "        optimizer.step()\n",
        "#testing the model accuracy\n",
        "total = 0\n",
        "correct = 0\n",
        "for x,y in testLoader:\n",
        "    total += len(y)\n",
        "    y_prediction = cnn5.forward(x)\n",
        "    correct += sum(torch.argmax(y_prediction,dim = 1) == y)\n",
        "print('Accuracy for cnn5:',correct/total)"
      ],
      "metadata": {
        "id": "XJvZliAm4Bhh",
        "colab": {
          "base_uri": "https://localhost:8080/"
        },
        "outputId": "d3dc5bc1-7095-41e6-b252-2d2422b2b62e"
      },
      "execution_count": null,
      "outputs": [
        {
          "output_type": "stream",
          "name": "stdout",
          "text": [
            "Accuracy for cnn5: tensor(0.8516)\n"
          ]
        }
      ]
    },
    {
      "cell_type": "code",
      "source": [
        "#creating model instance relu as activation function and learning rate of 0.01\n",
        "cnn6 = CNN_V02('relu',0.001)\n",
        "#training the model\n",
        "criterion = nn.CrossEntropyLoss()\n",
        "optimizer = torch.optim.Adam(cnn6.parameters(),lr = cnn6.learning_rate)\n",
        "for epoch in range(20):\n",
        "    for x,y in trainLoader:\n",
        "        optimizer.zero_grad()\n",
        "        y_prediction = cnn6.forward(x)\n",
        "        loss = criterion(y_prediction,y)\n",
        "        loss.backward()\n",
        "        optimizer.step()\n",
        "#testing the model accuracy\n",
        "total = 0\n",
        "correct = 0\n",
        "for x,y in testLoader:\n",
        "    total += len(y)\n",
        "    y_prediction = cnn6.forward(x)\n",
        "    correct += sum(torch.argmax(y_prediction,dim = 1) == y)\n",
        "print('Accuracy for cnn6:',correct/total)"
      ],
      "metadata": {
        "id": "i_B6oqQo4Hvy",
        "colab": {
          "base_uri": "https://localhost:8080/"
        },
        "outputId": "f3d09662-4c27-420a-88de-2571996ce1db"
      },
      "execution_count": null,
      "outputs": [
        {
          "output_type": "stream",
          "name": "stdout",
          "text": [
            "Accuracy for cnn6: tensor(0.8819)\n"
          ]
        }
      ]
    },
    {
      "cell_type": "code",
      "source": [
        "#creating model instance sigmoid as activation function and learning rate of 0.01\n",
        "cnn7 = CNN_V02('sigmoid',0.01)\n",
        "#training the model\n",
        "criterion = nn.CrossEntropyLoss()\n",
        "optimizer = torch.optim.Adam(cnn7.parameters(),lr = cnn7.learning_rate)\n",
        "for epoch in range(20):\n",
        "    for x,y in trainLoader:\n",
        "        optimizer.zero_grad()\n",
        "        y_prediction = cnn7.forward(x)\n",
        "        loss = criterion(y_prediction,y)\n",
        "        loss.backward()\n",
        "        optimizer.step()\n",
        "#testing the model accuracy\n",
        "total = 0\n",
        "correct = 0\n",
        "for x,y in testLoader:\n",
        "    total += len(y)\n",
        "    y_prediction = cnn7.forward(x)\n",
        "    correct += sum(torch.argmax(y_prediction,dim = 1) == y)\n",
        "print('Accuracy for cnn7:',correct/total)"
      ],
      "metadata": {
        "id": "0khI0Dr-4JI3",
        "colab": {
          "base_uri": "https://localhost:8080/"
        },
        "outputId": "8f1224cf-0abf-46d1-df1c-3da9736a0c5b"
      },
      "execution_count": null,
      "outputs": [
        {
          "output_type": "stream",
          "name": "stdout",
          "text": [
            "Accuracy for cnn7: tensor(0.0980)\n"
          ]
        }
      ]
    },
    {
      "cell_type": "code",
      "source": [
        "#creating model instance sigmoid as activation function and learning rate of 0.001\n",
        "cnn8 = CNN_V02('sigmoid',0.001)\n",
        "#training the model\n",
        "criterion = nn.CrossEntropyLoss()\n",
        "optimizer = torch.optim.Adam(cnn8.parameters(),lr = cnn8.learning_rate)\n",
        "for epoch in range(20):\n",
        "    for x,y in trainLoader:\n",
        "        optimizer.zero_grad()\n",
        "        y_prediction = cnn8.forward(x)\n",
        "        loss = criterion(y_prediction,y)\n",
        "        loss.backward()\n",
        "        optimizer.step()\n",
        "#testing the model accuracy\n",
        "total = 0\n",
        "correct = 0\n",
        "for x,y in testLoader:\n",
        "    total += len(y)\n",
        "    y_prediction = cnn8.forward(x)\n",
        "    correct += sum(torch.argmax(y_prediction,dim = 1) == y)\n",
        "print('Accuracy for cnn8:',correct/total)"
      ],
      "metadata": {
        "id": "2kxw8N2n4OXW",
        "colab": {
          "base_uri": "https://localhost:8080/"
        },
        "outputId": "c446bb58-ea96-4e74-df4b-c59750b5d001"
      },
      "execution_count": null,
      "outputs": [
        {
          "output_type": "stream",
          "name": "stdout",
          "text": [
            "Accuracy for cnn8: tensor(0.9721)\n"
          ]
        }
      ]
    }
  ],
  "metadata": {
    "colab": {
      "provenance": []
    },
    "kernelspec": {
      "display_name": "Python 3",
      "name": "python3"
    },
    "language_info": {
      "name": "python"
    }
  },
  "nbformat": 4,
  "nbformat_minor": 0
}